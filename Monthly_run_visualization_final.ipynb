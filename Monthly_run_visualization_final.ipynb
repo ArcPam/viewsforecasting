{
 "cells": [
  {
   "cell_type": "markdown",
   "id": "d823d593-256a-4fba-82f7-c1e7e63e6ef7",
   "metadata": {},
   "source": [
    "# Monthly results presentation"
   ]
  },
  {
   "cell_type": "markdown",
   "id": "233327ae-377f-4be8-a196-888af45e998c",
   "metadata": {},
   "source": [
    "Ensure the correct version of the mapper is installed. Version 1.10.1\n",
    "\n",
    "Run \"pip install views_mapper2 --upgrade\" if out of date"
   ]
  },
  {
   "cell_type": "code",
   "execution_count": null,
   "id": "e5320cc1-bc82-4e81-a23b-a026a80b6f8a",
   "metadata": {},
   "outputs": [],
   "source": [
    "#step 1 ensure the correct version of views_mapper is used\n",
    "!pip freeze | grep views-mapper2"
   ]
  },
  {
   "cell_type": "markdown",
   "id": "a1e91aa1-f609-4571-80bc-4d83d5c277fa",
   "metadata": {},
   "source": [
    "# Defining universals"
   ]
  },
  {
   "cell_type": "markdown",
   "id": "dd04800e-e28b-492b-bcf7-a7d6669a8c25",
   "metadata": {},
   "source": [
    "## Define the run specific"
   ]
  },
  {
   "cell_type": "code",
   "execution_count": null,
   "id": "e82b3d5f-0555-44a5-a7dc-836cffbb94ac",
   "metadata": {},
   "outputs": [],
   "source": [
    "#there are several .py config files that are available, \n",
    "#config 1 is the most important and must be changed every time. go to tools/visualization_assetts folder and open the config 1. Make a choice for each of the inputs there, save and then run the code below\n",
    "\n",
    "#if you do not like what is written in the sanity check 1, e.g., change config 1 and try again. If you do not like the steps, change config 2. Note that notebooks occasionally have to be reloaded to see changes in .py files. \n",
    "\n",
    "from Tools.visualization_assetts.config2 import *\n",
    "\n",
    "print(\"FIRST check below\")\n",
    "sanity_check()\n",
    "print(\"SECOND check below\")\n",
    "sanity_check2()"
   ]
  },
  {
   "cell_type": "code",
   "execution_count": 3,
   "id": "98cb1620-94bb-47f6-acfe-e842694903f0",
   "metadata": {},
   "outputs": [
    {
     "name": "stdout",
     "output_type": "stream",
     "text": [
      "malika, logo imported\n",
      "Directory /Users/malika/Desktop/fatalities001_genetic_ensemble_2022_8_t01 already exists\n",
      "Directory /Users/malika/Desktop/fatalities001_genetic_ensemble_2022_8_t01/Features already exists\n",
      "Directory /Users/malika/Desktop/fatalities001_genetic_ensemble_2022_8_t01/Features/Maps already exists\n",
      "Directory /Users/malika/Desktop/fatalities001_genetic_ensemble_2022_8_t01/Features/Maps/cm already exists\n",
      "Directory /Users/malika/Desktop/fatalities001_genetic_ensemble_2022_8_t01/Features/Maps/pgm already exists\n",
      "Directory /Users/malika/Desktop/fatalities001_genetic_ensemble_2022_8_t01/Features/ChangeMaps already exists\n",
      "Directory /Users/malika/Desktop/fatalities001_genetic_ensemble_2022_8_t01/Features/ChangeMaps/cm already exists\n",
      "Directory /Users/malika/Desktop/fatalities001_genetic_ensemble_2022_8_t01/Features/ChangeMaps/pgm already exists\n",
      "Directory /Users/malika/Desktop/fatalities001_genetic_ensemble_2022_8_t01/Dichotomous already exists\n",
      "Directory /Users/malika/Desktop/fatalities001_genetic_ensemble_2022_8_t01/Dichotomous/Ensemble already exists\n",
      "Directory /Users/malika/Desktop/fatalities001_genetic_ensemble_2022_8_t01/Dichotomous/Ensemble/ForecastMaps already exists\n",
      "Directory /Users/malika/Desktop/fatalities001_genetic_ensemble_2022_8_t01/Dichotomous/Ensemble/ForecastMaps/cm already exists\n",
      "Directory /Users/malika/Desktop/fatalities001_genetic_ensemble_2022_8_t01/Dichotomous/Ensemble/ForecastMaps/pgm already exists\n",
      "Directory /Users/malika/Desktop/fatalities001_genetic_ensemble_2022_8_t01/Dichotomous/Ensemble/ChangeMaps already exists\n",
      "Directory /Users/malika/Desktop/fatalities001_genetic_ensemble_2022_8_t01/Dichotomous/Ensemble/ChangeMaps/cm already exists\n",
      "Directory /Users/malika/Desktop/fatalities001_genetic_ensemble_2022_8_t01/Dichotomous/Ensemble/ChangeMaps/pgm already exists\n",
      "Directory /Users/malika/Desktop/fatalities001_genetic_ensemble_2022_8_t01/Dichotomous/Ensemble/LineGraphs already exists\n",
      "Directory /Users/malika/Desktop/fatalities001_genetic_ensemble_2022_8_t01/Continuous already exists\n",
      "Directory /Users/malika/Desktop/fatalities001_genetic_ensemble_2022_8_t01/Continuous/Ensemble already exists\n",
      "Directory /Users/malika/Desktop/fatalities001_genetic_ensemble_2022_8_t01/Continuous/Ensemble/ForecastMaps already exists\n",
      "Directory /Users/malika/Desktop/fatalities001_genetic_ensemble_2022_8_t01/Continuous/Ensemble/ForecastMaps/cm already exists\n",
      "Directory /Users/malika/Desktop/fatalities001_genetic_ensemble_2022_8_t01/Continuous/Ensemble/ForecastMaps/pgm already exists\n",
      "Directory /Users/malika/Desktop/fatalities001_genetic_ensemble_2022_8_t01/Continuous/Ensemble/ChangeMaps already exists\n",
      "Directory /Users/malika/Desktop/fatalities001_genetic_ensemble_2022_8_t01/Continuous/Ensemble/ChangeMaps/cm already exists\n",
      "Directory /Users/malika/Desktop/fatalities001_genetic_ensemble_2022_8_t01/Continuous/Ensemble/ChangeMaps/pgm already exists\n",
      "Directory /Users/malika/Desktop/fatalities001_genetic_ensemble_2022_8_t01/Continuous/Ensemble/LineGraphs already exists\n",
      "Directory /Users/malika/Desktop/fatalities001_genetic_ensemble_2022_8_t01/Continuous/Ensemble/PieCharts already exists\n",
      "Directory /Users/malika/Desktop/fatalities001_genetic_ensemble_2022_8_t01/Continuous/Ensemble/BarCharts already exists\n",
      "Directory /Users/malika/Desktop/fatalities001_genetic_ensemble_2022_8_t01/Continuous/Interpretation already exists\n",
      "Directory /Users/malika/Desktop/fatalities001_genetic_ensemble_2022_8_t01/Continuous/Interpretation/Uncertainty already exists\n",
      "Directory /Users/malika/Desktop/fatalities001_genetic_ensemble_2022_8_t01/Continuous/Interpretation/Surrogate already exists\n",
      "malika, folders created\n"
     ]
    }
   ],
   "source": [
    "#this will do the run, comment out relevant sections \n",
    "\n",
    "#ensuring querysets exist and are stored from run to run\n",
    "from Tools.visualization_assetts.monthly_report_visualization_queryset import *\n",
    "#publish_querysets()\n",
    "\n",
    "#SAR_logo needed for the non-map graphs\n",
    "from Tools.visualization_assetts.SAR_logo_import import *\n",
    "SAR_logo = import_SAR_logo()\n",
    "\n",
    "from Tools.visualization_assetts.folder_creation import*\n",
    "make_folders()"
   ]
  },
  {
   "cell_type": "code",
   "execution_count": 4,
   "id": "8be53786-cea9-471d-8c45-bcfb23dde5fd",
   "metadata": {},
   "outputs": [
    {
     "name": "stdout",
     "output_type": "stream",
     "text": [
      " .    malika cm_current_data fetched successfully\n",
      "malika gdf_ci_master fetched successfully\n",
      "malika, cm maps for ged completed\n",
      "malika, cm maps for all other variables completed\n",
      "malika, cm change maps for ged completed\n"
     ]
    }
   ],
   "source": [
    "#the chunk for feature maps\n",
    "from Tools.visualization_assetts.features_cm import*\n",
    "features_cm_level_mapping_ged()\n",
    "features_cm_maps_all_others()\n",
    "features_cm_change_maps()"
   ]
  },
  {
   "cell_type": "code",
   "execution_count": null,
   "id": "c095f784-300e-43d8-918e-df2450addb85",
   "metadata": {},
   "outputs": [],
   "source": [
    "from Tools.visualization_assetts.geo_coverage_determination import *"
   ]
  },
  {
   "cell_type": "code",
   "execution_count": null,
   "id": "e36166c0-bdd3-4ff5-b48a-6beafae66364",
   "metadata": {},
   "outputs": [],
   "source": []
  },
  {
   "cell_type": "code",
   "execution_count": null,
   "id": "3f161002-fc62-4391-ad02-a330914a94f1",
   "metadata": {},
   "outputs": [],
   "source": [
    "test()"
   ]
  },
  {
   "cell_type": "code",
   "execution_count": null,
   "id": "14027e48-23d3-4c08-9bd0-d4fa51c951a8",
   "metadata": {},
   "outputs": [],
   "source": []
  },
  {
   "cell_type": "code",
   "execution_count": null,
   "id": "48327569-7202-4304-91d8-f1a4c43c0899",
   "metadata": {},
   "outputs": [],
   "source": [
    "#the following functions will give you the top X for cm level predictions of the variable you are interested in from step 1 to step 36, this will be useful for determining which countries you want to be covered in the following run as these might be of greatest interest to you\n",
    "from Tools.visualization_assetts.geo_coverage_determination import *\n",
    "top_countries = give_me_top_countries(top_number_current = 10, variable_wanted_current = 'step_combined', variable_transformation_current = 'ln1')\n",
    "top_countries"
   ]
  },
  {
   "cell_type": "code",
   "execution_count": null,
   "id": "baea729d-2216-4c11-85d9-a46cd5580f01",
   "metadata": {},
   "outputs": [],
   "source": [
    "top_countries"
   ]
  },
  {
   "cell_type": "code",
   "execution_count": null,
   "id": "c4e0a4ae-c0cd-4292-b6bc-ff5dfdee4f34",
   "metadata": {},
   "outputs": [],
   "source": []
  }
 ],
 "metadata": {
  "kernelspec": {
   "display_name": "Python 3 (ipykernel)",
   "language": "python",
   "name": "python3"
  },
  "language_info": {
   "codemirror_mode": {
    "name": "ipython",
    "version": 3
   },
   "file_extension": ".py",
   "mimetype": "text/x-python",
   "name": "python",
   "nbconvert_exporter": "python",
   "pygments_lexer": "ipython3",
   "version": "3.9.13"
  }
 },
 "nbformat": 4,
 "nbformat_minor": 5
}
