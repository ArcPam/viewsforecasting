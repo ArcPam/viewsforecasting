{
 "cells": [
  {
   "cell_type": "markdown",
   "id": "d823d593-256a-4fba-82f7-c1e7e63e6ef7",
   "metadata": {},
   "source": [
    "# Monthly results presentation"
   ]
  },
  {
   "cell_type": "markdown",
   "id": "233327ae-377f-4be8-a196-888af45e998c",
   "metadata": {},
   "source": [
    "Ensure the correct version of the mapper is installed. Version 1.10.1\n",
    "\n",
    "Run \"pip install views_mapper2 --upgrade\" if out of date\n",
    "\n",
    "Common variables have been highlited. Note that the executable functions rely on the definition provided in the order given\n",
    "All the associated .py files are found in the Tools folder, visualizations_assetts subfolder\n",
    "\n"
   ]
  },
  {
   "cell_type": "code",
   "execution_count": null,
   "id": "e5320cc1-bc82-4e81-a23b-a026a80b6f8a",
   "metadata": {},
   "outputs": [],
   "source": [
    "#step 1 ensure the correct version of views_mapper is used\n",
    "!pip freeze | grep views-mapper2"
   ]
  },
  {
   "cell_type": "markdown",
   "id": "a1e91aa1-f609-4571-80bc-4d83d5c277fa",
   "metadata": {},
   "source": [
    "# Defining universals"
   ]
  },
  {
   "cell_type": "code",
   "execution_count": null,
   "id": "30fab738-2679-40bb-b44e-443c64a114b7",
   "metadata": {},
   "outputs": [],
   "source": [
    "#ensuring querysets exist and are stored from run to run\n",
    "from Tools.visualization_assetts.monthly_report_visualization_queryset import *\n",
    "publish_querysets()\n",
    "\n",
    "#SAR_logo needed for the non-map graphs\n",
    "from Tools.visualization_assetts.SAR_logo_import import *\n",
    "SAR_logo = import_SAR_logo()"
   ]
  },
  {
   "cell_type": "markdown",
   "id": "dd04800e-e28b-492b-bcf7-a7d6669a8c25",
   "metadata": {},
   "source": [
    "Below are some sections where universals are defined for the entire run"
   ]
  },
  {
   "cell_type": "code",
   "execution_count": null,
   "id": "98cb1620-94bb-47f6-acfe-e842694903f0",
   "metadata": {},
   "outputs": [],
   "source": [
    "#ADJUST THIS SECTION\n",
    "#global end of history\n",
    "EndOfHistory = 511\n",
    "\n",
    "#which model do you want to be graphed within this notebook (accepts one model only)\n",
    "#if you want a different model, rerun this entire notebook again with that new name\n",
    "#note that this will produce a separate folder, so should not be an issue\n",
    "model_wanted = 'genetic_ensemble'\n",
    "\n",
    "#current month run description\n",
    "dev_id = 'fatalities001'\n",
    "run_id = dev_id\n",
    "model_attempt = 't01'\n",
    "\n",
    "#comparison run and month\n",
    "#ensure that the dev_id you are using has information for EndOfHistory-1 month\n",
    "dev_id_comparison = 'fatalities001'\n",
    "run_id_comparison = dev_id_comparison\n",
    "model_wanted_comparison = 'genetic_ensemble'\n",
    "model_attempt_comparison = 't01'"
   ]
  },
  {
   "cell_type": "code",
   "execution_count": null,
   "id": "8be53786-cea9-471d-8c45-bcfb23dde5fd",
   "metadata": {},
   "outputs": [],
   "source": []
  },
  {
   "cell_type": "code",
   "execution_count": null,
   "id": "c095f784-300e-43d8-918e-df2450addb85",
   "metadata": {},
   "outputs": [],
   "source": [
    "from Tools.visualization_assetts.geo_coverage_determination import *"
   ]
  },
  {
   "cell_type": "code",
   "execution_count": null,
   "id": "e36166c0-bdd3-4ff5-b48a-6beafae66364",
   "metadata": {},
   "outputs": [],
   "source": []
  },
  {
   "cell_type": "code",
   "execution_count": null,
   "id": "3f161002-fc62-4391-ad02-a330914a94f1",
   "metadata": {},
   "outputs": [],
   "source": [
    "test()"
   ]
  },
  {
   "cell_type": "code",
   "execution_count": null,
   "id": "14027e48-23d3-4c08-9bd0-d4fa51c951a8",
   "metadata": {},
   "outputs": [],
   "source": []
  },
  {
   "cell_type": "code",
   "execution_count": 3,
   "id": "48327569-7202-4304-91d8-f1a4c43c0899",
   "metadata": {},
   "outputs": [
    {
     "name": "stdout",
     "output_type": "stream",
     "text": [
      "pr_45_cm_genetic_ensemble_f511.parquet\n",
      "malika, the following are the top 10 countries for fatalities listed for fatality steps 1 through 36 [120, 124, 79, 117, 133, 60, 220, 149, 47, 167]. list in the order from highest to lowest. \n"
     ]
    },
    {
     "data": {
      "text/plain": [
       "[120, 124, 79, 117, 133, 60, 220, 149, 47, 167]"
      ]
     },
     "execution_count": 3,
     "metadata": {},
     "output_type": "execute_result"
    }
   ],
   "source": [
    "#the following functions will give you the top X for cm level predictions of the variable you are interested in from step 1 to step 36, this will be useful for determining which countries you want to be covered in the following run as these might be of greatest interest to you\n",
    "from Tools.visualization_assetts.geo_coverage_determination import *\n",
    "top_countries = give_me_top_countries(top_number_current = 10, variable_wanted_current = 'step_combined', variable_transformation_current = 'ln1')\n",
    "top_countries"
   ]
  },
  {
   "cell_type": "code",
   "execution_count": 2,
   "id": "baea729d-2216-4c11-85d9-a46cd5580f01",
   "metadata": {},
   "outputs": [
    {
     "data": {
      "text/plain": [
       "[120, 124, 79, 117, 133]"
      ]
     },
     "execution_count": 2,
     "metadata": {},
     "output_type": "execute_result"
    }
   ],
   "source": [
    "top_countries"
   ]
  },
  {
   "cell_type": "code",
   "execution_count": null,
   "id": "c4e0a4ae-c0cd-4292-b6bc-ff5dfdee4f34",
   "metadata": {},
   "outputs": [],
   "source": []
  }
 ],
 "metadata": {
  "kernelspec": {
   "display_name": "Python 3 (ipykernel)",
   "language": "python",
   "name": "python3"
  },
  "language_info": {
   "codemirror_mode": {
    "name": "ipython",
    "version": 3
   },
   "file_extension": ".py",
   "mimetype": "text/x-python",
   "name": "python",
   "nbconvert_exporter": "python",
   "pygments_lexer": "ipython3",
   "version": "3.9.13"
  }
 },
 "nbformat": 4,
 "nbformat_minor": 5
}
