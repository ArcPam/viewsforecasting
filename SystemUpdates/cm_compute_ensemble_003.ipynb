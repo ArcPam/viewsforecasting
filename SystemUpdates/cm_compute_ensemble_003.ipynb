{
 "cells": [
  {
   "cell_type": "markdown",
   "id": "c567d3bf",
   "metadata": {},
   "source": [
    "# Notebook to define ensemble for production, cm level\n",
    "Version developed for ViEWS monthly updates: Fatalities002\n",
    "## Including ensemble weighting\n",
    "\n",
    "This notebook defines the ensemble used for production: selects a set of pre-trained models, retrieves and calibrates them, computes weights, and computes and stores the ensemble model predictions.\n",
    "\n",
    "Models are stored in model storage and most of them specified in the notebook fat_cm_constituentmodels\n",
    "\n",
    "The notebook draws on the following files in this repository:\n",
    "\n",
    "Script file: \n",
    "    Ensembling.py\n",
    "    FetchData.py\n",
    "\n",
    "Lists of models:\n",
    "    ModelList_cm_{dev_id}.csv (not yet functional)\n",
    "    List of pickles at local directory (will rewrite to drop dependence on this)"
   ]
  },
  {
   "cell_type": "markdown",
   "source": [
    "# Note\n",
    "### Numbers in the models 11, 12, 13 are log values even if the column for model 12, 13 is ged_sb_dep\n",
    "\n"
   ],
   "metadata": {
    "collapsed": false
   },
   "id": "e10ce4c622759398"
  },
  {
   "cell_type": "code",
   "execution_count": 2,
   "id": "1f3f0f86",
   "metadata": {
    "ExecuteTime": {
     "end_time": "2023-09-27T07:33:58.057625Z",
     "start_time": "2023-09-27T07:33:55.702933Z"
    }
   },
   "outputs": [],
   "source": [
    "# Basics\n",
    "import numpy as np\n",
    "import pandas as pd\n",
    "import matplotlib.pyplot as plt\n",
    "import matplotlib.cbook as cbook\n",
    "\n",
    "# Views 3\n",
    "from viewser.operations import fetch\n",
    "from viewser import Queryset, Column\n",
    "import views_runs\n",
    "from views_partitioning import data_partitioner, legacy\n",
    "from stepshift import views\n",
    "# import views_dataviz\n",
    "from views_runs import storage, ModelMetadata\n",
    "from views_runs.storage import store, retrieve, fetch_metadata\n",
    "from views_forecasts.extensions import *\n",
    "\n",
    "#sklearn\n",
    "from sklearn.metrics import mean_squared_error\n",
    "\n",
    "# Other packages\n",
    "import pickle as pkl\n",
    "\n",
    "pd.set_option('display.float_format', lambda x: '%.6f' % x)"
   ]
  },
  {
   "cell_type": "code",
   "execution_count": 3,
   "id": "05e8c2b4",
   "metadata": {
    "ExecuteTime": {
     "end_time": "2023-09-27T07:33:58.254891Z",
     "start_time": "2023-09-27T07:33:58.058532Z"
    }
   },
   "outputs": [],
   "source": [
    "# Packages from this repository, Tools folder\n",
    "import sys\n",
    "sys.path.append('../')\n",
    "sys.path.append('../Tools')\n",
    "sys.path.append('../Intermediates')\n",
    "import os\n",
    "\n",
    "from Ensembling import CalibratePredictions, RetrieveStoredPredictions, mean_sd_calibrated, gam_calibrated\n",
    "from FetchData import FetchData, RetrieveFromList\n",
    "from ViewsEstimators import *\n"
   ]
  },
  {
   "cell_type": "code",
   "execution_count": 4,
   "id": "89992da3",
   "metadata": {
    "ExecuteTime": {
     "end_time": "2023-09-27T07:33:58.443344Z",
     "start_time": "2023-09-27T07:33:58.431816Z"
    }
   },
   "outputs": [
    {
     "name": "stdout",
     "output_type": "stream",
     "text": [
      "User: root\n",
      "Dropbox path set to /Users/root/Dropbox (ViEWS)/ViEWS/\n",
      "Overleaf path set to /Users/root/Dropbox (ViEWS)/Apps/Overleaf/VIEWS documentation Fatalities003/\n",
      "Local path set to /Users/root/Pickles/\n"
     ]
    }
   ],
   "source": [
    "# Common parameters:\n",
    "\n",
    "dev_id = 'Fatalities003'\n",
    "run_id = 'Fatalities003'\n",
    "EndOfHistory = 509\n",
    "RunGeneticAlgo = True\n",
    "level = 'cm'\n",
    "get_future = False\n",
    "\n",
    "username = os.getlogin()\n",
    "\n",
    "steps = [*range(1, 36+1, 1)] # Which steps to train and predict for\n",
    "\n",
    "fi_steps = [1,3,6,12,36]\n",
    "# Specifying partitions\n",
    "\n",
    "calib_partitioner_dict = {\"train\":(121,396),\"predict\":(397,444)}\n",
    "test_partitioner_dict = {\"train\":(121,444),\"predict\":(445,492)}\n",
    "future_partitioner_dict = {\"train\":(121,492),\"predict\":(493,504)}\n",
    "calib_partitioner =  views_runs.DataPartitioner({\"calib\":calib_partitioner_dict})\n",
    "test_partitioner =  views_runs.DataPartitioner({\"test\":test_partitioner_dict})\n",
    "future_partitioner =  views_runs.DataPartitioner({\"future\":future_partitioner_dict})\n",
    "\n",
    "Mydropbox = f'/Users/{username}/Dropbox (ViEWS)/ViEWS/'\n",
    "localpath = f'/Users/{username}/Pickles/'\n",
    "overleafpath = f'/Users/{username}/Dropbox (ViEWS)/Apps/Overleaf/VIEWS documentation {dev_id}/'\n",
    "\n",
    "print('User:', username)\n",
    "print('Dropbox path set to',Mydropbox)\n",
    "print('Overleaf path set to',overleafpath)\n",
    "print('Local path set to',localpath)"
   ]
  },
  {
   "cell_type": "code",
   "execution_count": 5,
   "id": "3eaeb840",
   "metadata": {
    "ExecuteTime": {
     "end_time": "2023-09-27T07:33:59.516397Z",
     "start_time": "2023-09-27T07:33:59.428193Z"
    }
   },
   "outputs": [
    {
     "name": "stdout",
     "output_type": "stream",
     "text": [
      "0 fatalities003_nl_baseline_rf baseline003\n",
      "1 fatalities003_nl_conflicthistory_rf conflict_ln\n",
      "2 fatalities003_nl_conflicthistory_hurdle_lgb conflict_ln\n",
      "3 fatalities003_nl_conflicthistory_long_xgb conflictlong_ln\n",
      "4 fatalities003_nl_vdem_hurdle_xgb vdem_short\n",
      "5 fatalities003_nl_wdi_rf wdi_short\n",
      "6 fatalities003_nl_topics_rf topics_003\n",
      "7 fatalities003_nl_topics_xgb topics_003\n",
      "8 fatalities003_nl_topics_hurdle_lgb topics_003\n",
      "9 fatalities003_nl_joint_broad_rf joint_broad\n",
      "10 fatalities003_nl_joint_broad_hurdle_rf joint_broad\n",
      "11 fatalities003_joint_narrow_xgb joint_narrow\n",
      "12 fatalities003_nl_joint_narrow_hurdle_xgb joint_narrow\n",
      "13 fatalities003_nl_joint_narrow_hurdle_lgb joint_narrow\n",
      "14 fatalities003_nl_all_pca3_xgb all_features\n"
     ]
    }
   ],
   "source": [
    "from ModelDefinitions import DefineEnsembleModels\n",
    "\n",
    "ModelList = DefineEnsembleModels(level)\n",
    "    \n",
    "i = 0\n",
    "for model in ModelList:\n",
    "    print(i, model['modelname'], model['data_train'])\n",
    "    i = i + 1"
   ]
  },
  {
   "cell_type": "code",
   "execution_count": 6,
   "outputs": [
    {
     "name": "stdout",
     "output_type": "stream",
     "text": [
      "pr_56_cm_fatalities003_joint_narrow_xgb_calib.parquet\n"
     ]
    },
    {
     "data": {
      "text/plain": "                     ln_ged_sb_dep  step_pred_1  step_pred_2  step_pred_3  \\\nmonth_id country_id                                                         \n397      1                0.000000     0.008420     0.011582     0.012673   \n         2                0.000000     0.008420     0.011476     0.012418   \n         3                0.000000     0.008420     0.011476     0.012418   \n         4                0.000000     0.008659     0.011582     0.012673   \n         5                0.000000     0.008420     0.011476     0.012418   \n...                            ...          ...          ...          ...   \n444      242              0.000000     0.017873     0.019947     0.019739   \n         243              0.000000     0.008511     0.011476     0.012418   \n         244              0.000000     0.009407     0.012381     0.012647   \n         245              0.000000     1.889669     2.477441     3.376249   \n         246              2.708050     2.604345     2.636136     1.911815   \n\n                     step_pred_4  step_pred_5  step_pred_6  step_pred_7  \\\nmonth_id country_id                                                       \n397      1              0.014179     0.014431     0.014855     0.016646   \n         2              0.014019     0.013617     0.014294     0.016476   \n         3              0.014019     0.013617     0.014294     0.015214   \n         4              0.014421     0.014431     0.017202     0.045097   \n         5              0.014019     0.013617     0.014294     0.016476   \n...                          ...          ...          ...          ...   \n444      242            0.025537     0.019502     0.023194     0.020523   \n         243            0.014019     0.013617     0.014294     0.015214   \n         244            0.014203     0.013976     0.014618     0.015567   \n         245            2.985935     3.317934     2.572747     3.731551   \n         246            2.500160     2.376583     2.074247     2.208894   \n\n                     step_pred_8  step_pred_9  ...  step_pred_27  \\\nmonth_id country_id                            ...                 \n397      1              0.020506     0.017444  ...      0.024846   \n         2              0.021644     0.018288  ...      0.022748   \n         3              0.015707     0.018288  ...      0.022748   \n         4              0.018661     0.022210  ...      0.074820   \n         5              0.021644     0.018288  ...      0.022748   \n...                          ...          ...  ...           ...   \n444      242            0.021112     0.024462  ...      0.133979   \n         243            0.015707     0.015991  ...      0.023141   \n         244            0.017467     0.018470  ...      0.061876   \n         245            4.061934     4.168920  ...      1.934937   \n         246            2.213603     1.467498  ...      2.115453   \n\n                     step_pred_28  step_pred_29  step_pred_30  step_pred_31  \\\nmonth_id country_id                                                           \n397      1               0.026930      0.027107      0.117257      0.025644   \n         2               0.021641      0.022437      0.021148      0.020752   \n         3               0.021641      0.022437      0.021148      0.020752   \n         4               0.036520      0.056549      0.050284      0.061734   \n         5               0.021641      0.022437      0.021148      0.020752   \n...                           ...           ...           ...           ...   \n444      242             0.135839      0.137115      0.150589      0.164453   \n         243             0.022411      0.023122      0.021496      0.021082   \n         244             0.107264      0.122521      0.117023      0.057673   \n         245             2.045012      1.900755      2.903455      3.046722   \n         246             2.292283      2.020375      2.330546      1.196295   \n\n                     step_pred_32  step_pred_33  step_pred_34  step_pred_35  \\\nmonth_id country_id                                                           \n397      1               0.025099      0.024437      0.022103      0.022669   \n         2               0.019647      0.018917      0.018413      0.019921   \n         3               0.019647      0.018917      0.018413      0.019921   \n         4               0.053394      0.067794      0.065420      0.123116   \n         5               0.019647      0.018917      0.018413      0.019921   \n...                           ...           ...           ...           ...   \n444      242             0.165343      0.166977      0.167235      0.175178   \n         243             0.019647      0.019860      0.019287      0.020205   \n         244             0.051980      0.062827      0.053596      0.062296   \n         245             2.139882      2.063412      2.089220      2.078251   \n         246             2.052180      1.770693      1.843000      1.868176   \n\n                     step_pred_36  \nmonth_id country_id                \n397      1               0.023872  \n         2               0.020009  \n         3               0.020009  \n         4               0.128227  \n         5               0.020009  \n...                           ...  \n444      242             0.169526  \n         243             0.020908  \n         244             0.038805  \n         245             1.945472  \n         246             1.839640  \n\n[9168 rows x 37 columns]",
      "text/html": "<div>\n<style scoped>\n    .dataframe tbody tr th:only-of-type {\n        vertical-align: middle;\n    }\n\n    .dataframe tbody tr th {\n        vertical-align: top;\n    }\n\n    .dataframe thead th {\n        text-align: right;\n    }\n</style>\n<table border=\"1\" class=\"dataframe\">\n  <thead>\n    <tr style=\"text-align: right;\">\n      <th></th>\n      <th></th>\n      <th>ln_ged_sb_dep</th>\n      <th>step_pred_1</th>\n      <th>step_pred_2</th>\n      <th>step_pred_3</th>\n      <th>step_pred_4</th>\n      <th>step_pred_5</th>\n      <th>step_pred_6</th>\n      <th>step_pred_7</th>\n      <th>step_pred_8</th>\n      <th>step_pred_9</th>\n      <th>...</th>\n      <th>step_pred_27</th>\n      <th>step_pred_28</th>\n      <th>step_pred_29</th>\n      <th>step_pred_30</th>\n      <th>step_pred_31</th>\n      <th>step_pred_32</th>\n      <th>step_pred_33</th>\n      <th>step_pred_34</th>\n      <th>step_pred_35</th>\n      <th>step_pred_36</th>\n    </tr>\n    <tr>\n      <th>month_id</th>\n      <th>country_id</th>\n      <th></th>\n      <th></th>\n      <th></th>\n      <th></th>\n      <th></th>\n      <th></th>\n      <th></th>\n      <th></th>\n      <th></th>\n      <th></th>\n      <th></th>\n      <th></th>\n      <th></th>\n      <th></th>\n      <th></th>\n      <th></th>\n      <th></th>\n      <th></th>\n      <th></th>\n      <th></th>\n      <th></th>\n    </tr>\n  </thead>\n  <tbody>\n    <tr>\n      <th rowspan=\"5\" valign=\"top\">397</th>\n      <th>1</th>\n      <td>0.000000</td>\n      <td>0.008420</td>\n      <td>0.011582</td>\n      <td>0.012673</td>\n      <td>0.014179</td>\n      <td>0.014431</td>\n      <td>0.014855</td>\n      <td>0.016646</td>\n      <td>0.020506</td>\n      <td>0.017444</td>\n      <td>...</td>\n      <td>0.024846</td>\n      <td>0.026930</td>\n      <td>0.027107</td>\n      <td>0.117257</td>\n      <td>0.025644</td>\n      <td>0.025099</td>\n      <td>0.024437</td>\n      <td>0.022103</td>\n      <td>0.022669</td>\n      <td>0.023872</td>\n    </tr>\n    <tr>\n      <th>2</th>\n      <td>0.000000</td>\n      <td>0.008420</td>\n      <td>0.011476</td>\n      <td>0.012418</td>\n      <td>0.014019</td>\n      <td>0.013617</td>\n      <td>0.014294</td>\n      <td>0.016476</td>\n      <td>0.021644</td>\n      <td>0.018288</td>\n      <td>...</td>\n      <td>0.022748</td>\n      <td>0.021641</td>\n      <td>0.022437</td>\n      <td>0.021148</td>\n      <td>0.020752</td>\n      <td>0.019647</td>\n      <td>0.018917</td>\n      <td>0.018413</td>\n      <td>0.019921</td>\n      <td>0.020009</td>\n    </tr>\n    <tr>\n      <th>3</th>\n      <td>0.000000</td>\n      <td>0.008420</td>\n      <td>0.011476</td>\n      <td>0.012418</td>\n      <td>0.014019</td>\n      <td>0.013617</td>\n      <td>0.014294</td>\n      <td>0.015214</td>\n      <td>0.015707</td>\n      <td>0.018288</td>\n      <td>...</td>\n      <td>0.022748</td>\n      <td>0.021641</td>\n      <td>0.022437</td>\n      <td>0.021148</td>\n      <td>0.020752</td>\n      <td>0.019647</td>\n      <td>0.018917</td>\n      <td>0.018413</td>\n      <td>0.019921</td>\n      <td>0.020009</td>\n    </tr>\n    <tr>\n      <th>4</th>\n      <td>0.000000</td>\n      <td>0.008659</td>\n      <td>0.011582</td>\n      <td>0.012673</td>\n      <td>0.014421</td>\n      <td>0.014431</td>\n      <td>0.017202</td>\n      <td>0.045097</td>\n      <td>0.018661</td>\n      <td>0.022210</td>\n      <td>...</td>\n      <td>0.074820</td>\n      <td>0.036520</td>\n      <td>0.056549</td>\n      <td>0.050284</td>\n      <td>0.061734</td>\n      <td>0.053394</td>\n      <td>0.067794</td>\n      <td>0.065420</td>\n      <td>0.123116</td>\n      <td>0.128227</td>\n    </tr>\n    <tr>\n      <th>5</th>\n      <td>0.000000</td>\n      <td>0.008420</td>\n      <td>0.011476</td>\n      <td>0.012418</td>\n      <td>0.014019</td>\n      <td>0.013617</td>\n      <td>0.014294</td>\n      <td>0.016476</td>\n      <td>0.021644</td>\n      <td>0.018288</td>\n      <td>...</td>\n      <td>0.022748</td>\n      <td>0.021641</td>\n      <td>0.022437</td>\n      <td>0.021148</td>\n      <td>0.020752</td>\n      <td>0.019647</td>\n      <td>0.018917</td>\n      <td>0.018413</td>\n      <td>0.019921</td>\n      <td>0.020009</td>\n    </tr>\n    <tr>\n      <th>...</th>\n      <th>...</th>\n      <td>...</td>\n      <td>...</td>\n      <td>...</td>\n      <td>...</td>\n      <td>...</td>\n      <td>...</td>\n      <td>...</td>\n      <td>...</td>\n      <td>...</td>\n      <td>...</td>\n      <td>...</td>\n      <td>...</td>\n      <td>...</td>\n      <td>...</td>\n      <td>...</td>\n      <td>...</td>\n      <td>...</td>\n      <td>...</td>\n      <td>...</td>\n      <td>...</td>\n      <td>...</td>\n    </tr>\n    <tr>\n      <th rowspan=\"5\" valign=\"top\">444</th>\n      <th>242</th>\n      <td>0.000000</td>\n      <td>0.017873</td>\n      <td>0.019947</td>\n      <td>0.019739</td>\n      <td>0.025537</td>\n      <td>0.019502</td>\n      <td>0.023194</td>\n      <td>0.020523</td>\n      <td>0.021112</td>\n      <td>0.024462</td>\n      <td>...</td>\n      <td>0.133979</td>\n      <td>0.135839</td>\n      <td>0.137115</td>\n      <td>0.150589</td>\n      <td>0.164453</td>\n      <td>0.165343</td>\n      <td>0.166977</td>\n      <td>0.167235</td>\n      <td>0.175178</td>\n      <td>0.169526</td>\n    </tr>\n    <tr>\n      <th>243</th>\n      <td>0.000000</td>\n      <td>0.008511</td>\n      <td>0.011476</td>\n      <td>0.012418</td>\n      <td>0.014019</td>\n      <td>0.013617</td>\n      <td>0.014294</td>\n      <td>0.015214</td>\n      <td>0.015707</td>\n      <td>0.015991</td>\n      <td>...</td>\n      <td>0.023141</td>\n      <td>0.022411</td>\n      <td>0.023122</td>\n      <td>0.021496</td>\n      <td>0.021082</td>\n      <td>0.019647</td>\n      <td>0.019860</td>\n      <td>0.019287</td>\n      <td>0.020205</td>\n      <td>0.020908</td>\n    </tr>\n    <tr>\n      <th>244</th>\n      <td>0.000000</td>\n      <td>0.009407</td>\n      <td>0.012381</td>\n      <td>0.012647</td>\n      <td>0.014203</td>\n      <td>0.013976</td>\n      <td>0.014618</td>\n      <td>0.015567</td>\n      <td>0.017467</td>\n      <td>0.018470</td>\n      <td>...</td>\n      <td>0.061876</td>\n      <td>0.107264</td>\n      <td>0.122521</td>\n      <td>0.117023</td>\n      <td>0.057673</td>\n      <td>0.051980</td>\n      <td>0.062827</td>\n      <td>0.053596</td>\n      <td>0.062296</td>\n      <td>0.038805</td>\n    </tr>\n    <tr>\n      <th>245</th>\n      <td>0.000000</td>\n      <td>1.889669</td>\n      <td>2.477441</td>\n      <td>3.376249</td>\n      <td>2.985935</td>\n      <td>3.317934</td>\n      <td>2.572747</td>\n      <td>3.731551</td>\n      <td>4.061934</td>\n      <td>4.168920</td>\n      <td>...</td>\n      <td>1.934937</td>\n      <td>2.045012</td>\n      <td>1.900755</td>\n      <td>2.903455</td>\n      <td>3.046722</td>\n      <td>2.139882</td>\n      <td>2.063412</td>\n      <td>2.089220</td>\n      <td>2.078251</td>\n      <td>1.945472</td>\n    </tr>\n    <tr>\n      <th>246</th>\n      <td>2.708050</td>\n      <td>2.604345</td>\n      <td>2.636136</td>\n      <td>1.911815</td>\n      <td>2.500160</td>\n      <td>2.376583</td>\n      <td>2.074247</td>\n      <td>2.208894</td>\n      <td>2.213603</td>\n      <td>1.467498</td>\n      <td>...</td>\n      <td>2.115453</td>\n      <td>2.292283</td>\n      <td>2.020375</td>\n      <td>2.330546</td>\n      <td>1.196295</td>\n      <td>2.052180</td>\n      <td>1.770693</td>\n      <td>1.843000</td>\n      <td>1.868176</td>\n      <td>1.839640</td>\n    </tr>\n  </tbody>\n</table>\n<p>9168 rows × 37 columns</p>\n</div>"
     },
     "execution_count": 6,
     "metadata": {},
     "output_type": "execute_result"
    }
   ],
   "source": [
    "stepcols = ['ln_ged_sb_dep']\n",
    "for step in steps:\n",
    "    stepcols.append('step_pred_' + str(step))\n",
    "stored_modelname_calib = level + '_' + ModelList[11]['modelname'] + '_calib'\n",
    "pd.DataFrame.forecasts.read_store(stored_modelname_calib, run=dev_id)[stepcols]"
   ],
   "metadata": {
    "collapsed": false,
    "ExecuteTime": {
     "end_time": "2023-09-27T07:34:03.217307Z",
     "start_time": "2023-09-27T07:34:00.589419Z"
    }
   },
   "id": "f01ad46ac2f547bd"
  },
  {
   "cell_type": "markdown",
   "id": "f3ec1bfa",
   "metadata": {
    "ExecuteTime": {
     "end_time": "2023-09-22T08:38:55.194955Z",
     "start_time": "2023-09-22T08:38:55.179952Z"
    }
   },
   "source": [
    "# Retrieve and calibrate predictions"
   ]
  },
  {
   "cell_type": "code",
   "execution_count": 7,
   "id": "9b1a4ce9",
   "metadata": {
    "ExecuteTime": {
     "end_time": "2023-09-27T07:35:36.386631Z",
     "start_time": "2023-09-27T07:34:05.112641Z"
    }
   },
   "outputs": [
    {
     "name": "stdout",
     "output_type": "stream",
     "text": [
      "0 fatalities003_nl_baseline_rf\n",
      "pr_56_cm_fatalities003_nl_baseline_rf_calib.parquet\n",
      "pr_56_cm_fatalities003_nl_baseline_rf_test.parquet\n",
      "1 fatalities003_nl_conflicthistory_rf\n",
      "pr_56_cm_fatalities003_nl_conflicthistory_rf_calib.parquet\n",
      "pr_56_cm_fatalities003_nl_conflicthistory_rf_test.parquet\n",
      "2 fatalities003_nl_conflicthistory_hurdle_lgb\n",
      "pr_56_cm_fatalities003_nl_conflicthistory_hurdle_lgb_calib.parquet\n",
      "pr_56_cm_fatalities003_nl_conflicthistory_hurdle_lgb_test.parquet\n",
      "3 fatalities003_nl_conflicthistory_long_xgb\n",
      "pr_56_cm_fatalities003_nl_conflicthistory_long_xgb_calib.parquet\n",
      "pr_56_cm_fatalities003_nl_conflicthistory_long_xgb_test.parquet\n",
      "4 fatalities003_nl_vdem_hurdle_xgb\n",
      "pr_56_cm_fatalities003_nl_vdem_hurdle_xgb_calib.parquet\n",
      "pr_56_cm_fatalities003_nl_vdem_hurdle_xgb_test.parquet\n",
      "5 fatalities003_nl_wdi_rf\n",
      "pr_56_cm_fatalities003_nl_wdi_rf_calib.parquet\n",
      "pr_56_cm_fatalities003_nl_wdi_rf_test.parquet\n",
      "6 fatalities003_nl_topics_rf\n",
      "pr_56_cm_fatalities003_nl_topics_rf_calib.parquet\n",
      "pr_56_cm_fatalities003_nl_topics_rf_test.parquet\n",
      "7 fatalities003_nl_topics_xgb\n",
      "pr_56_cm_fatalities003_nl_topics_xgb_calib.parquet\n",
      "pr_56_cm_fatalities003_nl_topics_xgb_test.parquet\n",
      "8 fatalities003_nl_topics_hurdle_lgb\n",
      "pr_56_cm_fatalities003_nl_topics_hurdle_lgb_calib.parquet\n",
      "pr_56_cm_fatalities003_nl_topics_hurdle_lgb_test.parquet\n",
      "9 fatalities003_nl_joint_broad_rf\n",
      "pr_56_cm_fatalities003_nl_joint_broad_rf_calib.parquet\n",
      "pr_56_cm_fatalities003_nl_joint_broad_rf_test.parquet\n",
      "10 fatalities003_nl_joint_broad_hurdle_rf\n",
      "pr_56_cm_fatalities003_nl_joint_broad_hurdle_rf_calib.parquet\n",
      "pr_56_cm_fatalities003_nl_joint_broad_hurdle_rf_test.parquet\n",
      "11 fatalities003_joint_narrow_xgb\n",
      "pr_56_cm_fatalities003_joint_narrow_xgb_calib.parquet\n",
      "pr_56_cm_fatalities003_joint_narrow_xgb_test.parquet\n",
      "12 fatalities003_nl_joint_narrow_hurdle_xgb\n",
      "pr_56_cm_fatalities003_nl_joint_narrow_hurdle_xgb_calib.parquet\n",
      "pr_56_cm_fatalities003_nl_joint_narrow_hurdle_xgb_test.parquet\n",
      "13 fatalities003_nl_joint_narrow_hurdle_lgb\n",
      "pr_56_cm_fatalities003_nl_joint_narrow_hurdle_lgb_calib.parquet\n",
      "pr_56_cm_fatalities003_nl_joint_narrow_hurdle_lgb_test.parquet\n",
      "14 fatalities003_nl_all_pca3_xgb\n",
      "pr_56_cm_fatalities003_nl_all_pca3_xgb_calib.parquet\n",
      "pr_56_cm_fatalities003_nl_all_pca3_xgb_test.parquet\n",
      "All done\n"
     ]
    }
   ],
   "source": [
    "# Retrieving the predictions for calibration and test partitions\n",
    "# The ModelList contains the predictions organized by model\n",
    "\n",
    "ModelList = RetrieveStoredPredictions(ModelList, steps, EndOfHistory, dev_id, level, get_future)\n",
    "\n",
    "# ModelList = CalibratePredictions(ModelList, EndOfHistory, steps)"
   ]
  },
  {
   "cell_type": "code",
   "execution_count": 8,
   "outputs": [
    {
     "data": {
      "text/plain": "                     ged_sb_dep  step_pred_1  step_pred_2  step_pred_3  \\\nmonth_id country_id                                                      \n445      1             0.000000     0.009167     0.009891     0.012589   \n         2             0.000000     0.009167     0.009697     0.012589   \n         3             0.000000     0.009167     0.009697     0.011348   \n         4             0.000000     0.012901     0.020516     0.017851   \n         5             0.000000     0.009167     0.009697     0.012589   \n...                         ...          ...          ...          ...   \n492      242           0.000000     1.366919     1.430469     0.029422   \n         243           0.000000     1.099701     0.009697     0.011619   \n         244           0.000000     0.009613     0.011301     0.013539   \n         245           0.000000     0.755424     2.479162     4.422010   \n         246           0.000000     4.553240     2.658582     4.642549   \n\n                     step_pred_4  step_pred_5  step_pred_6  step_pred_7  \\\nmonth_id country_id                                                       \n445      1              0.013190     0.013403     0.015648     0.015318   \n         2              0.013058     0.013226     0.014898     0.015174   \n         3              0.013058     0.013226     0.014898     0.015174   \n         4              0.025427     0.028214     0.028537     0.023996   \n         5              0.013058     0.013226     0.014898     0.015174   \n...                          ...          ...          ...          ...   \n492      242            0.032619     0.030597     0.042787     0.046214   \n         243            0.013058     0.013226     0.015052     0.015174   \n         244            0.014310     0.014538     0.015642     0.015674   \n         245            7.200095     5.574021     2.070196     0.294606   \n         246            7.120520     6.137676     6.905732     3.119195   \n\n                     step_pred_8  step_pred_9  ...  step_pred_27  \\\nmonth_id country_id                            ...                 \n445      1              0.028433     0.018103  ...      0.024727   \n         2              0.028433     0.018103  ...      0.019271   \n         3              0.014908     0.014455  ...      0.019271   \n         4              0.037756     0.020045  ...      0.030460   \n         5              0.028433     0.018103  ...      0.019271   \n...                          ...          ...  ...           ...   \n492      242            0.057206     0.067597  ...      0.157345   \n         243            0.014908     0.014812  ...      0.019453   \n         244            0.018947     0.014960  ...      0.039761   \n         245            0.310444     0.391680  ...     12.175900   \n         246            2.875350     3.554297  ...      7.959874   \n\n                     step_pred_28  step_pred_29  step_pred_30  step_pred_31  \\\nmonth_id country_id                                                           \n445      1               0.034935      0.030096      0.031895      0.026588   \n         2               0.019915      0.021934      0.020112      0.019567   \n         3               0.019915      0.021934      0.020112      0.019567   \n         4               0.030369      0.035826      0.052080      0.057105   \n         5               0.019915      0.021934      0.020112      0.019567   \n...                           ...           ...           ...           ...   \n492      242             0.160875      0.168210      0.171885      0.185036   \n         243             0.020766      0.021934      0.020112      0.019906   \n         244             0.042759      0.042088      0.042418      0.042666   \n         245            10.848603     36.012710     27.432978     24.526728   \n         246            12.850042     14.084732     24.437838     20.904996   \n\n                     step_pred_32  step_pred_33  step_pred_34  step_pred_35  \\\nmonth_id country_id                                                           \n445      1               0.028692      0.028179      0.025854      0.027549   \n         2               0.019655      0.018728      0.017578      0.017987   \n         3               0.019655      0.018728      0.017578      0.017987   \n         4               0.080281      0.085169      0.101610      0.126006   \n         5               0.019655      0.018728      0.017578      0.017987   \n...                           ...           ...           ...           ...   \n492      242             0.177733      0.186591      0.179903      0.183747   \n         243             0.020171      0.019127      0.018131      0.017987   \n         244             0.035804      0.032693      0.032309      0.049032   \n         245            18.529865      8.097266      9.904621     14.033304   \n         246            11.815313     23.235564     17.911397     21.435212   \n\n                     step_pred_36  \nmonth_id country_id                \n445      1               0.028055  \n         2               0.018030  \n         3               0.018030  \n         4               0.139494  \n         5               0.018030  \n...                           ...  \n492      242             0.212211  \n         243             0.018030  \n         244             0.037846  \n         245             9.300242  \n         246            12.710398  \n\n[9168 rows x 37 columns]",
      "text/html": "<div>\n<style scoped>\n    .dataframe tbody tr th:only-of-type {\n        vertical-align: middle;\n    }\n\n    .dataframe tbody tr th {\n        vertical-align: top;\n    }\n\n    .dataframe thead th {\n        text-align: right;\n    }\n</style>\n<table border=\"1\" class=\"dataframe\">\n  <thead>\n    <tr style=\"text-align: right;\">\n      <th></th>\n      <th></th>\n      <th>ged_sb_dep</th>\n      <th>step_pred_1</th>\n      <th>step_pred_2</th>\n      <th>step_pred_3</th>\n      <th>step_pred_4</th>\n      <th>step_pred_5</th>\n      <th>step_pred_6</th>\n      <th>step_pred_7</th>\n      <th>step_pred_8</th>\n      <th>step_pred_9</th>\n      <th>...</th>\n      <th>step_pred_27</th>\n      <th>step_pred_28</th>\n      <th>step_pred_29</th>\n      <th>step_pred_30</th>\n      <th>step_pred_31</th>\n      <th>step_pred_32</th>\n      <th>step_pred_33</th>\n      <th>step_pred_34</th>\n      <th>step_pred_35</th>\n      <th>step_pred_36</th>\n    </tr>\n    <tr>\n      <th>month_id</th>\n      <th>country_id</th>\n      <th></th>\n      <th></th>\n      <th></th>\n      <th></th>\n      <th></th>\n      <th></th>\n      <th></th>\n      <th></th>\n      <th></th>\n      <th></th>\n      <th></th>\n      <th></th>\n      <th></th>\n      <th></th>\n      <th></th>\n      <th></th>\n      <th></th>\n      <th></th>\n      <th></th>\n      <th></th>\n      <th></th>\n    </tr>\n  </thead>\n  <tbody>\n    <tr>\n      <th rowspan=\"5\" valign=\"top\">445</th>\n      <th>1</th>\n      <td>0.000000</td>\n      <td>0.009167</td>\n      <td>0.009891</td>\n      <td>0.012589</td>\n      <td>0.013190</td>\n      <td>0.013403</td>\n      <td>0.015648</td>\n      <td>0.015318</td>\n      <td>0.028433</td>\n      <td>0.018103</td>\n      <td>...</td>\n      <td>0.024727</td>\n      <td>0.034935</td>\n      <td>0.030096</td>\n      <td>0.031895</td>\n      <td>0.026588</td>\n      <td>0.028692</td>\n      <td>0.028179</td>\n      <td>0.025854</td>\n      <td>0.027549</td>\n      <td>0.028055</td>\n    </tr>\n    <tr>\n      <th>2</th>\n      <td>0.000000</td>\n      <td>0.009167</td>\n      <td>0.009697</td>\n      <td>0.012589</td>\n      <td>0.013058</td>\n      <td>0.013226</td>\n      <td>0.014898</td>\n      <td>0.015174</td>\n      <td>0.028433</td>\n      <td>0.018103</td>\n      <td>...</td>\n      <td>0.019271</td>\n      <td>0.019915</td>\n      <td>0.021934</td>\n      <td>0.020112</td>\n      <td>0.019567</td>\n      <td>0.019655</td>\n      <td>0.018728</td>\n      <td>0.017578</td>\n      <td>0.017987</td>\n      <td>0.018030</td>\n    </tr>\n    <tr>\n      <th>3</th>\n      <td>0.000000</td>\n      <td>0.009167</td>\n      <td>0.009697</td>\n      <td>0.011348</td>\n      <td>0.013058</td>\n      <td>0.013226</td>\n      <td>0.014898</td>\n      <td>0.015174</td>\n      <td>0.014908</td>\n      <td>0.014455</td>\n      <td>...</td>\n      <td>0.019271</td>\n      <td>0.019915</td>\n      <td>0.021934</td>\n      <td>0.020112</td>\n      <td>0.019567</td>\n      <td>0.019655</td>\n      <td>0.018728</td>\n      <td>0.017578</td>\n      <td>0.017987</td>\n      <td>0.018030</td>\n    </tr>\n    <tr>\n      <th>4</th>\n      <td>0.000000</td>\n      <td>0.012901</td>\n      <td>0.020516</td>\n      <td>0.017851</td>\n      <td>0.025427</td>\n      <td>0.028214</td>\n      <td>0.028537</td>\n      <td>0.023996</td>\n      <td>0.037756</td>\n      <td>0.020045</td>\n      <td>...</td>\n      <td>0.030460</td>\n      <td>0.030369</td>\n      <td>0.035826</td>\n      <td>0.052080</td>\n      <td>0.057105</td>\n      <td>0.080281</td>\n      <td>0.085169</td>\n      <td>0.101610</td>\n      <td>0.126006</td>\n      <td>0.139494</td>\n    </tr>\n    <tr>\n      <th>5</th>\n      <td>0.000000</td>\n      <td>0.009167</td>\n      <td>0.009697</td>\n      <td>0.012589</td>\n      <td>0.013058</td>\n      <td>0.013226</td>\n      <td>0.014898</td>\n      <td>0.015174</td>\n      <td>0.028433</td>\n      <td>0.018103</td>\n      <td>...</td>\n      <td>0.019271</td>\n      <td>0.019915</td>\n      <td>0.021934</td>\n      <td>0.020112</td>\n      <td>0.019567</td>\n      <td>0.019655</td>\n      <td>0.018728</td>\n      <td>0.017578</td>\n      <td>0.017987</td>\n      <td>0.018030</td>\n    </tr>\n    <tr>\n      <th>...</th>\n      <th>...</th>\n      <td>...</td>\n      <td>...</td>\n      <td>...</td>\n      <td>...</td>\n      <td>...</td>\n      <td>...</td>\n      <td>...</td>\n      <td>...</td>\n      <td>...</td>\n      <td>...</td>\n      <td>...</td>\n      <td>...</td>\n      <td>...</td>\n      <td>...</td>\n      <td>...</td>\n      <td>...</td>\n      <td>...</td>\n      <td>...</td>\n      <td>...</td>\n      <td>...</td>\n      <td>...</td>\n    </tr>\n    <tr>\n      <th rowspan=\"5\" valign=\"top\">492</th>\n      <th>242</th>\n      <td>0.000000</td>\n      <td>1.366919</td>\n      <td>1.430469</td>\n      <td>0.029422</td>\n      <td>0.032619</td>\n      <td>0.030597</td>\n      <td>0.042787</td>\n      <td>0.046214</td>\n      <td>0.057206</td>\n      <td>0.067597</td>\n      <td>...</td>\n      <td>0.157345</td>\n      <td>0.160875</td>\n      <td>0.168210</td>\n      <td>0.171885</td>\n      <td>0.185036</td>\n      <td>0.177733</td>\n      <td>0.186591</td>\n      <td>0.179903</td>\n      <td>0.183747</td>\n      <td>0.212211</td>\n    </tr>\n    <tr>\n      <th>243</th>\n      <td>0.000000</td>\n      <td>1.099701</td>\n      <td>0.009697</td>\n      <td>0.011619</td>\n      <td>0.013058</td>\n      <td>0.013226</td>\n      <td>0.015052</td>\n      <td>0.015174</td>\n      <td>0.014908</td>\n      <td>0.014812</td>\n      <td>...</td>\n      <td>0.019453</td>\n      <td>0.020766</td>\n      <td>0.021934</td>\n      <td>0.020112</td>\n      <td>0.019906</td>\n      <td>0.020171</td>\n      <td>0.019127</td>\n      <td>0.018131</td>\n      <td>0.017987</td>\n      <td>0.018030</td>\n    </tr>\n    <tr>\n      <th>244</th>\n      <td>0.000000</td>\n      <td>0.009613</td>\n      <td>0.011301</td>\n      <td>0.013539</td>\n      <td>0.014310</td>\n      <td>0.014538</td>\n      <td>0.015642</td>\n      <td>0.015674</td>\n      <td>0.018947</td>\n      <td>0.014960</td>\n      <td>...</td>\n      <td>0.039761</td>\n      <td>0.042759</td>\n      <td>0.042088</td>\n      <td>0.042418</td>\n      <td>0.042666</td>\n      <td>0.035804</td>\n      <td>0.032693</td>\n      <td>0.032309</td>\n      <td>0.049032</td>\n      <td>0.037846</td>\n    </tr>\n    <tr>\n      <th>245</th>\n      <td>0.000000</td>\n      <td>0.755424</td>\n      <td>2.479162</td>\n      <td>4.422010</td>\n      <td>7.200095</td>\n      <td>5.574021</td>\n      <td>2.070196</td>\n      <td>0.294606</td>\n      <td>0.310444</td>\n      <td>0.391680</td>\n      <td>...</td>\n      <td>12.175900</td>\n      <td>10.848603</td>\n      <td>36.012710</td>\n      <td>27.432978</td>\n      <td>24.526728</td>\n      <td>18.529865</td>\n      <td>8.097266</td>\n      <td>9.904621</td>\n      <td>14.033304</td>\n      <td>9.300242</td>\n    </tr>\n    <tr>\n      <th>246</th>\n      <td>0.000000</td>\n      <td>4.553240</td>\n      <td>2.658582</td>\n      <td>4.642549</td>\n      <td>7.120520</td>\n      <td>6.137676</td>\n      <td>6.905732</td>\n      <td>3.119195</td>\n      <td>2.875350</td>\n      <td>3.554297</td>\n      <td>...</td>\n      <td>7.959874</td>\n      <td>12.850042</td>\n      <td>14.084732</td>\n      <td>24.437838</td>\n      <td>20.904996</td>\n      <td>11.815313</td>\n      <td>23.235564</td>\n      <td>17.911397</td>\n      <td>21.435212</td>\n      <td>12.710398</td>\n    </tr>\n  </tbody>\n</table>\n<p>9168 rows × 37 columns</p>\n</div>"
     },
     "execution_count": 8,
     "metadata": {},
     "output_type": "execute_result"
    }
   ],
   "source": [
    "ModelList[11]['predictions_calib_df'] = ModelList[11]['predictions_calib_df'].applymap(lambda x: np.exp(x) - 1)\n",
    "ModelList[11]['predictions_calib_df'].rename(columns={'ln_ged_sb_dep':'ged_sb_dep'}, inplace=True)\n",
    "ModelList[11]['predictions_test_df'] = ModelList[11]['predictions_test_df'].applymap(lambda x: np.exp(x) - 1)\n",
    "ModelList[11]['predictions_test_df'].rename(columns={'ln_ged_sb_dep':'ged_sb_dep'}, inplace=True)\n",
    "ModelList[11]['predictions_test_df']"
   ],
   "metadata": {
    "collapsed": false,
    "ExecuteTime": {
     "end_time": "2023-09-27T07:35:36.760575Z",
     "start_time": "2023-09-27T07:35:36.481098Z"
    }
   },
   "id": "3e56fbc79accc3"
  },
  {
   "cell_type": "code",
   "execution_count": 9,
   "outputs": [
    {
     "data": {
      "text/plain": "                     ged_sb_dep  step_pred_1  step_pred_2  step_pred_3  \\\nmonth_id country_id                                                      \n397      1             0.000000     3.643311     5.920910     7.879053   \n         2             0.000000     3.643311     8.131008     7.904457   \n         3             0.000000     3.514450     4.638184     5.945802   \n         4             0.000000     3.558230     4.638184     5.842495   \n         5             0.000000     4.113445     6.753009     7.912243   \n...                         ...          ...          ...          ...   \n444      242           0.000000     3.537486     4.645221     5.850566   \n         243           0.000000     3.516138     4.638184    15.204786   \n         244           0.000000     6.971416     6.669143     5.641257   \n         245           0.000000  5606.384766 11864.048828   381.322571   \n         246          14.000000 16071.089844  6419.068359  7228.265625   \n\n                     step_pred_4  step_pred_5  step_pred_6  step_pred_7  \\\nmonth_id country_id                                                       \n397      1              5.581651     8.760094     5.448617     5.667788   \n         2              7.781753    11.044792    11.481462     8.091896   \n         3              7.756139     8.718470     7.788080     5.666050   \n         4              5.591039     5.188852     5.259677     5.266651   \n         5             11.613929    12.066689    13.160626     8.471023   \n...                          ...          ...          ...          ...   \n444      242            5.693751    48.851048     5.603571    14.881537   \n         243            5.564894     5.025270     5.179839     5.226724   \n         244            5.516807     6.717100     7.876533     5.175279   \n         245          191.086700  2199.679199   762.624512   394.066437   \n         246         3471.130127 10591.873047   397.607758   390.083771   \n\n                     step_pred_8  step_pred_9  ...  step_pred_27  \\\nmonth_id country_id                            ...                 \n397      1             22.457182     6.099809  ...      6.511542   \n         2              5.769181     6.099809  ...     20.412523   \n         3              5.679998     6.142528  ...      9.844352   \n         4              5.749945     5.804189  ...     31.325960   \n         5             10.156227    21.468166  ...     29.027868   \n...                          ...          ...  ...           ...   \n444      242          339.844360   279.068207  ...     40.971451   \n         243            5.620315     5.766045  ...      5.534801   \n         244            5.558433     5.747992  ...   1151.659668   \n         245           99.535492   232.977051  ...    288.405792   \n         246          357.718384   364.997406  ...    323.808380   \n\n                     step_pred_28  step_pred_29  step_pred_30  step_pred_31  \\\nmonth_id country_id                                                           \n397      1               6.077412     47.772427      5.677524      6.851977   \n         2              10.730457      7.552030      7.272524      7.994062   \n         3              12.428825     63.261288     62.905190     83.684967   \n         4              40.759995     33.416431     10.007353     84.963203   \n         5              25.583740     35.072685     35.337509     29.200043   \n...                           ...           ...           ...           ...   \n444      242            13.105615    768.811096    467.567169     31.998230   \n         243             5.694414      5.048412      8.436039      5.902206   \n         244           682.912048    719.775208    799.785645     11.675535   \n         245           161.421585    250.241058    242.042267    392.343323   \n         246           772.686890    287.709106    582.896851    109.529793   \n\n                     step_pred_32  step_pred_33  step_pred_34  step_pred_35  \\\nmonth_id country_id                                                           \n397      1               5.410686      7.825408     16.408413      8.629659   \n         2              10.491458      6.537792     14.979412     18.192364   \n         3              85.944405     88.437523     65.603859     46.323067   \n         4              16.074759     89.098747     65.808014     38.264713   \n         5              32.002769     24.086016     28.186235     27.635090   \n...                           ...           ...           ...           ...   \n444      242            25.599174     64.331314     24.555630     47.100986   \n         243             5.421671      5.708171      6.976517      5.715421   \n         244            13.164781     24.956394     19.357574     15.430462   \n         245          1238.751709    373.213562    153.002579   2524.446289   \n         246           150.606689    110.360901    139.250839     92.216179   \n\n                     step_pred_36  \nmonth_id country_id                \n397      1              19.000309  \n         2              46.782261  \n         3              33.823582  \n         4              29.090097  \n         5              40.971165  \n...                           ...  \n444      242            63.612919  \n         243             6.534455  \n         244            28.640648  \n         245           649.494019  \n         246            75.720291  \n\n[9168 rows x 37 columns]",
      "text/html": "<div>\n<style scoped>\n    .dataframe tbody tr th:only-of-type {\n        vertical-align: middle;\n    }\n\n    .dataframe tbody tr th {\n        vertical-align: top;\n    }\n\n    .dataframe thead th {\n        text-align: right;\n    }\n</style>\n<table border=\"1\" class=\"dataframe\">\n  <thead>\n    <tr style=\"text-align: right;\">\n      <th></th>\n      <th></th>\n      <th>ged_sb_dep</th>\n      <th>step_pred_1</th>\n      <th>step_pred_2</th>\n      <th>step_pred_3</th>\n      <th>step_pred_4</th>\n      <th>step_pred_5</th>\n      <th>step_pred_6</th>\n      <th>step_pred_7</th>\n      <th>step_pred_8</th>\n      <th>step_pred_9</th>\n      <th>...</th>\n      <th>step_pred_27</th>\n      <th>step_pred_28</th>\n      <th>step_pred_29</th>\n      <th>step_pred_30</th>\n      <th>step_pred_31</th>\n      <th>step_pred_32</th>\n      <th>step_pred_33</th>\n      <th>step_pred_34</th>\n      <th>step_pred_35</th>\n      <th>step_pred_36</th>\n    </tr>\n    <tr>\n      <th>month_id</th>\n      <th>country_id</th>\n      <th></th>\n      <th></th>\n      <th></th>\n      <th></th>\n      <th></th>\n      <th></th>\n      <th></th>\n      <th></th>\n      <th></th>\n      <th></th>\n      <th></th>\n      <th></th>\n      <th></th>\n      <th></th>\n      <th></th>\n      <th></th>\n      <th></th>\n      <th></th>\n      <th></th>\n      <th></th>\n      <th></th>\n    </tr>\n  </thead>\n  <tbody>\n    <tr>\n      <th rowspan=\"5\" valign=\"top\">397</th>\n      <th>1</th>\n      <td>0.000000</td>\n      <td>3.643311</td>\n      <td>5.920910</td>\n      <td>7.879053</td>\n      <td>5.581651</td>\n      <td>8.760094</td>\n      <td>5.448617</td>\n      <td>5.667788</td>\n      <td>22.457182</td>\n      <td>6.099809</td>\n      <td>...</td>\n      <td>6.511542</td>\n      <td>6.077412</td>\n      <td>47.772427</td>\n      <td>5.677524</td>\n      <td>6.851977</td>\n      <td>5.410686</td>\n      <td>7.825408</td>\n      <td>16.408413</td>\n      <td>8.629659</td>\n      <td>19.000309</td>\n    </tr>\n    <tr>\n      <th>2</th>\n      <td>0.000000</td>\n      <td>3.643311</td>\n      <td>8.131008</td>\n      <td>7.904457</td>\n      <td>7.781753</td>\n      <td>11.044792</td>\n      <td>11.481462</td>\n      <td>8.091896</td>\n      <td>5.769181</td>\n      <td>6.099809</td>\n      <td>...</td>\n      <td>20.412523</td>\n      <td>10.730457</td>\n      <td>7.552030</td>\n      <td>7.272524</td>\n      <td>7.994062</td>\n      <td>10.491458</td>\n      <td>6.537792</td>\n      <td>14.979412</td>\n      <td>18.192364</td>\n      <td>46.782261</td>\n    </tr>\n    <tr>\n      <th>3</th>\n      <td>0.000000</td>\n      <td>3.514450</td>\n      <td>4.638184</td>\n      <td>5.945802</td>\n      <td>7.756139</td>\n      <td>8.718470</td>\n      <td>7.788080</td>\n      <td>5.666050</td>\n      <td>5.679998</td>\n      <td>6.142528</td>\n      <td>...</td>\n      <td>9.844352</td>\n      <td>12.428825</td>\n      <td>63.261288</td>\n      <td>62.905190</td>\n      <td>83.684967</td>\n      <td>85.944405</td>\n      <td>88.437523</td>\n      <td>65.603859</td>\n      <td>46.323067</td>\n      <td>33.823582</td>\n    </tr>\n    <tr>\n      <th>4</th>\n      <td>0.000000</td>\n      <td>3.558230</td>\n      <td>4.638184</td>\n      <td>5.842495</td>\n      <td>5.591039</td>\n      <td>5.188852</td>\n      <td>5.259677</td>\n      <td>5.266651</td>\n      <td>5.749945</td>\n      <td>5.804189</td>\n      <td>...</td>\n      <td>31.325960</td>\n      <td>40.759995</td>\n      <td>33.416431</td>\n      <td>10.007353</td>\n      <td>84.963203</td>\n      <td>16.074759</td>\n      <td>89.098747</td>\n      <td>65.808014</td>\n      <td>38.264713</td>\n      <td>29.090097</td>\n    </tr>\n    <tr>\n      <th>5</th>\n      <td>0.000000</td>\n      <td>4.113445</td>\n      <td>6.753009</td>\n      <td>7.912243</td>\n      <td>11.613929</td>\n      <td>12.066689</td>\n      <td>13.160626</td>\n      <td>8.471023</td>\n      <td>10.156227</td>\n      <td>21.468166</td>\n      <td>...</td>\n      <td>29.027868</td>\n      <td>25.583740</td>\n      <td>35.072685</td>\n      <td>35.337509</td>\n      <td>29.200043</td>\n      <td>32.002769</td>\n      <td>24.086016</td>\n      <td>28.186235</td>\n      <td>27.635090</td>\n      <td>40.971165</td>\n    </tr>\n    <tr>\n      <th>...</th>\n      <th>...</th>\n      <td>...</td>\n      <td>...</td>\n      <td>...</td>\n      <td>...</td>\n      <td>...</td>\n      <td>...</td>\n      <td>...</td>\n      <td>...</td>\n      <td>...</td>\n      <td>...</td>\n      <td>...</td>\n      <td>...</td>\n      <td>...</td>\n      <td>...</td>\n      <td>...</td>\n      <td>...</td>\n      <td>...</td>\n      <td>...</td>\n      <td>...</td>\n      <td>...</td>\n      <td>...</td>\n    </tr>\n    <tr>\n      <th rowspan=\"5\" valign=\"top\">444</th>\n      <th>242</th>\n      <td>0.000000</td>\n      <td>3.537486</td>\n      <td>4.645221</td>\n      <td>5.850566</td>\n      <td>5.693751</td>\n      <td>48.851048</td>\n      <td>5.603571</td>\n      <td>14.881537</td>\n      <td>339.844360</td>\n      <td>279.068207</td>\n      <td>...</td>\n      <td>40.971451</td>\n      <td>13.105615</td>\n      <td>768.811096</td>\n      <td>467.567169</td>\n      <td>31.998230</td>\n      <td>25.599174</td>\n      <td>64.331314</td>\n      <td>24.555630</td>\n      <td>47.100986</td>\n      <td>63.612919</td>\n    </tr>\n    <tr>\n      <th>243</th>\n      <td>0.000000</td>\n      <td>3.516138</td>\n      <td>4.638184</td>\n      <td>15.204786</td>\n      <td>5.564894</td>\n      <td>5.025270</td>\n      <td>5.179839</td>\n      <td>5.226724</td>\n      <td>5.620315</td>\n      <td>5.766045</td>\n      <td>...</td>\n      <td>5.534801</td>\n      <td>5.694414</td>\n      <td>5.048412</td>\n      <td>8.436039</td>\n      <td>5.902206</td>\n      <td>5.421671</td>\n      <td>5.708171</td>\n      <td>6.976517</td>\n      <td>5.715421</td>\n      <td>6.534455</td>\n    </tr>\n    <tr>\n      <th>244</th>\n      <td>0.000000</td>\n      <td>6.971416</td>\n      <td>6.669143</td>\n      <td>5.641257</td>\n      <td>5.516807</td>\n      <td>6.717100</td>\n      <td>7.876533</td>\n      <td>5.175279</td>\n      <td>5.558433</td>\n      <td>5.747992</td>\n      <td>...</td>\n      <td>1151.659668</td>\n      <td>682.912048</td>\n      <td>719.775208</td>\n      <td>799.785645</td>\n      <td>11.675535</td>\n      <td>13.164781</td>\n      <td>24.956394</td>\n      <td>19.357574</td>\n      <td>15.430462</td>\n      <td>28.640648</td>\n    </tr>\n    <tr>\n      <th>245</th>\n      <td>0.000000</td>\n      <td>5606.384766</td>\n      <td>11864.048828</td>\n      <td>381.322571</td>\n      <td>191.086700</td>\n      <td>2199.679199</td>\n      <td>762.624512</td>\n      <td>394.066437</td>\n      <td>99.535492</td>\n      <td>232.977051</td>\n      <td>...</td>\n      <td>288.405792</td>\n      <td>161.421585</td>\n      <td>250.241058</td>\n      <td>242.042267</td>\n      <td>392.343323</td>\n      <td>1238.751709</td>\n      <td>373.213562</td>\n      <td>153.002579</td>\n      <td>2524.446289</td>\n      <td>649.494019</td>\n    </tr>\n    <tr>\n      <th>246</th>\n      <td>14.000000</td>\n      <td>16071.089844</td>\n      <td>6419.068359</td>\n      <td>7228.265625</td>\n      <td>3471.130127</td>\n      <td>10591.873047</td>\n      <td>397.607758</td>\n      <td>390.083771</td>\n      <td>357.718384</td>\n      <td>364.997406</td>\n      <td>...</td>\n      <td>323.808380</td>\n      <td>772.686890</td>\n      <td>287.709106</td>\n      <td>582.896851</td>\n      <td>109.529793</td>\n      <td>150.606689</td>\n      <td>110.360901</td>\n      <td>139.250839</td>\n      <td>92.216179</td>\n      <td>75.720291</td>\n    </tr>\n  </tbody>\n</table>\n<p>9168 rows × 37 columns</p>\n</div>"
     },
     "execution_count": 9,
     "metadata": {},
     "output_type": "execute_result"
    }
   ],
   "source": [
    "ModelList[10]['predictions_calib_df']"
   ],
   "metadata": {
    "collapsed": false,
    "ExecuteTime": {
     "end_time": "2023-09-27T07:35:36.769474Z",
     "start_time": "2023-09-27T07:35:36.759422Z"
    }
   },
   "id": "a6b6b7c8e1f53a38"
  },
  {
   "cell_type": "code",
   "execution_count": 10,
   "outputs": [
    {
     "data": {
      "text/plain": "                     ged_sb_dep  step_pred_1  step_pred_2  step_pred_3  \\\nmonth_id country_id                                                      \n397      1             0.000000     0.008456     0.011650     0.012754   \n         2             0.000000     0.008456     0.011542     0.012495   \n         3             0.000000     0.008456     0.011542     0.012495   \n         4             0.000000     0.008696     0.011650     0.012754   \n         5             0.000000     0.008456     0.011542     0.012495   \n...                         ...          ...          ...          ...   \n444      242           0.000000     0.018034     0.020148     0.019935   \n         243           0.000000     0.008547     0.011542     0.012495   \n         244           0.000000     0.009451     0.012458     0.012727   \n         245           0.000000     5.617181    10.910744    28.260810   \n         246          14.000000    12.522363    12.959162     5.765355   \n\n                     step_pred_4  step_pred_5  step_pred_6  step_pred_7  \\\nmonth_id country_id                                                       \n397      1              0.014280     0.014535     0.014966     0.016786   \n         2              0.014118     0.013710     0.014396     0.016612   \n         3              0.014118     0.013710     0.014396     0.015331   \n         4              0.014525     0.014535     0.017351     0.046129   \n         5              0.014118     0.013710     0.014396     0.016612   \n...                          ...          ...          ...          ...   \n444      242            0.025866     0.019693     0.023465     0.020735   \n         243            0.014118     0.013710     0.014396     0.015331   \n         244            0.014305     0.014074     0.014725     0.015689   \n         245           18.805006    26.603264    12.101759    40.743790   \n         246           11.184443     9.768044     6.958552     8.105640   \n\n                     step_pred_8  step_pred_9  ...  step_pred_27  \\\nmonth_id country_id                            ...                 \n397      1              0.020718     0.017597  ...      0.025157   \n         2              0.021880     0.018456  ...      0.023008   \n         3              0.015831     0.018456  ...      0.023008   \n         4              0.018836     0.022459  ...      0.077690   \n         5              0.021880     0.018456  ...      0.023008   \n...                          ...          ...  ...           ...   \n444      242            0.021336     0.024763  ...      0.143369   \n         243            0.015831     0.016119  ...      0.023410   \n         244            0.017620     0.018641  ...      0.063830   \n         245           57.086542    63.645600  ...      5.923611   \n         246            8.148620     3.338369  ...      7.293346   \n\n                     step_pred_28  step_pred_29  step_pred_30  step_pred_31  \\\nmonth_id country_id                                                           \n397      1               0.027296      0.027478      0.124409      0.025975   \n         2               0.021877      0.022690      0.021373      0.020969   \n         3               0.021877      0.022690      0.021373      0.020969   \n         4               0.037195      0.058178      0.051570      0.063679   \n         5               0.021877      0.022690      0.021373      0.020969   \n...                           ...           ...           ...           ...   \n444      242             0.145498      0.146960      0.162518      0.178749   \n         243             0.022664      0.023392      0.021729      0.021306   \n         244             0.113228      0.130343      0.124145      0.059369   \n         245             6.729249      5.690944     17.237037     20.046245   \n         246             8.897511      6.541152      9.283559      2.307838   \n\n                     step_pred_32  step_pred_33  step_pred_34  step_pred_35  \\\nmonth_id country_id                                                           \n397      1               0.025417      0.024738      0.022349      0.022928   \n         2               0.019841      0.019097      0.018584      0.020120   \n         3               0.019841      0.019097      0.018584      0.020120   \n         4               0.054846      0.070145      0.067607      0.131016   \n         5               0.019841      0.019097      0.018584      0.020120   \n...                           ...           ...           ...           ...   \n444      242             0.179797      0.181727      0.182032      0.191459   \n         243             0.019841      0.020059      0.019474      0.020411   \n         244             0.053355      0.064842      0.055058      0.064277   \n         245             7.498433      6.872789      7.078612      6.990484   \n         246             6.784850      4.874924      5.315457      5.476474   \n\n                     step_pred_36  \nmonth_id country_id                \n397      1               0.024159  \n         2               0.020211  \n         3               0.020211  \n         4               0.136811  \n         5               0.020211  \n...                           ...  \n444      242             0.184743  \n         243             0.021128  \n         244             0.039568  \n         245             5.996935  \n         246             5.294275  \n\n[9168 rows x 37 columns]",
      "text/html": "<div>\n<style scoped>\n    .dataframe tbody tr th:only-of-type {\n        vertical-align: middle;\n    }\n\n    .dataframe tbody tr th {\n        vertical-align: top;\n    }\n\n    .dataframe thead th {\n        text-align: right;\n    }\n</style>\n<table border=\"1\" class=\"dataframe\">\n  <thead>\n    <tr style=\"text-align: right;\">\n      <th></th>\n      <th></th>\n      <th>ged_sb_dep</th>\n      <th>step_pred_1</th>\n      <th>step_pred_2</th>\n      <th>step_pred_3</th>\n      <th>step_pred_4</th>\n      <th>step_pred_5</th>\n      <th>step_pred_6</th>\n      <th>step_pred_7</th>\n      <th>step_pred_8</th>\n      <th>step_pred_9</th>\n      <th>...</th>\n      <th>step_pred_27</th>\n      <th>step_pred_28</th>\n      <th>step_pred_29</th>\n      <th>step_pred_30</th>\n      <th>step_pred_31</th>\n      <th>step_pred_32</th>\n      <th>step_pred_33</th>\n      <th>step_pred_34</th>\n      <th>step_pred_35</th>\n      <th>step_pred_36</th>\n    </tr>\n    <tr>\n      <th>month_id</th>\n      <th>country_id</th>\n      <th></th>\n      <th></th>\n      <th></th>\n      <th></th>\n      <th></th>\n      <th></th>\n      <th></th>\n      <th></th>\n      <th></th>\n      <th></th>\n      <th></th>\n      <th></th>\n      <th></th>\n      <th></th>\n      <th></th>\n      <th></th>\n      <th></th>\n      <th></th>\n      <th></th>\n      <th></th>\n      <th></th>\n    </tr>\n  </thead>\n  <tbody>\n    <tr>\n      <th rowspan=\"5\" valign=\"top\">397</th>\n      <th>1</th>\n      <td>0.000000</td>\n      <td>0.008456</td>\n      <td>0.011650</td>\n      <td>0.012754</td>\n      <td>0.014280</td>\n      <td>0.014535</td>\n      <td>0.014966</td>\n      <td>0.016786</td>\n      <td>0.020718</td>\n      <td>0.017597</td>\n      <td>...</td>\n      <td>0.025157</td>\n      <td>0.027296</td>\n      <td>0.027478</td>\n      <td>0.124409</td>\n      <td>0.025975</td>\n      <td>0.025417</td>\n      <td>0.024738</td>\n      <td>0.022349</td>\n      <td>0.022928</td>\n      <td>0.024159</td>\n    </tr>\n    <tr>\n      <th>2</th>\n      <td>0.000000</td>\n      <td>0.008456</td>\n      <td>0.011542</td>\n      <td>0.012495</td>\n      <td>0.014118</td>\n      <td>0.013710</td>\n      <td>0.014396</td>\n      <td>0.016612</td>\n      <td>0.021880</td>\n      <td>0.018456</td>\n      <td>...</td>\n      <td>0.023008</td>\n      <td>0.021877</td>\n      <td>0.022690</td>\n      <td>0.021373</td>\n      <td>0.020969</td>\n      <td>0.019841</td>\n      <td>0.019097</td>\n      <td>0.018584</td>\n      <td>0.020120</td>\n      <td>0.020211</td>\n    </tr>\n    <tr>\n      <th>3</th>\n      <td>0.000000</td>\n      <td>0.008456</td>\n      <td>0.011542</td>\n      <td>0.012495</td>\n      <td>0.014118</td>\n      <td>0.013710</td>\n      <td>0.014396</td>\n      <td>0.015331</td>\n      <td>0.015831</td>\n      <td>0.018456</td>\n      <td>...</td>\n      <td>0.023008</td>\n      <td>0.021877</td>\n      <td>0.022690</td>\n      <td>0.021373</td>\n      <td>0.020969</td>\n      <td>0.019841</td>\n      <td>0.019097</td>\n      <td>0.018584</td>\n      <td>0.020120</td>\n      <td>0.020211</td>\n    </tr>\n    <tr>\n      <th>4</th>\n      <td>0.000000</td>\n      <td>0.008696</td>\n      <td>0.011650</td>\n      <td>0.012754</td>\n      <td>0.014525</td>\n      <td>0.014535</td>\n      <td>0.017351</td>\n      <td>0.046129</td>\n      <td>0.018836</td>\n      <td>0.022459</td>\n      <td>...</td>\n      <td>0.077690</td>\n      <td>0.037195</td>\n      <td>0.058178</td>\n      <td>0.051570</td>\n      <td>0.063679</td>\n      <td>0.054846</td>\n      <td>0.070145</td>\n      <td>0.067607</td>\n      <td>0.131016</td>\n      <td>0.136811</td>\n    </tr>\n    <tr>\n      <th>5</th>\n      <td>0.000000</td>\n      <td>0.008456</td>\n      <td>0.011542</td>\n      <td>0.012495</td>\n      <td>0.014118</td>\n      <td>0.013710</td>\n      <td>0.014396</td>\n      <td>0.016612</td>\n      <td>0.021880</td>\n      <td>0.018456</td>\n      <td>...</td>\n      <td>0.023008</td>\n      <td>0.021877</td>\n      <td>0.022690</td>\n      <td>0.021373</td>\n      <td>0.020969</td>\n      <td>0.019841</td>\n      <td>0.019097</td>\n      <td>0.018584</td>\n      <td>0.020120</td>\n      <td>0.020211</td>\n    </tr>\n    <tr>\n      <th>...</th>\n      <th>...</th>\n      <td>...</td>\n      <td>...</td>\n      <td>...</td>\n      <td>...</td>\n      <td>...</td>\n      <td>...</td>\n      <td>...</td>\n      <td>...</td>\n      <td>...</td>\n      <td>...</td>\n      <td>...</td>\n      <td>...</td>\n      <td>...</td>\n      <td>...</td>\n      <td>...</td>\n      <td>...</td>\n      <td>...</td>\n      <td>...</td>\n      <td>...</td>\n      <td>...</td>\n      <td>...</td>\n    </tr>\n    <tr>\n      <th rowspan=\"5\" valign=\"top\">444</th>\n      <th>242</th>\n      <td>0.000000</td>\n      <td>0.018034</td>\n      <td>0.020148</td>\n      <td>0.019935</td>\n      <td>0.025866</td>\n      <td>0.019693</td>\n      <td>0.023465</td>\n      <td>0.020735</td>\n      <td>0.021336</td>\n      <td>0.024763</td>\n      <td>...</td>\n      <td>0.143369</td>\n      <td>0.145498</td>\n      <td>0.146960</td>\n      <td>0.162518</td>\n      <td>0.178749</td>\n      <td>0.179797</td>\n      <td>0.181727</td>\n      <td>0.182032</td>\n      <td>0.191459</td>\n      <td>0.184743</td>\n    </tr>\n    <tr>\n      <th>243</th>\n      <td>0.000000</td>\n      <td>0.008547</td>\n      <td>0.011542</td>\n      <td>0.012495</td>\n      <td>0.014118</td>\n      <td>0.013710</td>\n      <td>0.014396</td>\n      <td>0.015331</td>\n      <td>0.015831</td>\n      <td>0.016119</td>\n      <td>...</td>\n      <td>0.023410</td>\n      <td>0.022664</td>\n      <td>0.023392</td>\n      <td>0.021729</td>\n      <td>0.021306</td>\n      <td>0.019841</td>\n      <td>0.020059</td>\n      <td>0.019474</td>\n      <td>0.020411</td>\n      <td>0.021128</td>\n    </tr>\n    <tr>\n      <th>244</th>\n      <td>0.000000</td>\n      <td>0.009451</td>\n      <td>0.012458</td>\n      <td>0.012727</td>\n      <td>0.014305</td>\n      <td>0.014074</td>\n      <td>0.014725</td>\n      <td>0.015689</td>\n      <td>0.017620</td>\n      <td>0.018641</td>\n      <td>...</td>\n      <td>0.063830</td>\n      <td>0.113228</td>\n      <td>0.130343</td>\n      <td>0.124145</td>\n      <td>0.059369</td>\n      <td>0.053355</td>\n      <td>0.064842</td>\n      <td>0.055058</td>\n      <td>0.064277</td>\n      <td>0.039568</td>\n    </tr>\n    <tr>\n      <th>245</th>\n      <td>0.000000</td>\n      <td>5.617181</td>\n      <td>10.910744</td>\n      <td>28.260810</td>\n      <td>18.805006</td>\n      <td>26.603264</td>\n      <td>12.101759</td>\n      <td>40.743790</td>\n      <td>57.086542</td>\n      <td>63.645600</td>\n      <td>...</td>\n      <td>5.923611</td>\n      <td>6.729249</td>\n      <td>5.690944</td>\n      <td>17.237037</td>\n      <td>20.046245</td>\n      <td>7.498433</td>\n      <td>6.872789</td>\n      <td>7.078612</td>\n      <td>6.990484</td>\n      <td>5.996935</td>\n    </tr>\n    <tr>\n      <th>246</th>\n      <td>14.000000</td>\n      <td>12.522363</td>\n      <td>12.959162</td>\n      <td>5.765355</td>\n      <td>11.184443</td>\n      <td>9.768044</td>\n      <td>6.958552</td>\n      <td>8.105640</td>\n      <td>8.148620</td>\n      <td>3.338369</td>\n      <td>...</td>\n      <td>7.293346</td>\n      <td>8.897511</td>\n      <td>6.541152</td>\n      <td>9.283559</td>\n      <td>2.307838</td>\n      <td>6.784850</td>\n      <td>4.874924</td>\n      <td>5.315457</td>\n      <td>5.476474</td>\n      <td>5.294275</td>\n    </tr>\n  </tbody>\n</table>\n<p>9168 rows × 37 columns</p>\n</div>"
     },
     "execution_count": 10,
     "metadata": {},
     "output_type": "execute_result"
    }
   ],
   "source": [
    "ModelList[11]['predictions_calib_df']"
   ],
   "metadata": {
    "collapsed": false,
    "ExecuteTime": {
     "end_time": "2023-09-27T07:35:36.779054Z",
     "start_time": "2023-09-27T07:35:36.769213Z"
    }
   },
   "id": "f2a16421c19edf09"
  },
  {
   "cell_type": "code",
   "execution_count": 11,
   "outputs": [
    {
     "data": {
      "text/plain": "                     ged_sb_dep  step_pred_1  step_pred_2  step_pred_3  \\\nmonth_id country_id                                                      \n397      1             0.000000     0.014122     0.032286     0.031657   \n         2             0.000000     0.014909     0.049534     0.044159   \n         3             0.000000     0.011843     0.018704     0.011550   \n         4             0.000000     0.008122     0.014983     0.022001   \n         5             0.000000     0.011057     0.050910     0.041537   \n...                         ...          ...          ...          ...   \n444      242           0.000000     0.014622     0.014716     0.014308   \n         243           0.000000     0.023654     0.016173     0.010473   \n         244           0.000000     0.063916     0.038730     0.045257   \n         245           0.000000     1.802847     2.009877     3.851048   \n         246           2.708050     3.212428     2.482073     2.059160   \n\n                     step_pred_4  step_pred_5  step_pred_6  step_pred_7  \\\nmonth_id country_id                                                       \n397      1              0.014556     0.023268     0.070136     0.096330   \n         2              0.030006     0.020361     0.100653     0.225381   \n         3              0.017866     0.008789     0.012949     0.011399   \n         4              0.008993     0.015384     0.021825     0.024464   \n         5              0.028097     0.023905     0.077486     0.511309   \n...                          ...          ...          ...          ...   \n444      242            0.015706     0.012077     0.018626     0.026236   \n         243            0.008405     0.030064     0.018461     0.008304   \n         244            0.052500     0.031539     0.040085     0.054072   \n         245            1.916607     2.287658     1.451762     2.018101   \n         246            3.265882     2.470217     2.706883     2.036874   \n\n                     step_pred_8  step_pred_9  ...  step_pred_27  \\\nmonth_id country_id                            ...                 \n397      1              0.045696     0.048645  ...      0.028014   \n         2              0.376219     0.170326  ...      0.063525   \n         3              0.011505     0.011468  ...      0.011795   \n         4              0.010139     0.012643  ...      0.009501   \n         5              0.143809     0.217904  ...      0.075958   \n...                          ...          ...  ...           ...   \n444      242            0.025119     0.029836  ...      0.039435   \n         243            0.031978     0.025732  ...      0.069346   \n         244            0.033069     0.037331  ...      0.172098   \n         245            2.151023     3.274719  ...      1.712984   \n         246            1.918910     1.477992  ...      0.961921   \n\n                     step_pred_28  step_pred_29  step_pred_30  step_pred_31  \\\nmonth_id country_id                                                           \n397      1               0.036451      0.028437      0.038081      0.017845   \n         2               0.012735      0.032341      0.079902      0.011249   \n         3               0.017431      0.012113      0.011314      0.011518   \n         4               0.018339      0.032978      0.027440      0.010549   \n         5               0.021257      0.041879      0.113413      0.010661   \n...                           ...           ...           ...           ...   \n444      242             0.025941      0.039624      0.029915      0.045532   \n         243             0.020887      0.011734      0.021906      0.029541   \n         244             0.119958      0.166611      0.184910      0.194046   \n         245             1.033729      0.822829      1.035813      1.426152   \n         246             0.791051      0.758722      0.716418      1.488758   \n\n                     step_pred_32  step_pred_33  step_pred_34  step_pred_35  \\\nmonth_id country_id                                                           \n397      1               0.016587      0.012811      0.014901      0.014477   \n         2               0.010377      0.024336      0.038316      0.015640   \n         3               0.010629      0.011959      0.010589      0.011358   \n         4               0.009224      0.020776      0.039796      0.012703   \n         5               0.013518      0.028851      0.047585      0.020017   \n...                           ...           ...           ...           ...   \n444      242             0.041854      0.095691      0.081643      0.082414   \n         243             0.030086      0.031606      0.033326      0.031702   \n         244             0.233553      0.221601      0.162064      0.092159   \n         245             1.752635      2.019395      1.741394      1.790091   \n         246             0.839528      0.413323      0.347327      0.381807   \n\n                     step_pred_36  \nmonth_id country_id                \n397      1               0.014666  \n         2               0.015959  \n         3               0.017218  \n         4               0.018206  \n         5               0.020822  \n...                           ...  \n444      242             0.039378  \n         243             0.011472  \n         244             0.120524  \n         245             0.810265  \n         246             0.536408  \n\n[9168 rows x 37 columns]",
      "text/html": "<div>\n<style scoped>\n    .dataframe tbody tr th:only-of-type {\n        vertical-align: middle;\n    }\n\n    .dataframe tbody tr th {\n        vertical-align: top;\n    }\n\n    .dataframe thead th {\n        text-align: right;\n    }\n</style>\n<table border=\"1\" class=\"dataframe\">\n  <thead>\n    <tr style=\"text-align: right;\">\n      <th></th>\n      <th></th>\n      <th>ged_sb_dep</th>\n      <th>step_pred_1</th>\n      <th>step_pred_2</th>\n      <th>step_pred_3</th>\n      <th>step_pred_4</th>\n      <th>step_pred_5</th>\n      <th>step_pred_6</th>\n      <th>step_pred_7</th>\n      <th>step_pred_8</th>\n      <th>step_pred_9</th>\n      <th>...</th>\n      <th>step_pred_27</th>\n      <th>step_pred_28</th>\n      <th>step_pred_29</th>\n      <th>step_pred_30</th>\n      <th>step_pred_31</th>\n      <th>step_pred_32</th>\n      <th>step_pred_33</th>\n      <th>step_pred_34</th>\n      <th>step_pred_35</th>\n      <th>step_pred_36</th>\n    </tr>\n    <tr>\n      <th>month_id</th>\n      <th>country_id</th>\n      <th></th>\n      <th></th>\n      <th></th>\n      <th></th>\n      <th></th>\n      <th></th>\n      <th></th>\n      <th></th>\n      <th></th>\n      <th></th>\n      <th></th>\n      <th></th>\n      <th></th>\n      <th></th>\n      <th></th>\n      <th></th>\n      <th></th>\n      <th></th>\n      <th></th>\n      <th></th>\n      <th></th>\n    </tr>\n  </thead>\n  <tbody>\n    <tr>\n      <th rowspan=\"5\" valign=\"top\">397</th>\n      <th>1</th>\n      <td>0.000000</td>\n      <td>0.014122</td>\n      <td>0.032286</td>\n      <td>0.031657</td>\n      <td>0.014556</td>\n      <td>0.023268</td>\n      <td>0.070136</td>\n      <td>0.096330</td>\n      <td>0.045696</td>\n      <td>0.048645</td>\n      <td>...</td>\n      <td>0.028014</td>\n      <td>0.036451</td>\n      <td>0.028437</td>\n      <td>0.038081</td>\n      <td>0.017845</td>\n      <td>0.016587</td>\n      <td>0.012811</td>\n      <td>0.014901</td>\n      <td>0.014477</td>\n      <td>0.014666</td>\n    </tr>\n    <tr>\n      <th>2</th>\n      <td>0.000000</td>\n      <td>0.014909</td>\n      <td>0.049534</td>\n      <td>0.044159</td>\n      <td>0.030006</td>\n      <td>0.020361</td>\n      <td>0.100653</td>\n      <td>0.225381</td>\n      <td>0.376219</td>\n      <td>0.170326</td>\n      <td>...</td>\n      <td>0.063525</td>\n      <td>0.012735</td>\n      <td>0.032341</td>\n      <td>0.079902</td>\n      <td>0.011249</td>\n      <td>0.010377</td>\n      <td>0.024336</td>\n      <td>0.038316</td>\n      <td>0.015640</td>\n      <td>0.015959</td>\n    </tr>\n    <tr>\n      <th>3</th>\n      <td>0.000000</td>\n      <td>0.011843</td>\n      <td>0.018704</td>\n      <td>0.011550</td>\n      <td>0.017866</td>\n      <td>0.008789</td>\n      <td>0.012949</td>\n      <td>0.011399</td>\n      <td>0.011505</td>\n      <td>0.011468</td>\n      <td>...</td>\n      <td>0.011795</td>\n      <td>0.017431</td>\n      <td>0.012113</td>\n      <td>0.011314</td>\n      <td>0.011518</td>\n      <td>0.010629</td>\n      <td>0.011959</td>\n      <td>0.010589</td>\n      <td>0.011358</td>\n      <td>0.017218</td>\n    </tr>\n    <tr>\n      <th>4</th>\n      <td>0.000000</td>\n      <td>0.008122</td>\n      <td>0.014983</td>\n      <td>0.022001</td>\n      <td>0.008993</td>\n      <td>0.015384</td>\n      <td>0.021825</td>\n      <td>0.024464</td>\n      <td>0.010139</td>\n      <td>0.012643</td>\n      <td>...</td>\n      <td>0.009501</td>\n      <td>0.018339</td>\n      <td>0.032978</td>\n      <td>0.027440</td>\n      <td>0.010549</td>\n      <td>0.009224</td>\n      <td>0.020776</td>\n      <td>0.039796</td>\n      <td>0.012703</td>\n      <td>0.018206</td>\n    </tr>\n    <tr>\n      <th>5</th>\n      <td>0.000000</td>\n      <td>0.011057</td>\n      <td>0.050910</td>\n      <td>0.041537</td>\n      <td>0.028097</td>\n      <td>0.023905</td>\n      <td>0.077486</td>\n      <td>0.511309</td>\n      <td>0.143809</td>\n      <td>0.217904</td>\n      <td>...</td>\n      <td>0.075958</td>\n      <td>0.021257</td>\n      <td>0.041879</td>\n      <td>0.113413</td>\n      <td>0.010661</td>\n      <td>0.013518</td>\n      <td>0.028851</td>\n      <td>0.047585</td>\n      <td>0.020017</td>\n      <td>0.020822</td>\n    </tr>\n    <tr>\n      <th>...</th>\n      <th>...</th>\n      <td>...</td>\n      <td>...</td>\n      <td>...</td>\n      <td>...</td>\n      <td>...</td>\n      <td>...</td>\n      <td>...</td>\n      <td>...</td>\n      <td>...</td>\n      <td>...</td>\n      <td>...</td>\n      <td>...</td>\n      <td>...</td>\n      <td>...</td>\n      <td>...</td>\n      <td>...</td>\n      <td>...</td>\n      <td>...</td>\n      <td>...</td>\n      <td>...</td>\n      <td>...</td>\n    </tr>\n    <tr>\n      <th rowspan=\"5\" valign=\"top\">444</th>\n      <th>242</th>\n      <td>0.000000</td>\n      <td>0.014622</td>\n      <td>0.014716</td>\n      <td>0.014308</td>\n      <td>0.015706</td>\n      <td>0.012077</td>\n      <td>0.018626</td>\n      <td>0.026236</td>\n      <td>0.025119</td>\n      <td>0.029836</td>\n      <td>...</td>\n      <td>0.039435</td>\n      <td>0.025941</td>\n      <td>0.039624</td>\n      <td>0.029915</td>\n      <td>0.045532</td>\n      <td>0.041854</td>\n      <td>0.095691</td>\n      <td>0.081643</td>\n      <td>0.082414</td>\n      <td>0.039378</td>\n    </tr>\n    <tr>\n      <th>243</th>\n      <td>0.000000</td>\n      <td>0.023654</td>\n      <td>0.016173</td>\n      <td>0.010473</td>\n      <td>0.008405</td>\n      <td>0.030064</td>\n      <td>0.018461</td>\n      <td>0.008304</td>\n      <td>0.031978</td>\n      <td>0.025732</td>\n      <td>...</td>\n      <td>0.069346</td>\n      <td>0.020887</td>\n      <td>0.011734</td>\n      <td>0.021906</td>\n      <td>0.029541</td>\n      <td>0.030086</td>\n      <td>0.031606</td>\n      <td>0.033326</td>\n      <td>0.031702</td>\n      <td>0.011472</td>\n    </tr>\n    <tr>\n      <th>244</th>\n      <td>0.000000</td>\n      <td>0.063916</td>\n      <td>0.038730</td>\n      <td>0.045257</td>\n      <td>0.052500</td>\n      <td>0.031539</td>\n      <td>0.040085</td>\n      <td>0.054072</td>\n      <td>0.033069</td>\n      <td>0.037331</td>\n      <td>...</td>\n      <td>0.172098</td>\n      <td>0.119958</td>\n      <td>0.166611</td>\n      <td>0.184910</td>\n      <td>0.194046</td>\n      <td>0.233553</td>\n      <td>0.221601</td>\n      <td>0.162064</td>\n      <td>0.092159</td>\n      <td>0.120524</td>\n    </tr>\n    <tr>\n      <th>245</th>\n      <td>0.000000</td>\n      <td>1.802847</td>\n      <td>2.009877</td>\n      <td>3.851048</td>\n      <td>1.916607</td>\n      <td>2.287658</td>\n      <td>1.451762</td>\n      <td>2.018101</td>\n      <td>2.151023</td>\n      <td>3.274719</td>\n      <td>...</td>\n      <td>1.712984</td>\n      <td>1.033729</td>\n      <td>0.822829</td>\n      <td>1.035813</td>\n      <td>1.426152</td>\n      <td>1.752635</td>\n      <td>2.019395</td>\n      <td>1.741394</td>\n      <td>1.790091</td>\n      <td>0.810265</td>\n    </tr>\n    <tr>\n      <th>246</th>\n      <td>2.708050</td>\n      <td>3.212428</td>\n      <td>2.482073</td>\n      <td>2.059160</td>\n      <td>3.265882</td>\n      <td>2.470217</td>\n      <td>2.706883</td>\n      <td>2.036874</td>\n      <td>1.918910</td>\n      <td>1.477992</td>\n      <td>...</td>\n      <td>0.961921</td>\n      <td>0.791051</td>\n      <td>0.758722</td>\n      <td>0.716418</td>\n      <td>1.488758</td>\n      <td>0.839528</td>\n      <td>0.413323</td>\n      <td>0.347327</td>\n      <td>0.381807</td>\n      <td>0.536408</td>\n    </tr>\n  </tbody>\n</table>\n<p>9168 rows × 37 columns</p>\n</div>"
     },
     "execution_count": 11,
     "metadata": {},
     "output_type": "execute_result"
    }
   ],
   "source": [
    "ModelList[12]['predictions_calib_df']"
   ],
   "metadata": {
    "collapsed": false,
    "ExecuteTime": {
     "end_time": "2023-09-27T07:35:36.794091Z",
     "start_time": "2023-09-27T07:35:36.776199Z"
    }
   },
   "id": "160708780f6a735b"
  },
  {
   "cell_type": "code",
   "execution_count": 12,
   "outputs": [],
   "source": [
    "ModelList[12]['predictions_calib_df'] = ModelList[12]['predictions_calib_df'].applymap(lambda x: np.exp(x) - 1)\n",
    "ModelList[13]['predictions_calib_df'] = ModelList[13]['predictions_calib_df'].applymap(lambda x: np.exp(x) - 1)\n",
    "ModelList[12]['predictions_test_df'] = ModelList[12]['predictions_test_df'].applymap(lambda x: np.exp(x) - 1)\n",
    "ModelList[13]['predictions_test_df'] = ModelList[13]['predictions_test_df'].applymap(lambda x: np.exp(x) - 1)\n"
   ],
   "metadata": {
    "collapsed": false,
    "ExecuteTime": {
     "end_time": "2023-09-27T07:35:37.583317Z",
     "start_time": "2023-09-27T07:35:36.784851Z"
    }
   },
   "id": "6a6fa9a4bca6b51d"
  },
  {
   "cell_type": "code",
   "execution_count": 13,
   "outputs": [
    {
     "data": {
      "text/plain": "                     ged_sb_dep  step_pred_1  step_pred_2  step_pred_3  \\\nmonth_id country_id                                                      \n397      1             0.000000     0.014223     0.032813     0.032163   \n         2             0.000000     0.015020     0.050782     0.045149   \n         3             0.000000     0.011913     0.018880     0.011617   \n         4             0.000000     0.008155     0.015096     0.022245   \n         5             0.000000     0.011118     0.052228     0.042411   \n...                         ...          ...          ...          ...   \n444      242           0.000000     0.014730     0.014825     0.014411   \n         243           0.000000     0.023936     0.016305     0.010528   \n         244           0.000000     0.066002     0.039489     0.046297   \n         245           0.000000     5.066896     6.462401    46.042315   \n         246          14.000000    23.839331    10.966048     6.839380   \n\n                     step_pred_4  step_pred_5  step_pred_6  step_pred_7  \\\nmonth_id country_id                                                       \n397      1              0.014663     0.023541     0.072654     0.101123   \n         2              0.030461     0.020570     0.105893     0.252800   \n         3              0.018026     0.008827     0.013033     0.011464   \n         4              0.009033     0.015503     0.022064     0.024766   \n         5              0.028495     0.024193     0.080568     0.667473   \n...                          ...          ...          ...          ...   \n444      242            0.015830     0.012150     0.018801     0.026583   \n         243            0.008441     0.030520     0.018633     0.008339   \n         244            0.053903     0.032042     0.040899     0.055561   \n         245            5.797855     8.851835     3.270634     6.524027   \n         246           25.203219    10.825010    13.982502     6.666606   \n\n                     step_pred_8  step_pred_9  ...  step_pred_27  \\\nmonth_id country_id                            ...                 \n397      1              0.046757     0.049848  ...      0.028410   \n         2              0.456767     0.185692  ...      0.065586   \n         3              0.011571     0.011534  ...      0.011865   \n         4              0.010190     0.012724  ...      0.009546   \n         5              0.154663     0.243467  ...      0.078917   \n...                          ...          ...  ...           ...   \n444      242            0.025437     0.030286  ...      0.040223   \n         243            0.032495     0.026066  ...      0.071807   \n         244            0.033622     0.038036  ...      0.187794   \n         245            7.593644    25.435783  ...      4.545487   \n         246            5.813527     3.384132  ...      1.616718   \n\n                     step_pred_28  step_pred_29  step_pred_30  step_pred_31  \\\nmonth_id country_id                                                           \n397      1               0.037123      0.028845      0.038816      0.018005   \n         2               0.012816      0.032869      0.083181      0.011312   \n         3               0.017584      0.012187      0.011379      0.011584   \n         4               0.018508      0.033528      0.027820      0.010605   \n         5               0.021485      0.042768      0.120095      0.010718   \n...                           ...           ...           ...           ...   \n444      242             0.026281      0.040420      0.030367      0.046584   \n         243             0.021107      0.011803      0.022148      0.029982   \n         244             0.127449      0.181295      0.203111      0.214152   \n         245             1.811531      1.276932      1.817396      3.162648   \n         246             1.205714      1.135545      1.047088      3.431588   \n\n                     step_pred_32  step_pred_33  step_pred_34  step_pred_35  \\\nmonth_id country_id                                                           \n397      1               0.016726      0.012893      0.015012      0.014582   \n         2               0.010431      0.024635      0.039059      0.015763   \n         3               0.010685      0.012031      0.010645      0.011423   \n         4               0.009267      0.020994      0.040599      0.012784   \n         5               0.013609      0.029272      0.048735      0.020219   \n...                           ...           ...           ...           ...   \n444      242             0.042742      0.100418      0.085068      0.085905   \n         243             0.030543      0.032111      0.033888      0.032210   \n         244             0.263080      0.248073      0.175936      0.096539   \n         245             4.769783      6.533763      4.705291      4.989998   \n         246             1.315274      0.511834      0.415279      0.464929   \n\n                     step_pred_36  \nmonth_id country_id                \n397      1               0.014774  \n         2               0.016087  \n         3               0.017367  \n         4               0.018373  \n         5               0.021040  \n...                           ...  \n444      242             0.040164  \n         243             0.011538  \n         244             0.128087  \n         245             1.248504  \n         246             0.709854  \n\n[9168 rows x 37 columns]",
      "text/html": "<div>\n<style scoped>\n    .dataframe tbody tr th:only-of-type {\n        vertical-align: middle;\n    }\n\n    .dataframe tbody tr th {\n        vertical-align: top;\n    }\n\n    .dataframe thead th {\n        text-align: right;\n    }\n</style>\n<table border=\"1\" class=\"dataframe\">\n  <thead>\n    <tr style=\"text-align: right;\">\n      <th></th>\n      <th></th>\n      <th>ged_sb_dep</th>\n      <th>step_pred_1</th>\n      <th>step_pred_2</th>\n      <th>step_pred_3</th>\n      <th>step_pred_4</th>\n      <th>step_pred_5</th>\n      <th>step_pred_6</th>\n      <th>step_pred_7</th>\n      <th>step_pred_8</th>\n      <th>step_pred_9</th>\n      <th>...</th>\n      <th>step_pred_27</th>\n      <th>step_pred_28</th>\n      <th>step_pred_29</th>\n      <th>step_pred_30</th>\n      <th>step_pred_31</th>\n      <th>step_pred_32</th>\n      <th>step_pred_33</th>\n      <th>step_pred_34</th>\n      <th>step_pred_35</th>\n      <th>step_pred_36</th>\n    </tr>\n    <tr>\n      <th>month_id</th>\n      <th>country_id</th>\n      <th></th>\n      <th></th>\n      <th></th>\n      <th></th>\n      <th></th>\n      <th></th>\n      <th></th>\n      <th></th>\n      <th></th>\n      <th></th>\n      <th></th>\n      <th></th>\n      <th></th>\n      <th></th>\n      <th></th>\n      <th></th>\n      <th></th>\n      <th></th>\n      <th></th>\n      <th></th>\n      <th></th>\n    </tr>\n  </thead>\n  <tbody>\n    <tr>\n      <th rowspan=\"5\" valign=\"top\">397</th>\n      <th>1</th>\n      <td>0.000000</td>\n      <td>0.014223</td>\n      <td>0.032813</td>\n      <td>0.032163</td>\n      <td>0.014663</td>\n      <td>0.023541</td>\n      <td>0.072654</td>\n      <td>0.101123</td>\n      <td>0.046757</td>\n      <td>0.049848</td>\n      <td>...</td>\n      <td>0.028410</td>\n      <td>0.037123</td>\n      <td>0.028845</td>\n      <td>0.038816</td>\n      <td>0.018005</td>\n      <td>0.016726</td>\n      <td>0.012893</td>\n      <td>0.015012</td>\n      <td>0.014582</td>\n      <td>0.014774</td>\n    </tr>\n    <tr>\n      <th>2</th>\n      <td>0.000000</td>\n      <td>0.015020</td>\n      <td>0.050782</td>\n      <td>0.045149</td>\n      <td>0.030461</td>\n      <td>0.020570</td>\n      <td>0.105893</td>\n      <td>0.252800</td>\n      <td>0.456767</td>\n      <td>0.185692</td>\n      <td>...</td>\n      <td>0.065586</td>\n      <td>0.012816</td>\n      <td>0.032869</td>\n      <td>0.083181</td>\n      <td>0.011312</td>\n      <td>0.010431</td>\n      <td>0.024635</td>\n      <td>0.039059</td>\n      <td>0.015763</td>\n      <td>0.016087</td>\n    </tr>\n    <tr>\n      <th>3</th>\n      <td>0.000000</td>\n      <td>0.011913</td>\n      <td>0.018880</td>\n      <td>0.011617</td>\n      <td>0.018026</td>\n      <td>0.008827</td>\n      <td>0.013033</td>\n      <td>0.011464</td>\n      <td>0.011571</td>\n      <td>0.011534</td>\n      <td>...</td>\n      <td>0.011865</td>\n      <td>0.017584</td>\n      <td>0.012187</td>\n      <td>0.011379</td>\n      <td>0.011584</td>\n      <td>0.010685</td>\n      <td>0.012031</td>\n      <td>0.010645</td>\n      <td>0.011423</td>\n      <td>0.017367</td>\n    </tr>\n    <tr>\n      <th>4</th>\n      <td>0.000000</td>\n      <td>0.008155</td>\n      <td>0.015096</td>\n      <td>0.022245</td>\n      <td>0.009033</td>\n      <td>0.015503</td>\n      <td>0.022064</td>\n      <td>0.024766</td>\n      <td>0.010190</td>\n      <td>0.012724</td>\n      <td>...</td>\n      <td>0.009546</td>\n      <td>0.018508</td>\n      <td>0.033528</td>\n      <td>0.027820</td>\n      <td>0.010605</td>\n      <td>0.009267</td>\n      <td>0.020994</td>\n      <td>0.040599</td>\n      <td>0.012784</td>\n      <td>0.018373</td>\n    </tr>\n    <tr>\n      <th>5</th>\n      <td>0.000000</td>\n      <td>0.011118</td>\n      <td>0.052228</td>\n      <td>0.042411</td>\n      <td>0.028495</td>\n      <td>0.024193</td>\n      <td>0.080568</td>\n      <td>0.667473</td>\n      <td>0.154663</td>\n      <td>0.243467</td>\n      <td>...</td>\n      <td>0.078917</td>\n      <td>0.021485</td>\n      <td>0.042768</td>\n      <td>0.120095</td>\n      <td>0.010718</td>\n      <td>0.013609</td>\n      <td>0.029272</td>\n      <td>0.048735</td>\n      <td>0.020219</td>\n      <td>0.021040</td>\n    </tr>\n    <tr>\n      <th>...</th>\n      <th>...</th>\n      <td>...</td>\n      <td>...</td>\n      <td>...</td>\n      <td>...</td>\n      <td>...</td>\n      <td>...</td>\n      <td>...</td>\n      <td>...</td>\n      <td>...</td>\n      <td>...</td>\n      <td>...</td>\n      <td>...</td>\n      <td>...</td>\n      <td>...</td>\n      <td>...</td>\n      <td>...</td>\n      <td>...</td>\n      <td>...</td>\n      <td>...</td>\n      <td>...</td>\n      <td>...</td>\n    </tr>\n    <tr>\n      <th rowspan=\"5\" valign=\"top\">444</th>\n      <th>242</th>\n      <td>0.000000</td>\n      <td>0.014730</td>\n      <td>0.014825</td>\n      <td>0.014411</td>\n      <td>0.015830</td>\n      <td>0.012150</td>\n      <td>0.018801</td>\n      <td>0.026583</td>\n      <td>0.025437</td>\n      <td>0.030286</td>\n      <td>...</td>\n      <td>0.040223</td>\n      <td>0.026281</td>\n      <td>0.040420</td>\n      <td>0.030367</td>\n      <td>0.046584</td>\n      <td>0.042742</td>\n      <td>0.100418</td>\n      <td>0.085068</td>\n      <td>0.085905</td>\n      <td>0.040164</td>\n    </tr>\n    <tr>\n      <th>243</th>\n      <td>0.000000</td>\n      <td>0.023936</td>\n      <td>0.016305</td>\n      <td>0.010528</td>\n      <td>0.008441</td>\n      <td>0.030520</td>\n      <td>0.018633</td>\n      <td>0.008339</td>\n      <td>0.032495</td>\n      <td>0.026066</td>\n      <td>...</td>\n      <td>0.071807</td>\n      <td>0.021107</td>\n      <td>0.011803</td>\n      <td>0.022148</td>\n      <td>0.029982</td>\n      <td>0.030543</td>\n      <td>0.032111</td>\n      <td>0.033888</td>\n      <td>0.032210</td>\n      <td>0.011538</td>\n    </tr>\n    <tr>\n      <th>244</th>\n      <td>0.000000</td>\n      <td>0.066002</td>\n      <td>0.039489</td>\n      <td>0.046297</td>\n      <td>0.053903</td>\n      <td>0.032042</td>\n      <td>0.040899</td>\n      <td>0.055561</td>\n      <td>0.033622</td>\n      <td>0.038036</td>\n      <td>...</td>\n      <td>0.187794</td>\n      <td>0.127449</td>\n      <td>0.181295</td>\n      <td>0.203111</td>\n      <td>0.214152</td>\n      <td>0.263080</td>\n      <td>0.248073</td>\n      <td>0.175936</td>\n      <td>0.096539</td>\n      <td>0.128087</td>\n    </tr>\n    <tr>\n      <th>245</th>\n      <td>0.000000</td>\n      <td>5.066896</td>\n      <td>6.462401</td>\n      <td>46.042315</td>\n      <td>5.797855</td>\n      <td>8.851835</td>\n      <td>3.270634</td>\n      <td>6.524027</td>\n      <td>7.593644</td>\n      <td>25.435783</td>\n      <td>...</td>\n      <td>4.545487</td>\n      <td>1.811531</td>\n      <td>1.276932</td>\n      <td>1.817396</td>\n      <td>3.162648</td>\n      <td>4.769783</td>\n      <td>6.533763</td>\n      <td>4.705291</td>\n      <td>4.989998</td>\n      <td>1.248504</td>\n    </tr>\n    <tr>\n      <th>246</th>\n      <td>14.000000</td>\n      <td>23.839331</td>\n      <td>10.966048</td>\n      <td>6.839380</td>\n      <td>25.203219</td>\n      <td>10.825010</td>\n      <td>13.982502</td>\n      <td>6.666606</td>\n      <td>5.813527</td>\n      <td>3.384132</td>\n      <td>...</td>\n      <td>1.616718</td>\n      <td>1.205714</td>\n      <td>1.135545</td>\n      <td>1.047088</td>\n      <td>3.431588</td>\n      <td>1.315274</td>\n      <td>0.511834</td>\n      <td>0.415279</td>\n      <td>0.464929</td>\n      <td>0.709854</td>\n    </tr>\n  </tbody>\n</table>\n<p>9168 rows × 37 columns</p>\n</div>"
     },
     "execution_count": 13,
     "metadata": {},
     "output_type": "execute_result"
    }
   ],
   "source": [
    "ModelList[12]['predictions_calib_df']"
   ],
   "metadata": {
    "collapsed": false,
    "ExecuteTime": {
     "end_time": "2023-09-27T07:35:37.592935Z",
     "start_time": "2023-09-27T07:35:37.583748Z"
    }
   },
   "id": "edbe654a1feb496c"
  },
  {
   "cell_type": "markdown",
   "source": [
    "# Evaluate models"
   ],
   "metadata": {
    "collapsed": false
   },
   "id": "468b6358e89871d8"
  },
  {
   "cell_type": "code",
   "execution_count": 14,
   "outputs": [],
   "source": [
    "prediction_df = 'predictions_calib_df'\n",
    "# prediction_df = 'predictions_test_df'"
   ],
   "metadata": {
    "collapsed": false,
    "ExecuteTime": {
     "end_time": "2023-09-27T07:35:37.596795Z",
     "start_time": "2023-09-27T07:35:37.591898Z"
    }
   },
   "id": "b3488d1b722e01de"
  },
  {
   "cell_type": "code",
   "execution_count": 15,
   "outputs": [],
   "source": [
    "def calculate_mse(ModelList):\n",
    "    for model in ModelList:\n",
    "        df = model[prediction_df]\n",
    "        pred_cols = [f'step_pred_{str(i)}' for i in steps]\n",
    "        df['mse'] = df.apply(lambda row: mean_squared_error([row['ged_sb_dep']] * 36, \n",
    "                            [row[col] for col in pred_cols]), axis=1)\n",
    "\n",
    "calculate_mse(ModelList)"
   ],
   "metadata": {
    "collapsed": false,
    "ExecuteTime": {
     "end_time": "2023-09-27T07:35:48.469117Z",
     "start_time": "2023-09-27T07:35:37.594784Z"
    }
   },
   "id": "bb557f5c95bc5dd7"
  },
  {
   "cell_type": "code",
   "execution_count": 16,
   "outputs": [
    {
     "data": {
      "text/plain": "                                          model           mse\n0                  fatalities003_nl_baseline_rf 226794.434086\n1           fatalities003_nl_conflicthistory_rf 233468.644101\n2   fatalities003_nl_conflicthistory_hurdle_lgb 208824.486308\n3     fatalities003_nl_conflicthistory_long_xgb 527213.482069\n4              fatalities003_nl_vdem_hurdle_xgb 710133.395333\n5                       fatalities003_nl_wdi_rf 218310.056328\n6                    fatalities003_nl_topics_rf 270199.737508\n7                   fatalities003_nl_topics_xgb 478322.044438\n8            fatalities003_nl_topics_hurdle_lgb 229854.243255\n9               fatalities003_nl_joint_broad_rf 301660.673825\n10       fatalities003_nl_joint_broad_hurdle_rf 327383.389572\n11               fatalities003_joint_narrow_xgb 228245.116150\n12     fatalities003_nl_joint_narrow_hurdle_xgb 228206.830828\n13     fatalities003_nl_joint_narrow_hurdle_lgb 225942.525280\n14                fatalities003_nl_all_pca3_xgb 345626.226018",
      "text/html": "<div>\n<style scoped>\n    .dataframe tbody tr th:only-of-type {\n        vertical-align: middle;\n    }\n\n    .dataframe tbody tr th {\n        vertical-align: top;\n    }\n\n    .dataframe thead th {\n        text-align: right;\n    }\n</style>\n<table border=\"1\" class=\"dataframe\">\n  <thead>\n    <tr style=\"text-align: right;\">\n      <th></th>\n      <th>model</th>\n      <th>mse</th>\n    </tr>\n  </thead>\n  <tbody>\n    <tr>\n      <th>0</th>\n      <td>fatalities003_nl_baseline_rf</td>\n      <td>226794.434086</td>\n    </tr>\n    <tr>\n      <th>1</th>\n      <td>fatalities003_nl_conflicthistory_rf</td>\n      <td>233468.644101</td>\n    </tr>\n    <tr>\n      <th>2</th>\n      <td>fatalities003_nl_conflicthistory_hurdle_lgb</td>\n      <td>208824.486308</td>\n    </tr>\n    <tr>\n      <th>3</th>\n      <td>fatalities003_nl_conflicthistory_long_xgb</td>\n      <td>527213.482069</td>\n    </tr>\n    <tr>\n      <th>4</th>\n      <td>fatalities003_nl_vdem_hurdle_xgb</td>\n      <td>710133.395333</td>\n    </tr>\n    <tr>\n      <th>5</th>\n      <td>fatalities003_nl_wdi_rf</td>\n      <td>218310.056328</td>\n    </tr>\n    <tr>\n      <th>6</th>\n      <td>fatalities003_nl_topics_rf</td>\n      <td>270199.737508</td>\n    </tr>\n    <tr>\n      <th>7</th>\n      <td>fatalities003_nl_topics_xgb</td>\n      <td>478322.044438</td>\n    </tr>\n    <tr>\n      <th>8</th>\n      <td>fatalities003_nl_topics_hurdle_lgb</td>\n      <td>229854.243255</td>\n    </tr>\n    <tr>\n      <th>9</th>\n      <td>fatalities003_nl_joint_broad_rf</td>\n      <td>301660.673825</td>\n    </tr>\n    <tr>\n      <th>10</th>\n      <td>fatalities003_nl_joint_broad_hurdle_rf</td>\n      <td>327383.389572</td>\n    </tr>\n    <tr>\n      <th>11</th>\n      <td>fatalities003_joint_narrow_xgb</td>\n      <td>228245.116150</td>\n    </tr>\n    <tr>\n      <th>12</th>\n      <td>fatalities003_nl_joint_narrow_hurdle_xgb</td>\n      <td>228206.830828</td>\n    </tr>\n    <tr>\n      <th>13</th>\n      <td>fatalities003_nl_joint_narrow_hurdle_lgb</td>\n      <td>225942.525280</td>\n    </tr>\n    <tr>\n      <th>14</th>\n      <td>fatalities003_nl_all_pca3_xgb</td>\n      <td>345626.226018</td>\n    </tr>\n  </tbody>\n</table>\n</div>"
     },
     "execution_count": 16,
     "metadata": {},
     "output_type": "execute_result"
    }
   ],
   "source": [
    "def get_model_mse(ModelList):\n",
    "    model_mse = {'model': [], 'mse': []}\n",
    "    for model in ModelList:\n",
    "        name = model['modelname']\n",
    "        df = model[prediction_df]\n",
    "        model_mse['model'].append(name)\n",
    "        model_mse['mse'].append(df['mse'].mean()) \n",
    "    df_model_mse = pd.DataFrame(model_mse)\n",
    "    return df_model_mse\n",
    "\n",
    "get_model_mse(ModelList) "
   ],
   "metadata": {
    "collapsed": false,
    "ExecuteTime": {
     "end_time": "2023-09-27T07:35:48.479076Z",
     "start_time": "2023-09-27T07:35:48.471010Z"
    }
   },
   "id": "a607760353a10553"
  },
  {
   "cell_type": "code",
   "execution_count": 17,
   "outputs": [
    {
     "data": {
      "text/plain": "                                          model           mse\n2   fatalities003_nl_conflicthistory_hurdle_lgb 208824.486308\n5                       fatalities003_nl_wdi_rf 218310.056328\n13     fatalities003_nl_joint_narrow_hurdle_lgb 225942.525280\n0                  fatalities003_nl_baseline_rf 226794.434086\n12     fatalities003_nl_joint_narrow_hurdle_xgb 228206.830828\n11               fatalities003_joint_narrow_xgb 228245.116150\n8            fatalities003_nl_topics_hurdle_lgb 229854.243255\n1           fatalities003_nl_conflicthistory_rf 233468.644101\n6                    fatalities003_nl_topics_rf 270199.737508\n9               fatalities003_nl_joint_broad_rf 301660.673825\n10       fatalities003_nl_joint_broad_hurdle_rf 327383.389572\n14                fatalities003_nl_all_pca3_xgb 345626.226018\n7                   fatalities003_nl_topics_xgb 478322.044438\n3     fatalities003_nl_conflicthistory_long_xgb 527213.482069\n4              fatalities003_nl_vdem_hurdle_xgb 710133.395333",
      "text/html": "<div>\n<style scoped>\n    .dataframe tbody tr th:only-of-type {\n        vertical-align: middle;\n    }\n\n    .dataframe tbody tr th {\n        vertical-align: top;\n    }\n\n    .dataframe thead th {\n        text-align: right;\n    }\n</style>\n<table border=\"1\" class=\"dataframe\">\n  <thead>\n    <tr style=\"text-align: right;\">\n      <th></th>\n      <th>model</th>\n      <th>mse</th>\n    </tr>\n  </thead>\n  <tbody>\n    <tr>\n      <th>2</th>\n      <td>fatalities003_nl_conflicthistory_hurdle_lgb</td>\n      <td>208824.486308</td>\n    </tr>\n    <tr>\n      <th>5</th>\n      <td>fatalities003_nl_wdi_rf</td>\n      <td>218310.056328</td>\n    </tr>\n    <tr>\n      <th>13</th>\n      <td>fatalities003_nl_joint_narrow_hurdle_lgb</td>\n      <td>225942.525280</td>\n    </tr>\n    <tr>\n      <th>0</th>\n      <td>fatalities003_nl_baseline_rf</td>\n      <td>226794.434086</td>\n    </tr>\n    <tr>\n      <th>12</th>\n      <td>fatalities003_nl_joint_narrow_hurdle_xgb</td>\n      <td>228206.830828</td>\n    </tr>\n    <tr>\n      <th>11</th>\n      <td>fatalities003_joint_narrow_xgb</td>\n      <td>228245.116150</td>\n    </tr>\n    <tr>\n      <th>8</th>\n      <td>fatalities003_nl_topics_hurdle_lgb</td>\n      <td>229854.243255</td>\n    </tr>\n    <tr>\n      <th>1</th>\n      <td>fatalities003_nl_conflicthistory_rf</td>\n      <td>233468.644101</td>\n    </tr>\n    <tr>\n      <th>6</th>\n      <td>fatalities003_nl_topics_rf</td>\n      <td>270199.737508</td>\n    </tr>\n    <tr>\n      <th>9</th>\n      <td>fatalities003_nl_joint_broad_rf</td>\n      <td>301660.673825</td>\n    </tr>\n    <tr>\n      <th>10</th>\n      <td>fatalities003_nl_joint_broad_hurdle_rf</td>\n      <td>327383.389572</td>\n    </tr>\n    <tr>\n      <th>14</th>\n      <td>fatalities003_nl_all_pca3_xgb</td>\n      <td>345626.226018</td>\n    </tr>\n    <tr>\n      <th>7</th>\n      <td>fatalities003_nl_topics_xgb</td>\n      <td>478322.044438</td>\n    </tr>\n    <tr>\n      <th>3</th>\n      <td>fatalities003_nl_conflicthistory_long_xgb</td>\n      <td>527213.482069</td>\n    </tr>\n    <tr>\n      <th>4</th>\n      <td>fatalities003_nl_vdem_hurdle_xgb</td>\n      <td>710133.395333</td>\n    </tr>\n  </tbody>\n</table>\n</div>"
     },
     "execution_count": 17,
     "metadata": {},
     "output_type": "execute_result"
    }
   ],
   "source": [
    "get_model_mse(ModelList).sort_values(by=['mse'])"
   ],
   "metadata": {
    "collapsed": false,
    "ExecuteTime": {
     "end_time": "2023-09-27T07:35:48.483349Z",
     "start_time": "2023-09-27T07:35:48.476183Z"
    }
   },
   "id": "503172bc0e1532c6"
  },
  {
   "cell_type": "code",
   "execution_count": 18,
   "outputs": [
    {
     "data": {
      "text/plain": "                               month_id  country_id              mse\nmodel                                                               \nfatalities003_nl_baseline_rf        420         220 343347462.743495\nfatalities003_nl_baseline_rf        408         220 339572761.048223\nfatalities003_nl_baseline_rf        444         220 288867512.324259\nfatalities003_nl_baseline_rf        432         220 276694196.499313\nfatalities003_nl_baseline_rf        398         220  31257369.266348\n...                                 ...         ...              ...\nfatalities003_nl_all_pca3_xgb       422          70  71738516.922842\nfatalities003_nl_all_pca3_xgb       434         220  54954921.294722\nfatalities003_nl_all_pca3_xgb       433         220  53884778.173239\nfatalities003_nl_all_pca3_xgb       438         220  52900032.317508\nfatalities003_nl_all_pca3_xgb       441         220  52528394.967129\n\n[150 rows x 3 columns]",
      "text/html": "<div>\n<style scoped>\n    .dataframe tbody tr th:only-of-type {\n        vertical-align: middle;\n    }\n\n    .dataframe tbody tr th {\n        vertical-align: top;\n    }\n\n    .dataframe thead th {\n        text-align: right;\n    }\n</style>\n<table border=\"1\" class=\"dataframe\">\n  <thead>\n    <tr style=\"text-align: right;\">\n      <th></th>\n      <th>month_id</th>\n      <th>country_id</th>\n      <th>mse</th>\n    </tr>\n    <tr>\n      <th>model</th>\n      <th></th>\n      <th></th>\n      <th></th>\n    </tr>\n  </thead>\n  <tbody>\n    <tr>\n      <th>fatalities003_nl_baseline_rf</th>\n      <td>420</td>\n      <td>220</td>\n      <td>343347462.743495</td>\n    </tr>\n    <tr>\n      <th>fatalities003_nl_baseline_rf</th>\n      <td>408</td>\n      <td>220</td>\n      <td>339572761.048223</td>\n    </tr>\n    <tr>\n      <th>fatalities003_nl_baseline_rf</th>\n      <td>444</td>\n      <td>220</td>\n      <td>288867512.324259</td>\n    </tr>\n    <tr>\n      <th>fatalities003_nl_baseline_rf</th>\n      <td>432</td>\n      <td>220</td>\n      <td>276694196.499313</td>\n    </tr>\n    <tr>\n      <th>fatalities003_nl_baseline_rf</th>\n      <td>398</td>\n      <td>220</td>\n      <td>31257369.266348</td>\n    </tr>\n    <tr>\n      <th>...</th>\n      <td>...</td>\n      <td>...</td>\n      <td>...</td>\n    </tr>\n    <tr>\n      <th>fatalities003_nl_all_pca3_xgb</th>\n      <td>422</td>\n      <td>70</td>\n      <td>71738516.922842</td>\n    </tr>\n    <tr>\n      <th>fatalities003_nl_all_pca3_xgb</th>\n      <td>434</td>\n      <td>220</td>\n      <td>54954921.294722</td>\n    </tr>\n    <tr>\n      <th>fatalities003_nl_all_pca3_xgb</th>\n      <td>433</td>\n      <td>220</td>\n      <td>53884778.173239</td>\n    </tr>\n    <tr>\n      <th>fatalities003_nl_all_pca3_xgb</th>\n      <td>438</td>\n      <td>220</td>\n      <td>52900032.317508</td>\n    </tr>\n    <tr>\n      <th>fatalities003_nl_all_pca3_xgb</th>\n      <td>441</td>\n      <td>220</td>\n      <td>52528394.967129</td>\n    </tr>\n  </tbody>\n</table>\n<p>150 rows × 3 columns</p>\n</div>"
     },
     "execution_count": 18,
     "metadata": {},
     "output_type": "execute_result"
    }
   ],
   "source": [
    "def get_top_10_cases(ModelList):\n",
    "    top_10_cases = {'model': [], 'month_id': [], 'country_id': [], 'mse': []}\n",
    "    for model in ModelList:\n",
    "        name = model['modelname']\n",
    "        df = model[prediction_df]\n",
    "        df_sorted_model = df.sort_values(by=['mse'], ascending=False).head(10)\n",
    "        for _ in range(10):\n",
    "            top_10_cases['model'].append(name)\n",
    "        for month in df_sorted_model.index.get_level_values(level=0):\n",
    "            top_10_cases['month_id'].append(month)\n",
    "        for country in df_sorted_model.index.get_level_values(level=1):\n",
    "            top_10_cases['country_id'].append(country)  \n",
    "        for mse in df_sorted_model['mse']:\n",
    "            top_10_cases['mse'].append(mse)\n",
    "    pd_top_10_cases = pd.DataFrame(top_10_cases)\n",
    "    pd_top_10_cases.set_index('model', inplace=True)\n",
    "    return pd_top_10_cases\n",
    "\n",
    "get_top_10_cases(ModelList)"
   ],
   "metadata": {
    "collapsed": false,
    "ExecuteTime": {
     "end_time": "2023-09-27T07:35:48.536045Z",
     "start_time": "2023-09-27T07:35:48.481983Z"
    }
   },
   "id": "fa7646b0b098dec2"
  },
  {
   "cell_type": "markdown",
   "id": "81687a8e",
   "metadata": {
    "ExecuteTime": {
     "end_time": "2023-09-22T08:38:59.248104Z",
     "start_time": "2023-09-22T08:38:57.670437Z"
    }
   },
   "source": [
    "# Genetic algorithm"
   ]
  },
  {
   "cell_type": "code",
   "execution_count": null,
   "id": "343bb2db",
   "metadata": {},
   "outputs": [],
   "source": [
    "from joblib import Parallel, delayed, cpu_count\n",
    "from functools import partial\n",
    "from genetic2 import *\n",
    "\n",
    "from pathlib import Path\n",
    "\n",
    "def make_run_from_step (\n",
    "    step,\n",
    "    e_set,\n",
    "    df_name = 'calib_df_calibrated', \n",
    "    target = 'ln_ged_sb_dep',\n",
    "    population_count = 100,\n",
    "    initial_population = None,\n",
    "    base_genes = np.array([0,1]),\n",
    "    number_of_generations = 500\n",
    "):\n",
    "    \"\"\"\n",
    "    step : step you want as an int,\n",
    "    ensemble_set : structure of the EnsembleList type,\n",
    "    target = Y in prediction,\n",
    "    df_name = name of the df in the ensemble set you want.\n",
    "    \"\"\"\n",
    "    \n",
    "    df_step = f'step_pred_{step}'\n",
    "    \n",
    "    try: \n",
    "        del aggregate_df\n",
    "    except NameError:\n",
    "        pass \n",
    "    \n",
    "    for i_ens in ModelList:\n",
    "        try:\n",
    "            #Join the step from the model into the ensemble df if it exists.\n",
    "            aggregate_df = aggregate_df.join(i_ens[df_name][[df_step]], rsuffix=f'_{i_ens[\"modelname\"]}')\n",
    "        except NameError:\n",
    "            #If the ensemble df does not exist create it and include the target.\n",
    "            aggregate_df = i_ens[df_name][[target,df_step]].copy()\n",
    "            aggregate_df = aggregate_df.rename(columns = {df_step : f'{df_step}_{i_ens[\"modelname\"]}'})\n",
    "    \n",
    "    aggregate_df = aggregate_df.dropna()\n",
    "    aggregate_df = aggregate_df[aggregate_df.columns[~aggregate_df.columns.str.contains('ensemble')]]\n",
    "    \n",
    "    X = aggregate_df.copy(); del X[target]\n",
    "    Y = aggregate_df[target]\n",
    "    \n",
    "    inst_mse = partial(weighted_mse_score, Y, X, mean_squared_error)\n",
    "    if initial_population is None:\n",
    "        population =  init_population_sum(population_count,base_genes,X.shape[1],0.5,3)\n",
    "    else: \n",
    "        population = initial_population\n",
    "    \n",
    "    from genetic2 import temp_file_name\n",
    "    import os\n",
    "    Path('./exploration_pickle/').mkdir(parents=True, exist_ok=True) \n",
    "    pd.DataFrame({'step':[step], 'memoization_id':[temp_file_name]}).to_csv(f'exploration_pickle/id_{temp_file_name}.csv', index=False)\n",
    "    \n",
    "    generation = genetic_algorithm(population, \n",
    "                                   inst_mse, \n",
    "                                   base_genes, \n",
    "                                   f_thres=None, \n",
    "                                   ngen=number_of_generations, \n",
    "                                   pmut=0.2)\n",
    "    return {'step':step, 'memoization_id':temp_file_name, 'generation':generation}\n",
    "    "
   ]
  },
  {
   "cell_type": "code",
   "execution_count": null,
   "id": "6728b0de",
   "metadata": {},
   "outputs": [],
   "source": [
    "super_walrus_genes = np.array([0, 0.010, 0.015, 0.020, 0.025, 0.030, 0.04, 0.05, 0.06, 0.07, 0.08, 0.09, 0.10, 0.12, 0.14, 0.16, 0.18, 0.20, 0.25, 0.30])\n",
    "nonlogged_genes = np.array([0, 0.02, 0.05, 0.10, 0.15, 0.20, 0.25, 0.30, 0.35, 0.4, 0.45, 0.5, 0.55, 0.6, 0.65, 0.7, 0.75, 0.8, 0.9, 1, 1.1, 1.2, 1.5, 2.0])#, 1, 1.2, 1.4, 1.6, 1.8, 2.0, 2.5])\n",
    "print(len(nonlogged_genes))\n",
    "steps_to_optimize = [1,2,3,4,6,9,12,15,18,24,30,36]"
   ]
  },
  {
   "cell_type": "code",
   "execution_count": null,
   "id": "ccb862d9",
   "metadata": {},
   "outputs": [],
   "source": [
    "filled_function = partial(make_run_from_step, \n",
    "    e_set = ModelList,\n",
    "    df_name = 'predictions_calib_df', # Non-logged version\n",
    "    target = 'ln_ged_sb_dep',\n",
    "    population_count = 100,\n",
    "    initial_population = None,\n",
    "    base_genes = super_walrus_genes,\n",
    "    number_of_generations = 200\n",
    ")\n",
    "\n"
   ]
  },
  {
   "cell_type": "code",
   "execution_count": null,
   "id": "21b415a6",
   "metadata": {},
   "outputs": [],
   "source": [
    "cpus = cpu_count()-4 if cpu_count()>2 else 1\n",
    "cpus - len(steps_to_optimize)"
   ]
  },
  {
   "cell_type": "code",
   "execution_count": null,
   "id": "3931a8c9",
   "metadata": {},
   "outputs": [],
   "source": [
    "# 15 models, 24 genes, 12 steps, 100 generations takes 41 minutes\n",
    "if RunGeneticAlgo:\n",
    "\n",
    "    ct = datetime.now()\n",
    "    print('Estimating genetic weights, current time:', ct)\n",
    "    generations = Parallel(n_jobs=cpus)(delayed(filled_function)(i) for i in steps_to_optimize)\n",
    "    ct = datetime.now()\n",
    "    print('Done estimating weights, current time:', ct)\n",
    "    with open('exploration_pickle/full_gen.pickle', 'wb') as handle:\n",
    "        pkl.dump(generations, handle, protocol=pickle.HIGHEST_PROTOCOL)\n",
    "else:\n",
    "    picklename = 'exploration_pickle/full_gen.pickle'\n",
    "    generations = pkl.load( open (picklename, \"rb\") )\n",
    "    "
   ]
  },
  {
   "cell_type": "code",
   "execution_count": null,
   "id": "eac54121",
   "metadata": {},
   "outputs": [],
   "source": [
    "# Print the memoization id's so that you can explore the training process in the visualizer\n",
    "for i in generations:\n",
    "    print (i['step'], i['memoization_id'])"
   ]
  },
  {
   "cell_type": "code",
   "execution_count": null,
   "id": "5a8cb182",
   "metadata": {},
   "outputs": [],
   "source": [
    "# Fetch the best organism.\n",
    "GeneticAlgoResult = []\n",
    "for gen in generations:\n",
    "    print ('\\nStep: ',gen['step'],'\\n','*'*24,'\\n')\n",
    "    print (gen['generation'][0])\n",
    "    #The best is always the top organism. You can get the top 20 by slicing gen['generation'][0:20] and so on\n",
    "    linedict = {\n",
    "        'Org': gen['generation'][0][0],\n",
    "        'Fitness': gen['generation'][0][1],\n",
    "        'Step': gen['step']\n",
    "    }\n",
    "    GeneticAlgoResult.append(linedict)\n",
    "print(GeneticAlgoResult)"
   ]
  },
  {
   "cell_type": "markdown",
   "id": "475df80d",
   "metadata": {
    "ExecuteTime": {
     "start_time": "2023-09-22T08:32:14.168386Z"
    }
   },
   "source": [
    "# Assignment of the genetic weights"
   ]
  },
  {
   "cell_type": "code",
   "execution_count": null,
   "id": "5c20eb55",
   "metadata": {},
   "outputs": [],
   "source": [
    "# Reading from GeneticAlgoResult:\n",
    "w_step = [None] * 37\n",
    "for line in GeneticAlgoResult:\n",
    "    w_step[line['Step']] = line['Org']\n",
    "i=2\n",
    "for i in [1,2,3,6,9,12,18,24,30,36]:\n",
    "    w_step[i]\n",
    "    print(sum(w_step[i]))\n",
    "\n",
    "\n"
   ]
  },
  {
   "cell_type": "code",
   "execution_count": null,
   "id": "8937a005",
   "metadata": {},
   "outputs": [],
   "source": [
    "# Linear interpolation of weights:\n",
    "print(steps_to_optimize)\n",
    "WeightMatrix = [None] * 37\n",
    "modelnames = []\n",
    "for model in ModelList: \n",
    "    modelnames.append(model['modelname'])\n",
    "for step in steps:\n",
    "    if step in steps_to_optimize:\n",
    "#        print(step, 'is optimized')\n",
    "        WeightMatrix[step] = w_step[step]\n",
    "    else:\n",
    "        WeightMatrix[step] = np.nan * len(w_step[1])\n"
   ]
  },
  {
   "cell_type": "code",
   "execution_count": null,
   "id": "c1f72bd8",
   "metadata": {},
   "outputs": [],
   "source": [
    "StepAssigner = [1,2,3,4,4,6,6,9,9,9,12,12,12,15,15,15,18,18,18,18,18,24,24,24,24,24,24,30,30,30,30,30,30,36,36,36]\n",
    "WeightMatrix = [None] * 37\n",
    "\n",
    "stepcols = ['ln_ged_sb_dep']\n",
    "for step in steps:\n",
    "    stepcols.append('step_pred_' + str(step))\n",
    "modelnames = []\n",
    "for model in ModelList: \n",
    "    modelnames.append(model['modelname'])\n",
    "\n",
    "for step in steps:\n",
    "#    print('Step',step,'assigned',StepAssigner[step-1])\n",
    "    WeightMatrix[step] = w_step[StepAssigner[step-1]]\n",
    "wmt = np.array(WeightMatrix[1:]).T\n",
    "weights_df = pd.DataFrame(wmt,columns=stepcols[1:],index=modelnames)\n",
    "weights_df"
   ]
  },
  {
   "cell_type": "code",
   "execution_count": null,
   "id": "1c87048a",
   "metadata": {},
   "outputs": [],
   "source": [
    "# Interpolated weights\n",
    "i_weights_df = weights_df.copy()\n",
    "for step in steps:\n",
    "    col = 'step_pred_' + str(step)\n",
    "    if step == 5:\n",
    "        prestepcol = 'step_pred_' + str(step-1)\n",
    "        \n",
    "        poststepcol = 'step_pred_' + str(step+1)\n",
    "        i_weights_df[col] = (i_weights_df[prestepcol] + i_weights_df[poststepcol]) / 2\n",
    "    if step == 7 or step == 10 or step == 13 or step == 16:\n",
    "        prestepcol = 'step_pred_' + str(step-1)\n",
    "        poststepcol = 'step_pred_' + str(step+2)\n",
    "        i_weights_df[col] = ((i_weights_df[prestepcol]*2) + (i_weights_df[poststepcol]*1)) / 3\n",
    "    if step == 8 or step == 11 or step == 14 or step == 17:\n",
    "        prestepcol = 'step_pred_' + str(step-2)\n",
    "        poststepcol = 'step_pred_' + str(step+1)\n",
    "        i_weights_df[col] = ((i_weights_df[prestepcol]*1) + (i_weights_df[poststepcol]*2)) / 3\n",
    "    if step == 19 or step == 25 or step == 31:\n",
    "        prestepcol = 'step_pred_' + str(step-1)\n",
    "        poststepcol = 'step_pred_' + str(step+5)\n",
    "        i_weights_df[col] = ((i_weights_df[prestepcol]*5) + (i_weights_df[poststepcol]*1)) / 6\n",
    "    if step == 20 or step == 26 or step == 32:\n",
    "        prestepcol = 'step_pred_' + str(step-2)\n",
    "        poststepcol = 'step_pred_' + str(step+3)\n",
    "        i_weights_df[col] = ((i_weights_df[prestepcol]*4) + (i_weights_df[poststepcol]*2)) / 6\n",
    "    if step == 21 or step == 27 or step == 33:\n",
    "        prestepcol = 'step_pred_' + str(step-3)\n",
    "        poststepcol = 'step_pred_' + str(step+3)\n",
    "        i_weights_df[col] = ((i_weights_df[prestepcol]*3) + (i_weights_df[poststepcol]*3)) / 6\n",
    "    if step == 22 or step == 28 or step == 34:\n",
    "        prestepcol = 'step_pred_' + str(step-4)\n",
    "        poststepcol = 'step_pred_' + str(step+2)\n",
    "        i_weights_df[col] = ((i_weights_df[prestepcol]*2) + (i_weights_df[poststepcol]*4)) / 6\n",
    "    if step == 23 or step == 29 or step == 35:\n",
    "        prestepcol = 'step_pred_' + str(step-5)\n",
    "        poststepcol = 'step_pred_' + str(step+1)\n",
    "        i_weights_df[col] = ((i_weights_df[prestepcol]*1) + (i_weights_df[poststepcol]*5)) / 6\n",
    "        \n",
    "print(steps_to_optimize)\n",
    "# Export weights \n",
    "i_weights_df.to_csv('../Intermediates/GeneticWeights.csv')\n",
    "i_weights_df\n",
    "# Save the weights dfs\n",
    "dflist = [\n",
    "    (i_weights_df,'i_weights_df'), \n",
    "]\n",
    "\n",
    "path = Mydropbox + 'Projects/PredictingFatalities/MSEs/'\n",
    "for df in dflist:\n",
    "    filename = path + df[1] + '.csv'\n",
    "    df[0].to_csv(filename)\n",
    "    "
   ]
  },
  {
   "cell_type": "code",
   "execution_count": null,
   "id": "b7dd1636",
   "metadata": {},
   "outputs": [],
   "source": [
    "import seaborn as sns\n",
    "palette = 'vlag'\n",
    "palette = sns.color_palette('BrBG',n_colors=50)\n",
    "palette = sns.cubehelix_palette(start=2, rot=0, dark=0, light=1, n_colors=100)\n",
    "\n",
    "fig, ax =plt.subplots(1,figsize=(16,11))\n",
    "ax = sns.heatmap(i_weights_df, xticklabels=2, linewidths=.5, cmap=palette,square=True)\n",
    "filename = overleafpath + 'Evaluation/Figures/genetic_weights.png'\n",
    "if user == havardhegre1:\n",
    "    plt.savefig(filename, dpi=300)"
   ]
  },
  {
   "cell_type": "code",
   "execution_count": null,
   "id": "5048101d",
   "metadata": {},
   "outputs": [],
   "source": [
    "# Constructing dfs to hold the predictions\n",
    "# A list of dictionaries organizing predictions and information as one step per entry,\n",
    "# including a dataframe for each step with one column per prediction model\n",
    "StepEnsembles = []\n",
    "for col in stepcols[1:]:  # Use the baseline as template to construct object\n",
    "    Step_prediction = {\n",
    "        'step_pred': col,\n",
    "        'df_calib': pd.DataFrame(ModelList[0]['calib_df_calibrated']['ln_ged_sb_dep']), \n",
    "        'df_test': pd.DataFrame(ModelList[0]['test_df_calibrated']['ln_ged_sb_dep']),\n",
    "        'ensembles_calib': pd.DataFrame(ModelList[0]['calib_df_calibrated']['ln_ged_sb_dep']),\n",
    "        'ensembles_test': pd.DataFrame(ModelList[0]['test_df_calibrated']['ln_ged_sb_dep'])\n",
    "    }\n",
    "    for model in ModelList:\n",
    "        modelname = model['modelname']\n",
    "        Step_prediction['df_calib'][modelname] = model['calib_df_calibrated'][col]\n",
    "        Step_prediction['df_test'][modelname] = model['test_df_calibrated'][col]\n",
    "    StepEnsembles.append(Step_prediction)\n",
    "\n",
    "# Calculating unweighted average ensembles\n",
    "i = 0\n",
    "for col in stepcols[1:]:\n",
    "    # Unweighted average\n",
    "    StepEnsembles[i]['ensembles_test']['unweighted_average'] = StepEnsembles[i]['df_test'].drop('ln_ged_sb_dep', axis=1).mean(axis=1)\n",
    "    StepEnsembles[i]['ensembles_calib'].loc['unweighted_average'] = StepEnsembles[i]['df_calib'].drop('ln_ged_sb_dep', axis=1).mean(axis=1)\n",
    "    i = i + 1\n"
   ]
  },
  {
   "cell_type": "code",
   "execution_count": null,
   "id": "b10128a2",
   "metadata": {},
   "outputs": [],
   "source": [
    "StepEnsembles[0]['ensembles_test']['unweighted_average']"
   ]
  },
  {
   "cell_type": "code",
   "execution_count": null,
   "id": "3c1ad53d",
   "metadata": {},
   "outputs": [],
   "source": [
    "\n",
    "# Calculating weighted average ensembles\n",
    "# Based on the weights_df dataframe filled with Mihai's weights above\n",
    "\n",
    "def ensemble_predictions(yhats, weights):\n",
    "    # make predictions\n",
    "    yhats = np.array(yhats)\n",
    "    # weighted sum across ensemble members\n",
    "    result = np.dot(weights,yhats)\n",
    "    return result\n",
    "\n",
    "# normalize a vector to have unit norm\n",
    "def normalize(weights):\n",
    "    # calculate l1 vector norm\n",
    "    result = norm(weights, 1)\n",
    "    # check for a vector of all zeros\n",
    "    if result == 0.0:\n",
    "        return weights\n",
    "    # return normalized vector (unit norm)\n",
    "    return weights / result\n",
    "\n",
    "i = 0\n",
    "for col in stepcols[1:]:\n",
    "    # Unweighted average\n",
    "    df_calib = StepEnsembles[i]['df_calib'].drop('ln_ged_sb_dep', axis=1)\n",
    "    df_test = StepEnsembles[i]['df_test'].drop('ln_ged_sb_dep', axis=1)\n",
    "    StepEnsembles[i]['ensembles_calib']['weighted_average'] = (df_calib*i_weights_df[col]).sum(axis=1)\n",
    "    StepEnsembles[i]['ensembles_test']['weighted_average'] =  (df_test*i_weights_df[col]).sum(axis=1)\n",
    "    i = i + 1"
   ]
  },
  {
   "cell_type": "code",
   "execution_count": null,
   "id": "933a99d8",
   "metadata": {},
   "outputs": [],
   "source": [
    "# Reshape the ensemble predictions\n",
    "EnsembleList = []\n",
    "genetic = {\n",
    "        'modelname': 'ensemble_genetic',\n",
    "        'algorithm': '',\n",
    "        'depvar': \"ln_ged_sb_dep\",\n",
    "        'calib_df_calibrated': ModelList[0]['calib_df_calibrated'].copy(),\n",
    "        'test_df_calibrated': ModelList[0]['test_df_calibrated'].copy(),\n",
    "    }    \n",
    "\n",
    "for step in StepEnsembles:\n",
    "    colname = step['step_pred']\n",
    "    print(colname)\n",
    "    genetic['calib_df_calibrated'][colname] = step['ensembles_calib']['weighted_average']\n",
    "    genetic['test_df_calibrated'][colname] = step['ensembles_test']['weighted_average']\n",
    "\n",
    "EnsembleList.append(genetic)\n"
   ]
  },
  {
   "cell_type": "code",
   "execution_count": null,
   "id": "daadab0e",
   "metadata": {},
   "outputs": [],
   "source": [
    "# Save ensemble predictions\n",
    "predstore_calib = level +  '_' + genetic['modelname'] + '_calib'\n",
    "genetic['calib_df_calibrated'].forecasts.set_run(run_id)\n",
    "genetic['calib_df_calibrated'].forecasts.to_store(name=predstore_calib, overwrite = True)\n",
    "predstore_test = level +  '_' + genetic['modelname'] + '_test'\n",
    "genetic['test_df_calibrated'].forecasts.set_run(run_id)\n",
    "genetic['test_df_calibrated'].forecasts.to_store(name=predstore_test, overwrite = True)"
   ]
  },
  {
   "cell_type": "code",
   "execution_count": null,
   "id": "305072e7",
   "metadata": {},
   "outputs": [],
   "source": [
    "# See which genetic ensembles are in prediction storage\n",
    "ViewsMetadata().with_name('genetic').fetch()"
   ]
  },
  {
   "cell_type": "code",
   "execution_count": null,
   "id": "146054eb",
   "metadata": {},
   "outputs": [],
   "source": []
  }
 ],
 "metadata": {
  "kernelspec": {
   "display_name": "Python 3 (ipykernel)",
   "language": "python",
   "name": "python3"
  },
  "language_info": {
   "codemirror_mode": {
    "name": "ipython",
    "version": 3
   },
   "file_extension": ".py",
   "mimetype": "text/x-python",
   "name": "python",
   "nbconvert_exporter": "python",
   "pygments_lexer": "ipython3",
   "version": "3.9.13"
  }
 },
 "nbformat": 4,
 "nbformat_minor": 5
}
