{
 "cells": [
  {
   "cell_type": "markdown",
   "id": "c567d3bf",
   "metadata": {},
   "source": [
    "# Notebook to define ensemble for production, cm level\n",
    "Version developed for ViEWS monthly updates: Fatalities002\n",
    "## Including ensemble weighting\n",
    "\n",
    "This notebook defines the ensemble used for production: selects a set of pre-trained models, retrieves and calibrates them, computes weights, and computes and stores the ensemble model predictions.\n",
    "\n",
    "Models are stored in model storage and most of them specified in the notebook fat_cm_constituentmodels\n",
    "\n",
    "The notebook draws on the following files in this repository:\n",
    "\n",
    "Script file: \n",
    "    Ensembling.py\n",
    "    FetchData.py\n",
    "\n",
    "Lists of models:\n",
    "    ModelList_cm_{dev_id}.csv (not yet functional)\n",
    "    List of pickles at local directory (will rewrite to drop dependence on this)"
   ]
  },
  {
   "cell_type": "markdown",
   "source": [
    "# Note\n",
    "### Numbers in the models 11, 12, 13 are log values even if the column for model 12, 13 is ged_sb_dep\n",
    "\n"
   ],
   "metadata": {
    "collapsed": false
   },
   "id": "e10ce4c622759398"
  },
  {
   "cell_type": "code",
   "execution_count": 25,
   "id": "1f3f0f86",
   "metadata": {
    "ExecuteTime": {
     "end_time": "2023-09-28T10:27:37.198751Z",
     "start_time": "2023-09-28T10:27:37.088126Z"
    }
   },
   "outputs": [],
   "source": [
    "# Basics\n",
    "import numpy as np\n",
    "import pandas as pd\n",
    "import matplotlib.pyplot as plt\n",
    "import matplotlib.cbook as cbook\n",
    "\n",
    "# Views 3\n",
    "from viewser.operations import fetch\n",
    "from viewser import Queryset, Column\n",
    "import views_runs\n",
    "from views_partitioning import data_partitioner, legacy\n",
    "from stepshift import views\n",
    "# import views_dataviz\n",
    "from views_runs import storage, ModelMetadata\n",
    "from views_runs.storage import store, retrieve, fetch_metadata\n",
    "from views_forecasts.extensions import *\n",
    "\n",
    "#sklearn\n",
    "from sklearn.metrics import mean_squared_error\n",
    "\n",
    "# Other packages\n",
    "import pickle as pkl\n",
    "\n",
    "pd.set_option('display.float_format', lambda x: '%.6f' % x)"
   ]
  },
  {
   "cell_type": "code",
   "execution_count": 26,
   "id": "05e8c2b4",
   "metadata": {
    "ExecuteTime": {
     "end_time": "2023-09-28T10:27:37.213795Z",
     "start_time": "2023-09-28T10:27:37.092340Z"
    }
   },
   "outputs": [],
   "source": [
    "# Packages from this repository, Tools folder\n",
    "import sys\n",
    "sys.path.append('../')\n",
    "sys.path.append('../Tools')\n",
    "sys.path.append('../Intermediates')\n",
    "import os\n",
    "\n",
    "from Ensembling import CalibratePredictions, RetrieveStoredPredictions, mean_sd_calibrated, gam_calibrated\n",
    "from FetchData import FetchData, RetrieveFromList\n",
    "from ViewsEstimators import *\n"
   ]
  },
  {
   "cell_type": "code",
   "execution_count": 27,
   "id": "89992da3",
   "metadata": {
    "ExecuteTime": {
     "end_time": "2023-09-28T10:27:37.234593Z",
     "start_time": "2023-09-28T10:27:37.096544Z"
    }
   },
   "outputs": [
    {
     "name": "stdout",
     "output_type": "stream",
     "text": [
      "User: root\n",
      "Dropbox path set to /Users/root/Dropbox (ViEWS)/ViEWS/\n",
      "Overleaf path set to /Users/root/Dropbox (ViEWS)/Apps/Overleaf/VIEWS documentation Fatalities003/\n",
      "Local path set to /Users/root/Pickles/\n"
     ]
    }
   ],
   "source": [
    "# Common parameters:\n",
    "\n",
    "dev_id = 'Fatalities003'\n",
    "run_id = 'Fatalities003'\n",
    "EndOfHistory = 509\n",
    "RunGeneticAlgo = True\n",
    "level = 'cm'\n",
    "get_future = False\n",
    "\n",
    "username = os.getlogin()\n",
    "\n",
    "steps = [*range(1, 36+1, 1)] # Which steps to train and predict for\n",
    "\n",
    "fi_steps = [1,3,6,12,36]\n",
    "# Specifying partitions\n",
    "\n",
    "calib_partitioner_dict = {\"train\":(121,396),\"predict\":(397,444)}\n",
    "test_partitioner_dict = {\"train\":(121,444),\"predict\":(445,492)}\n",
    "future_partitioner_dict = {\"train\":(121,492),\"predict\":(493,504)}\n",
    "calib_partitioner =  views_runs.DataPartitioner({\"calib\":calib_partitioner_dict})\n",
    "test_partitioner =  views_runs.DataPartitioner({\"test\":test_partitioner_dict})\n",
    "future_partitioner =  views_runs.DataPartitioner({\"future\":future_partitioner_dict})\n",
    "\n",
    "Mydropbox = f'/Users/{username}/Dropbox (ViEWS)/ViEWS/'\n",
    "localpath = f'/Users/{username}/Pickles/'\n",
    "overleafpath = f'/Users/{username}/Dropbox (ViEWS)/Apps/Overleaf/VIEWS documentation {dev_id}/'\n",
    "\n",
    "print('User:', username)\n",
    "print('Dropbox path set to',Mydropbox)\n",
    "print('Overleaf path set to',overleafpath)\n",
    "print('Local path set to',localpath)"
   ]
  },
  {
   "cell_type": "code",
   "execution_count": 28,
   "id": "3eaeb840",
   "metadata": {
    "ExecuteTime": {
     "end_time": "2023-09-28T10:27:37.269483Z",
     "start_time": "2023-09-28T10:27:37.111776Z"
    }
   },
   "outputs": [
    {
     "name": "stdout",
     "output_type": "stream",
     "text": [
      "0 fatalities003_nl_baseline_rf baseline003\n",
      "1 fatalities003_nl_conflicthistory_rf conflict_ln\n",
      "2 fatalities003_nl_conflicthistory_hurdle_lgb conflict_ln\n",
      "3 fatalities003_nl_conflicthistory_long_xgb conflictlong_ln\n",
      "4 fatalities003_nl_vdem_hurdle_xgb vdem_short\n",
      "5 fatalities003_nl_wdi_rf wdi_short\n",
      "6 fatalities003_nl_topics_rf topics_003\n",
      "7 fatalities003_nl_topics_xgb topics_003\n",
      "8 fatalities003_nl_topics_hurdle_lgb topics_003\n",
      "9 fatalities003_nl_joint_broad_rf joint_broad\n",
      "10 fatalities003_nl_joint_broad_hurdle_rf joint_broad\n",
      "11 fatalities003_joint_narrow_xgb joint_narrow\n",
      "12 fatalities003_nl_joint_narrow_hurdle_xgb joint_narrow\n",
      "13 fatalities003_nl_joint_narrow_hurdle_lgb joint_narrow\n",
      "14 fatalities003_nl_all_pca3_xgb all_features\n"
     ]
    }
   ],
   "source": [
    "from ModelDefinitions import DefineEnsembleModels\n",
    "\n",
    "ModelList = DefineEnsembleModels(level)\n",
    "    \n",
    "i = 0\n",
    "for model in ModelList:\n",
    "    print(i, model['modelname'], model['data_train'])\n",
    "    i = i + 1"
   ]
  },
  {
   "cell_type": "code",
   "execution_count": 29,
   "outputs": [
    {
     "name": "stdout",
     "output_type": "stream",
     "text": [
      "pr_56_cm_fatalities003_joint_narrow_xgb_calib.parquet\n"
     ]
    },
    {
     "data": {
      "text/plain": "                     ln_ged_sb_dep  step_pred_1  step_pred_2  step_pred_3  \\\nmonth_id country_id                                                         \n397      1                0.000000     0.008420     0.011582     0.012673   \n         2                0.000000     0.008420     0.011476     0.012418   \n         3                0.000000     0.008420     0.011476     0.012418   \n         4                0.000000     0.008659     0.011582     0.012673   \n         5                0.000000     0.008420     0.011476     0.012418   \n...                            ...          ...          ...          ...   \n444      242              0.000000     0.017873     0.019947     0.019739   \n         243              0.000000     0.008511     0.011476     0.012418   \n         244              0.000000     0.009407     0.012381     0.012647   \n         245              0.000000     1.889669     2.477441     3.376249   \n         246              2.708050     2.604345     2.636136     1.911815   \n\n                     step_pred_4  step_pred_5  step_pred_6  step_pred_7  \\\nmonth_id country_id                                                       \n397      1              0.014179     0.014431     0.014855     0.016646   \n         2              0.014019     0.013617     0.014294     0.016476   \n         3              0.014019     0.013617     0.014294     0.015214   \n         4              0.014421     0.014431     0.017202     0.045097   \n         5              0.014019     0.013617     0.014294     0.016476   \n...                          ...          ...          ...          ...   \n444      242            0.025537     0.019502     0.023194     0.020523   \n         243            0.014019     0.013617     0.014294     0.015214   \n         244            0.014203     0.013976     0.014618     0.015567   \n         245            2.985935     3.317934     2.572747     3.731551   \n         246            2.500160     2.376583     2.074247     2.208894   \n\n                     step_pred_8  step_pred_9  ...  step_pred_27  \\\nmonth_id country_id                            ...                 \n397      1              0.020506     0.017444  ...      0.024846   \n         2              0.021644     0.018288  ...      0.022748   \n         3              0.015707     0.018288  ...      0.022748   \n         4              0.018661     0.022210  ...      0.074820   \n         5              0.021644     0.018288  ...      0.022748   \n...                          ...          ...  ...           ...   \n444      242            0.021112     0.024462  ...      0.133979   \n         243            0.015707     0.015991  ...      0.023141   \n         244            0.017467     0.018470  ...      0.061876   \n         245            4.061934     4.168920  ...      1.934937   \n         246            2.213603     1.467498  ...      2.115453   \n\n                     step_pred_28  step_pred_29  step_pred_30  step_pred_31  \\\nmonth_id country_id                                                           \n397      1               0.026930      0.027107      0.117257      0.025644   \n         2               0.021641      0.022437      0.021148      0.020752   \n         3               0.021641      0.022437      0.021148      0.020752   \n         4               0.036520      0.056549      0.050284      0.061734   \n         5               0.021641      0.022437      0.021148      0.020752   \n...                           ...           ...           ...           ...   \n444      242             0.135839      0.137115      0.150589      0.164453   \n         243             0.022411      0.023122      0.021496      0.021082   \n         244             0.107264      0.122521      0.117023      0.057673   \n         245             2.045012      1.900755      2.903455      3.046722   \n         246             2.292283      2.020375      2.330546      1.196295   \n\n                     step_pred_32  step_pred_33  step_pred_34  step_pred_35  \\\nmonth_id country_id                                                           \n397      1               0.025099      0.024437      0.022103      0.022669   \n         2               0.019647      0.018917      0.018413      0.019921   \n         3               0.019647      0.018917      0.018413      0.019921   \n         4               0.053394      0.067794      0.065420      0.123116   \n         5               0.019647      0.018917      0.018413      0.019921   \n...                           ...           ...           ...           ...   \n444      242             0.165343      0.166977      0.167235      0.175178   \n         243             0.019647      0.019860      0.019287      0.020205   \n         244             0.051980      0.062827      0.053596      0.062296   \n         245             2.139882      2.063412      2.089220      2.078251   \n         246             2.052180      1.770693      1.843000      1.868176   \n\n                     step_pred_36  \nmonth_id country_id                \n397      1               0.023872  \n         2               0.020009  \n         3               0.020009  \n         4               0.128227  \n         5               0.020009  \n...                           ...  \n444      242             0.169526  \n         243             0.020908  \n         244             0.038805  \n         245             1.945472  \n         246             1.839640  \n\n[9168 rows x 37 columns]",
      "text/html": "<div>\n<style scoped>\n    .dataframe tbody tr th:only-of-type {\n        vertical-align: middle;\n    }\n\n    .dataframe tbody tr th {\n        vertical-align: top;\n    }\n\n    .dataframe thead th {\n        text-align: right;\n    }\n</style>\n<table border=\"1\" class=\"dataframe\">\n  <thead>\n    <tr style=\"text-align: right;\">\n      <th></th>\n      <th></th>\n      <th>ln_ged_sb_dep</th>\n      <th>step_pred_1</th>\n      <th>step_pred_2</th>\n      <th>step_pred_3</th>\n      <th>step_pred_4</th>\n      <th>step_pred_5</th>\n      <th>step_pred_6</th>\n      <th>step_pred_7</th>\n      <th>step_pred_8</th>\n      <th>step_pred_9</th>\n      <th>...</th>\n      <th>step_pred_27</th>\n      <th>step_pred_28</th>\n      <th>step_pred_29</th>\n      <th>step_pred_30</th>\n      <th>step_pred_31</th>\n      <th>step_pred_32</th>\n      <th>step_pred_33</th>\n      <th>step_pred_34</th>\n      <th>step_pred_35</th>\n      <th>step_pred_36</th>\n    </tr>\n    <tr>\n      <th>month_id</th>\n      <th>country_id</th>\n      <th></th>\n      <th></th>\n      <th></th>\n      <th></th>\n      <th></th>\n      <th></th>\n      <th></th>\n      <th></th>\n      <th></th>\n      <th></th>\n      <th></th>\n      <th></th>\n      <th></th>\n      <th></th>\n      <th></th>\n      <th></th>\n      <th></th>\n      <th></th>\n      <th></th>\n      <th></th>\n      <th></th>\n    </tr>\n  </thead>\n  <tbody>\n    <tr>\n      <th rowspan=\"5\" valign=\"top\">397</th>\n      <th>1</th>\n      <td>0.000000</td>\n      <td>0.008420</td>\n      <td>0.011582</td>\n      <td>0.012673</td>\n      <td>0.014179</td>\n      <td>0.014431</td>\n      <td>0.014855</td>\n      <td>0.016646</td>\n      <td>0.020506</td>\n      <td>0.017444</td>\n      <td>...</td>\n      <td>0.024846</td>\n      <td>0.026930</td>\n      <td>0.027107</td>\n      <td>0.117257</td>\n      <td>0.025644</td>\n      <td>0.025099</td>\n      <td>0.024437</td>\n      <td>0.022103</td>\n      <td>0.022669</td>\n      <td>0.023872</td>\n    </tr>\n    <tr>\n      <th>2</th>\n      <td>0.000000</td>\n      <td>0.008420</td>\n      <td>0.011476</td>\n      <td>0.012418</td>\n      <td>0.014019</td>\n      <td>0.013617</td>\n      <td>0.014294</td>\n      <td>0.016476</td>\n      <td>0.021644</td>\n      <td>0.018288</td>\n      <td>...</td>\n      <td>0.022748</td>\n      <td>0.021641</td>\n      <td>0.022437</td>\n      <td>0.021148</td>\n      <td>0.020752</td>\n      <td>0.019647</td>\n      <td>0.018917</td>\n      <td>0.018413</td>\n      <td>0.019921</td>\n      <td>0.020009</td>\n    </tr>\n    <tr>\n      <th>3</th>\n      <td>0.000000</td>\n      <td>0.008420</td>\n      <td>0.011476</td>\n      <td>0.012418</td>\n      <td>0.014019</td>\n      <td>0.013617</td>\n      <td>0.014294</td>\n      <td>0.015214</td>\n      <td>0.015707</td>\n      <td>0.018288</td>\n      <td>...</td>\n      <td>0.022748</td>\n      <td>0.021641</td>\n      <td>0.022437</td>\n      <td>0.021148</td>\n      <td>0.020752</td>\n      <td>0.019647</td>\n      <td>0.018917</td>\n      <td>0.018413</td>\n      <td>0.019921</td>\n      <td>0.020009</td>\n    </tr>\n    <tr>\n      <th>4</th>\n      <td>0.000000</td>\n      <td>0.008659</td>\n      <td>0.011582</td>\n      <td>0.012673</td>\n      <td>0.014421</td>\n      <td>0.014431</td>\n      <td>0.017202</td>\n      <td>0.045097</td>\n      <td>0.018661</td>\n      <td>0.022210</td>\n      <td>...</td>\n      <td>0.074820</td>\n      <td>0.036520</td>\n      <td>0.056549</td>\n      <td>0.050284</td>\n      <td>0.061734</td>\n      <td>0.053394</td>\n      <td>0.067794</td>\n      <td>0.065420</td>\n      <td>0.123116</td>\n      <td>0.128227</td>\n    </tr>\n    <tr>\n      <th>5</th>\n      <td>0.000000</td>\n      <td>0.008420</td>\n      <td>0.011476</td>\n      <td>0.012418</td>\n      <td>0.014019</td>\n      <td>0.013617</td>\n      <td>0.014294</td>\n      <td>0.016476</td>\n      <td>0.021644</td>\n      <td>0.018288</td>\n      <td>...</td>\n      <td>0.022748</td>\n      <td>0.021641</td>\n      <td>0.022437</td>\n      <td>0.021148</td>\n      <td>0.020752</td>\n      <td>0.019647</td>\n      <td>0.018917</td>\n      <td>0.018413</td>\n      <td>0.019921</td>\n      <td>0.020009</td>\n    </tr>\n    <tr>\n      <th>...</th>\n      <th>...</th>\n      <td>...</td>\n      <td>...</td>\n      <td>...</td>\n      <td>...</td>\n      <td>...</td>\n      <td>...</td>\n      <td>...</td>\n      <td>...</td>\n      <td>...</td>\n      <td>...</td>\n      <td>...</td>\n      <td>...</td>\n      <td>...</td>\n      <td>...</td>\n      <td>...</td>\n      <td>...</td>\n      <td>...</td>\n      <td>...</td>\n      <td>...</td>\n      <td>...</td>\n      <td>...</td>\n    </tr>\n    <tr>\n      <th rowspan=\"5\" valign=\"top\">444</th>\n      <th>242</th>\n      <td>0.000000</td>\n      <td>0.017873</td>\n      <td>0.019947</td>\n      <td>0.019739</td>\n      <td>0.025537</td>\n      <td>0.019502</td>\n      <td>0.023194</td>\n      <td>0.020523</td>\n      <td>0.021112</td>\n      <td>0.024462</td>\n      <td>...</td>\n      <td>0.133979</td>\n      <td>0.135839</td>\n      <td>0.137115</td>\n      <td>0.150589</td>\n      <td>0.164453</td>\n      <td>0.165343</td>\n      <td>0.166977</td>\n      <td>0.167235</td>\n      <td>0.175178</td>\n      <td>0.169526</td>\n    </tr>\n    <tr>\n      <th>243</th>\n      <td>0.000000</td>\n      <td>0.008511</td>\n      <td>0.011476</td>\n      <td>0.012418</td>\n      <td>0.014019</td>\n      <td>0.013617</td>\n      <td>0.014294</td>\n      <td>0.015214</td>\n      <td>0.015707</td>\n      <td>0.015991</td>\n      <td>...</td>\n      <td>0.023141</td>\n      <td>0.022411</td>\n      <td>0.023122</td>\n      <td>0.021496</td>\n      <td>0.021082</td>\n      <td>0.019647</td>\n      <td>0.019860</td>\n      <td>0.019287</td>\n      <td>0.020205</td>\n      <td>0.020908</td>\n    </tr>\n    <tr>\n      <th>244</th>\n      <td>0.000000</td>\n      <td>0.009407</td>\n      <td>0.012381</td>\n      <td>0.012647</td>\n      <td>0.014203</td>\n      <td>0.013976</td>\n      <td>0.014618</td>\n      <td>0.015567</td>\n      <td>0.017467</td>\n      <td>0.018470</td>\n      <td>...</td>\n      <td>0.061876</td>\n      <td>0.107264</td>\n      <td>0.122521</td>\n      <td>0.117023</td>\n      <td>0.057673</td>\n      <td>0.051980</td>\n      <td>0.062827</td>\n      <td>0.053596</td>\n      <td>0.062296</td>\n      <td>0.038805</td>\n    </tr>\n    <tr>\n      <th>245</th>\n      <td>0.000000</td>\n      <td>1.889669</td>\n      <td>2.477441</td>\n      <td>3.376249</td>\n      <td>2.985935</td>\n      <td>3.317934</td>\n      <td>2.572747</td>\n      <td>3.731551</td>\n      <td>4.061934</td>\n      <td>4.168920</td>\n      <td>...</td>\n      <td>1.934937</td>\n      <td>2.045012</td>\n      <td>1.900755</td>\n      <td>2.903455</td>\n      <td>3.046722</td>\n      <td>2.139882</td>\n      <td>2.063412</td>\n      <td>2.089220</td>\n      <td>2.078251</td>\n      <td>1.945472</td>\n    </tr>\n    <tr>\n      <th>246</th>\n      <td>2.708050</td>\n      <td>2.604345</td>\n      <td>2.636136</td>\n      <td>1.911815</td>\n      <td>2.500160</td>\n      <td>2.376583</td>\n      <td>2.074247</td>\n      <td>2.208894</td>\n      <td>2.213603</td>\n      <td>1.467498</td>\n      <td>...</td>\n      <td>2.115453</td>\n      <td>2.292283</td>\n      <td>2.020375</td>\n      <td>2.330546</td>\n      <td>1.196295</td>\n      <td>2.052180</td>\n      <td>1.770693</td>\n      <td>1.843000</td>\n      <td>1.868176</td>\n      <td>1.839640</td>\n    </tr>\n  </tbody>\n</table>\n<p>9168 rows × 37 columns</p>\n</div>"
     },
     "execution_count": 29,
     "metadata": {},
     "output_type": "execute_result"
    }
   ],
   "source": [
    "stepcols = ['ln_ged_sb_dep']\n",
    "for step in steps:\n",
    "    stepcols.append('step_pred_' + str(step))\n",
    "stored_modelname_calib = level + '_' + ModelList[11]['modelname'] + '_calib'\n",
    "pd.DataFrame.forecasts.read_store(stored_modelname_calib, run=dev_id)[stepcols]"
   ],
   "metadata": {
    "collapsed": false,
    "ExecuteTime": {
     "end_time": "2023-09-28T10:27:37.612513Z",
     "start_time": "2023-09-28T10:27:37.144265Z"
    }
   },
   "id": "f01ad46ac2f547bd"
  },
  {
   "cell_type": "markdown",
   "id": "f3ec1bfa",
   "metadata": {
    "ExecuteTime": {
     "end_time": "2023-09-22T08:38:55.194955Z",
     "start_time": "2023-09-22T08:38:55.179952Z"
    }
   },
   "source": [
    "# Retrieve and calibrate predictions"
   ]
  },
  {
   "cell_type": "code",
   "execution_count": 30,
   "id": "9b1a4ce9",
   "metadata": {
    "ExecuteTime": {
     "end_time": "2023-09-28T10:27:52.652767Z",
     "start_time": "2023-09-28T10:27:37.611281Z"
    }
   },
   "outputs": [
    {
     "name": "stdout",
     "output_type": "stream",
     "text": [
      "0 fatalities003_nl_baseline_rf\n",
      "pr_56_cm_fatalities003_nl_baseline_rf_calib.parquet\n",
      "pr_56_cm_fatalities003_nl_baseline_rf_test.parquet\n",
      "1 fatalities003_nl_conflicthistory_rf\n",
      "pr_56_cm_fatalities003_nl_conflicthistory_rf_calib.parquet\n",
      "pr_56_cm_fatalities003_nl_conflicthistory_rf_test.parquet\n",
      "2 fatalities003_nl_conflicthistory_hurdle_lgb\n",
      "pr_56_cm_fatalities003_nl_conflicthistory_hurdle_lgb_calib.parquet\n",
      "pr_56_cm_fatalities003_nl_conflicthistory_hurdle_lgb_test.parquet\n",
      "3 fatalities003_nl_conflicthistory_long_xgb\n",
      "pr_56_cm_fatalities003_nl_conflicthistory_long_xgb_calib.parquet\n",
      "pr_56_cm_fatalities003_nl_conflicthistory_long_xgb_test.parquet\n",
      "4 fatalities003_nl_vdem_hurdle_xgb\n",
      "pr_56_cm_fatalities003_nl_vdem_hurdle_xgb_calib.parquet\n",
      "pr_56_cm_fatalities003_nl_vdem_hurdle_xgb_test.parquet\n",
      "5 fatalities003_nl_wdi_rf\n",
      "pr_56_cm_fatalities003_nl_wdi_rf_calib.parquet\n",
      "pr_56_cm_fatalities003_nl_wdi_rf_test.parquet\n",
      "6 fatalities003_nl_topics_rf\n",
      "pr_56_cm_fatalities003_nl_topics_rf_calib.parquet\n",
      "pr_56_cm_fatalities003_nl_topics_rf_test.parquet\n",
      "7 fatalities003_nl_topics_xgb\n",
      "pr_56_cm_fatalities003_nl_topics_xgb_calib.parquet\n",
      "pr_56_cm_fatalities003_nl_topics_xgb_test.parquet\n",
      "8 fatalities003_nl_topics_hurdle_lgb\n",
      "pr_56_cm_fatalities003_nl_topics_hurdle_lgb_calib.parquet\n",
      "pr_56_cm_fatalities003_nl_topics_hurdle_lgb_test.parquet\n",
      "9 fatalities003_nl_joint_broad_rf\n",
      "pr_56_cm_fatalities003_nl_joint_broad_rf_calib.parquet\n",
      "pr_56_cm_fatalities003_nl_joint_broad_rf_test.parquet\n",
      "10 fatalities003_nl_joint_broad_hurdle_rf\n",
      "pr_56_cm_fatalities003_nl_joint_broad_hurdle_rf_calib.parquet\n",
      "pr_56_cm_fatalities003_nl_joint_broad_hurdle_rf_test.parquet\n",
      "11 fatalities003_joint_narrow_xgb\n",
      "pr_56_cm_fatalities003_joint_narrow_xgb_calib.parquet\n",
      "pr_56_cm_fatalities003_joint_narrow_xgb_test.parquet\n",
      "12 fatalities003_nl_joint_narrow_hurdle_xgb\n",
      "pr_56_cm_fatalities003_nl_joint_narrow_hurdle_xgb_calib.parquet\n",
      "pr_56_cm_fatalities003_nl_joint_narrow_hurdle_xgb_test.parquet\n",
      "13 fatalities003_nl_joint_narrow_hurdle_lgb\n",
      "pr_56_cm_fatalities003_nl_joint_narrow_hurdle_lgb_calib.parquet\n",
      "pr_56_cm_fatalities003_nl_joint_narrow_hurdle_lgb_test.parquet\n",
      "14 fatalities003_nl_all_pca3_xgb\n",
      "pr_56_cm_fatalities003_nl_all_pca3_xgb_calib.parquet\n",
      "pr_56_cm_fatalities003_nl_all_pca3_xgb_test.parquet\n",
      "All done\n"
     ]
    }
   ],
   "source": [
    "# Retrieving the predictions for calibration and test partitions\n",
    "# The ModelList contains the predictions organized by model\n",
    "\n",
    "ModelList = RetrieveStoredPredictions(ModelList, steps, EndOfHistory, dev_id, level, get_future)\n",
    "\n",
    "# ModelList = CalibratePredictions(ModelList, EndOfHistory, steps)"
   ]
  },
  {
   "cell_type": "code",
   "execution_count": 31,
   "outputs": [
    {
     "data": {
      "text/plain": "                     ged_sb_dep  step_pred_1  step_pred_2  step_pred_3  \\\nmonth_id country_id                                                      \n445      1             0.000000     0.009167     0.009891     0.012589   \n         2             0.000000     0.009167     0.009697     0.012589   \n         3             0.000000     0.009167     0.009697     0.011348   \n         4             0.000000     0.012901     0.020516     0.017851   \n         5             0.000000     0.009167     0.009697     0.012589   \n...                         ...          ...          ...          ...   \n492      242           0.000000     1.366919     1.430469     0.029422   \n         243           0.000000     1.099701     0.009697     0.011619   \n         244           0.000000     0.009613     0.011301     0.013539   \n         245           0.000000     0.755424     2.479162     4.422010   \n         246           0.000000     4.553240     2.658582     4.642549   \n\n                     step_pred_4  step_pred_5  step_pred_6  step_pred_7  \\\nmonth_id country_id                                                       \n445      1              0.013190     0.013403     0.015648     0.015318   \n         2              0.013058     0.013226     0.014898     0.015174   \n         3              0.013058     0.013226     0.014898     0.015174   \n         4              0.025427     0.028214     0.028537     0.023996   \n         5              0.013058     0.013226     0.014898     0.015174   \n...                          ...          ...          ...          ...   \n492      242            0.032619     0.030597     0.042787     0.046214   \n         243            0.013058     0.013226     0.015052     0.015174   \n         244            0.014310     0.014538     0.015642     0.015674   \n         245            7.200095     5.574021     2.070196     0.294606   \n         246            7.120520     6.137676     6.905732     3.119195   \n\n                     step_pred_8  step_pred_9  ...  step_pred_27  \\\nmonth_id country_id                            ...                 \n445      1              0.028433     0.018103  ...      0.024727   \n         2              0.028433     0.018103  ...      0.019271   \n         3              0.014908     0.014455  ...      0.019271   \n         4              0.037756     0.020045  ...      0.030460   \n         5              0.028433     0.018103  ...      0.019271   \n...                          ...          ...  ...           ...   \n492      242            0.057206     0.067597  ...      0.157345   \n         243            0.014908     0.014812  ...      0.019453   \n         244            0.018947     0.014960  ...      0.039761   \n         245            0.310444     0.391680  ...     12.175900   \n         246            2.875350     3.554297  ...      7.959874   \n\n                     step_pred_28  step_pred_29  step_pred_30  step_pred_31  \\\nmonth_id country_id                                                           \n445      1               0.034935      0.030096      0.031895      0.026588   \n         2               0.019915      0.021934      0.020112      0.019567   \n         3               0.019915      0.021934      0.020112      0.019567   \n         4               0.030369      0.035826      0.052080      0.057105   \n         5               0.019915      0.021934      0.020112      0.019567   \n...                           ...           ...           ...           ...   \n492      242             0.160875      0.168210      0.171885      0.185036   \n         243             0.020766      0.021934      0.020112      0.019906   \n         244             0.042759      0.042088      0.042418      0.042666   \n         245            10.848603     36.012710     27.432978     24.526728   \n         246            12.850042     14.084732     24.437838     20.904996   \n\n                     step_pred_32  step_pred_33  step_pred_34  step_pred_35  \\\nmonth_id country_id                                                           \n445      1               0.028692      0.028179      0.025854      0.027549   \n         2               0.019655      0.018728      0.017578      0.017987   \n         3               0.019655      0.018728      0.017578      0.017987   \n         4               0.080281      0.085169      0.101610      0.126006   \n         5               0.019655      0.018728      0.017578      0.017987   \n...                           ...           ...           ...           ...   \n492      242             0.177733      0.186591      0.179903      0.183747   \n         243             0.020171      0.019127      0.018131      0.017987   \n         244             0.035804      0.032693      0.032309      0.049032   \n         245            18.529865      8.097266      9.904621     14.033304   \n         246            11.815313     23.235564     17.911397     21.435212   \n\n                     step_pred_36  \nmonth_id country_id                \n445      1               0.028055  \n         2               0.018030  \n         3               0.018030  \n         4               0.139494  \n         5               0.018030  \n...                           ...  \n492      242             0.212211  \n         243             0.018030  \n         244             0.037846  \n         245             9.300242  \n         246            12.710398  \n\n[9168 rows x 37 columns]",
      "text/html": "<div>\n<style scoped>\n    .dataframe tbody tr th:only-of-type {\n        vertical-align: middle;\n    }\n\n    .dataframe tbody tr th {\n        vertical-align: top;\n    }\n\n    .dataframe thead th {\n        text-align: right;\n    }\n</style>\n<table border=\"1\" class=\"dataframe\">\n  <thead>\n    <tr style=\"text-align: right;\">\n      <th></th>\n      <th></th>\n      <th>ged_sb_dep</th>\n      <th>step_pred_1</th>\n      <th>step_pred_2</th>\n      <th>step_pred_3</th>\n      <th>step_pred_4</th>\n      <th>step_pred_5</th>\n      <th>step_pred_6</th>\n      <th>step_pred_7</th>\n      <th>step_pred_8</th>\n      <th>step_pred_9</th>\n      <th>...</th>\n      <th>step_pred_27</th>\n      <th>step_pred_28</th>\n      <th>step_pred_29</th>\n      <th>step_pred_30</th>\n      <th>step_pred_31</th>\n      <th>step_pred_32</th>\n      <th>step_pred_33</th>\n      <th>step_pred_34</th>\n      <th>step_pred_35</th>\n      <th>step_pred_36</th>\n    </tr>\n    <tr>\n      <th>month_id</th>\n      <th>country_id</th>\n      <th></th>\n      <th></th>\n      <th></th>\n      <th></th>\n      <th></th>\n      <th></th>\n      <th></th>\n      <th></th>\n      <th></th>\n      <th></th>\n      <th></th>\n      <th></th>\n      <th></th>\n      <th></th>\n      <th></th>\n      <th></th>\n      <th></th>\n      <th></th>\n      <th></th>\n      <th></th>\n      <th></th>\n    </tr>\n  </thead>\n  <tbody>\n    <tr>\n      <th rowspan=\"5\" valign=\"top\">445</th>\n      <th>1</th>\n      <td>0.000000</td>\n      <td>0.009167</td>\n      <td>0.009891</td>\n      <td>0.012589</td>\n      <td>0.013190</td>\n      <td>0.013403</td>\n      <td>0.015648</td>\n      <td>0.015318</td>\n      <td>0.028433</td>\n      <td>0.018103</td>\n      <td>...</td>\n      <td>0.024727</td>\n      <td>0.034935</td>\n      <td>0.030096</td>\n      <td>0.031895</td>\n      <td>0.026588</td>\n      <td>0.028692</td>\n      <td>0.028179</td>\n      <td>0.025854</td>\n      <td>0.027549</td>\n      <td>0.028055</td>\n    </tr>\n    <tr>\n      <th>2</th>\n      <td>0.000000</td>\n      <td>0.009167</td>\n      <td>0.009697</td>\n      <td>0.012589</td>\n      <td>0.013058</td>\n      <td>0.013226</td>\n      <td>0.014898</td>\n      <td>0.015174</td>\n      <td>0.028433</td>\n      <td>0.018103</td>\n      <td>...</td>\n      <td>0.019271</td>\n      <td>0.019915</td>\n      <td>0.021934</td>\n      <td>0.020112</td>\n      <td>0.019567</td>\n      <td>0.019655</td>\n      <td>0.018728</td>\n      <td>0.017578</td>\n      <td>0.017987</td>\n      <td>0.018030</td>\n    </tr>\n    <tr>\n      <th>3</th>\n      <td>0.000000</td>\n      <td>0.009167</td>\n      <td>0.009697</td>\n      <td>0.011348</td>\n      <td>0.013058</td>\n      <td>0.013226</td>\n      <td>0.014898</td>\n      <td>0.015174</td>\n      <td>0.014908</td>\n      <td>0.014455</td>\n      <td>...</td>\n      <td>0.019271</td>\n      <td>0.019915</td>\n      <td>0.021934</td>\n      <td>0.020112</td>\n      <td>0.019567</td>\n      <td>0.019655</td>\n      <td>0.018728</td>\n      <td>0.017578</td>\n      <td>0.017987</td>\n      <td>0.018030</td>\n    </tr>\n    <tr>\n      <th>4</th>\n      <td>0.000000</td>\n      <td>0.012901</td>\n      <td>0.020516</td>\n      <td>0.017851</td>\n      <td>0.025427</td>\n      <td>0.028214</td>\n      <td>0.028537</td>\n      <td>0.023996</td>\n      <td>0.037756</td>\n      <td>0.020045</td>\n      <td>...</td>\n      <td>0.030460</td>\n      <td>0.030369</td>\n      <td>0.035826</td>\n      <td>0.052080</td>\n      <td>0.057105</td>\n      <td>0.080281</td>\n      <td>0.085169</td>\n      <td>0.101610</td>\n      <td>0.126006</td>\n      <td>0.139494</td>\n    </tr>\n    <tr>\n      <th>5</th>\n      <td>0.000000</td>\n      <td>0.009167</td>\n      <td>0.009697</td>\n      <td>0.012589</td>\n      <td>0.013058</td>\n      <td>0.013226</td>\n      <td>0.014898</td>\n      <td>0.015174</td>\n      <td>0.028433</td>\n      <td>0.018103</td>\n      <td>...</td>\n      <td>0.019271</td>\n      <td>0.019915</td>\n      <td>0.021934</td>\n      <td>0.020112</td>\n      <td>0.019567</td>\n      <td>0.019655</td>\n      <td>0.018728</td>\n      <td>0.017578</td>\n      <td>0.017987</td>\n      <td>0.018030</td>\n    </tr>\n    <tr>\n      <th>...</th>\n      <th>...</th>\n      <td>...</td>\n      <td>...</td>\n      <td>...</td>\n      <td>...</td>\n      <td>...</td>\n      <td>...</td>\n      <td>...</td>\n      <td>...</td>\n      <td>...</td>\n      <td>...</td>\n      <td>...</td>\n      <td>...</td>\n      <td>...</td>\n      <td>...</td>\n      <td>...</td>\n      <td>...</td>\n      <td>...</td>\n      <td>...</td>\n      <td>...</td>\n      <td>...</td>\n      <td>...</td>\n    </tr>\n    <tr>\n      <th rowspan=\"5\" valign=\"top\">492</th>\n      <th>242</th>\n      <td>0.000000</td>\n      <td>1.366919</td>\n      <td>1.430469</td>\n      <td>0.029422</td>\n      <td>0.032619</td>\n      <td>0.030597</td>\n      <td>0.042787</td>\n      <td>0.046214</td>\n      <td>0.057206</td>\n      <td>0.067597</td>\n      <td>...</td>\n      <td>0.157345</td>\n      <td>0.160875</td>\n      <td>0.168210</td>\n      <td>0.171885</td>\n      <td>0.185036</td>\n      <td>0.177733</td>\n      <td>0.186591</td>\n      <td>0.179903</td>\n      <td>0.183747</td>\n      <td>0.212211</td>\n    </tr>\n    <tr>\n      <th>243</th>\n      <td>0.000000</td>\n      <td>1.099701</td>\n      <td>0.009697</td>\n      <td>0.011619</td>\n      <td>0.013058</td>\n      <td>0.013226</td>\n      <td>0.015052</td>\n      <td>0.015174</td>\n      <td>0.014908</td>\n      <td>0.014812</td>\n      <td>...</td>\n      <td>0.019453</td>\n      <td>0.020766</td>\n      <td>0.021934</td>\n      <td>0.020112</td>\n      <td>0.019906</td>\n      <td>0.020171</td>\n      <td>0.019127</td>\n      <td>0.018131</td>\n      <td>0.017987</td>\n      <td>0.018030</td>\n    </tr>\n    <tr>\n      <th>244</th>\n      <td>0.000000</td>\n      <td>0.009613</td>\n      <td>0.011301</td>\n      <td>0.013539</td>\n      <td>0.014310</td>\n      <td>0.014538</td>\n      <td>0.015642</td>\n      <td>0.015674</td>\n      <td>0.018947</td>\n      <td>0.014960</td>\n      <td>...</td>\n      <td>0.039761</td>\n      <td>0.042759</td>\n      <td>0.042088</td>\n      <td>0.042418</td>\n      <td>0.042666</td>\n      <td>0.035804</td>\n      <td>0.032693</td>\n      <td>0.032309</td>\n      <td>0.049032</td>\n      <td>0.037846</td>\n    </tr>\n    <tr>\n      <th>245</th>\n      <td>0.000000</td>\n      <td>0.755424</td>\n      <td>2.479162</td>\n      <td>4.422010</td>\n      <td>7.200095</td>\n      <td>5.574021</td>\n      <td>2.070196</td>\n      <td>0.294606</td>\n      <td>0.310444</td>\n      <td>0.391680</td>\n      <td>...</td>\n      <td>12.175900</td>\n      <td>10.848603</td>\n      <td>36.012710</td>\n      <td>27.432978</td>\n      <td>24.526728</td>\n      <td>18.529865</td>\n      <td>8.097266</td>\n      <td>9.904621</td>\n      <td>14.033304</td>\n      <td>9.300242</td>\n    </tr>\n    <tr>\n      <th>246</th>\n      <td>0.000000</td>\n      <td>4.553240</td>\n      <td>2.658582</td>\n      <td>4.642549</td>\n      <td>7.120520</td>\n      <td>6.137676</td>\n      <td>6.905732</td>\n      <td>3.119195</td>\n      <td>2.875350</td>\n      <td>3.554297</td>\n      <td>...</td>\n      <td>7.959874</td>\n      <td>12.850042</td>\n      <td>14.084732</td>\n      <td>24.437838</td>\n      <td>20.904996</td>\n      <td>11.815313</td>\n      <td>23.235564</td>\n      <td>17.911397</td>\n      <td>21.435212</td>\n      <td>12.710398</td>\n    </tr>\n  </tbody>\n</table>\n<p>9168 rows × 37 columns</p>\n</div>"
     },
     "execution_count": 31,
     "metadata": {},
     "output_type": "execute_result"
    }
   ],
   "source": [
    "ModelList[11]['predictions_calib_df'] = ModelList[11]['predictions_calib_df'].applymap(lambda x: np.exp(x) - 1)\n",
    "ModelList[11]['predictions_calib_df'].rename(columns={'ln_ged_sb_dep':'ged_sb_dep'}, inplace=True)\n",
    "ModelList[11]['predictions_test_df'] = ModelList[11]['predictions_test_df'].applymap(lambda x: np.exp(x) - 1)\n",
    "ModelList[11]['predictions_test_df'].rename(columns={'ln_ged_sb_dep':'ged_sb_dep'}, inplace=True)\n",
    "ModelList[11]['predictions_test_df']"
   ],
   "metadata": {
    "collapsed": false,
    "ExecuteTime": {
     "end_time": "2023-09-28T10:27:53.024844Z",
     "start_time": "2023-09-28T10:27:52.834368Z"
    }
   },
   "id": "3e56fbc79accc3"
  },
  {
   "cell_type": "code",
   "execution_count": 32,
   "outputs": [],
   "source": [
    "ModelList[12]['predictions_calib_df'] = ModelList[12]['predictions_calib_df'].applymap(lambda x: np.exp(x) - 1)\n",
    "ModelList[13]['predictions_calib_df'] = ModelList[13]['predictions_calib_df'].applymap(lambda x: np.exp(x) - 1)\n",
    "ModelList[12]['predictions_test_df'] = ModelList[12]['predictions_test_df'].applymap(lambda x: np.exp(x) - 1)\n",
    "ModelList[13]['predictions_test_df'] = ModelList[13]['predictions_test_df'].applymap(lambda x: np.exp(x) - 1)\n"
   ],
   "metadata": {
    "collapsed": false,
    "ExecuteTime": {
     "end_time": "2023-09-28T10:27:53.793613Z",
     "start_time": "2023-09-28T10:27:53.209034Z"
    }
   },
   "id": "6a6fa9a4bca6b51d"
  },
  {
   "cell_type": "markdown",
   "source": [
    "# Evaluate models"
   ],
   "metadata": {
    "collapsed": false
   },
   "id": "468b6358e89871d8"
  },
  {
   "cell_type": "code",
   "execution_count": 33,
   "outputs": [],
   "source": [
    "prediction_df = 'predictions_calib_df'\n",
    "# prediction_df = 'predictions_test_df'"
   ],
   "metadata": {
    "collapsed": false,
    "ExecuteTime": {
     "end_time": "2023-09-28T10:27:53.796627Z",
     "start_time": "2023-09-28T10:27:53.793971Z"
    }
   },
   "id": "b3488d1b722e01de"
  },
  {
   "cell_type": "code",
   "execution_count": 34,
   "outputs": [],
   "source": [
    "def calculate_mse(ModelList, prediction_df):\n",
    "    for model in ModelList:\n",
    "        df = model[prediction_df]\n",
    "        pred_cols = [f'step_pred_{str(i)}' for i in steps]\n",
    "        df['mse'] = df.apply(lambda row: mean_squared_error([row['ged_sb_dep']] * 36, \n",
    "                            [row[col] for col in pred_cols]), axis=1)\n",
    "\n",
    "def get_model_mse(ModelList, prediction_df):\n",
    "    model_mse = {'model': [], 'mse': []}\n",
    "    for model in ModelList:\n",
    "        name = model['modelname']\n",
    "        df = model[prediction_df]\n",
    "        model_mse['model'].append(name)\n",
    "        model_mse['mse'].append(df['mse'].mean()) \n",
    "    df_model_mse = pd.DataFrame(model_mse)\n",
    "    return df_model_mse\n",
    "\n",
    "def get_top_10_cases(ModelList, prediction_df):\n",
    "    top_10_cases = {'model': [], 'month_id': [], 'country_id': [], 'mse': []}\n",
    "    for model in ModelList:\n",
    "        name = model['modelname']\n",
    "        df = model[prediction_df]\n",
    "        df_sorted_model = df.sort_values(by=['mse'], ascending=False).head(10)\n",
    "        for _ in range(10):\n",
    "            top_10_cases['model'].append(name)\n",
    "        for month in df_sorted_model.index.get_level_values(level=0):\n",
    "            top_10_cases['month_id'].append(month)\n",
    "        for country in df_sorted_model.index.get_level_values(level=1):\n",
    "            top_10_cases['country_id'].append(country)  \n",
    "        for mse in df_sorted_model['mse']:\n",
    "            top_10_cases['mse'].append(mse)\n",
    "    pd_top_10_cases = pd.DataFrame(top_10_cases)\n",
    "    pd_top_10_cases.set_index('model', inplace=True)\n",
    "    return pd_top_10_cases\n"
   ],
   "metadata": {
    "collapsed": false,
    "ExecuteTime": {
     "end_time": "2023-09-28T10:27:53.804369Z",
     "start_time": "2023-09-28T10:27:53.797048Z"
    }
   },
   "id": "bb557f5c95bc5dd7"
  },
  {
   "cell_type": "code",
   "execution_count": 35,
   "outputs": [],
   "source": [
    "calculate_mse(ModelList, 'predictions_calib_df')\n",
    "calculate_mse(ModelList, 'predictions_test_df')"
   ],
   "metadata": {
    "collapsed": false,
    "ExecuteTime": {
     "end_time": "2023-09-28T10:28:15.583320Z",
     "start_time": "2023-09-28T10:27:53.802985Z"
    }
   },
   "id": "beaee3a0c24c1d56"
  },
  {
   "cell_type": "markdown",
   "source": [
    "## calib_df"
   ],
   "metadata": {
    "collapsed": false
   },
   "id": "32447800c99baec7"
  },
  {
   "cell_type": "code",
   "execution_count": 37,
   "outputs": [
    {
     "data": {
      "text/plain": "                                          model           mse\n0                  fatalities003_nl_baseline_rf 226794.434086\n1           fatalities003_nl_conflicthistory_rf 233468.644101\n2   fatalities003_nl_conflicthistory_hurdle_lgb 208824.486308\n3     fatalities003_nl_conflicthistory_long_xgb 527213.482069\n4              fatalities003_nl_vdem_hurdle_xgb 710133.395333\n5                       fatalities003_nl_wdi_rf 218310.056328\n6                    fatalities003_nl_topics_rf 270199.737508\n7                   fatalities003_nl_topics_xgb 478322.044438\n8            fatalities003_nl_topics_hurdle_lgb 229854.243255\n9               fatalities003_nl_joint_broad_rf 301660.673825\n10       fatalities003_nl_joint_broad_hurdle_rf 327383.389572\n11               fatalities003_joint_narrow_xgb 228245.116150\n12     fatalities003_nl_joint_narrow_hurdle_xgb 228206.830828\n13     fatalities003_nl_joint_narrow_hurdle_lgb 225942.525280\n14                fatalities003_nl_all_pca3_xgb 345626.226018",
      "text/html": "<div>\n<style scoped>\n    .dataframe tbody tr th:only-of-type {\n        vertical-align: middle;\n    }\n\n    .dataframe tbody tr th {\n        vertical-align: top;\n    }\n\n    .dataframe thead th {\n        text-align: right;\n    }\n</style>\n<table border=\"1\" class=\"dataframe\">\n  <thead>\n    <tr style=\"text-align: right;\">\n      <th></th>\n      <th>model</th>\n      <th>mse</th>\n    </tr>\n  </thead>\n  <tbody>\n    <tr>\n      <th>0</th>\n      <td>fatalities003_nl_baseline_rf</td>\n      <td>226794.434086</td>\n    </tr>\n    <tr>\n      <th>1</th>\n      <td>fatalities003_nl_conflicthistory_rf</td>\n      <td>233468.644101</td>\n    </tr>\n    <tr>\n      <th>2</th>\n      <td>fatalities003_nl_conflicthistory_hurdle_lgb</td>\n      <td>208824.486308</td>\n    </tr>\n    <tr>\n      <th>3</th>\n      <td>fatalities003_nl_conflicthistory_long_xgb</td>\n      <td>527213.482069</td>\n    </tr>\n    <tr>\n      <th>4</th>\n      <td>fatalities003_nl_vdem_hurdle_xgb</td>\n      <td>710133.395333</td>\n    </tr>\n    <tr>\n      <th>5</th>\n      <td>fatalities003_nl_wdi_rf</td>\n      <td>218310.056328</td>\n    </tr>\n    <tr>\n      <th>6</th>\n      <td>fatalities003_nl_topics_rf</td>\n      <td>270199.737508</td>\n    </tr>\n    <tr>\n      <th>7</th>\n      <td>fatalities003_nl_topics_xgb</td>\n      <td>478322.044438</td>\n    </tr>\n    <tr>\n      <th>8</th>\n      <td>fatalities003_nl_topics_hurdle_lgb</td>\n      <td>229854.243255</td>\n    </tr>\n    <tr>\n      <th>9</th>\n      <td>fatalities003_nl_joint_broad_rf</td>\n      <td>301660.673825</td>\n    </tr>\n    <tr>\n      <th>10</th>\n      <td>fatalities003_nl_joint_broad_hurdle_rf</td>\n      <td>327383.389572</td>\n    </tr>\n    <tr>\n      <th>11</th>\n      <td>fatalities003_joint_narrow_xgb</td>\n      <td>228245.116150</td>\n    </tr>\n    <tr>\n      <th>12</th>\n      <td>fatalities003_nl_joint_narrow_hurdle_xgb</td>\n      <td>228206.830828</td>\n    </tr>\n    <tr>\n      <th>13</th>\n      <td>fatalities003_nl_joint_narrow_hurdle_lgb</td>\n      <td>225942.525280</td>\n    </tr>\n    <tr>\n      <th>14</th>\n      <td>fatalities003_nl_all_pca3_xgb</td>\n      <td>345626.226018</td>\n    </tr>\n  </tbody>\n</table>\n</div>"
     },
     "execution_count": 37,
     "metadata": {},
     "output_type": "execute_result"
    }
   ],
   "source": [
    "get_model_mse(ModelList, 'predictions_calib_df') "
   ],
   "metadata": {
    "collapsed": false,
    "ExecuteTime": {
     "end_time": "2023-09-28T10:28:26.320380Z",
     "start_time": "2023-09-28T10:28:26.314383Z"
    }
   },
   "id": "a607760353a10553"
  },
  {
   "cell_type": "code",
   "execution_count": 38,
   "outputs": [
    {
     "data": {
      "text/plain": "                                          model           mse\n2   fatalities003_nl_conflicthistory_hurdle_lgb 208824.486308\n5                       fatalities003_nl_wdi_rf 218310.056328\n13     fatalities003_nl_joint_narrow_hurdle_lgb 225942.525280\n0                  fatalities003_nl_baseline_rf 226794.434086\n12     fatalities003_nl_joint_narrow_hurdle_xgb 228206.830828\n11               fatalities003_joint_narrow_xgb 228245.116150\n8            fatalities003_nl_topics_hurdle_lgb 229854.243255\n1           fatalities003_nl_conflicthistory_rf 233468.644101\n6                    fatalities003_nl_topics_rf 270199.737508\n9               fatalities003_nl_joint_broad_rf 301660.673825\n10       fatalities003_nl_joint_broad_hurdle_rf 327383.389572\n14                fatalities003_nl_all_pca3_xgb 345626.226018\n7                   fatalities003_nl_topics_xgb 478322.044438\n3     fatalities003_nl_conflicthistory_long_xgb 527213.482069\n4              fatalities003_nl_vdem_hurdle_xgb 710133.395333",
      "text/html": "<div>\n<style scoped>\n    .dataframe tbody tr th:only-of-type {\n        vertical-align: middle;\n    }\n\n    .dataframe tbody tr th {\n        vertical-align: top;\n    }\n\n    .dataframe thead th {\n        text-align: right;\n    }\n</style>\n<table border=\"1\" class=\"dataframe\">\n  <thead>\n    <tr style=\"text-align: right;\">\n      <th></th>\n      <th>model</th>\n      <th>mse</th>\n    </tr>\n  </thead>\n  <tbody>\n    <tr>\n      <th>2</th>\n      <td>fatalities003_nl_conflicthistory_hurdle_lgb</td>\n      <td>208824.486308</td>\n    </tr>\n    <tr>\n      <th>5</th>\n      <td>fatalities003_nl_wdi_rf</td>\n      <td>218310.056328</td>\n    </tr>\n    <tr>\n      <th>13</th>\n      <td>fatalities003_nl_joint_narrow_hurdle_lgb</td>\n      <td>225942.525280</td>\n    </tr>\n    <tr>\n      <th>0</th>\n      <td>fatalities003_nl_baseline_rf</td>\n      <td>226794.434086</td>\n    </tr>\n    <tr>\n      <th>12</th>\n      <td>fatalities003_nl_joint_narrow_hurdle_xgb</td>\n      <td>228206.830828</td>\n    </tr>\n    <tr>\n      <th>11</th>\n      <td>fatalities003_joint_narrow_xgb</td>\n      <td>228245.116150</td>\n    </tr>\n    <tr>\n      <th>8</th>\n      <td>fatalities003_nl_topics_hurdle_lgb</td>\n      <td>229854.243255</td>\n    </tr>\n    <tr>\n      <th>1</th>\n      <td>fatalities003_nl_conflicthistory_rf</td>\n      <td>233468.644101</td>\n    </tr>\n    <tr>\n      <th>6</th>\n      <td>fatalities003_nl_topics_rf</td>\n      <td>270199.737508</td>\n    </tr>\n    <tr>\n      <th>9</th>\n      <td>fatalities003_nl_joint_broad_rf</td>\n      <td>301660.673825</td>\n    </tr>\n    <tr>\n      <th>10</th>\n      <td>fatalities003_nl_joint_broad_hurdle_rf</td>\n      <td>327383.389572</td>\n    </tr>\n    <tr>\n      <th>14</th>\n      <td>fatalities003_nl_all_pca3_xgb</td>\n      <td>345626.226018</td>\n    </tr>\n    <tr>\n      <th>7</th>\n      <td>fatalities003_nl_topics_xgb</td>\n      <td>478322.044438</td>\n    </tr>\n    <tr>\n      <th>3</th>\n      <td>fatalities003_nl_conflicthistory_long_xgb</td>\n      <td>527213.482069</td>\n    </tr>\n    <tr>\n      <th>4</th>\n      <td>fatalities003_nl_vdem_hurdle_xgb</td>\n      <td>710133.395333</td>\n    </tr>\n  </tbody>\n</table>\n</div>"
     },
     "execution_count": 38,
     "metadata": {},
     "output_type": "execute_result"
    }
   ],
   "source": [
    "get_model_mse(ModelList, 'predictions_calib_df').sort_values(by=['mse'])"
   ],
   "metadata": {
    "collapsed": false,
    "ExecuteTime": {
     "end_time": "2023-09-28T10:28:26.338440Z",
     "start_time": "2023-09-28T10:28:26.321001Z"
    }
   },
   "id": "503172bc0e1532c6"
  },
  {
   "cell_type": "code",
   "execution_count": 39,
   "outputs": [
    {
     "data": {
      "text/plain": "                               month_id  country_id              mse\nmodel                                                               \nfatalities003_nl_baseline_rf        420         220 343347462.743495\nfatalities003_nl_baseline_rf        408         220 339572761.048223\nfatalities003_nl_baseline_rf        444         220 288867512.324259\nfatalities003_nl_baseline_rf        432         220 276694196.499313\nfatalities003_nl_baseline_rf        398         220  31257369.266348\n...                                 ...         ...              ...\nfatalities003_nl_all_pca3_xgb       422          70  71738516.922842\nfatalities003_nl_all_pca3_xgb       434         220  54954921.294722\nfatalities003_nl_all_pca3_xgb       433         220  53884778.173239\nfatalities003_nl_all_pca3_xgb       438         220  52900032.317508\nfatalities003_nl_all_pca3_xgb       441         220  52528394.967129\n\n[150 rows x 3 columns]",
      "text/html": "<div>\n<style scoped>\n    .dataframe tbody tr th:only-of-type {\n        vertical-align: middle;\n    }\n\n    .dataframe tbody tr th {\n        vertical-align: top;\n    }\n\n    .dataframe thead th {\n        text-align: right;\n    }\n</style>\n<table border=\"1\" class=\"dataframe\">\n  <thead>\n    <tr style=\"text-align: right;\">\n      <th></th>\n      <th>month_id</th>\n      <th>country_id</th>\n      <th>mse</th>\n    </tr>\n    <tr>\n      <th>model</th>\n      <th></th>\n      <th></th>\n      <th></th>\n    </tr>\n  </thead>\n  <tbody>\n    <tr>\n      <th>fatalities003_nl_baseline_rf</th>\n      <td>420</td>\n      <td>220</td>\n      <td>343347462.743495</td>\n    </tr>\n    <tr>\n      <th>fatalities003_nl_baseline_rf</th>\n      <td>408</td>\n      <td>220</td>\n      <td>339572761.048223</td>\n    </tr>\n    <tr>\n      <th>fatalities003_nl_baseline_rf</th>\n      <td>444</td>\n      <td>220</td>\n      <td>288867512.324259</td>\n    </tr>\n    <tr>\n      <th>fatalities003_nl_baseline_rf</th>\n      <td>432</td>\n      <td>220</td>\n      <td>276694196.499313</td>\n    </tr>\n    <tr>\n      <th>fatalities003_nl_baseline_rf</th>\n      <td>398</td>\n      <td>220</td>\n      <td>31257369.266348</td>\n    </tr>\n    <tr>\n      <th>...</th>\n      <td>...</td>\n      <td>...</td>\n      <td>...</td>\n    </tr>\n    <tr>\n      <th>fatalities003_nl_all_pca3_xgb</th>\n      <td>422</td>\n      <td>70</td>\n      <td>71738516.922842</td>\n    </tr>\n    <tr>\n      <th>fatalities003_nl_all_pca3_xgb</th>\n      <td>434</td>\n      <td>220</td>\n      <td>54954921.294722</td>\n    </tr>\n    <tr>\n      <th>fatalities003_nl_all_pca3_xgb</th>\n      <td>433</td>\n      <td>220</td>\n      <td>53884778.173239</td>\n    </tr>\n    <tr>\n      <th>fatalities003_nl_all_pca3_xgb</th>\n      <td>438</td>\n      <td>220</td>\n      <td>52900032.317508</td>\n    </tr>\n    <tr>\n      <th>fatalities003_nl_all_pca3_xgb</th>\n      <td>441</td>\n      <td>220</td>\n      <td>52528394.967129</td>\n    </tr>\n  </tbody>\n</table>\n<p>150 rows × 3 columns</p>\n</div>"
     },
     "execution_count": 39,
     "metadata": {},
     "output_type": "execute_result"
    }
   ],
   "source": [
    "get_top_10_cases(ModelList, 'predictions_calib_df')"
   ],
   "metadata": {
    "collapsed": false,
    "ExecuteTime": {
     "end_time": "2023-09-28T10:28:26.386796Z",
     "start_time": "2023-09-28T10:28:26.325820Z"
    }
   },
   "id": "fa7646b0b098dec2"
  },
  {
   "cell_type": "markdown",
   "source": [
    "## test_df"
   ],
   "metadata": {
    "collapsed": false
   },
   "id": "a5ed2227fb688b31"
  },
  {
   "cell_type": "code",
   "execution_count": 40,
   "outputs": [
    {
     "data": {
      "text/plain": "                                          model           mse\n0                  fatalities003_nl_baseline_rf  49273.511126\n1           fatalities003_nl_conflicthistory_rf 160455.801483\n2   fatalities003_nl_conflicthistory_hurdle_lgb  97776.831939\n3     fatalities003_nl_conflicthistory_long_xgb 665908.011413\n4              fatalities003_nl_vdem_hurdle_xgb  96018.694591\n5                       fatalities003_nl_wdi_rf  48650.088309\n6                    fatalities003_nl_topics_rf 164361.410425\n7                   fatalities003_nl_topics_xgb 256316.802069\n8            fatalities003_nl_topics_hurdle_lgb  66437.400058\n9               fatalities003_nl_joint_broad_rf 328805.902059\n10       fatalities003_nl_joint_broad_hurdle_rf 112196.560290\n11               fatalities003_joint_narrow_xgb  35070.568879\n12     fatalities003_nl_joint_narrow_hurdle_xgb  34570.185765\n13     fatalities003_nl_joint_narrow_hurdle_lgb  32225.830488\n14                fatalities003_nl_all_pca3_xgb 452184.914639",
      "text/html": "<div>\n<style scoped>\n    .dataframe tbody tr th:only-of-type {\n        vertical-align: middle;\n    }\n\n    .dataframe tbody tr th {\n        vertical-align: top;\n    }\n\n    .dataframe thead th {\n        text-align: right;\n    }\n</style>\n<table border=\"1\" class=\"dataframe\">\n  <thead>\n    <tr style=\"text-align: right;\">\n      <th></th>\n      <th>model</th>\n      <th>mse</th>\n    </tr>\n  </thead>\n  <tbody>\n    <tr>\n      <th>0</th>\n      <td>fatalities003_nl_baseline_rf</td>\n      <td>49273.511126</td>\n    </tr>\n    <tr>\n      <th>1</th>\n      <td>fatalities003_nl_conflicthistory_rf</td>\n      <td>160455.801483</td>\n    </tr>\n    <tr>\n      <th>2</th>\n      <td>fatalities003_nl_conflicthistory_hurdle_lgb</td>\n      <td>97776.831939</td>\n    </tr>\n    <tr>\n      <th>3</th>\n      <td>fatalities003_nl_conflicthistory_long_xgb</td>\n      <td>665908.011413</td>\n    </tr>\n    <tr>\n      <th>4</th>\n      <td>fatalities003_nl_vdem_hurdle_xgb</td>\n      <td>96018.694591</td>\n    </tr>\n    <tr>\n      <th>5</th>\n      <td>fatalities003_nl_wdi_rf</td>\n      <td>48650.088309</td>\n    </tr>\n    <tr>\n      <th>6</th>\n      <td>fatalities003_nl_topics_rf</td>\n      <td>164361.410425</td>\n    </tr>\n    <tr>\n      <th>7</th>\n      <td>fatalities003_nl_topics_xgb</td>\n      <td>256316.802069</td>\n    </tr>\n    <tr>\n      <th>8</th>\n      <td>fatalities003_nl_topics_hurdle_lgb</td>\n      <td>66437.400058</td>\n    </tr>\n    <tr>\n      <th>9</th>\n      <td>fatalities003_nl_joint_broad_rf</td>\n      <td>328805.902059</td>\n    </tr>\n    <tr>\n      <th>10</th>\n      <td>fatalities003_nl_joint_broad_hurdle_rf</td>\n      <td>112196.560290</td>\n    </tr>\n    <tr>\n      <th>11</th>\n      <td>fatalities003_joint_narrow_xgb</td>\n      <td>35070.568879</td>\n    </tr>\n    <tr>\n      <th>12</th>\n      <td>fatalities003_nl_joint_narrow_hurdle_xgb</td>\n      <td>34570.185765</td>\n    </tr>\n    <tr>\n      <th>13</th>\n      <td>fatalities003_nl_joint_narrow_hurdle_lgb</td>\n      <td>32225.830488</td>\n    </tr>\n    <tr>\n      <th>14</th>\n      <td>fatalities003_nl_all_pca3_xgb</td>\n      <td>452184.914639</td>\n    </tr>\n  </tbody>\n</table>\n</div>"
     },
     "execution_count": 40,
     "metadata": {},
     "output_type": "execute_result"
    }
   ],
   "source": [
    "get_model_mse(ModelList, 'predictions_test_df') "
   ],
   "metadata": {
    "collapsed": false,
    "ExecuteTime": {
     "end_time": "2023-09-28T10:28:26.387170Z",
     "start_time": "2023-09-28T10:28:26.348773Z"
    }
   },
   "id": "7064ca7ef3be2a04"
  },
  {
   "cell_type": "code",
   "execution_count": 41,
   "outputs": [
    {
     "data": {
      "text/plain": "                                          model           mse\n13     fatalities003_nl_joint_narrow_hurdle_lgb  32225.830488\n12     fatalities003_nl_joint_narrow_hurdle_xgb  34570.185765\n11               fatalities003_joint_narrow_xgb  35070.568879\n5                       fatalities003_nl_wdi_rf  48650.088309\n0                  fatalities003_nl_baseline_rf  49273.511126\n8            fatalities003_nl_topics_hurdle_lgb  66437.400058\n4              fatalities003_nl_vdem_hurdle_xgb  96018.694591\n2   fatalities003_nl_conflicthistory_hurdle_lgb  97776.831939\n10       fatalities003_nl_joint_broad_hurdle_rf 112196.560290\n1           fatalities003_nl_conflicthistory_rf 160455.801483\n6                    fatalities003_nl_topics_rf 164361.410425\n7                   fatalities003_nl_topics_xgb 256316.802069\n9               fatalities003_nl_joint_broad_rf 328805.902059\n14                fatalities003_nl_all_pca3_xgb 452184.914639\n3     fatalities003_nl_conflicthistory_long_xgb 665908.011413",
      "text/html": "<div>\n<style scoped>\n    .dataframe tbody tr th:only-of-type {\n        vertical-align: middle;\n    }\n\n    .dataframe tbody tr th {\n        vertical-align: top;\n    }\n\n    .dataframe thead th {\n        text-align: right;\n    }\n</style>\n<table border=\"1\" class=\"dataframe\">\n  <thead>\n    <tr style=\"text-align: right;\">\n      <th></th>\n      <th>model</th>\n      <th>mse</th>\n    </tr>\n  </thead>\n  <tbody>\n    <tr>\n      <th>13</th>\n      <td>fatalities003_nl_joint_narrow_hurdle_lgb</td>\n      <td>32225.830488</td>\n    </tr>\n    <tr>\n      <th>12</th>\n      <td>fatalities003_nl_joint_narrow_hurdle_xgb</td>\n      <td>34570.185765</td>\n    </tr>\n    <tr>\n      <th>11</th>\n      <td>fatalities003_joint_narrow_xgb</td>\n      <td>35070.568879</td>\n    </tr>\n    <tr>\n      <th>5</th>\n      <td>fatalities003_nl_wdi_rf</td>\n      <td>48650.088309</td>\n    </tr>\n    <tr>\n      <th>0</th>\n      <td>fatalities003_nl_baseline_rf</td>\n      <td>49273.511126</td>\n    </tr>\n    <tr>\n      <th>8</th>\n      <td>fatalities003_nl_topics_hurdle_lgb</td>\n      <td>66437.400058</td>\n    </tr>\n    <tr>\n      <th>4</th>\n      <td>fatalities003_nl_vdem_hurdle_xgb</td>\n      <td>96018.694591</td>\n    </tr>\n    <tr>\n      <th>2</th>\n      <td>fatalities003_nl_conflicthistory_hurdle_lgb</td>\n      <td>97776.831939</td>\n    </tr>\n    <tr>\n      <th>10</th>\n      <td>fatalities003_nl_joint_broad_hurdle_rf</td>\n      <td>112196.560290</td>\n    </tr>\n    <tr>\n      <th>1</th>\n      <td>fatalities003_nl_conflicthistory_rf</td>\n      <td>160455.801483</td>\n    </tr>\n    <tr>\n      <th>6</th>\n      <td>fatalities003_nl_topics_rf</td>\n      <td>164361.410425</td>\n    </tr>\n    <tr>\n      <th>7</th>\n      <td>fatalities003_nl_topics_xgb</td>\n      <td>256316.802069</td>\n    </tr>\n    <tr>\n      <th>9</th>\n      <td>fatalities003_nl_joint_broad_rf</td>\n      <td>328805.902059</td>\n    </tr>\n    <tr>\n      <th>14</th>\n      <td>fatalities003_nl_all_pca3_xgb</td>\n      <td>452184.914639</td>\n    </tr>\n    <tr>\n      <th>3</th>\n      <td>fatalities003_nl_conflicthistory_long_xgb</td>\n      <td>665908.011413</td>\n    </tr>\n  </tbody>\n</table>\n</div>"
     },
     "execution_count": 41,
     "metadata": {},
     "output_type": "execute_result"
    }
   ],
   "source": [
    "get_model_mse(ModelList, 'predictions_test_df').sort_values(by=['mse'])"
   ],
   "metadata": {
    "collapsed": false,
    "ExecuteTime": {
     "end_time": "2023-09-28T10:28:26.404621Z",
     "start_time": "2023-09-28T10:28:26.353846Z"
    }
   },
   "id": "24f1f59653f8258d"
  },
  {
   "cell_type": "code",
   "execution_count": 43,
   "outputs": [
    {
     "data": {
      "text/plain": "                               month_id  country_id             mse\nmodel                                                              \nfatalities003_nl_baseline_rf        491         126 35522881.008833\nfatalities003_nl_baseline_rf        475         133 11948512.565489\nfatalities003_nl_baseline_rf        477         133 11072773.401089\nfatalities003_nl_baseline_rf        489         213  9913754.491375\nfatalities003_nl_baseline_rf        468         149  9209752.885938\n...                                 ...         ...             ...\nfatalities003_nl_all_pca3_xgb       461         220 81984914.902293\nfatalities003_nl_all_pca3_xgb       469         220 81275477.184191\nfatalities003_nl_all_pca3_xgb       470         220 79672313.412752\nfatalities003_nl_all_pca3_xgb       462         220 79381887.018645\nfatalities003_nl_all_pca3_xgb       465         220 78550098.449616\n\n[150 rows x 3 columns]",
      "text/html": "<div>\n<style scoped>\n    .dataframe tbody tr th:only-of-type {\n        vertical-align: middle;\n    }\n\n    .dataframe tbody tr th {\n        vertical-align: top;\n    }\n\n    .dataframe thead th {\n        text-align: right;\n    }\n</style>\n<table border=\"1\" class=\"dataframe\">\n  <thead>\n    <tr style=\"text-align: right;\">\n      <th></th>\n      <th>month_id</th>\n      <th>country_id</th>\n      <th>mse</th>\n    </tr>\n    <tr>\n      <th>model</th>\n      <th></th>\n      <th></th>\n      <th></th>\n    </tr>\n  </thead>\n  <tbody>\n    <tr>\n      <th>fatalities003_nl_baseline_rf</th>\n      <td>491</td>\n      <td>126</td>\n      <td>35522881.008833</td>\n    </tr>\n    <tr>\n      <th>fatalities003_nl_baseline_rf</th>\n      <td>475</td>\n      <td>133</td>\n      <td>11948512.565489</td>\n    </tr>\n    <tr>\n      <th>fatalities003_nl_baseline_rf</th>\n      <td>477</td>\n      <td>133</td>\n      <td>11072773.401089</td>\n    </tr>\n    <tr>\n      <th>fatalities003_nl_baseline_rf</th>\n      <td>489</td>\n      <td>213</td>\n      <td>9913754.491375</td>\n    </tr>\n    <tr>\n      <th>fatalities003_nl_baseline_rf</th>\n      <td>468</td>\n      <td>149</td>\n      <td>9209752.885938</td>\n    </tr>\n    <tr>\n      <th>...</th>\n      <td>...</td>\n      <td>...</td>\n      <td>...</td>\n    </tr>\n    <tr>\n      <th>fatalities003_nl_all_pca3_xgb</th>\n      <td>461</td>\n      <td>220</td>\n      <td>81984914.902293</td>\n    </tr>\n    <tr>\n      <th>fatalities003_nl_all_pca3_xgb</th>\n      <td>469</td>\n      <td>220</td>\n      <td>81275477.184191</td>\n    </tr>\n    <tr>\n      <th>fatalities003_nl_all_pca3_xgb</th>\n      <td>470</td>\n      <td>220</td>\n      <td>79672313.412752</td>\n    </tr>\n    <tr>\n      <th>fatalities003_nl_all_pca3_xgb</th>\n      <td>462</td>\n      <td>220</td>\n      <td>79381887.018645</td>\n    </tr>\n    <tr>\n      <th>fatalities003_nl_all_pca3_xgb</th>\n      <td>465</td>\n      <td>220</td>\n      <td>78550098.449616</td>\n    </tr>\n  </tbody>\n</table>\n<p>150 rows × 3 columns</p>\n</div>"
     },
     "execution_count": 43,
     "metadata": {},
     "output_type": "execute_result"
    }
   ],
   "source": [
    "get_top_10_cases(ModelList, 'predictions_test_df')"
   ],
   "metadata": {
    "collapsed": false,
    "ExecuteTime": {
     "end_time": "2023-09-28T10:35:41.375831Z",
     "start_time": "2023-09-28T10:35:41.340345Z"
    }
   },
   "id": "42eda148b65ec195"
  },
  {
   "cell_type": "code",
   "execution_count": null,
   "outputs": [],
   "source": [],
   "metadata": {
    "collapsed": false
   },
   "id": "f1bdd9ce54a6435"
  }
 ],
 "metadata": {
  "kernelspec": {
   "display_name": "Python 3 (ipykernel)",
   "language": "python",
   "name": "python3"
  },
  "language_info": {
   "codemirror_mode": {
    "name": "ipython",
    "version": 3
   },
   "file_extension": ".py",
   "mimetype": "text/x-python",
   "name": "python",
   "nbconvert_exporter": "python",
   "pygments_lexer": "ipython3",
   "version": "3.9.13"
  }
 },
 "nbformat": 4,
 "nbformat_minor": 5
}
