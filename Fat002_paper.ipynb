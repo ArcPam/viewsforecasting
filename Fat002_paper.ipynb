{
 "cells": [
  {
   "cell_type": "markdown",
   "id": "d6505a63-c1b2-4cf4-84a8-d2c5eb8a5957",
   "metadata": {},
   "source": [
    "# Notebook for the maps for fatalities002\n",
    "- note the top 10 are set by the Start of History and End of History in config 1\n",
    "- StartOfHistory = 109\n",
    "- EndOfHistory = 516"
   ]
  },
  {
   "cell_type": "code",
   "execution_count": null,
   "id": "7450ca50-6998-4e88-a119-8a41f177aad9",
   "metadata": {},
   "outputs": [],
   "source": [
    "#ensuring querysets exist and are stored from run to run\n",
    "from Tools.visualization_assetts_fat002_add.monthly_report_visualization_queryset import *\n",
    "publish_querysets()"
   ]
  },
  {
   "cell_type": "code",
   "execution_count": null,
   "id": "31d391bc-f8aa-48d2-aeb7-6dae21e130a8",
   "metadata": {},
   "outputs": [],
   "source": [
    "#SAR_logo needed for the non-map graphs and create a special folder in the normal location\n",
    "from Tools.visualization_assetts_fat002_add.SAR_logo_import import *\n",
    "SAR_logo = import_SAR_logo()\n",
    "\n",
    "from Tools.visualization_assetts_fat002_add.folder_creation import*\n",
    "make_folders()"
   ]
  },
  {
   "cell_type": "code",
   "execution_count": null,
   "id": "ddd84e71-15df-493f-9ffb-6d102ae5e44a",
   "metadata": {},
   "outputs": [],
   "source": [
    "#the chunk for feature maps at cm level\n",
    "from Tools.visualization_assetts_fat002_add.features_cm import*\n",
    "features_cm_level_mapping_ged()\n",
    "features_cm_level_mapping_ged_with_top_10()"
   ]
  },
  {
   "cell_type": "code",
   "execution_count": null,
   "id": "6f7c0c66-9b1f-4583-8561-95e174d55951",
   "metadata": {},
   "outputs": [],
   "source": [
    "#the chunk for features maps at pgm level\n",
    "from Tools.visualization_assetts_fat002_add.features_pgm import*\n",
    "features_pgm_maps()\n",
    "features_pgm_maps_with_top10()"
   ]
  }
 ],
 "metadata": {
  "kernelspec": {
   "display_name": "Python 3 (ipykernel)",
   "language": "python",
   "name": "python3"
  },
  "language_info": {
   "codemirror_mode": {
    "name": "ipython",
    "version": 3
   },
   "file_extension": ".py",
   "mimetype": "text/x-python",
   "name": "python",
   "nbconvert_exporter": "python",
   "pygments_lexer": "ipython3",
   "version": "3.9.13"
  }
 },
 "nbformat": 4,
 "nbformat_minor": 5
}
