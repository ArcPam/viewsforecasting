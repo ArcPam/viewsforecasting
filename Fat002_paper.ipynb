{
 "cells": [
  {
   "cell_type": "markdown",
   "id": "d6505a63-c1b2-4cf4-84a8-d2c5eb8a5957",
   "metadata": {},
   "source": [
    "# Notebook for the maps for fatalities002\n",
    "- note the top 10 are set by the Start of History and End of History in config 1\n",
    "- also enter the label for the folder"
   ]
  },
  {
   "cell_type": "code",
   "execution_count": 2,
   "id": "55e17546",
   "metadata": {},
   "outputs": [
    {
     "name": "stdout",
     "output_type": "stream",
     "text": [
      "malika, Start of History is 109, End of History is 504\n"
     ]
    }
   ],
   "source": [
    "from Tools.visualization_assetts_fat002_add.config1 import*\n",
    "sanity_check()"
   ]
  },
  {
   "cell_type": "code",
   "execution_count": 1,
   "id": "7450ca50-6998-4e88-a119-8a41f177aad9",
   "metadata": {},
   "outputs": [
    {
     "name": "stdout",
     "output_type": "stream",
     "text": [
      " .    published Monthly_update_features_cm queryset\n",
      " .    published Monthly_update_features_pgm queryset\n",
      " .    published m_associate_country_2_priogrid queryset\n",
      " .    published Monthly_update_running_average_cm queryset\n",
      " .    published Monthly_update_running_average_pgm queryset\n",
      " .    published Monthly_update_country_names_and_regions queryset\n"
     ]
    }
   ],
   "source": [
    "#ensuring querysets exist and are stored from run to run\n",
    "from Tools.visualization_assetts_fat002_add.monthly_report_visualization_queryset import *\n",
    "publish_querysets()"
   ]
  },
  {
   "cell_type": "code",
   "execution_count": 3,
   "id": "31d391bc-f8aa-48d2-aeb7-6dae21e130a8",
   "metadata": {},
   "outputs": [
    {
     "name": "stdout",
     "output_type": "stream",
     "text": [
      "malika, logo imported\n",
      "Directory /Users/malika/Dropbox (ViEWS)/ViEWS/DataReleases/SystemUpdates/fat002_paper created\n",
      "malika, folders created\n"
     ]
    }
   ],
   "source": [
    "#SAR_logo needed for the non-map graphs and create a special folder in the normal location\n",
    "from Tools.visualization_assetts_fat002_add.SAR_logo_import import *\n",
    "SAR_logo = import_SAR_logo()\n",
    "\n",
    "from Tools.visualization_assetts_fat002_add.folder_creation import*\n",
    "make_folders()"
   ]
  },
  {
   "cell_type": "code",
   "execution_count": 4,
   "id": "ddd84e71-15df-493f-9ffb-6d102ae5e44a",
   "metadata": {},
   "outputs": [
    {
     "name": "stdout",
     "output_type": "stream",
     "text": [
      " .    malika cm_current_data fetched successfully\n",
      "malika gdf_ci_master fetched successfully\n",
      "malika, cm maps for ged completed\n",
      "malika, cm maps for ged completed with top 10\n"
     ]
    }
   ],
   "source": [
    "#the chunk for feature maps at cm level\n",
    "from Tools.visualization_assetts_fat002_add.features_cm import*\n",
    "features_cm_level_mapping_ged()\n",
    "features_cm_level_mapping_ged_with_top_10()"
   ]
  },
  {
   "cell_type": "code",
   "execution_count": 5,
   "id": "6f7c0c66-9b1f-4583-8561-95e174d55951",
   "metadata": {},
   "outputs": [
    {
     "name": "stdout",
     "output_type": "stream",
     "text": [
      " .    malika pgm_current_data fetched successfully\n",
      " .    malika, pgm geometries fetching completed\n",
      "malika, pgm maps for ged completed\n",
      "malika, pgm maps for ged with top 10 completed\n"
     ]
    }
   ],
   "source": [
    "#the chunk for features maps at pgm level\n",
    "from Tools.visualization_assetts_fat002_add.features_pgm import*\n",
    "features_pgm_maps()\n",
    "features_pgm_maps_with_top10()"
   ]
  }
 ],
 "metadata": {
  "kernelspec": {
   "display_name": "Python 3 (ipykernel)",
   "language": "python",
   "name": "python3"
  },
  "language_info": {
   "codemirror_mode": {
    "name": "ipython",
    "version": 3
   },
   "file_extension": ".py",
   "mimetype": "text/x-python",
   "name": "python",
   "nbconvert_exporter": "python",
   "pygments_lexer": "ipython3",
   "version": "3.9.13"
  }
 },
 "nbformat": 4,
 "nbformat_minor": 5
}
