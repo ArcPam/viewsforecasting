{
 "cells": [
  {
   "cell_type": "code",
   "execution_count": null,
   "id": "c2f3d058-a044-41c9-a2d8-b655bc6cd29a",
   "metadata": {},
   "outputs": [],
   "source": [
    "# Basics\n",
    "import numpy as np\n",
    "import pandas as pd\n",
    "import matplotlib.pyplot as plt\n",
    "import matplotlib.cbook as cbook\n",
    "# sklearn\n",
    "from sklearn.ensemble import RandomForestRegressor\n",
    "from sklearn import linear_model\n",
    "# Views 3\n",
    "from viewser.operations import fetch\n",
    "from viewser import Queryset, Column\n",
    "import views_runs\n",
    "from views_partitioning import data_partitioner, legacy\n",
    "from stepshift import views\n",
    "import views_dataviz\n",
    "\n",
    "import os\n",
    "home = os.path.expanduser('~')\n",
    "desktop = home+'/Desktop'"
   ]
  },
  {
   "cell_type": "code",
   "execution_count": null,
   "id": "20a75f1c-f692-40c8-82db-91da48f3f2b1",
   "metadata": {},
   "outputs": [],
   "source": [
    " !viewser tables list"
   ]
  },
  {
   "cell_type": "code",
   "execution_count": null,
   "id": "fd2c4bc5-3937-4a9a-9ca9-646a33df9022",
   "metadata": {},
   "outputs": [],
   "source": [
    " !viewser tables show 'faostat_pp_cm'      ## will show all variables in that table\n"
   ]
  },
  {
   "cell_type": "code",
   "execution_count": null,
   "id": "c3e0e88f-d8c5-442a-90e2-c8097d664ef0",
   "metadata": {},
   "outputs": [],
   "source": [
    "!viewser queryset list\n",
    "\n"
   ]
  },
  {
   "cell_type": "code",
   "execution_count": null,
   "id": "bd6b1ea6-5946-471e-8e75-6ed83f5be9d7",
   "metadata": {},
   "outputs": [],
   "source": [
    "qs_cyy = (Queryset(\"ALM_cm_ged_data_no_transforms\", \"country_month\")\n",
    "\n",
    "# month_id and country_id translations\n",
    "         \n",
    ".with_column(Column('year', from_table = 'month', from_column = 'year_id'))\n",
    ".with_column(Column('month', from_table = 'month', from_column = 'month'))\n",
    ".with_column(Column('country_name', from_table = 'country', from_column = 'name'))\n",
    "\n",
    "# non logged target variable GED fatalities\n",
    "         \n",
    ".with_column(Column(\"ged_best_sb\", from_table = \"ged2_cm\", from_column = \"ged_sb_best_sum_nokgi\")\n",
    "             #.transform.missing.fill()\n",
    "            )                   \n",
    ".with_column(Column(\"ged_best_os\", from_table = \"ged2_cm\", from_column = \"ged_os_best_sum_nokgi\")\n",
    "             #.transform.missing.fill()\n",
    "            )   \n",
    ".with_column(Column(\"ged_best_ns\", from_table = \"ged2_cm\", from_column = \"ged_ns_best_sum_nokgi\")\n",
    "             #.transform.missing.fill()\n",
    "            )  \n",
    "              )\n",
    "      \n",
    "data = qs_cyy.publish().fetch()\n",
    "\n",
    "print(f\"A dataset with {len(data.columns)} columns, with \"\n",
    "      f\"data between t {min(data.index.get_level_values(0))} \"\n",
    "      f\"and {max(data.index.get_level_values(0))}. \"\n",
    "      f\"({len(np.unique(data.index.get_level_values(1)))} units)\"\n",
    "     )"
   ]
  },
  {
   "cell_type": "code",
   "execution_count": null,
   "id": "8e988c7f-8e1c-4207-afa0-fde8af525e4d",
   "metadata": {},
   "outputs": [],
   "source": [
    "ged_data_qs = (Queryset(\"ALM_cm_ged_data_no_transforms\", \"country_month\")\n",
    "\n",
    "# month_id and country_id translations\n",
    "         \n",
    ".with_column(Column('year', from_table = 'month', from_column = 'year_id'))\n",
    ".with_column(Column('month', from_table = 'month', from_column = 'month'))\n",
    ".with_column(Column('country_name', from_table = 'country', from_column = 'name'))\n",
    "\n",
    "# non logged target variable GED fatalities\n",
    "         \n",
    ".with_column(Column(\"ged_best_sb\", from_table = \"ged2_cm\", from_column = \"ged_sb_best_sum_nokgi\")\n",
    "             #.transform.missing.fill()\n",
    "            )                   \n",
    ".with_column(Column(\"ged_best_os\", from_table = \"ged2_cm\", from_column = \"ged_os_best_sum_nokgi\")\n",
    "             #.transform.missing.fill()\n",
    "            )   \n",
    ".with_column(Column(\"ged_best_ns\", from_table = \"ged2_cm\", from_column = \"ged_ns_best_sum_nokgi\")\n",
    "             #.transform.missing.fill()\n",
    "            )  \n",
    "\n",
    "\n",
    "         \n",
    "         \n",
    "         \n",
    "# non logged target variable ACLED fatalities\n",
    "       \n",
    ".with_column(Column(\"acled_sb_fat\", from_table = \"acled2_cm\", from_column = \"acled_sb_fat\")\n",
    "             #.transform.missing.fill()\n",
    "            ) \n",
    ".with_column(Column(\"acled_os_fat\", from_table = \"acled2_cm\", from_column = \"acled_os_fat\")\n",
    "             #.transform.missing.fill()\n",
    "            ) \n",
    ".with_column(Column(\"acled_ns_fat\", from_table = \"acled2_cm\", from_column = \"acled_ns_fat\")\n",
    "             #.transform.missing.fill()\n",
    "            )\n",
    "        )\n",
    "      \n",
    "data = ged_data_qs.publish().fetch()\n",
    "\n",
    "print(f\"A dataset with {len(data.columns)} columns, with \"\n",
    "      f\"data between t {min(data.index.get_level_values(0))} \"\n",
    "      f\"and {max(data.index.get_level_values(0))}. \"\n",
    "      f\"({len(np.unique(data.index.get_level_values(1)))} units)\"\n",
    "     )"
   ]
  },
  {
   "cell_type": "code",
   "execution_count": null,
   "id": "ed1f747c-9b13-4392-a6b0-213f1adecdf7",
   "metadata": {},
   "outputs": [],
   "source": [
    "from views_mapper2.label_writer import *"
   ]
  },
  {
   "cell_type": "code",
   "execution_count": null,
   "id": "352b8ab5-f8c5-4347-9900-1cf9953aacb0",
   "metadata": {},
   "outputs": [],
   "source": []
  },
  {
   "cell_type": "code",
   "execution_count": null,
   "id": "7a78eaef-2c85-45cf-9a10-593c99ce20e5",
   "metadata": {},
   "outputs": [],
   "source": [
    "name_date2cid('Kenya','2017-07-01')"
   ]
  },
  {
   "cell_type": "code",
   "execution_count": null,
   "id": "2798e84d-8564-454b-8eff-baf964ab0150",
   "metadata": {},
   "outputs": [],
   "source": [
    "Temporal_subset= data.query('month_id >= 451 and month_id <= 511 and country_id == 237')\n",
    "Temporal_subset"
   ]
  },
  {
   "cell_type": "code",
   "execution_count": null,
   "id": "ec6b0d18-8dd2-42cf-9ec3-a7e3255be4df",
   "metadata": {},
   "outputs": [],
   "source": [
    "desktop"
   ]
  },
  {
   "cell_type": "code",
   "execution_count": null,
   "id": "674a12bc-c390-469c-aa3d-f1d5c1242f49",
   "metadata": {},
   "outputs": [],
   "source": [
    "test.to_csv(desktop+'/kenya.csv')"
   ]
  },
  {
   "cell_type": "code",
   "execution_count": null,
   "id": "b9e83dcf-1fb6-4548-8156-4d65eb408c95",
   "metadata": {},
   "outputs": [],
   "source": [
    "data"
   ]
  },
  {
   "cell_type": "code",
   "execution_count": null,
   "id": "3cf17ac0-8092-44ca-88bc-b72e4af27121",
   "metadata": {},
   "outputs": [],
   "source": [
    "qs_cy = (Queryset(\"alm_cm_ged_acled_data_no_transforms\", \"priogrid_month\")\n",
    "         \n",
    "\n",
    "# non logged target variable GED fatalities\n",
    "         \n",
    ".with_column(Column(\"ged_best_sb\", from_table = \"ged2_pgm\", from_column = \"ged_sb_best_sum_nokgi\")\n",
    "             #.transform.missing.fill()\n",
    "            )                   \n",
    ".with_column(Column(\"ged_best_os\", from_table = \"ged2_pgm\", from_column = \"ged_os_best_sum_nokgi\")\n",
    "             #.transform.missing.fill()\n",
    "            )   \n",
    ".with_column(Column(\"ged_best_ns\", from_table = \"ged2_pgm\", from_column = \"ged_ns_best_sum_nokgi\")\n",
    "             #.transform.missing.fill()\n",
    "            )  \n",
    ".with_column(Column('country_name', from_table = 'country', from_column = 'name'))\n",
    ".with_column(Column('year', from_table = 'month', from_column = 'year_id'))\n",
    ".with_column(Column('month', from_table = 'month', from_column = 'month')))\n",
    "         \n",
    "         \n",
    "         \n",
    "# non logged target variable ACLED fatalities\n",
    "       \n",
    "#.with_column(Column(\"acled_sb_fat\", from_table = \"acled2_cm\", from_column = \"acled_sb_fat\")\n",
    "             #.transform.missing.fill()\n",
    " #           ) \n",
    "#.with_column(Column(\"acled_os_fat\", from_table = \"acled2_cm\", from_column = \"acled_os_fat\")\n",
    "             #.transform.missing.fill()\n",
    " #           ) \n",
    "#.with_column(Column(\"acled_ns_fat\", from_table = \"acled2_cm\", from_column = \"acled_ns_fat\")\n",
    "             #.transform.missing.fill()\n",
    "            #)\n",
    " #       )\n",
    "      \n",
    "data = qs_cy.publish().fetch()\n",
    "\n",
    "print(f\"A dataset with {len(data.columns)} columns, with \"\n",
    "      f\"data between t {min(data.index.get_level_values(0))} \"\n",
    "      f\"and {max(data.index.get_level_values(0))}. \"\n",
    "      f\"({len(np.unique(data.index.get_level_values(1)))} units)\"\n",
    "     )"
   ]
  },
  {
   "cell_type": "code",
   "execution_count": null,
   "id": "ccbe029b-58f4-4347-a485-d3cdad0c6953",
   "metadata": {},
   "outputs": [],
   "source": [
    "kenya_pg_step1 = data.query('month_id >= 451 and month_id <= 511')\n",
    "\n",
    "kenya_pg = kenya_pg_step1[kenya_pg_step1['country_name'] == 'Kenya']\n",
    "kenya_pg"
   ]
  },
  {
   "cell_type": "code",
   "execution_count": null,
   "id": "3041890b-ee44-4042-ac58-3596ff508fb1",
   "metadata": {},
   "outputs": [],
   "source": [
    "kenya_pg.to_csv(desktop+'/kenya_priogrid.csv')"
   ]
  },
  {
   "cell_type": "code",
   "execution_count": null,
   "id": "2bad159b-683f-4b96-9ed5-7356c63228dc",
   "metadata": {},
   "outputs": [],
   "source": [
    "# Check chosen GED cm data\n",
    "\n",
    "data_month = data.query('month_id == 511')\n",
    "\n",
    "data_month[\"ged_best_ns\"].xs(50, level='country_id').sum() # for country_id 50\n"
   ]
  },
  {
   "cell_type": "code",
   "execution_count": null,
   "id": "fb35ea13-b013-4902-b2b7-ae5660508fc2",
   "metadata": {},
   "outputs": [],
   "source": [
    "# Check chosen ACLED cm data\n",
    "\n",
    "data_month = data.query('month_id == 512')\n",
    "\n",
    "data_month[\"acled_sb_fat\"].xs(50, level='country_id').sum() # for country_id 50"
   ]
  },
  {
   "cell_type": "code",
   "execution_count": null,
   "id": "51ce6032-44da-42bc-b11b-31259c2ba8c7",
   "metadata": {},
   "outputs": [],
   "source": []
  }
 ],
 "metadata": {
  "kernelspec": {
   "display_name": "Python 3 (ipykernel)",
   "language": "python",
   "name": "python3"
  },
  "language_info": {
   "codemirror_mode": {
    "name": "ipython",
    "version": 3
   },
   "file_extension": ".py",
   "mimetype": "text/x-python",
   "name": "python",
   "nbconvert_exporter": "python",
   "pygments_lexer": "ipython3",
   "version": "3.9.13"
  }
 },
 "nbformat": 4,
 "nbformat_minor": 5
}
