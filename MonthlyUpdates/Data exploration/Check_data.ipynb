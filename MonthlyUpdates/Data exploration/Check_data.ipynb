{
 "cells": [
  {
   "cell_type": "code",
   "execution_count": null,
   "id": "c2f3d058-a044-41c9-a2d8-b655bc6cd29a",
   "metadata": {},
   "outputs": [],
   "source": [
    "# Basics\n",
    "import numpy as np\n",
    "import pandas as pd\n",
    "import matplotlib.pyplot as plt\n",
    "import matplotlib.cbook as cbook\n",
    "# sklearn\n",
    "from sklearn.ensemble import RandomForestRegressor\n",
    "from sklearn import linear_model\n",
    "# Views 3\n",
    "from viewser.operations import fetch\n",
    "from viewser import Queryset, Column\n",
    "import views_runs\n",
    "from views_partitioning import data_partitioner, legacy\n",
    "from stepshift import views\n",
    "import views_dataviz\n",
    "from views_mapper2.label_writer import *\n",
    "\n",
    "import os\n",
    "home = os.path.expanduser('~')\n",
    "desktop = home+'/Desktop'"
   ]
  },
  {
   "cell_type": "code",
   "execution_count": null,
   "id": "20a75f1c-f692-40c8-82db-91da48f3f2b1",
   "metadata": {},
   "outputs": [],
   "source": [
    "# !viewser tables list"
   ]
  },
  {
   "cell_type": "code",
   "execution_count": null,
   "id": "fd2c4bc5-3937-4a9a-9ca9-646a33df9022",
   "metadata": {},
   "outputs": [],
   "source": [
    "# !viewser tables show 'faostat_pp_cm'      ## will show all variables in that table"
   ]
  },
  {
   "cell_type": "code",
   "execution_count": null,
   "id": "c3e0e88f-d8c5-442a-90e2-c8097d664ef0",
   "metadata": {},
   "outputs": [],
   "source": [
    "# !viewser queryset list"
   ]
  },
  {
   "cell_type": "code",
   "execution_count": null,
   "id": "210b67b2-00f4-4a21-a869-17604f71dcdc",
   "metadata": {},
   "outputs": [],
   "source": [
    "name_date2cid('Kenya','2017-07-01')"
   ]
  },
  {
   "cell_type": "markdown",
   "id": "c335146e-fe1f-4284-b63d-2d812f203d61",
   "metadata": {
    "tags": []
   },
   "source": [
    "# CM"
   ]
  },
  {
   "cell_type": "markdown",
   "id": "533cfcc7-6f2d-455e-8ee1-ae62db746234",
   "metadata": {},
   "source": [
    "## GED"
   ]
  },
  {
   "cell_type": "code",
   "execution_count": null,
   "id": "bd6b1ea6-5946-471e-8e75-6ed83f5be9d7",
   "metadata": {},
   "outputs": [],
   "source": [
    "qs_ged_cm = (Queryset(\"ALM_cm_ged_data_no_transforms\", \"country_month\")\n",
    "\n",
    "# identifiers\n",
    "             \n",
    ".with_column(Column('year', from_table = 'month', from_column = 'year_id'))\n",
    ".with_column(Column('month', from_table = 'month', from_column = 'month'))\n",
    ".with_column(Column('country_name', from_table = 'country', from_column = 'name'))\n",
    "\n",
    "# non-logged target variable GED fatalities\n",
    "         \n",
    ".with_column(Column(\"ged_best_sb\", from_table = \"ged2_cm\", from_column = \"ged_sb_best_sum_nokgi\")\n",
    "             #.transform.missing.fill()\n",
    "            )                   \n",
    ".with_column(Column(\"ged_best_os\", from_table = \"ged2_cm\", from_column = \"ged_os_best_sum_nokgi\")\n",
    "             #.transform.missing.fill()\n",
    "            )   \n",
    ".with_column(Column(\"ged_best_ns\", from_table = \"ged2_cm\", from_column = \"ged_ns_best_sum_nokgi\")\n",
    "             #.transform.missing.fill()\n",
    "            )  \n",
    "              )\n",
    "      \n",
    "qs_ged_cm = qs_ged_cm.publish().fetch()\n",
    "\n",
    "print(f\"A dataset with {len(data.columns)} columns, with \"\n",
    "      f\"data between t {min(data.index.get_level_values(0))} \"\n",
    "      f\"and {max(data.index.get_level_values(0))}. \"\n",
    "      f\"({len(np.unique(data.index.get_level_values(1)))} units)\"\n",
    "     )"
   ]
  },
  {
   "cell_type": "code",
   "execution_count": null,
   "id": "b53e7039-cf04-408c-95c3-c8b84b38a3a2",
   "metadata": {},
   "outputs": [],
   "source": [
    "qs_ged_cm # displays the dataframe above"
   ]
  },
  {
   "cell_type": "code",
   "execution_count": null,
   "id": "c6f1dc3f-297c-47f1-8d92-bb7bf95145dd",
   "metadata": {},
   "outputs": [],
   "source": [
    "# Check chosen GED cm data\n",
    "\n",
    "ged_test = data.query('month_id == 512')\n",
    "\n",
    "ged_test[\"ged_best_sb\"].xs(50, level='country_id').sum() # for country_id 50"
   ]
  },
  {
   "cell_type": "code",
   "execution_count": null,
   "id": "d129e03b-c859-4326-994e-6bf465949b6f",
   "metadata": {},
   "outputs": [],
   "source": [
    "ged_subset= data.query('month_id >= 510 and month_id <= 512 and country_id == 237')\n",
    "ged_subset # displays the subset"
   ]
  },
  {
   "cell_type": "code",
   "execution_count": null,
   "id": "137c3666-11ce-437f-85af-978e98888429",
   "metadata": {},
   "outputs": [],
   "source": [
    "ged_subset.to_csv(desktop+'/NAME.csv') # change name of csv"
   ]
  },
  {
   "cell_type": "code",
   "execution_count": null,
   "id": "7e0d2f86-c5b8-41ff-bae4-ac5006d13c33",
   "metadata": {},
   "outputs": [],
   "source": [
    "# Check chosen GED cm data\n",
    "\n",
    "ged_test = data.query('month_id == 512')\n",
    "\n",
    "ged_test[\"ged_best_sb\"].xs(50, level='country_id').sum() # for country_id 50"
   ]
  },
  {
   "cell_type": "markdown",
   "id": "bf788f62-b063-4ad3-b4d0-25bab65d4cc3",
   "metadata": {},
   "source": [
    "## ACLED"
   ]
  },
  {
   "cell_type": "code",
   "execution_count": null,
   "id": "8e988c7f-8e1c-4207-afa0-fde8af525e4d",
   "metadata": {},
   "outputs": [],
   "source": [
    "qs_acled_cm = (Queryset(\"ALM_cm_acled_data_no_transforms\", \"country_month\")\n",
    "\n",
    "# identifiers\n",
    "               \n",
    ".with_column(Column('year', from_table = 'month', from_column = 'year_id'))\n",
    ".with_column(Column('month', from_table = 'month', from_column = 'month'))\n",
    ".with_column(Column('country_name', from_table = 'country', from_column = 'name'))        \n",
    "         \n",
    "# non-logged target variable ACLED fatalities\n",
    "       \n",
    ".with_column(Column(\"acled_sb_fat\", from_table = \"acled2_cm\", from_column = \"acled_sb_fat\")) \n",
    ".with_column(Column(\"acled_os_fat\", from_table = \"acled2_cm\", from_column = \"acled_os_fat\")) \n",
    ".with_column(Column(\"acled_ns_fat\", from_table = \"acled2_cm\", from_column = \"acled_ns_fat\"))\n",
    "        )\n",
    "      \n",
    "data = qs_acled_cm.publish().fetch()\n",
    "\n",
    "print(f\"A dataset with {len(data.columns)} columns, with \"\n",
    "      f\"data between t {min(data.index.get_level_values(0))} \"\n",
    "      f\"and {max(data.index.get_level_values(0))}. \"\n",
    "      f\"({len(np.unique(data.index.get_level_values(1)))} units)\"\n",
    "     )"
   ]
  },
  {
   "cell_type": "code",
   "execution_count": null,
   "id": "2798e84d-8564-454b-8eff-baf964ab0150",
   "metadata": {},
   "outputs": [],
   "source": [
    "acled_subset= data.query('month_id >= 510 and month_id <= 512 and country_id == 237')\n",
    "acled_subset"
   ]
  },
  {
   "cell_type": "code",
   "execution_count": null,
   "id": "674a12bc-c390-469c-aa3d-f1d5c1242f49",
   "metadata": {},
   "outputs": [],
   "source": [
    "acled_subset.to_csv(desktop+'/NAME2.csv') # change name of csv file"
   ]
  },
  {
   "cell_type": "markdown",
   "id": "8489dd38-a92d-4393-b7ff-3ca6e4aec8a1",
   "metadata": {},
   "source": [
    "# PGM data"
   ]
  },
  {
   "cell_type": "markdown",
   "id": "53fe91b4-f632-43ee-8155-3ea4d3321069",
   "metadata": {},
   "source": [
    "## GED"
   ]
  },
  {
   "cell_type": "code",
   "execution_count": null,
   "id": "3cf17ac0-8092-44ca-88bc-b72e4af27121",
   "metadata": {},
   "outputs": [],
   "source": [
    "qs_ged_pgm = (Queryset(\"alm_pgm_ged_data_no_transforms\", \"priogrid_month\")\n",
    "         \n",
    "# identifiers\n",
    "         \n",
    ".with_column(Column('country_name', from_table = 'country', from_column = 'name'))\n",
    ".with_column(Column('year', from_table = 'month', from_column = 'year_id'))\n",
    ".with_column(Column('month', from_table = 'month', from_column = 'month'))      \n",
    "         \n",
    "# non-logged target variable GED fatalities\n",
    "         \n",
    ".with_column(Column(\"ged_best_sb\", from_table = \"ged2_pgm\", from_column = \"ged_sb_best_sum_nokgi\"))                   \n",
    ".with_column(Column(\"ged_best_os\", from_table = \"ged2_pgm\", from_column = \"ged_os_best_sum_nokgi\"))   \n",
    ".with_column(Column(\"ged_best_ns\", from_table = \"ged2_pgm\", from_column = \"ged_ns_best_sum_nokgi\"))\n",
    "             )\n",
    "      \n",
    "qs_ged_pgm = qs_ged_pgm.publish().fetch()\n",
    "\n",
    "print(f\"A dataset with {len(data.columns)} columns, with \"\n",
    "      f\"data between t {min(data.index.get_level_values(0))} \"\n",
    "      f\"and {max(data.index.get_level_values(0))}. \"\n",
    "      f\"({len(np.unique(data.index.get_level_values(1)))} units)\"\n",
    "     )"
   ]
  },
  {
   "cell_type": "code",
   "execution_count": null,
   "id": "ccbe029b-58f4-4347-a485-d3cdad0c6953",
   "metadata": {},
   "outputs": [],
   "source": [
    "kenya_pgm_step1 = qs_ged_pgm.query('month_id >= 451 and month_id <= 512')\n",
    "\n",
    "kenya_pgm = kenya_pgm_step1[kenya_pgm_step1['country_name'] == 'Kenya']\n",
    "kenya_pgm"
   ]
  },
  {
   "cell_type": "code",
   "execution_count": null,
   "id": "3041890b-ee44-4042-ac58-3596ff508fb1",
   "metadata": {},
   "outputs": [],
   "source": [
    "kenya_pgm.to_csv(desktop+'/kenya_priogrid.csv')"
   ]
  },
  {
   "cell_type": "markdown",
   "id": "43acd2b6-2b55-480e-996b-dc6dd656d037",
   "metadata": {},
   "source": [
    "## ACLED"
   ]
  },
  {
   "cell_type": "code",
   "execution_count": null,
   "id": "c24f55f5-81fa-4f8d-8416-add35864f677",
   "metadata": {},
   "outputs": [],
   "source": [
    "qs_acled_pgm = (Queryset(\"alm_pgm_acled_data_no_transforms\", \"priogrid_month\")\n",
    "         \n",
    "# identifiers\n",
    "         \n",
    ".with_column(Column('country_name', from_table = 'country', from_column = 'name'))\n",
    ".with_column(Column('year', from_table = 'month', from_column = 'year_id'))\n",
    ".with_column(Column('month', from_table = 'month', from_column = 'month'))      \n",
    "         \n",
    "# non-logged target variable ACLED fatalities\n",
    "       \n",
    ".with_column(Column(\"acled_sb_fat\", from_table = \"acled2_cm\", from_column = \"acled_sb_fat\")) \n",
    ".with_column(Column(\"acled_os_fat\", from_table = \"acled2_cm\", from_column = \"acled_os_fat\")) \n",
    ".with_column(Column(\"acled_ns_fat\", from_table = \"acled2_cm\", from_column = \"acled_ns_fat\"))\n",
    "         )\n",
    "      \n",
    "qs_acled_pgm = qs_acled_pgm.publish().fetch()\n",
    "\n",
    "print(f\"A dataset with {len(data.columns)} columns, with \"\n",
    "      f\"data between t {min(data.index.get_level_values(0))} \"\n",
    "      f\"and {max(data.index.get_level_values(0))}. \"\n",
    "      f\"({len(np.unique(data.index.get_level_values(1)))} units)\"\n",
    "     )"
   ]
  },
  {
   "cell_type": "code",
   "execution_count": null,
   "id": "fb35ea13-b013-4902-b2b7-ae5660508fc2",
   "metadata": {},
   "outputs": [],
   "source": [
    "# Check chosen ACLED cm data\n",
    "\n",
    "acled_test = data.query('month_id == 512')\n",
    "\n",
    "acled_test[\"acled_sb_fat\"].xs(50, level='country_id').sum() # for country_id 50"
   ]
  },
  {
   "cell_type": "code",
   "execution_count": null,
   "id": "51ce6032-44da-42bc-b11b-31259c2ba8c7",
   "metadata": {},
   "outputs": [],
   "source": []
  }
 ],
 "metadata": {
  "kernelspec": {
   "display_name": "Python 3 (ipykernel)",
   "language": "python",
   "name": "python3"
  },
  "language_info": {
   "codemirror_mode": {
    "name": "ipython",
    "version": 3
   },
   "file_extension": ".py",
   "mimetype": "text/x-python",
   "name": "python",
   "nbconvert_exporter": "python",
   "pygments_lexer": "ipython3",
   "version": "3.9.13"
  }
 },
 "nbformat": 4,
 "nbformat_minor": 5
}
