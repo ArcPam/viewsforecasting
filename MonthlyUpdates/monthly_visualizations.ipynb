{
 "cells": [
  {
   "cell_type": "markdown",
   "id": "c6a414b1",
   "metadata": {},
   "source": [
    "\n",
    "# ViEWS 3: presenting monthly results\n",
    "\n",
    "\n",
    "Fatalities002 version\n",
    "\n",
    "This notebook presents a standardized set of visualizations based on the monthly forecasts produced by the cm_futurepredictions notebook, for use in newsletters, webpage, etc.\n",
    "\n",
    "#### Ensure the correct version of the mapper is installed. Version 1.4.0 as of 8/24/2022\n",
    "\n",
    "Run \"pip install views_mapper2 --upgrade\" if out of date\n",
    "\n",
    "\n"
   ]
  },
  {
   "cell_type": "code",
   "execution_count": 1,
   "id": "de6d0fa7",
   "metadata": {},
   "outputs": [
    {
     "name": "stdout",
     "output_type": "stream",
     "text": [
      "views-mapper2==1.4.0\r\n"
     ]
    }
   ],
   "source": [
    "!pip freeze | grep views-mapper2"
   ]
  },
  {
   "cell_type": "markdown",
   "id": "e0c4ec38",
   "metadata": {},
   "source": [
    "# Defining universals and obtain the data"
   ]
  },
  {
   "cell_type": "code",
   "execution_count": 2,
   "id": "a5a1938e",
   "metadata": {},
   "outputs": [],
   "source": [
    "# Basics\n",
    "import numpy as np\n",
    "import pandas as pd\n",
    "import matplotlib.pyplot as plt\n",
    "import matplotlib.cbook as cbook\n",
    "\n",
    "import warnings\n",
    "warnings.filterwarnings('ignore')\n",
    "\n",
    "# Views 3\n",
    "from viewser.operations import fetch\n",
    "from viewser import Queryset, Column\n",
    "import views_runs\n",
    "from views_partitioning import data_partitioner, legacy\n",
    "from stepshift import views\n",
    "import views_dataviz\n",
    "from views_runs import storage, ModelMetadata\n",
    "from views_runs.storage import store, retrieve, fetch_metadata\n",
    "from views_forecasts.extensions import *\n",
    "\n",
    "# Packages from this repository, Tools folder\n",
    "import sys\n",
    "sys.path.append('../')\n",
    "sys.path.append('../Tools')\n",
    "sys.path.append('../Intermediates')\n",
    "sys.path.append('../SystemUpdates')\n",
    "from Ensembling import CalibratePredictions, RetrieveStoredPredictions, mean_sd_calibrated, gam_calibrated\n",
    "from FetchData import FetchData, RetrieveFromList\n",
    "from ViewsEstimators import *"
   ]
  },
  {
   "cell_type": "code",
   "execution_count": 3,
   "id": "27ab9cba",
   "metadata": {},
   "outputs": [],
   "source": [
    "# Common parameters:\n",
    "dev_id = 'Fatalities002'\n",
    "run_id = dev_id \n",
    "EndOfHistory = 509\n",
    "#prod_id = '2022_04_t01'\n",
    "level = 'cm'\n",
    "\n",
    "#note the home path has been automated with the os.path.expanduser function\n",
    "#no need to adjust the folder as long as ViEWS on the dropbox is the destination\n",
    "\n",
    "import os\n",
    "home = os.path.expanduser(\"~\")\n",
    "Mydropbox = home + '/Dropbox (ViEWS)/ViEWS/'\n",
    "Monthly_updates = Mydropbox + 'DataReleases/MonthlyUpdates/'\n",
    "\n"
   ]
  },
  {
   "cell_type": "markdown",
   "id": "1a80c09b",
   "metadata": {},
   "source": [
    "# Plan for this notebook\n",
    "\n",
    "The notebook will produce a standardized set of visualizations for the monthly updates and store in the dropbox directory structure.\n",
    "\n",
    "Rough loop structure:\n",
    "\n",
    "for [cm, pgm]:\n",
    "\n",
    "    for [sb]: # -- os and ns will come later\n",
    "    \n",
    "        Prediction maps for ensemble, possibly in two variants: predicted number of fatalities for s = [3,6,12,36]\n",
    "        \n",
    "        Change maps: change in predictions issued now and those issued three months earlier, for s = [3,12]\n",
    "        \n",
    "        Change maps: change in predictions issued now relative to last observed fatality count, for s = [3,12]\n",
    "        \n",
    "        Bar charts for fatalities for next 12/36 months\n",
    "        \n",
    "        Line graphs: fatalities per month over time globally and for some selected countries and regions\n",
    "        \n",
    "    "
   ]
  },
  {
   "cell_type": "code",
   "execution_count": null,
   "id": "f3053752",
   "metadata": {},
   "outputs": [],
   "source": []
  }
 ],
 "metadata": {
  "kernelspec": {
   "display_name": "Python 3 (ipykernel)",
   "language": "python",
   "name": "python3"
  },
  "language_info": {
   "codemirror_mode": {
    "name": "ipython",
    "version": 3
   },
   "file_extension": ".py",
   "mimetype": "text/x-python",
   "name": "python",
   "nbconvert_exporter": "python",
   "pygments_lexer": "ipython3",
   "version": "3.9.13"
  }
 },
 "nbformat": 4,
 "nbformat_minor": 5
}
