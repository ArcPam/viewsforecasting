{
 "cells": [
  {
   "cell_type": "markdown",
   "id": "e4c653b9-7c08-41c2-914c-835d3264212c",
   "metadata": {},
   "source": [
    "The following notebooks is currently storage for all the standard querysets needed for the monthly runs.\n",
    "This has been added so they may be stored with all the other standard querysets and adjusted/changed en-masse later without having to touch the visualization code. \n",
    "\n",
    "To be added when updates to queryset come up: combined variable gdp that requires the use of two variables to create a third one. \n",
    "Currently has to be done in notebook and outside querysetting. "
   ]
  },
  {
   "cell_type": "code",
   "execution_count": 1,
   "id": "a9c7da4f",
   "metadata": {},
   "outputs": [],
   "source": [
    "from viewser.operations import fetch\n",
    "from viewser import Queryset, Column"
   ]
  },
  {
   "cell_type": "code",
   "execution_count": 7,
   "id": "3307df9e",
   "metadata": {},
   "outputs": [
    {
     "name": "stdout",
     "output_type": "stream",
     "text": [
      " .      o      O      O      o       .      o   "
     ]
    }
   ],
   "source": [
    "features_qs = (Queryset(\"Monthly_update_features_cm\", \"country_month\")\n",
    "\n",
    "\n",
    "    # target variable\n",
    "    .with_column(Column(\"ged_sb_ln1\", from_table = \"ged2_cm\", from_column = \"ged_sb_best_sum_nokgi\")\n",
    "        .transform.missing.replace_na()\n",
    "        .transform.ops.ln()\n",
    "        )\n",
    "      .with_column(Column(\"ged_ns_ln1\", from_table = \"ged2_cm\", from_column = \"ged_ns_best_sum_nokgi\")\n",
    "        .transform.missing.replace_na()\n",
    "        .transform.ops.ln()\n",
    "        )\n",
    "      .with_column(Column(\"ged_os_ln1\", from_table = \"ged2_cm\", from_column = \"ged_os_best_sum_nokgi\")\n",
    "        .transform.missing.replace_na()\n",
    "        .transform.ops.ln()\n",
    "        )\n",
    "    .with_column(Column(\"ged_sb_ln2\", from_table = \"ged2_cm\", from_column = \"ged_sb_best_sum_nokgi\")\n",
    "        .transform.missing.replace_na()\n",
    "        .transform.ops.ln()\n",
    "        .transform.ops.ln()\n",
    "        )\n",
    "    .with_column(Column(\"ged_ns_ln2\", from_table = \"ged2_cm\", from_column = \"ged_ns_best_sum_nokgi\")\n",
    "        .transform.missing.replace_na()\n",
    "        .transform.ops.ln()\n",
    "        .transform.ops.ln()\n",
    "        )\n",
    "    .with_column(Column(\"ged_os_ln2\", from_table = \"ged2_cm\", from_column = \"ged_os_best_sum_nokgi\")\n",
    "        .transform.missing.replace_na()\n",
    "        .transform.ops.ln()\n",
    "        .transform.ops.ln()\n",
    "        )\n",
    "               \n",
    "    .with_column(Column(\"vdem_v2x_libdem\", from_table = \"vdem_v12_cy\", from_column = \"vdem_v12_v2x_libdem\")\n",
    "        .transform.missing.replace_na()\n",
    "        )\n",
    "    .with_column(Column(\"wdi_sp_dyn_imrt_in\", from_table = \"wdi_cy\", from_column = \"wdi_sp_dyn_imrt_in\")\n",
    "                         .transform.missing.fill()\n",
    "                         .transform.temporal.tlag(12)\n",
    "                         .transform.missing.fill()\n",
    "        )\n",
    "    .with_column(Column(\"wdi_ny_gdp_mktp_kd\", from_table = \"wdi_cy\", from_column = \"wdi_ny_gdp_mktp_kd\")\n",
    "                 .transform.missing.fill()\n",
    "                 .transform.temporal.tlag(12)\n",
    "                 .transform.missing.fill()\n",
    "                )\n",
    "    .with_column(Column(\"wdi_sp_pop_totl\", from_table = \"wdi_cy\", from_column = \"wdi_sp_pop_totl\")\n",
    "                 .transform.missing.fill()\n",
    "                 .transform.temporal.tlag(12)\n",
    "                 .transform.missing.fill()\n",
    "                )\n",
    "    .with_theme(\"monthly_update\")\n",
    "                         \n",
    "            .describe(\"\"\"Features for the monthly report\"\"\")\n",
    "              )\n",
    "\n",
    "features_cm=features_qs.publish().fetch()\n"
   ]
  },
  {
   "cell_type": "code",
   "execution_count": 14,
   "id": "9323d15c",
   "metadata": {},
   "outputs": [
    {
     "name": "stdout",
     "output_type": "stream",
     "text": [
      " .      o      O      O      o       .      o      O      O      o       .      o      O      O      o       .      o      O      O      o       .      o      O      O      o       .      o      O      O      o       .      o      O      O      o       .      o      O      O      o      "
     ]
    }
   ],
   "source": [
    "features_pgm_qs = (Queryset(\"Monthly_update_features_pgm\", \"priogrid_month\")\n",
    "\n",
    "\n",
    "    # target variable\n",
    "    .with_column(Column(\"ged_sb_ln1\", from_table = \"ged2_pgm\", from_column = \"ged_sb_best_sum_nokgi\")\n",
    "        .transform.missing.replace_na()\n",
    "        .transform.ops.ln()\n",
    "        )\n",
    "      .with_column(Column(\"ged_ns_ln1\", from_table = \"ged2_pgm\", from_column = \"ged_ns_best_sum_nokgi\")\n",
    "        .transform.missing.replace_na()\n",
    "        .transform.ops.ln()\n",
    "        )\n",
    "      .with_column(Column(\"ged_os_ln1\", from_table = \"ged2_pgm\", from_column = \"ged_os_best_sum_nokgi\")\n",
    "        .transform.missing.replace_na()\n",
    "        .transform.ops.ln()\n",
    "        )\n",
    "    .with_column(Column(\"ged_sb_ln2\", from_table = \"ged2_pgm\", from_column = \"ged_sb_best_sum_nokgi\")\n",
    "        .transform.missing.replace_na()\n",
    "        .transform.ops.ln()\n",
    "        .transform.ops.ln()\n",
    "        )\n",
    "      .with_column(Column(\"ged_ns_ln2\", from_table = \"ged2_pgm\", from_column = \"ged_ns_best_sum_nokgi\")\n",
    "        .transform.missing.replace_na()\n",
    "        .transform.ops.ln()\n",
    "        .transform.ops.ln()\n",
    "        )\n",
    "      .with_column(Column(\"ged_os_ln2\", from_table = \"ged2_pgm\", from_column = \"ged_os_best_sum_nokgi\")\n",
    "        .transform.missing.replace_na()\n",
    "        .transform.ops.ln()\n",
    "        .transform.ops.ln()\n",
    "        )\n",
    "    \n",
    "    .with_theme(\"monthly_update\")\n",
    "                         \n",
    "            .describe(\"\"\"Features for the monthly report\"\"\")\n",
    "              )\n",
    "\n",
    "features_pgm=features_pgm_qs.publish().fetch()"
   ]
  },
  {
   "cell_type": "code",
   "execution_count": 3,
   "id": "f0cc728e-92c2-4633-a111-d6e3285e995a",
   "metadata": {},
   "outputs": [
    {
     "name": "stdout",
     "output_type": "stream",
     "text": [
      " .      o      O      O      o       .      o      O      O      o       .      o      O      O      o       .      o      O      O      o       .      o      O      O      o       .      o      O      O      o       .      o      O      O      o       .      o      O      O      o       .    "
     ]
    }
   ],
   "source": [
    "pg_country_queryset = (Queryset(\"m_associate_country_2_priogrid\", \"priogrid_month\")\n",
    "              #CONFLICT TYPES NOT LOGGED and NOT time lagged \n",
    "            #.with_column(Column(\"month_id\", from_table = \"priogrid_month\", from_column = \"month_id\"))\n",
    "            .with_column(Column('name', from_table = 'country', from_column = 'name'))\n",
    "                             \n",
    "            .with_theme(\"Mapping\")\n",
    "                         \n",
    "            .describe(\"\"\"Mapping, allows for association of priogrid with country \n",
    "                \n",
    "            \"\"\")\n",
    "            \n",
    "           )\n",
    "pg_country = pg_country_queryset.publish().fetch().reset_index()"
   ]
  },
  {
   "cell_type": "code",
   "execution_count": 2,
   "id": "64b22429",
   "metadata": {},
   "outputs": [
    {
     "name": "stdout",
     "output_type": "stream",
     "text": [
      " .      o   "
     ]
    }
   ],
   "source": [
    "running_average_qs = (Queryset(\"Monthly_update_running_average_cm\", \"country_month\")\n",
    "\n",
    "\n",
    "    # target variable\n",
    "    .with_column(Column(\"ged_sb_run_average_6_ln1\", from_table = \"ged2_cm\", from_column = \"ged_sb_best_sum_nokgi\")\n",
    "        .transform.missing.replace_na()\n",
    "        .transform.temporal.moving_average(6)\n",
    "        .transform.ops.ln()\n",
    "        )\n",
    "      .with_column(Column(\"ged_ns_run_average_6_ln1\", from_table = \"ged2_cm\", from_column = \"ged_ns_best_sum_nokgi\")\n",
    "        .transform.missing.replace_na()\n",
    "        .transform.temporal.moving_average(6)\n",
    "        .transform.ops.ln()\n",
    "        )\n",
    "      .with_column(Column(\"ged_os_run_average_6_ln1\", from_table = \"ged2_cm\", from_column = \"ged_os_best_sum_nokgi\")\n",
    "        .transform.missing.replace_na()\n",
    "        .transform.temporal.moving_average(6)\n",
    "        .transform.ops.ln()\n",
    "        )\n",
    "                \n",
    "    .with_theme(\"monthly_update\")\n",
    "                         \n",
    "            .describe(\"\"\"Features for the monthly report\"\"\")\n",
    "    )\n",
    "              \n",
    "\n",
    "running_average_master=running_average_qs.publish().fetch()"
   ]
  },
  {
   "cell_type": "code",
   "execution_count": null,
   "id": "73bce9be-a1e9-4393-9524-a869a817c073",
   "metadata": {},
   "outputs": [],
   "source": []
  }
 ],
 "metadata": {
  "kernelspec": {
   "display_name": "Python 3 (ipykernel)",
   "language": "python",
   "name": "python3"
  },
  "language_info": {
   "codemirror_mode": {
    "name": "ipython",
    "version": 3
   },
   "file_extension": ".py",
   "mimetype": "text/x-python",
   "name": "python",
   "nbconvert_exporter": "python",
   "pygments_lexer": "ipython3",
   "version": "3.9.13"
  }
 },
 "nbformat": 4,
 "nbformat_minor": 5
}
