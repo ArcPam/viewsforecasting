{
 "cells": [
  {
   "cell_type": "markdown",
   "id": "e4c653b9-7c08-41c2-914c-835d3264212c",
   "metadata": {},
   "source": [
    "The following notebooks is currently storage for all the standard querysets needed for the monthly runs.\n",
    "This has been added so they may be stored with all the other standard querysets and adjusted/changed en-masse later without having to touch the visualization code. \n",
    "\n",
    "To be added when updates to queryset come up: combined variable gdp that requires the use of two variables to create a third one. \n",
    "Currently has to be done in notebook and outside querysetting. "
   ]
  },
  {
   "cell_type": "code",
   "execution_count": 1,
   "id": "a9c7da4f",
   "metadata": {},
   "outputs": [],
   "source": [
    "from viewser.operations import fetch\n",
    "from viewser import Queryset, Column"
   ]
  },
  {
   "cell_type": "code",
   "execution_count": 2,
   "id": "3307df9e",
   "metadata": {},
   "outputs": [
    {
     "name": "stdout",
     "output_type": "stream",
     "text": [
      " .      o   "
     ]
    }
   ],
   "source": [
    "features_qs = (Queryset(\"Monthly_update_features_cm\", \"country_month\")\n",
    "\n",
    "\n",
    "    # target variable\n",
    "    .with_column(Column(\"ged_sb_ln1\", from_table = \"ged2_cm\", from_column = \"ged_sb_best_sum_nokgi\")\n",
    "        .transform.missing.replace_na()\n",
    "        .transform.ops.ln()\n",
    "        )\n",
    "      .with_column(Column(\"ged_ns_ln1\", from_table = \"ged2_cm\", from_column = \"ged_ns_best_sum_nokgi\")\n",
    "        .transform.missing.replace_na()\n",
    "        .transform.ops.ln()\n",
    "        )\n",
    "      .with_column(Column(\"ged_os_ln1\", from_table = \"ged2_cm\", from_column = \"ged_os_best_sum_nokgi\")\n",
    "        .transform.missing.replace_na()\n",
    "        .transform.ops.ln()\n",
    "        )\n",
    "    .with_column(Column(\"ged_sb_ln2\", from_table = \"ged2_cm\", from_column = \"ged_sb_best_sum_nokgi\")\n",
    "        .transform.missing.replace_na()\n",
    "        .transform.ops.ln()\n",
    "        .transform.ops.ln()\n",
    "        )\n",
    "    .with_column(Column(\"ged_ns_ln2\", from_table = \"ged2_cm\", from_column = \"ged_ns_best_sum_nokgi\")\n",
    "        .transform.missing.replace_na()\n",
    "        .transform.ops.ln()\n",
    "        .transform.ops.ln()\n",
    "        )\n",
    "    .with_column(Column(\"ged_os_ln2\", from_table = \"ged2_cm\", from_column = \"ged_os_best_sum_nokgi\")\n",
    "        .transform.missing.replace_na()\n",
    "        .transform.ops.ln()\n",
    "        .transform.ops.ln()\n",
    "        )\n",
    "               \n",
    "    .with_column(Column(\"vdem_v2x_libdem\", from_table = \"vdem_v12_cy\", from_column = \"vdem_v12_v2x_libdem\")\n",
    "        .transform.missing.replace_na()\n",
    "        .transform.temporal.tlag(12)\n",
    "        .transform.missing.fill()\n",
    "        )\n",
    "    .with_column(Column(\"wdi_sp_dyn_imrt_in\", from_table = \"wdi_cy\", from_column = \"wdi_sp_dyn_imrt_in\")\n",
    "                         .transform.missing.fill()\n",
    "                         .transform.temporal.tlag(12)\n",
    "                         .transform.missing.fill()\n",
    "        )\n",
    "    .with_column(Column(\"wdi_ny_gdp_mktp_kd\", from_table = \"wdi_cy\", from_column = \"wdi_ny_gdp_mktp_kd\")\n",
    "                 .transform.missing.fill()\n",
    "                 .transform.temporal.tlag(12)\n",
    "                 .transform.missing.fill()\n",
    "                )\n",
    "    .with_column(Column(\"wdi_sp_pop_totl\", from_table = \"wdi_cy\", from_column = \"wdi_sp_pop_totl\")\n",
    "                 .transform.missing.fill()\n",
    "                 .transform.temporal.tlag(12)\n",
    "                 .transform.missing.fill()\n",
    "                )\n",
    "    .with_theme(\"monthly_update\")\n",
    "                         \n",
    "            .describe(\"\"\"Features for the monthly report\"\"\")\n",
    "              )\n",
    "\n",
    "features_cm=features_qs.publish().fetch()\n"
   ]
  },
  {
   "cell_type": "code",
   "execution_count": 3,
   "id": "9323d15c",
   "metadata": {},
   "outputs": [
    {
     "name": "stdout",
     "output_type": "stream",
     "text": [
      " .    "
     ]
    }
   ],
   "source": [
    "features_pgm_qs = (Queryset(\"Monthly_update_features_pgm\", \"priogrid_month\")\n",
    "\n",
    "\n",
    "    # target variable\n",
    "    .with_column(Column(\"ged_sb_ln1\", from_table = \"ged2_pgm\", from_column = \"ged_sb_best_sum_nokgi\")\n",
    "        .transform.missing.replace_na()\n",
    "        .transform.ops.ln()\n",
    "        )\n",
    "      .with_column(Column(\"ged_ns_ln1\", from_table = \"ged2_pgm\", from_column = \"ged_ns_best_sum_nokgi\")\n",
    "        .transform.missing.replace_na()\n",
    "        .transform.ops.ln()\n",
    "        )\n",
    "      .with_column(Column(\"ged_os_ln1\", from_table = \"ged2_pgm\", from_column = \"ged_os_best_sum_nokgi\")\n",
    "        .transform.missing.replace_na()\n",
    "        .transform.ops.ln()\n",
    "        )\n",
    "    .with_column(Column(\"ged_sb_ln2\", from_table = \"ged2_pgm\", from_column = \"ged_sb_best_sum_nokgi\")\n",
    "        .transform.missing.replace_na()\n",
    "        .transform.ops.ln()\n",
    "        .transform.ops.ln()\n",
    "        )\n",
    "      .with_column(Column(\"ged_ns_ln2\", from_table = \"ged2_pgm\", from_column = \"ged_ns_best_sum_nokgi\")\n",
    "        .transform.missing.replace_na()\n",
    "        .transform.ops.ln()\n",
    "        .transform.ops.ln()\n",
    "        )\n",
    "      .with_column(Column(\"ged_os_ln2\", from_table = \"ged2_pgm\", from_column = \"ged_os_best_sum_nokgi\")\n",
    "        .transform.missing.replace_na()\n",
    "        .transform.ops.ln()\n",
    "        .transform.ops.ln()\n",
    "        )\n",
    "    \n",
    "    .with_theme(\"monthly_update\")\n",
    "                         \n",
    "            .describe(\"\"\"Features for the monthly report\"\"\")\n",
    "              )\n",
    "\n",
    "features_pgm=features_pgm_qs.publish().fetch()"
   ]
  },
  {
   "cell_type": "code",
   "execution_count": 4,
   "id": "f0cc728e-92c2-4633-a111-d6e3285e995a",
   "metadata": {},
   "outputs": [
    {
     "name": "stdout",
     "output_type": "stream",
     "text": [
      " .    "
     ]
    }
   ],
   "source": [
    "pg_country_queryset = (Queryset(\"m_associate_country_2_priogrid\", \"priogrid_month\")\n",
    "              #CONFLICT TYPES NOT LOGGED and NOT time lagged \n",
    "            #.with_column(Column(\"month_id\", from_table = \"priogrid_month\", from_column = \"month_id\"))\n",
    "            .with_column(Column('name', from_table = 'country', from_column = 'name'))\n",
    "                             \n",
    "            .with_theme(\"Mapping\")\n",
    "                         \n",
    "            .describe(\"\"\"Mapping, allows for association of priogrid with country \n",
    "                \n",
    "            \"\"\")\n",
    "            \n",
    "           )\n",
    "pg_country = pg_country_queryset.publish().fetch().reset_index()"
   ]
  },
  {
   "cell_type": "code",
   "execution_count": 5,
   "id": "64b22429",
   "metadata": {},
   "outputs": [
    {
     "name": "stdout",
     "output_type": "stream",
     "text": [
      " .    "
     ]
    }
   ],
   "source": [
    "running_average_qs = (Queryset(\"Monthly_update_running_average_cm\", \"country_month\")\n",
    "\n",
    "\n",
    "    # target variable\n",
    "    .with_column(Column(\"ged_sb_run_average_6_ln1\", from_table = \"ged2_cm\", from_column = \"ged_sb_best_sum_nokgi\")\n",
    "        .transform.missing.replace_na()\n",
    "        .transform.temporal.moving_average(6)\n",
    "        .transform.ops.ln()\n",
    "        )\n",
    "      .with_column(Column(\"ged_ns_run_average_6_ln1\", from_table = \"ged2_cm\", from_column = \"ged_ns_best_sum_nokgi\")\n",
    "        .transform.missing.replace_na()\n",
    "        .transform.temporal.moving_average(6)\n",
    "        .transform.ops.ln()\n",
    "        )\n",
    "      .with_column(Column(\"ged_os_run_average_6_ln1\", from_table = \"ged2_cm\", from_column = \"ged_os_best_sum_nokgi\")\n",
    "        .transform.missing.replace_na()\n",
    "        .transform.temporal.moving_average(6)\n",
    "        .transform.ops.ln()\n",
    "        )\n",
    "                \n",
    "    .with_theme(\"monthly_update\")\n",
    "                         \n",
    "            .describe(\"\"\"Features for the monthly report\"\"\")\n",
    "    )\n",
    "              \n",
    "\n",
    "running_average_master=running_average_qs.publish().fetch()"
   ]
  },
  {
   "cell_type": "code",
   "execution_count": 6,
   "id": "0f1976bf-922a-4e84-9148-d06829a626b4",
   "metadata": {},
   "outputs": [
    {
     "name": "stdout",
     "output_type": "stream",
     "text": [
      "\n",
      "  > Country\n",
      "  ---------------------------------\n",
      "  | name         | path         |\n",
      "  |:-------------|:-------------|\n",
      "  | id           | id           |\n",
      "  | name         | name         |\n",
      "  | area         | area         |\n",
      "  | capname      | capname      |\n",
      "  | caplong      | caplong      |\n",
      "  | caplat       | caplat       |\n",
      "  | gwcode       | gwcode       |\n",
      "  | gwsyear      | gwsyear      |\n",
      "  | gwsmonth     | gwsmonth     |\n",
      "  | gwsday       | gwsday       |\n",
      "  | gweyear      | gweyear      |\n",
      "  | gwemonth     | gwemonth     |\n",
      "  | gweday       | gweday       |\n",
      "  | isoname      | isoname      |\n",
      "  | isonum       | isonum       |\n",
      "  | isoab        | isoab        |\n",
      "  | geom         | geom         |\n",
      "  | in_africa    | in_africa    |\n",
      "  | month_start  | month_start  |\n",
      "  | month_end    | month_end    |\n",
      "  | centroidlong | centroidlong |\n",
      "  | centroidlat  | centroidlat  |\n",
      "  | in_me        | in_me        |\n",
      "  \n",
      "  ---------------------------------\n",
      "\n"
     ]
    }
   ],
   "source": [
    "!viewser tables show country"
   ]
  },
  {
   "cell_type": "code",
   "execution_count": 7,
   "id": "73bce9be-a1e9-4393-9524-a869a817c073",
   "metadata": {},
   "outputs": [
    {
     "name": "stdout",
     "output_type": "stream",
     "text": [
      " .    "
     ]
    }
   ],
   "source": [
    "country_names_and_regions_qs = (Queryset('Monthly_update_country_names_and_regions', 'country_month')\n",
    "        .with_column(Column('name', from_table = 'country', from_column = 'name'))\n",
    "        .with_column(Column('in_africa', from_table = 'country', from_column = 'in_africa'))\n",
    "        .with_column(Column('in_me', from_table = 'country', from_column = 'in_me'))\n",
    "        .with_theme(\"monthly_update\")\n",
    "                         \n",
    "            .describe(\"\"\"Features for the monthly report\"\"\")\n",
    "    )\n",
    "country_name_and_regions_master=country_names_and_regions_qs.publish().fetch()"
   ]
  },
  {
   "cell_type": "code",
   "execution_count": 8,
   "id": "fd379938-df79-498b-9d9e-31d17f691eea",
   "metadata": {},
   "outputs": [
    {
     "data": {
      "text/html": [
       "<div>\n",
       "<style scoped>\n",
       "    .dataframe tbody tr th:only-of-type {\n",
       "        vertical-align: middle;\n",
       "    }\n",
       "\n",
       "    .dataframe tbody tr th {\n",
       "        vertical-align: top;\n",
       "    }\n",
       "\n",
       "    .dataframe thead th {\n",
       "        text-align: right;\n",
       "    }\n",
       "</style>\n",
       "<table border=\"1\" class=\"dataframe\">\n",
       "  <thead>\n",
       "    <tr style=\"text-align: right;\">\n",
       "      <th></th>\n",
       "      <th></th>\n",
       "      <th>name</th>\n",
       "      <th>in_africa</th>\n",
       "      <th>in_me</th>\n",
       "    </tr>\n",
       "    <tr>\n",
       "      <th>month_id</th>\n",
       "      <th>country_id</th>\n",
       "      <th></th>\n",
       "      <th></th>\n",
       "      <th></th>\n",
       "    </tr>\n",
       "  </thead>\n",
       "  <tbody>\n",
       "    <tr>\n",
       "      <th rowspan=\"5\" valign=\"top\">1</th>\n",
       "      <th>1</th>\n",
       "      <td>Guyana</td>\n",
       "      <td>0</td>\n",
       "      <td>0</td>\n",
       "    </tr>\n",
       "    <tr>\n",
       "      <th>2</th>\n",
       "      <td>Suriname</td>\n",
       "      <td>0</td>\n",
       "      <td>0</td>\n",
       "    </tr>\n",
       "    <tr>\n",
       "      <th>3</th>\n",
       "      <td>Trinidad and Tobago</td>\n",
       "      <td>0</td>\n",
       "      <td>0</td>\n",
       "    </tr>\n",
       "    <tr>\n",
       "      <th>4</th>\n",
       "      <td>Venezuela</td>\n",
       "      <td>0</td>\n",
       "      <td>0</td>\n",
       "    </tr>\n",
       "    <tr>\n",
       "      <th>5</th>\n",
       "      <td>Samoa</td>\n",
       "      <td>0</td>\n",
       "      <td>0</td>\n",
       "    </tr>\n",
       "    <tr>\n",
       "      <th>...</th>\n",
       "      <th>...</th>\n",
       "      <td>...</td>\n",
       "      <td>...</td>\n",
       "      <td>...</td>\n",
       "    </tr>\n",
       "    <tr>\n",
       "      <th rowspan=\"5\" valign=\"top\">852</th>\n",
       "      <th>242</th>\n",
       "      <td>Tanzania</td>\n",
       "      <td>1</td>\n",
       "      <td>0</td>\n",
       "    </tr>\n",
       "    <tr>\n",
       "      <th>243</th>\n",
       "      <td>Morocco</td>\n",
       "      <td>1</td>\n",
       "      <td>0</td>\n",
       "    </tr>\n",
       "    <tr>\n",
       "      <th>244</th>\n",
       "      <td>Mauritania</td>\n",
       "      <td>1</td>\n",
       "      <td>0</td>\n",
       "    </tr>\n",
       "    <tr>\n",
       "      <th>245</th>\n",
       "      <td>Sudan</td>\n",
       "      <td>1</td>\n",
       "      <td>0</td>\n",
       "    </tr>\n",
       "    <tr>\n",
       "      <th>246</th>\n",
       "      <td>South Sudan</td>\n",
       "      <td>1</td>\n",
       "      <td>0</td>\n",
       "    </tr>\n",
       "  </tbody>\n",
       "</table>\n",
       "<p>158230 rows × 3 columns</p>\n",
       "</div>"
      ],
      "text/plain": [
       "                                    name  in_africa  in_me\n",
       "month_id country_id                                       \n",
       "1        1                        Guyana          0      0\n",
       "         2                      Suriname          0      0\n",
       "         3           Trinidad and Tobago          0      0\n",
       "         4                     Venezuela          0      0\n",
       "         5                         Samoa          0      0\n",
       "...                                  ...        ...    ...\n",
       "852      242                    Tanzania          1      0\n",
       "         243                     Morocco          1      0\n",
       "         244                  Mauritania          1      0\n",
       "         245                       Sudan          1      0\n",
       "         246                 South Sudan          1      0\n",
       "\n",
       "[158230 rows x 3 columns]"
      ]
     },
     "execution_count": 8,
     "metadata": {},
     "output_type": "execute_result"
    }
   ],
   "source": [
    "country_name_and_regions_master"
   ]
  },
  {
   "cell_type": "code",
   "execution_count": null,
   "id": "f0bfd403-f629-4e79-ace1-55c8195de9d7",
   "metadata": {},
   "outputs": [],
   "source": []
  }
 ],
 "metadata": {
  "kernelspec": {
   "display_name": "Python 3 (ipykernel)",
   "language": "python",
   "name": "python3"
  },
  "language_info": {
   "codemirror_mode": {
    "name": "ipython",
    "version": 3
   },
   "file_extension": ".py",
   "mimetype": "text/x-python",
   "name": "python",
   "nbconvert_exporter": "python",
   "pygments_lexer": "ipython3",
   "version": "3.9.13"
  }
 },
 "nbformat": 4,
 "nbformat_minor": 5
}
