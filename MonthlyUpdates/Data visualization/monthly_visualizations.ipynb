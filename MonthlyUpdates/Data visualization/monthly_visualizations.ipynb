{
 "cells": [
  {
   "cell_type": "markdown",
   "id": "c6a414b1",
   "metadata": {},
   "source": [
    "\n",
    "# ViEWS 3: presenting monthly results\n",
    "\n",
    "\n",
    "Fatalities002 version\n",
    "\n",
    "This notebook presents a standardized set of visualizations based on the monthly forecasts produced by the cm_futurepredictions notebook, for use in newsletters, webpage, etc.\n",
    "\n",
    "#### Ensure the correct version of the mapper is installed. Version 1.4.0 as of 8/24/2022\n",
    "\n",
    "Run \"pip install views_mapper2 --upgrade\" if out of date\n",
    "\n",
    "\n"
   ]
  },
  {
   "cell_type": "code",
   "execution_count": null,
   "id": "de6d0fa7",
   "metadata": {},
   "outputs": [],
   "source": [
    "!pip freeze | grep views-mapper2"
   ]
  },
  {
   "cell_type": "markdown",
   "id": "e0c4ec38",
   "metadata": {},
   "source": [
    "# Defining universals and obtain the data"
   ]
  },
  {
   "cell_type": "code",
   "execution_count": null,
   "id": "a5a1938e",
   "metadata": {},
   "outputs": [],
   "source": [
    "# Basics\n",
    "import numpy as np\n",
    "import pandas as pd\n",
    "import matplotlib.pyplot as plt\n",
    "import matplotlib.cbook as cbook\n",
    "\n",
    "import warnings\n",
    "warnings.filterwarnings('ignore')\n",
    "\n",
    "# Views 3\n",
    "from viewser.operations import fetch\n",
    "from viewser import Queryset, Column\n",
    "import views_runs\n",
    "from views_partitioning import data_partitioner, legacy\n",
    "from stepshift import views\n",
    "import views_dataviz\n",
    "from views_runs import storage, ModelMetadata\n",
    "from views_runs.storage import store, retrieve, fetch_metadata\n",
    "from views_forecasts.extensions import *\n",
    "\n",
    "# Packages from this repository, Tools folder\n",
    "import sys\n",
    "sys.path.append('../')\n",
    "sys.path.append('../Tools')\n",
    "sys.path.append('../Intermediates')\n",
    "sys.path.append('../SystemUpdates')\n",
    "from Ensembling import CalibratePredictions, RetrieveStoredPredictions, mean_sd_calibrated, gam_calibrated\n",
    "from FetchData import FetchData, RetrieveFromList\n",
    "from ViewsEstimators import *"
   ]
  },
  {
   "cell_type": "code",
   "execution_count": null,
   "id": "27ab9cba",
   "metadata": {},
   "outputs": [],
   "source": [
    "# Common parameters:\n",
    "dev_id = 'Fatalities002'\n",
    "run_id = dev_id \n",
    "EndOfHistory = 509\n",
    "#prod_id = '2022_04_t01'\n",
    "level = 'cm'\n",
    "\n",
    "#note the home path has been automated with the os.path.expanduser function\n",
    "#no need to adjust the folder as long as ViEWS on the dropbox is the destination\n",
    "\n",
    "import os\n",
    "home = os.path.expanduser(\"~\")\n",
    "Mydropbox = home + '/Dropbox (ViEWS)/ViEWS/'\n",
    "Monthly_updates = Mydropbox + 'DataReleases/MonthlyUpdates/'\n",
    "\n"
   ]
  },
  {
   "cell_type": "markdown",
   "id": "1a80c09b",
   "metadata": {},
   "source": [
    "# Plan for this notebook\n",
    "\n",
    "The notebook will produce a standardized set of visualizations for the monthly updates and store in the dropbox directory structure.\n",
    "\n",
    "Rough loop structure:\n",
    "\n",
    "for [cm, pgm]:\n",
    "\n",
    "    for [sb]: # -- os and ns will come later\n",
    "    \n",
    "        Prediction maps for ensemble, possibly in two variants: predicted number of fatalities for s = [3,6,12,36]\n",
    "        \n",
    "        Change maps: change in predictions issued now and those issued **one** and three months earlier, for s = [3,12]\n",
    "        \n",
    "        Change maps: change in predictions issued now relative to last observed fatality count, for s = [3,12]\n",
    "        \n",
    "        Bar charts of **total** fatalities **per ame country** for next 12/36 months\n",
    "        \n",
    "        Line graphs: fatalities per month over time globally and for some selected countries and regions\n",
    "        \n",
    "    "
   ]
  },
  {
   "cell_type": "markdown",
   "id": "bc3e4f29-c8d6-4b17-babd-914e1156b101",
   "metadata": {},
   "source": [
    "## Prediction maps\n",
    "\n",
    "- Prediction maps for ensemble, standard + chosen tiles: predicted number of fatalities for s = [3,6,12,36]\n",
    "    - s=3 predictions printed as a table for all of ame\n",
    "    \n",
    "- Line graphs of cm predictions per month, 36 months, all countries in AME\n",
    "- One line graph of cm predictions per month, 36 months, for countries with top 5 highest fatalities (in total over this period?)\n",
    "\n",
    "- Pie chart showing the proportion of predicted fatalities per country – amongst countries for which we predict more than 50 fatalities over the next 3 months \n",
    "- Pie chart showing the proportion of predicted fatalities per country – amongst countries for we predict more than 100 fatalities over the next 3 months \n",
    "\n",
    "- Bar charts of total number of fatalities per ame country over the next 12 and 36 months (separate files)\n",
    "\n",
    "## Change in prediction maps\n",
    "\n",
    "- Change in predictions issued now and those issued **one** and three months earlier, for s = [3,12]\n",
    "    - In number of fatalities\n",
    "    - Categorical to minimise information overflow: e.g., 0-5% change, 5-10% change, 10-20% change, 20-50% change, more than 50% change? (up or down)\n",
    "    - Both options above printed as a table for top 5 increases and top 5 decreases since last month at s=3\n",
    "- Change in predictions issued now relative to last observed fatality count, for s = [3,12]\n",
    "    - In number of fatalities\n",
    "    - Categorical to minimise information overflow: e.g., +/- 0-5% change, 5-10% change, 10-20% change, 20-50% change, more than 50% change? (Suggestions?) \n",
    "    - Both options above printed as a table for top 5 increases and top 5 decreases since last month at s=3\n",
    "\n",
    "## Surrogate maps \n",
    "\n",
    "- Surrogate model prediction maps (see cm_futurepredictions notebook)\n",
    "- Surrogate model change maps: change in prediction for s=3 between now and those issued last month (see cm_futurepredictions notebook)\n",
    "\n",
    "## Feature maps\n",
    "\n",
    "- See ALM's feature notebook for inspo (ALM can also insert these). \n",
    "    - GED data for EndOfHistory at cm and pgm (without transforms to fill in for missing data), with option to choose cmap and scale on the color bar (viridis and single log scale as default, with number of fatalities as labels)\n",
    "    - Change (number of fatalities and %) in GED data for EndofHistory relative to EndofHistory-1, cm and pgm"
   ]
  },
  {
   "cell_type": "code",
   "execution_count": null,
   "id": "7ba49979-ef97-4e5a-aa9e-10d10e899ab4",
   "metadata": {},
   "outputs": [],
   "source": []
  }
 ],
 "metadata": {
  "kernelspec": {
   "display_name": "Python 3 (ipykernel)",
   "language": "python",
   "name": "python3"
  },
  "language_info": {
   "codemirror_mode": {
    "name": "ipython",
    "version": 3
   },
   "file_extension": ".py",
   "mimetype": "text/x-python",
   "name": "python",
   "nbconvert_exporter": "python",
   "pygments_lexer": "ipython3",
   "version": "3.9.13"
  }
 },
 "nbformat": 4,
 "nbformat_minor": 5
}
