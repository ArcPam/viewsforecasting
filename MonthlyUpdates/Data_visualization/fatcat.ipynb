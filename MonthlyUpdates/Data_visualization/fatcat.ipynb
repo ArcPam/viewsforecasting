{
 "cells": [
  {
   "cell_type": "markdown",
   "id": "2f230e20",
   "metadata": {},
   "source": [
    "# Conflict Volatility (fatalities categories)\n",
    "\n",
    "\n",
    "This notebook creates a way to observe countries' levels of violence and their likelihood of transitioning to various levels of violence over time periods. \n",
    "\n",
    "This notebook will create a new categorical variable which converts the actuals and predictions into the following groups: (0) Non-violent; (1) Low-violence; (2) Violent; (3) High-violence; (4) Extreme Violence.\n",
    "\n",
    "**Non-violent** refers to zero conflict-related deaths in a given country for each month over the past 3-months.\n",
    "\n",
    "**Low-violence** refers to 1-9 conflict-related deaths in a given country for each month over the past 3-months.\n",
    "\n",
    "**Violent** refers to 9-99 or more conflict-related deaths in a given country for each month over the past 3-months.\n",
    "\n",
    "**High-violence** refers to 100-1000 or more conflict-related deaths in a given country for each month over the past 3-months.\n",
    "\n",
    "**Extreme violence** refers to 1000 or more conflict-related deaths in a given country for each month over the past 3-months."
   ]
  },
  {
   "cell_type": "markdown",
   "id": "1b4f49a6",
   "metadata": {},
   "source": [
    "### Configuration and Packages"
   ]
  },
  {
   "cell_type": "code",
   "execution_count": null,
   "id": "21ec4bbe",
   "metadata": {},
   "outputs": [],
   "source": [
    "# Basics\n",
    "import numpy as np\n",
    "import pandas as pd\n",
    "import matplotlib.pyplot as plt\n",
    "import matplotlib.cbook as cbook\n",
    "# sklearn\n",
    "from sklearn.ensemble import RandomForestRegressor\n",
    "from sklearn.ensemble import RandomForestClassifier\n",
    "from sklearn.ensemble import GradientBoostingRegressor\n",
    "from sklearn.ensemble import HistGradientBoostingRegressor\n",
    "from sklearn.ensemble import AdaBoostRegressor\n",
    "from sklearn import linear_model\n",
    "from sklearn.metrics import mean_squared_error\n",
    "\n",
    "import warnings\n",
    "warnings.filterwarnings('ignore')\n",
    "\n",
    "# Views 3\n",
    "from viewser.operations import fetch\n",
    "from viewser import Queryset, Column\n",
    "import views_runs\n",
    "from views_partitioning import data_partitioner, legacy\n",
    "from stepshift import views\n",
    "from views_runs import storage, ModelMetadata\n",
    "from views_runs.storage import store, retrieve, fetch_metadata\n",
    "from views_forecasts.extensions import *\n",
    "import views_mapper2\n",
    "from views_mapper2.mapper2 import Mapper2\n",
    "from views_mapper2 import color\n",
    "from views_mapper2.label_writer import vid2date\n",
    "from views_mapper2.dictionary_writer import standard_scale\n",
    "\n",
    "# Packages from Mapper2\n",
    "from ingester3.ViewsMonth import ViewsMonth\n",
    "from ingester3.Country import Country\n",
    "import pycountry\n",
    "from datetime import date\n",
    "import os\n",
    "import numpy as np\n",
    "\n",
    "# Mapper\n",
    "import geopandas as gpd\n",
    "\n",
    "import sqlalchemy as sa\n",
    "#from ingester3.config import source_db_path\n",
    "\n",
    "# Other packages\n",
    "import pickle as pkl\n",
    "\n",
    "#Parallelization\n",
    "from joblib import Parallel, delayed, cpu_count\n",
    "from functools import partial\n",
    "\n",
    "from pathlib import Path\n",
    "\n",
    "# Packages from this repository, Tools folder\n",
    "import sys\n",
    "sys.path.append('../')\n",
    "sys.path.append('../Tools')\n",
    "sys.path.append('../Intermediates')\n",
    "sys.path.append('../SystemUpdates')\n",
    "import os\n",
    "from pathlib import Path\n",
    "\n",
    "#from Ensembling import CalibratePredictions, RetrieveStoredPredictions, mean_sd_calibrated, gam_calibrated\n",
    "\n",
    "#from FetchData import FetchData, RetrieveFromList, ReturnQsList, get_df_from_datasets_by_name\n",
    "#from ViewsEstimators import *"
   ]
  },
  {
   "cell_type": "code",
   "execution_count": null,
   "id": "b159b5fe",
   "metadata": {},
   "outputs": [],
   "source": [
    "dev_id = 'Fatalities002'\n",
    "run_id = dev_id \n",
    "EndOfHistory = 509\n",
    "prod_id = '2022_04_t01'\n",
    "level = 'cm'\n",
    "months_prior = 3\n",
    "\n",
    "\n",
    "#note the home path has been automated with the os.path.expanduser function\n",
    "#no need to adjust the folder as long as ViEWS on the dropbox is the destination\n",
    "\n",
    "import os\n",
    "home = os.path.expanduser(\"~\")\n",
    "Mydropbox = home + '/Dropbox (ViEWS)/ViEWS_new/'\n",
    "Monthly_updates = Mydropbox + 'DataReleases/MonthlyUpdates/'\n",
    "localgitpath = home + '/Desktop/VIEWS_new/'\n",
    "\n",
    "\n",
    "##################\n",
    "print('OS Login is:', os.getlogin())\n",
    "print('OS path is set to:', home)\n",
    "print('Local Git path is set to:', localgitpath)\n",
    "print('Dropbox path is set to:', Mydropbox)"
   ]
  },
  {
   "cell_type": "markdown",
   "id": "f905c354",
   "metadata": {},
   "source": [
    "## 1: Fetching and merge the data\n",
    "\n",
    "\n",
    "    1: Pull in the actuals, restrict the data to (EndOfHistory-40) to EndOfHistory\n",
    "\n",
    "    2: Pull in the future categorical future predictions, steps 1 to 36 months into the future\n",
    "    \n",
    "    3: Merge the DFs: create a single df with actuals and predictions"
   ]
  },
  {
   "cell_type": "markdown",
   "id": "217efa85",
   "metadata": {},
   "source": [
    "### 1.1: Fetch acutals\n",
    "\n",
    "The following cell calls fatalities per UCDP GED "
   ]
  },
  {
   "cell_type": "code",
   "execution_count": null,
   "id": "851a4d84",
   "metadata": {},
   "outputs": [],
   "source": [
    "qs1 = (Queryset(\"actuals_monthly\", \"country_month\")\n",
    "            .with_column(Column(\"ged_best_sb\", from_table= \"ged2_cm\", from_column=\"ged_sb_best_sum_nokgi\")\n",
    "                        .transform.missing.fill())   \n",
    "            .with_theme(\"fatalities\")\n",
    "            .describe(\"\"\" Fatalities conflict history, cm level Monthly Update\"\"\"))\n",
    "actuals = qs1.publish().fetch()\n",
    "\n",
    "actuals = actuals.loc[EndOfHistory-40:EndOfHistory]\n",
    "actuals = actuals.reset_index()\n",
    "actuals['step'] = actuals['month_id'] - EndOfHistory\n",
    "actuals = actuals.set_index(['step', 'country_id'], drop = True)\n",
    "actuals.rename(columns={'ged_best_sb':'fatalities'}, inplace=True)"
   ]
  },
  {
   "cell_type": "markdown",
   "id": "f3c751a0",
   "metadata": {},
   "source": [
    "### 1.2: Fetch the future predictions with their categorical uncertainty values\n",
    "\n",
    "Presently, this simply reads in the .csv file; however, I would like it to read from pred_store. It also transforms 'steps_combined' into the exponential form. "
   ]
  },
  {
   "cell_type": "code",
   "execution_count": null,
   "id": "c993ceaf",
   "metadata": {},
   "outputs": [],
   "source": [
    "future = pd.read_csv('Categorical_probabilities.csv')\n",
    "\n",
    "future['step'] = future['month_id'] - EndOfHistory\n",
    "future = future.set_index(['step', 'country_id'], drop = True)\n",
    "future['step_combined'] = np.expm1(future['step_combined'])\n",
    "future.rename(columns={'step_combined':'fatalities'}, inplace=True)"
   ]
  },
  {
   "cell_type": "markdown",
   "id": "64dbca37",
   "metadata": {},
   "source": [
    "### 1.3: Merge the data\n"
   ]
  },
  {
   "cell_type": "code",
   "execution_count": null,
   "id": "7a52ea1d",
   "metadata": {},
   "outputs": [],
   "source": [
    "merge = pd.concat([actuals, future], axis=0)"
   ]
  },
  {
   "cell_type": "markdown",
   "id": "8e1f3309",
   "metadata": {},
   "source": [
    "## 2: Creating Fatalities Categories (Fat_Cat)\n",
    "\n",
    "This section creates fat_cat. Here, I write the code the defines the categories. "
   ]
  },
  {
   "cell_type": "markdown",
   "id": "a1e4146f",
   "metadata": {},
   "source": [
    "# 2.1: Defining the categories\n",
    "\n",
    "This cell defines a function that creates a multiclass categorical variable grouping fatalities \n",
    "    \n",
    "    0: Peaceful = a country-month without any fatalities\n",
    "    1: Low-violence = a country-month with 1-9 fatalities\n",
    "    2: Violent = a country-month with more than 9-99 fatalities\n",
    "    3: High-violence = a country-month with more than 100-999 fatalities\n",
    "    4: Extreme violence = a country-month with more than 1000 fatalites\n",
    "    "
   ]
  },
  {
   "cell_type": "code",
   "execution_count": null,
   "id": "dfe29d00",
   "metadata": {},
   "outputs": [],
   "source": [
    "fatcat = merge.copy()\n",
    "fatcat = fatcat.reset_index(drop=False)"
   ]
  },
  {
   "cell_type": "code",
   "execution_count": null,
   "id": "50e1776c",
   "metadata": {},
   "outputs": [],
   "source": [
    "def ged_fatalities(x):\n",
    "    if x < 0.5:\n",
    "        return 0\n",
    "    elif x < 10:\n",
    "        return 1\n",
    "    elif x < 100:\n",
    "        return 2\n",
    "    elif x < 1000:\n",
    "        return 3\n",
    "    else:\n",
    "        return 4\n",
    "       \n",
    "def ged_intensity_lvl(x):\n",
    "    if x < 0.5:\n",
    "        return 0\n",
    "    elif x < 100:\n",
    "        return 1\n",
    "    else:\n",
    "        return 2  "
   ]
  },
  {
   "cell_type": "code",
   "execution_count": null,
   "id": "42b64d32",
   "metadata": {},
   "outputs": [],
   "source": [
    "fatcat['fatcat'] = fatcat['fatalities'].apply(ged_fatalities)\n",
    "\n",
    "# Create a variable that subtracts the observation in the row above by the row below and prints the output\n",
    "fatcat['fatcat_change'] = fatcat.groupby('country_id')['fatcat'].diff()\n",
    "\n",
    "\n",
    "# Fill the top values of ['status'] with zeros\n",
    "fatcat['fatcat_change'] = fatcat['fatcat_change'].fillna(0)\n",
    "\n",
    "fatcat = fatcat.set_index(['step','country_id'], drop = True)\n"
   ]
  },
  {
   "cell_type": "code",
   "execution_count": null,
   "id": "fdba86ee",
   "metadata": {},
   "outputs": [],
   "source": [
    "# This cell creates 'fatcat_nominal'\n",
    "\n",
    "fatcat['fatcat_nominal'] = fatcat['fatcat']\n",
    "fatcat = fatcat.reset_index()\n",
    "\n",
    "fat_classes = [\n",
    "    (fatcat['fatcat'] == 0), \n",
    "    (fatcat['fatcat'] == 1),\n",
    "    (fatcat['fatcat'] == 2),\n",
    "    (fatcat['fatcat'] == 3),\n",
    "    (fatcat['fatcat'] == 4)\n",
    "]\n",
    "\n",
    "fat_categories = ['Non-violent', 'Low Violence', 'Violence', 'High-violence', 'Extreme Violence']\n",
    "\n",
    "fatcat['fatcat_nominal'] = np.select(fat_classes, fat_categories)\n",
    "\n",
    "fatcat = fatcat.set_index(['step','country_id'], drop = True)"
   ]
  },
  {
   "cell_type": "code",
   "execution_count": null,
   "id": "82da786b",
   "metadata": {},
   "outputs": [],
   "source": [
    "# This cell creates 'monthly_change' variable\n",
    "\n",
    "fatcat['monthly_change'] = fatcat['fatcat_change']\n",
    "fatcat = fatcat.reset_index()\n",
    "\n",
    "violence_conditions = [\n",
    "    (fatcat['monthly_change'] == -2), \n",
    "    (fatcat['monthly_change'] == -1),\n",
    "    (fatcat['monthly_change'] == 0),\n",
    "    (fatcat['monthly_change'] == 1),\n",
    "    (fatcat['monthly_change'] == 2)\n",
    "]\n",
    "\n",
    "violence_categories = ['Rapid Descalation', 'De-escalation', 'Status Quo', 'Escalation', 'Rapid Escalation']\n",
    "\n",
    "fatcat['monthly_change'] = np.select(violence_conditions, violence_categories)"
   ]
  },
  {
   "cell_type": "code",
   "execution_count": null,
   "id": "c5ae0285",
   "metadata": {},
   "outputs": [],
   "source": [
    "#fatcat['monthly_change'] = np.select(violence_conditions, violence_categories)\n",
    "\n",
    "# This creates a rolling mean of the violence over the past 'months prior' parameter\n",
    "fatcat['rolling_mean_violence'] = fatcat.groupby('country_id')['fatalities'].transform(lambda x: x.shift(1).rolling(months_prior, 1).mean())\n",
    "\n",
    "fatcat['intensity_lvl'] = fatcat['rolling_mean_violence'].apply(ged_intensity_lvl)\n",
    "\n",
    "#Reset the df to only include 12 months prior\n",
    "fatcat = fatcat.loc[fatcat['step'] >= -12]\n",
    "\n",
    "#Reset the index\n",
    "fatcat = fatcat.set_index(['step', 'country_id'], drop = True)\n"
   ]
  },
  {
   "cell_type": "code",
   "execution_count": null,
   "id": "1fd83f3d",
   "metadata": {},
   "outputs": [],
   "source": [
    "fatcat"
   ]
  },
  {
   "cell_type": "code",
   "execution_count": null,
   "id": "a6679eac",
   "metadata": {},
   "outputs": [],
   "source": [
    "#fatcat.to_csv('/Users/chandlerwilliams/Desktop/VIEWS_new/test_folder/fatcatpeak.csv',sep = ';')"
   ]
  },
  {
   "cell_type": "markdown",
   "id": "fc4f18e9",
   "metadata": {},
   "source": [
    "## 3: Creating Change Lists\n",
    "\n",
    "The following cells shows the countries that are expected to shift between fatcats"
   ]
  },
  {
   "cell_type": "markdown",
   "id": "c95d297a",
   "metadata": {},
   "source": [
    "### 3.1: Creating a list from Step0 "
   ]
  },
  {
   "cell_type": "code",
   "execution_count": null,
   "id": "8a97d004",
   "metadata": {},
   "outputs": [],
   "source": [
    "fatcat0 = fatcat.reset_index(drop=False)\n",
    "fatcat0 = fatcat0[fatcat0['step'] == 0] \n",
    "fatcat0_pivot = pd.pivot_table(fatcat0, values=['fatalities', 'multi_0_logit','multi_1_logit', 'multi_2_logit', 'multi_3_logit',\n",
    "                                                'multi_4_logit', 'fatcat', 'fatcat_nominal', 'fatcat_change', 'monthly_change', 'rolling_mean_violence',\n",
    "                                                'intensity_lvl'],\n",
    "                               index=['country_id'])\n",
    "\n",
    "fatcat0_pivot.rename(columns={'fatalities': 'fatalities_step_0'}, inplace=True)\n",
    "fatcat0_pivot.rename(columns={'fatcat': 'fatcat_step_0'}, inplace=True)"
   ]
  },
  {
   "cell_type": "markdown",
   "id": "1ac90a6f",
   "metadata": {},
   "source": [
    "### 3.2: Creating a list from StepX "
   ]
  },
  {
   "cell_type": "code",
   "execution_count": null,
   "id": "aa2b3279",
   "metadata": {},
   "outputs": [],
   "source": [
    "fatcat12 = fatcat.reset_index(drop=False)\n",
    "fatcat12 = fatcat12[fatcat12['step'] == 12] \n",
    "fatcat12_pivot = pd.pivot_table(fatcat12, values=['fatalities', 'multi_0_logit','multi_1_logit', 'multi_2_logit', 'multi_3_logit',\n",
    "                                                'multi_4_logit', 'fatcat', 'fatcat_change', 'monthly_change', 'rolling_mean_violence',\n",
    "                                                'intensity_lvl', 'fatcat_nominal'],\n",
    "                               index=['country_id'])\n",
    "\n",
    "fatcat12_pivot.rename(columns={'fatalities': 'fatalities_step_12'}, inplace=True)\n",
    "fatcat12_pivot.rename(columns={'fatcat': 'fatcat_step_12'}, inplace=True)\n",
    "#fatcat_3 = fatcat_3.sort_values(by=['fatalities'], ascending=False)"
   ]
  },
  {
   "cell_type": "markdown",
   "id": "948538f8",
   "metadata": {},
   "source": [
    "### 3.3: Joining these data "
   ]
  },
  {
   "cell_type": "code",
   "execution_count": null,
   "id": "0c503c22",
   "metadata": {},
   "outputs": [],
   "source": [
    "fatcat_list = fatcat0_pivot.join(fatcat12_pivot, lsuffix='_step_0', rsuffix='_step_12')\n",
    "fatcat_list = fatcat_list.sort_values('fatalities_step_0', ascending=False)"
   ]
  },
  {
   "cell_type": "code",
   "execution_count": null,
   "id": "3d70389d",
   "metadata": {},
   "outputs": [],
   "source": [
    "fatcat_list['fatcat_change'] = fatcat_list['fatcat_step_12'] - fatcat_list['fatcat_step_0']\n",
    "\n",
    "violence_conditions2 = [\n",
    "    (fatcat_list['fatcat_change'] == -2), \n",
    "    (fatcat_list['fatcat_change'] == -1),\n",
    "    (fatcat_list['fatcat_change'] == 0),\n",
    "    (fatcat_list['fatcat_change'] == 1),\n",
    "    (fatcat_list['fatcat_change'] == 2)\n",
    "]\n",
    "\n",
    "violence_categories = ['Rapid Descalation', 'De-escalation', 'Status Quo', 'Escalation', 'Rapid Escalation']\n",
    "\n",
    "fatcat_list['facat_change_nominal'] = np.select(violence_conditions2, violence_categories)"
   ]
  },
  {
   "cell_type": "markdown",
   "id": "72f30652",
   "metadata": {},
   "source": [
    "### 3.4: Data manipulation"
   ]
  },
  {
   "cell_type": "code",
   "execution_count": null,
   "id": "743cfea6",
   "metadata": {},
   "outputs": [],
   "source": [
    "def cid2name(country_id):\n",
    "    \"\"\"\n",
    "    Function useful for labeling countries if needed by their name\n",
    "    Create a string output name by country id\n",
    "    Uses ingester3 Country as basis\n",
    "    :param country_id: Views Country ID\n",
    "    :return: name\n",
    "    \"\"\"\n",
    "    name = Country(country_id).name\n",
    "    return name"
   ]
  },
  {
   "cell_type": "code",
   "execution_count": null,
   "id": "169c2a38",
   "metadata": {},
   "outputs": [],
   "source": [
    "fatcat_list = fatcat_list.reset_index(drop=False)"
   ]
  },
  {
   "cell_type": "code",
   "execution_count": null,
   "id": "ae30a14b",
   "metadata": {},
   "outputs": [],
   "source": [
    "c_id = [int(x) for x in fatcat_list['country_id']] \n",
    "country_names = []\n",
    "for x in (c_id):\n",
    "        country_names.append(cid2name(x)) "
   ]
  },
  {
   "cell_type": "code",
   "execution_count": null,
   "id": "c7a9fb97",
   "metadata": {},
   "outputs": [],
   "source": [
    "fatcat_list['country'] = country_names\n",
    "fatcat_list = fatcat_list.set_index('country_id', drop = True)"
   ]
  },
  {
   "cell_type": "markdown",
   "id": "b77e17e9",
   "metadata": {},
   "source": [
    "#### Creating 'fatcat_nominal' for steps 1 and 12"
   ]
  },
  {
   "cell_type": "code",
   "execution_count": null,
   "id": "2cbcf007",
   "metadata": {},
   "outputs": [],
   "source": [
    "# Creates: Fatcat list 0 nominal\n",
    "\n",
    "fatcat_list['fatcat_0_nominal'] = fatcat_list['fatcat_step_0']\n",
    "fatcat_list = fatcat_list.reset_index()\n",
    "\n",
    "fat_classes = [\n",
    "    (fatcat_list['fatcat_step_0'] == 0), \n",
    "    (fatcat_list['fatcat_step_0'] == 1),\n",
    "    (fatcat_list['fatcat_step_0'] == 2),\n",
    "    (fatcat_list['fatcat_step_0'] == 3),\n",
    "    (fatcat_list['fatcat_step_0'] == 4)\n",
    "]\n",
    "\n",
    "fat_categories = ['Non-violent', 'Low Violence', 'Violent', 'High-violence', 'Extreme Violence']\n",
    "\n",
    "fatcat_list['fatcat_0_nominal'] = np.select(fat_classes, fat_categories)\n",
    "\n",
    "fatcat_list = fatcat_list.set_index(['country_id'], drop = True)"
   ]
  },
  {
   "cell_type": "code",
   "execution_count": null,
   "id": "0bb7d3f7",
   "metadata": {},
   "outputs": [],
   "source": [
    "# Creates: Fatcat list 12 nominal\n",
    "\n",
    "fatcat_list['fatcat_12_nominal'] = fatcat_list['fatcat_step_12']\n",
    "fatcat_list = fatcat_list.reset_index()\n",
    "\n",
    "fat_classes = [\n",
    "    (fatcat_list['fatcat_step_12'] == 0), \n",
    "    (fatcat_list['fatcat_step_12'] == 1),\n",
    "    (fatcat_list['fatcat_step_12'] == 2),\n",
    "    (fatcat_list['fatcat_step_12'] == 3),\n",
    "    (fatcat_list['fatcat_step_12'] == 4)\n",
    "]\n",
    "\n",
    "fat_categories = ['Non-violent', 'Low Violence', 'Violent', 'High-violence', 'Extreme Violence']\n",
    "\n",
    "fatcat_list['fatcat_12_nominal'] = np.select(fat_classes, fat_categories)\n",
    "\n",
    "fatcat_list = fatcat_list.set_index(['country_id'], drop = True)"
   ]
  },
  {
   "cell_type": "markdown",
   "id": "9ae8da82",
   "metadata": {},
   "source": [
    "## 4: Fatcat Lists"
   ]
  },
  {
   "cell_type": "markdown",
   "id": "9fe3ec5b",
   "metadata": {},
   "source": [
    "### 4.1: Escalation List\n",
    "\n",
    "This list the countries that are expected to esclate in violence from the EndOfHistory until 12-months later"
   ]
  },
  {
   "cell_type": "code",
   "execution_count": null,
   "id": "2fe37ce2",
   "metadata": {},
   "outputs": [],
   "source": [
    "escalationlist = fatcat_list.copy()\n",
    "escalationlist = escalationlist.loc[escalationlist['fatcat_change'] >= 1 ] \n",
    "escalationlist = escalationlist.sort_values(by = ['fatalities_step_12'], ascending=[False])\n",
    "escalationlist.to_markdown(buf= '/Users/chandlerwilliams/Desktop/VIEWS_new/test_folder/escalationlist_12.md')\n",
    "escalationlist\n",
    "#print(escalationlist.to_markdown())"
   ]
  },
  {
   "cell_type": "markdown",
   "id": "2bcc3706",
   "metadata": {},
   "source": [
    "### 4.1: De-escalation List\n",
    "\n",
    "This list the countries that are expected to de-esclate in violence from the EndOfHistory until 12-months later"
   ]
  },
  {
   "cell_type": "code",
   "execution_count": null,
   "id": "92419481",
   "metadata": {},
   "outputs": [],
   "source": [
    "deescalationlist = fatcat_list.copy()\n",
    "deescalationlist = deescalationlist.loc[deescalationlist['fatcat_change'] < 0 ] \n",
    "deescalationlist = deescalationlist.sort_values(by = ['fatalities_step_12'], ascending=[False])\n",
    "deescalationlist.to_markdown(buf= '/Users/chandlerwilliams/Desktop/VIEWS_new/test_folder/deescalationlist_12.md')\n",
    "#print(deescalationlist.to_markdown())\n",
    "deescalationlist"
   ]
  },
  {
   "cell_type": "markdown",
   "id": "4476a318",
   "metadata": {},
   "source": [
    "### 4.1: Status Quo List\n",
    "\n",
    "This list the countries that are expected to de-esclate in violence from the EndOfHistory until 12-months later"
   ]
  },
  {
   "cell_type": "code",
   "execution_count": null,
   "id": "836cda3d",
   "metadata": {},
   "outputs": [],
   "source": [
    "sqlist = fatcat_list.copy()\n",
    "sqlist = sqlist.loc[sqlist['fatcat_change'] == 0 ] \n",
    "sqlist = sqlist.sort_values(by = ['fatalities_step_12'], ascending=[False])\n",
    "sqlist.to_markdown(buf= '/Users/chandlerwilliams/Desktop/VIEWS_new/test_folder/sqlist_12.md')\n",
    "#print(sqlist.to_markdown())\n",
    "sqlist"
   ]
  },
  {
   "cell_type": "markdown",
   "id": "3fbb31a0",
   "metadata": {},
   "source": [
    "## FatCat Lists Condensed\n",
    "\n",
    "This cell creates FatCat lists that are condensed to only include: \n",
    "\n",
    "    - Country Name\n",
    "    - FatCat_change_nominal\n",
    "    - Fatcat_0_nominal\n",
    "    - Fatcat_12_nominal\n",
    "    - Fat0\n",
    "    - Fat12\n"
   ]
  },
  {
   "cell_type": "code",
   "execution_count": null,
   "id": "effbd5d7",
   "metadata": {},
   "outputs": [],
   "source": [
    "deescalationlist_short = deescalationlist[['country', 'facat_change_nominal', 'fatcat_0_nominal', 'fatcat_12_nominal',\n",
    "                                           'fatalities_step_0', 'fatalities_step_12','rolling_mean_violence_step_0', 'rolling_mean_violence_step_12']]\n",
    "\n"
   ]
  },
  {
   "cell_type": "code",
   "execution_count": null,
   "id": "2c54af62",
   "metadata": {},
   "outputs": [],
   "source": [
    "deescalationlist_short"
   ]
  },
  {
   "cell_type": "code",
   "execution_count": null,
   "id": "f48f5768",
   "metadata": {},
   "outputs": [],
   "source": [
    "deescalationlist_short.rename(columns={'country': 'Country','facat_change_nominal': 'Estimated Change in Violence',\n",
    "                                      'fatcat_0_nominal': 'Present Violence Level','fatcat_12_nominal': 'Predicted Violence Level',\n",
    "                                      'fatalities_step_0': 'Present Fatalities','rolling_mean_violence_step_0': 'Mean Violence 3-months Prior (present)',\n",
    "                                      'rolling_mean_violence_step_12': 'Mean Violence 3-months Prior (predicted)','fatalities_step_12': 'Predicted Fatalities'},\n",
    "                              inplace = True)"
   ]
  },
  {
   "cell_type": "code",
   "execution_count": null,
   "id": "50f78250",
   "metadata": {},
   "outputs": [],
   "source": [
    "deescalationlist_short\n",
    "#print(deescalationlist_short.to_markdown())"
   ]
  }
 ],
 "metadata": {
  "kernelspec": {
   "display_name": "Python 3 (ipykernel)",
   "language": "python",
   "name": "python3"
  },
  "language_info": {
   "codemirror_mode": {
    "name": "ipython",
    "version": 3
   },
   "file_extension": ".py",
   "mimetype": "text/x-python",
   "name": "python",
   "nbconvert_exporter": "python",
   "pygments_lexer": "ipython3",
   "version": "3.9.13"
  }
 },
 "nbformat": 4,
 "nbformat_minor": 5
}
