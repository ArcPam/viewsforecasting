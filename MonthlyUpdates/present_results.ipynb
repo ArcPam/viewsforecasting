{
 "cells": [
  {
   "cell_type": "markdown",
   "id": "0a906f8f",
   "metadata": {},
   "source": [
    "# Presenting monthly updates results"
   ]
  },
  {
   "cell_type": "markdown",
   "id": "c3756bfa",
   "metadata": {},
   "source": [
    "#### Ensure the correct version of the mapper is installed. Version 1.4.0 as of 8/24/2022\n",
    "\n",
    "Run \"pip install views_mapper2 --upgrade\" if out of date\n",
    "\n",
    "\n",
    "Note to team: multiple functionalities have been introduced. However, not all have been been presented in their complete bredth. Full review of the new mapper upcoming. \n",
    "\n",
    "Additionaly, to reduce the load in the looping, several functions that identify violence type from variable name and the dictionary to choose have been created. For these functions to work properly, the violence type should be documented as a final portion of variable description. Additionally, the log trasformation should be placed at the beginning of a variable name. \n",
    "\n",
    "e.g. ged_best_sb = state based violence non transformed, ln1_ged_best_sb = single log transformed state based violence"
   ]
  },
  {
   "cell_type": "code",
   "execution_count": 1,
   "id": "9a66b190",
   "metadata": {},
   "outputs": [],
   "source": [
    "!pip freeze | grep views-mapper2"
   ]
  },
  {
   "cell_type": "markdown",
   "id": "e403199a",
   "metadata": {},
   "source": [
    "# Defining universals and obtain the data"
   ]
  },
  {
   "cell_type": "code",
   "execution_count": 3,
   "id": "d9b02df2",
   "metadata": {},
   "outputs": [],
   "source": [
    "# Basics\n",
    "import numpy as np\n",
    "import pandas as pd\n",
    "import matplotlib.pyplot as plt\n",
    "import matplotlib.cbook as cbook\n",
    "\n",
    "import warnings\n",
    "warnings.filterwarnings('ignore')\n",
    "\n",
    "# Views 3\n",
    "from viewser.operations import fetch\n",
    "from viewser import Queryset, Column\n",
    "import views_runs\n",
    "from views_partitioning import data_partitioner, legacy\n",
    "from stepshift import views\n",
    "import views_dataviz\n",
    "from views_runs import storage, ModelMetadata\n",
    "from views_runs.storage import store, retrieve, fetch_metadata\n",
    "from views_forecasts.extensions import *\n",
    "\n",
    "# Packages from this repository, Tools folder\n",
    "import sys\n",
    "sys.path.append('../')\n",
    "sys.path.append('../Tools')\n",
    "sys.path.append('../Intermediates')\n",
    "sys.path.append('../SystemUpdates')\n",
    "from Ensembling import CalibratePredictions, RetrieveStoredPredictions, mean_sd_calibrated, gam_calibrated\n",
    "from FetchData import FetchData, RetrieveFromList\n",
    "from ViewsEstimators import *"
   ]
  },
  {
   "cell_type": "code",
   "execution_count": 4,
   "id": "815b9b5f",
   "metadata": {},
   "outputs": [],
   "source": [
    "# Common parameters:\n",
    "dev_id = 'Fatalities002'\n",
    "run_id = dev_id \n",
    "EndOfHistory = 509\n",
    "prod_id = '2022_04_t01'\n",
    "level = 'cm'\n",
    "\n",
    "#note the home path has been automated with the os.path.expanduser function\n",
    "#no need to adjust the folder as long as ViEWS on the dropbox is the destination\n",
    "\n",
    "import os\n",
    "home = os.path.expanduser(\"~\")\n",
    "Mydropbox = home + '/Dropbox (ViEWS)/ViEWS/'\n",
    "Monthly_updates = Mydropbox + 'DataReleases/MonthlyUpdates/'"
   ]
  },
  {
   "cell_type": "code",
   "execution_count": 5,
   "id": "28757308",
   "metadata": {},
   "outputs": [
    {
     "name": "stdout",
     "output_type": "stream",
     "text": [
      "pr_46_cm_genetic_ensemble_f509.parquet\n",
      "pr_46_cm_genetic_ensemble_dich_f509.parquet\n"
     ]
    }
   ],
   "source": [
    "# Read in future predictions as given by the parameters above\n",
    "#note that the output step combined is already log transformed\n",
    "\n",
    "predstore_future = level +  '_' + 'genetic_ensemble' + '_f' + str(EndOfHistory)\n",
    "predstore_future_dich = level +  '_' + 'genetic_ensemble' + '_dich_f' + str(EndOfHistory)\n",
    "\n",
    "predictions_df = pd.DataFrame.forecasts.read_store(predstore_future, run=dev_id)\n",
    "predictions_dich_df = pd.DataFrame.forecasts.read_store(predstore_future_dich, run=dev_id)\n",
    "\n",
    "#Redefine month_id into steps as a index, change the name of some variables for consistency/workability with code\n",
    "#note step combined is already a log transformed variable that uses state-based violence\n",
    "predictions_df = predictions_df.reset_index()\n",
    "predictions_df['step'] = predictions_df['month_id'] - EndOfHistory\n",
    "predictions_df = predictions_df.set_index(['step', 'country_id'], drop = True)\n",
    "predictions_df['ln1_step_combined_sb'] = predictions_df['step_combined']\n",
    "predictions_df['ln2_step_combined_sb'] = np.log1p(predictions_df['ln1_step_combined_sb'])\n",
    "\n",
    "#predictions_dich_df gives state based violence\n",
    "predictions_dich_df = predictions_dich_df.reset_index()\n",
    "predictions_dich_df['step'] = predictions_dich_df['month_id'] - EndOfHistory\n",
    "predictions_dich_df = predictions_dich_df.set_index(['step', 'country_id'], drop = True)\n",
    "predictions_dich_df['step_combined_sb'] = predictions_dich_df['step_combined']"
   ]
  },
  {
   "cell_type": "markdown",
   "id": "eaeb7ed9",
   "metadata": {},
   "source": [
    "# Maps country-month level"
   ]
  },
  {
   "cell_type": "code",
   "execution_count": 7,
   "id": "47b7a25d",
   "metadata": {},
   "outputs": [],
   "source": [
    "#import the necessary programs for mapping\n",
    "import geopandas as gpd\n",
    "import sqlalchemy as sa\n",
    "from ingester3.config import source_db_path\n",
    "\n",
    "from views_mapper2.mapper2 import *\n",
    "\n",
    "from views_mapper2.dictionary_writer import *\n",
    "from views_mapper2.BBoxWriter import *\n",
    "from views_mapper2.label_writer import *"
   ]
  },
  {
   "cell_type": "code",
   "execution_count": 8,
   "id": "11d76503",
   "metadata": {
    "scrolled": true
   },
   "outputs": [
    {
     "name": "stdout",
     "output_type": "stream",
     "text": [
      "Directory /Users/havardhegre1/Dropbox (ViEWS)/ViEWS/DataReleases/MonthlyUpdates/malika_test_Fatalities002_genetic_2022_04_t01 already exists\n",
      "Directory /Users/havardhegre1/Dropbox (ViEWS)/ViEWS/DataReleases/MonthlyUpdates/malika_test_Fatalities002_genetic_2022_04_t01/ActualAtEndOfHistory already exists\n",
      "Directory /Users/havardhegre1/Dropbox (ViEWS)/ViEWS/DataReleases/MonthlyUpdates/malika_test_Fatalities002_genetic_2022_04_t01/Dichotomous already exists\n",
      "Directory /Users/havardhegre1/Dropbox (ViEWS)/ViEWS/DataReleases/MonthlyUpdates/malika_test_Fatalities002_genetic_2022_04_t01/Dichotomous/Ensemble already exists\n",
      "Directory /Users/havardhegre1/Dropbox (ViEWS)/ViEWS/DataReleases/MonthlyUpdates/malika_test_Fatalities002_genetic_2022_04_t01/Dichotomous/Ensemble/ForecastMaps already exists\n",
      "Directory /Users/havardhegre1/Dropbox (ViEWS)/ViEWS/DataReleases/MonthlyUpdates/malika_test_Fatalities002_genetic_2022_04_t01/Dichotomous/Ensemble/ChangeMaps already exists\n",
      "Directory /Users/havardhegre1/Dropbox (ViEWS)/ViEWS/DataReleases/MonthlyUpdates/malika_test_Fatalities002_genetic_2022_04_t01/Dichotomous/Ensemble/LineGraphs already exists\n",
      "Directory /Users/havardhegre1/Dropbox (ViEWS)/ViEWS/DataReleases/MonthlyUpdates/malika_test_Fatalities002_genetic_2022_04_t01/Continuous already exists\n",
      "Directory /Users/havardhegre1/Dropbox (ViEWS)/ViEWS/DataReleases/MonthlyUpdates/malika_test_Fatalities002_genetic_2022_04_t01/Continuous/Ensemble already exists\n",
      "Directory /Users/havardhegre1/Dropbox (ViEWS)/ViEWS/DataReleases/MonthlyUpdates/malika_test_Fatalities002_genetic_2022_04_t01/Continuous/Ensemble/ForecastMaps already exists\n",
      "Directory /Users/havardhegre1/Dropbox (ViEWS)/ViEWS/DataReleases/MonthlyUpdates/malika_test_Fatalities002_genetic_2022_04_t01/Continuous/Ensemble/ChangeMaps already exists\n",
      "Directory /Users/havardhegre1/Dropbox (ViEWS)/ViEWS/DataReleases/MonthlyUpdates/malika_test_Fatalities002_genetic_2022_04_t01/Continuous/Ensemble/LineGraphs already exists\n",
      "Directory /Users/havardhegre1/Dropbox (ViEWS)/ViEWS/DataReleases/MonthlyUpdates/malika_test_Fatalities002_genetic_2022_04_t01/Continuous/Ensemble/PieCharts already exists\n",
      "Directory /Users/havardhegre1/Dropbox (ViEWS)/ViEWS/DataReleases/MonthlyUpdates/malika_test_Fatalities002_genetic_2022_04_t01/Continuous/Ensemble/BarCharts already exists\n",
      "Directory /Users/havardhegre1/Dropbox (ViEWS)/ViEWS/DataReleases/MonthlyUpdates/malika_test_Fatalities002_genetic_2022_04_t01/Continuous/Interpretation already exists\n",
      "Directory /Users/havardhegre1/Dropbox (ViEWS)/ViEWS/DataReleases/MonthlyUpdates/malika_test_Fatalities002_genetic_2022_04_t01/Continuous/Interpretation/Plots already exists\n",
      "Directory /Users/havardhegre1/Dropbox (ViEWS)/ViEWS/DataReleases/MonthlyUpdates/malika_test_Fatalities002_genetic_2022_04_t01/Features already exists\n"
     ]
    }
   ],
   "source": [
    "#specify the directory for saving output\n",
    "#change the directory name to correspond to the run description (no need for malika_test_ in final version)\n",
    "\n",
    "#per the notation describtion file, the primary foldername should be in the \n",
    "    #[label][version]_[YYYY]_[MM]_t[#of tries] format\n",
    "#label: model classifier\n",
    "#'version': model setup\n",
    "\n",
    "#it would be nice to have this information as a download available in a standardized fashion\n",
    "#to ensure that the correct/latest version of a model is used\n",
    "#at this time I am using the common parameters previously established\n",
    "\n",
    "dev_id = 'Fatalities002'\n",
    "run_id = dev_id \n",
    "EndOfHistory = 509\n",
    "prod_id = '2022_04_t01'\n",
    "level = 'cm'\n",
    "\n",
    "\n",
    "label_version = dev_id + '_' + 'genetic'\n",
    "foldername = label_version+'_'+prod_id\n",
    "folderpath = Monthly_updates + 'malika_test_' +foldername\n",
    "make_folders_complete_set(folderpath)"
   ]
  },
  {
   "cell_type": "code",
   "execution_count": 9,
   "id": "93bf88d4",
   "metadata": {},
   "outputs": [],
   "source": [
    "#obtaining the geometry for the data\n",
    "engine = sa.create_engine(source_db_path)\n",
    "gdf_ci_master = gpd.GeoDataFrame.from_postgis(\n",
    "    \"SELECT id as country_id, name, in_africa, in_me, geom FROM prod.country\",\n",
    "    engine,\n",
    "    geom_col='geom'\n",
    ")\n",
    "gdf_ci_master = gdf_ci_master.to_crs(4326)"
   ]
  },
  {
   "cell_type": "markdown",
   "id": "e0024f65",
   "metadata": {},
   "source": [
    "## Map of the actuals for the EndOfHistory Month\n",
    "\n",
    "Below provides a loop for producing multiple types of maps at different geographies, etc. in a single run\n",
    "Note that the greying out requires a separate process so I show it off separately and store in a new subfolder\n",
    "This may be especially useful for single country presentations\n",
    "Zoom out maps could not be implemented within the mapper, but the zoom out map can be created for layering within overleaf as separate entities to be combined later\n",
    "\n",
    "per the request actuals and ranked order functions have been created as well for the following notebook"
   ]
  },
  {
   "cell_type": "code",
   "execution_count": 10,
   "id": "d816d75a",
   "metadata": {},
   "outputs": [
    {
     "name": "stdout",
     "output_type": "stream",
     "text": [
      " .    "
     ]
    }
   ],
   "source": [
    "#fetch the actuals for the EndOfHistory\n",
    "from viewser import Queryset, Column\n",
    "\n",
    "queryset = (Queryset(\"actuals_monthly\", \"country_month\")\n",
    "            # CONFLICT TYPES NOT LOGGED and NOT time lagged\n",
    "            .with_column(Column(\"ged_best_sb\", from_table=\"ged2_cm\", from_column=\"ged_sb_best_sum_nokgi\")\n",
    "                         .transform.missing.fill()\n",
    "                         )\n",
    "            \n",
    "            .with_column(Column(\"ged_best_ns\", from_table=\"ged2_cm\", from_column=\"ged_ns_best_sum_nokgi\")\n",
    "                         .transform.missing.fill()\n",
    "                         )\n",
    "            \n",
    "            .with_column(Column(\"ged_best_os\", from_table=\"ged2_cm\", from_column=\"ged_os_best_sum_nokgi\")\n",
    "                         .transform.missing.fill()\n",
    "                         )\n",
    "            # .with_column(Column('name', from_table='country', from_column= 'name')\n",
    "            # the above does not seem to want to work\n",
    "\n",
    "            .with_theme(\"fatalities\")\n",
    "\n",
    "            .describe(\"\"\"Fatalities conflict history, cm level\n",
    "            \n",
    "            Monthly update\n",
    "\n",
    "            \"\"\")\n",
    "\n",
    "            )\n",
    "\n",
    "actuals = queryset.publish().fetch()"
   ]
  },
  {
   "cell_type": "code",
   "execution_count": 11,
   "id": "df7d957b",
   "metadata": {},
   "outputs": [
    {
     "data": {
      "text/plain": [
       "['Burkina Faso',\n",
       " 'Mali',\n",
       " 'Iraq',\n",
       " 'Niger',\n",
       " 'Nigeria',\n",
       " 'Ukraine',\n",
       " 'Somalia',\n",
       " 'Afghanistan',\n",
       " 'Myanmar',\n",
       " 'Congo, DRC']"
      ]
     },
     "metadata": {},
     "output_type": "display_data"
    },
    {
     "data": {
      "text/plain": [
       "[47, 50, 60, 78, 79, 117, 120, 133, 149, 167]"
      ]
     },
     "metadata": {},
     "output_type": "display_data"
    },
    {
     "data": {
      "text/plain": [
       "[47, 50, 60, 78, 79, 117, 120, 133, 149, 167]"
      ]
     },
     "metadata": {},
     "output_type": "display_data"
    },
    {
     "data": {
      "text/plain": [
       "['Burkina Faso',\n",
       " 'Mali',\n",
       " 'Iraq',\n",
       " 'Niger',\n",
       " 'Nigeria',\n",
       " 'Ukraine',\n",
       " 'Somalia',\n",
       " 'Afghanistan',\n",
       " 'Myanmar',\n",
       " 'Congo, DRC']"
      ]
     },
     "metadata": {},
     "output_type": "display_data"
    }
   ],
   "source": [
    "#List the top 10 countries name and country id\n",
    "#note input month_id to obtain the value for that month, in the current example using the EndOfHistory\n",
    "#function requires (dataset, month_id, column)\n",
    "display(give_me_top10_names(actuals, EndOfHistory, 'ged_best_sb'))\n",
    "display(give_me_top10_country_id(actuals, EndOfHistory, 'ged_best_sb'))\n",
    "\n",
    "#for a more general function that also allows for cumulative top X determination use\n",
    "#give_me_topX_country_id_cumulative(df, time_index, number_wanted, variable, start, end)\n",
    "#df = dataframe, time_index = what is the name of the time_index, number_wanted = specifies what X top you want\n",
    "#variable = variable of interest, start - time start, end = time end\n",
    "\n",
    "#note how the same output can be achieved for a single month using the more general function\n",
    "\n",
    "display(give_me_topX_country_id_cumulative(df = actuals, time_index = 'month_id', number_wanted = 10, \n",
    "                                           variable = 'ged_best_sb', start = EndOfHistory, end = EndOfHistory))\n",
    "display(give_me_topX_country_names_cumulative(df = actuals, time_index = 'month_id', number_wanted = 10, \n",
    "                                           variable = 'ged_best_sb', start = EndOfHistory, end = EndOfHistory))"
   ]
  },
  {
   "cell_type": "markdown",
   "id": "97780370",
   "metadata": {},
   "source": [
    "### Below is a loop for multiple different output combinations. Would you mind choosing your favorite and then we can limit the output to the ones preferred most"
   ]
  },
  {
   "cell_type": "code",
   "execution_count": 12,
   "id": "e48c21d6",
   "metadata": {
    "scrolled": true
   },
   "outputs": [],
   "source": [
    "#transform data to create both log1 and log2 transformed versions of the variable\n",
    "#please note that common parameters are borrowed from the top\n",
    "\n",
    "#common parameters\n",
    "dev_id = 'Fatalities002'\n",
    "run_id = dev_id \n",
    "EndOfHistory = 509\n",
    "prod_id = '2022_04_t01'\n",
    "level = 'cm'\n",
    "\n",
    "\n",
    "#actuals data transformation\n",
    "actuals['ln1_ged_best_sb'] = np.log1p(actuals['ged_best_sb'])\n",
    "actuals['ln2_ged_best_sb'] = np.log1p(actuals['ln1_ged_best_sb'])\n",
    "\n",
    "actuals['ln1_ged_best_ns'] = np.log1p(actuals['ged_best_ns'])\n",
    "actuals['ln2_ged_best_ns'] = np.log1p(actuals['ln1_ged_best_ns'])\n",
    "\n",
    "actuals['ln1_ged_best_os'] = np.log1p(actuals['ged_best_os'])\n",
    "actuals['ln2_ged_best_os'] = np.log1p(actuals['ln1_ged_best_os'])\n",
    "\n",
    "#note that you can both create custom or use pre-made dictionaries \n",
    "#some pre-made options are:\n",
    "#dictionary_stand, dictionary_stand1p, dictionary_stand_1p_10k, dictionary_stand2p, dictionary_stand2p_10k\n",
    "#display to view\n",
    "\n",
    "#specify the primary savefolder of interest\n",
    "ActualsMapFolder = folderpath + '/ActualAtEndOfHistory/'\n",
    "\n",
    "#prep data\n",
    "data= actuals.copy()\n",
    "gdf = gdf_ci_master.copy()\n",
    "\n",
    "data = data.join(gdf.set_index(\"country_id\"))\n",
    "gdf = gpd.GeoDataFrame(data, geometry=\"geom\")\n",
    "\n",
    "#this adds options for multiple month graphing, in this case we are only interested in EndOfHistory\n",
    "steps_loop = [EndOfHistory] \n",
    "\n",
    "#specify steps of interest and variables of interest\n",
    "#I am running just a couple of examples as this outputs quite a lot\n",
    "#specifics can be chosen permanently when we choose the best ones\n",
    "variable_loop = {'ged_best_sb', 'ln1_ged_best_ns', 'ln2_ged_best_os'}\n",
    "\n",
    "\n",
    "#specify regions to map\n",
    "#requires either pre-set names like globe, ame or africa, or country_id in a numerical/integer format\n",
    "#if you do not know country_id, can use a country_id identifying function\n",
    "#name_mid2cid takes country name as string and month_id as integer\n",
    "#name_date2cid takes country name as string and date as iso_string\n",
    "geo_coverage_loop = ['globe', 'ame', name_mid2cid('Ukraine', EndOfHistory), name_date2cid('Nigeria', '2022-08-01')]\n",
    "\n",
    "\n",
    "#transparency setting, on a 0-100% value, 0 for invisible and 1 for 100% opacity\n",
    "transparency_loop = [0.3,1]\n",
    "\n",
    "#background, there are many options but this is a sample of a couple\n",
    "#some contain labels that overlay the map (StamenLite, StamenWatercolor, CartoDBPositron, CartoDBVoyager)\n",
    "#some contain background and names, so if something over the top will be difficult to see but works well with transparency less than 1\n",
    "#OpenTopoMap, OpenStreetMap, StamenTerrain\n",
    "#StamenTerrainBackground has no labels and only terrain map\n",
    "#some combinations have been made but if you wish to see different background add them below\n",
    "background_loop = [None, 'StamenLite', 'StamenTerrainBackground']\n",
    "\n",
    "for step in steps_loop:\n",
    "    for variable in variable_loop:\n",
    "        for region_name in geo_coverage_loop:\n",
    "                for transparency in transparency_loop:\n",
    "                    for background in background_loop:\n",
    "                        data_run = gdf.loc[step]\n",
    "                        var_run = variable\n",
    "                        var_name_run = find_the_violence_type(variable)\n",
    "                        var_run_savefile = give_me_violence_string_label_only(variable)\n",
    "                        bbox_run = bbox_from_cid(region_name)\n",
    "                        \n",
    "                        #please note that this is where dictionary to use with a particular variable is determined\n",
    "                        #requires one string of the variable name and 3 choices of dictionaries, can use custom ones here\n",
    "                        #however they should be listed in the following order, dictionary_0 for standard dictionary\n",
    "                        #dictionary_log1 for log transformed dictionary, and dictionary_log2 for log2 transformed dictionary\n",
    "                        #in this case I am using some preset dictionaries rather than defining new ones\n",
    "                        #refer to mapper2 github for example code of customized dictionary creators\n",
    "                        \n",
    "                        violence_dictionary = find_the_dictionary(variable, dictionary_0 = dictionary_stand, \n",
    "                                                                  dictionary_log1 = dictionary_stand_1p_10k, \n",
    "                                                                 dictionary_log2 = dictionary_stand_2p_10k)\n",
    "                        for dictionary_name, dictionary in violence_dictionary.items():\n",
    "                            dict_run_name = dictionary_name\n",
    "                            dict_run = dictionary\n",
    "                            \n",
    "                        transparency_run = transparency\n",
    "                        background_run = background\n",
    "                        \n",
    "                        \n",
    "                        #this turns on experimental font for cases without a background names and at country level\n",
    "                        #this is where it tends to work the best due to limited number of countries that are well spread\n",
    "                        #modify size to get better results and avoid collision of labels\n",
    "                        if str(region_name) in ('globe', 'ame', 'africa') or str(background) in ('OpenTopoMap', 'OpenStreetMap','StamenLite', 'StamenWatercolor','CartoDBPositron', 'CartoDBVoyager'): \n",
    "                            views_experimental_labels_font_size = None\n",
    "                        else: views_experimental_labels_font_size = 15\n",
    "                            \n",
    "                            \n",
    "                        #the following adjusts the size of the textbox, may need to be modified if the size of the output is changed\n",
    "                        if str(region_name) in('globe'):\n",
    "                            textbox_font_size = 10\n",
    "                        elif str(region_name) in ('ame', 'africa'):\n",
    "                            textbox_font_size = 20\n",
    "                        else:textbox_font_size = 15\n",
    "                        \n",
    "                        title_run = f'Actual fatalities in {str(vid2date(step))}, {var_name_run}, background {background_run}'\n",
    "                        textbox = f'Name: {var_run}_{str(step)}, last input: {str(vid2date(EndOfHistory))}'\n",
    "                        savefile = f'{ActualsMapFolder}ActualsMap_continuous_{level}{var_run_savefile}_{dev_id}_{region_name}_r{EndOfHistory}_rainbow_s0_month{step}_{dict_run_name}_trans{transparency_run}_{background_run}.png'\n",
    "                        \n",
    "                        map_run=Mapper2(\n",
    "                            width=20,\n",
    "                            height=20,\n",
    "                            frame_on=True,\n",
    "                            title=title_run,\n",
    "                            bbox=bbox_run\n",
    "                        ).add_layer(\n",
    "                            gdf=data_run,\n",
    "                            map_dictionary=dict_run,\n",
    "                            cmap='rainbow',\n",
    "                            edgecolor=\"black\",\n",
    "                            linewidth=0.5,\n",
    "                            column=var_run,\n",
    "                            transparency = transparency_run,\n",
    "                            background = background_run,\n",
    "                            views_experimental_labels = views_experimental_labels_font_size\n",
    "                        ).add_views_textbox(\n",
    "                            text=textbox,\n",
    "                            textsize=textbox_font_size)\n",
    "                        \n",
    "                        map_run.save(savefile)"
   ]
  },
  {
   "cell_type": "markdown",
   "id": "6e25fa5f",
   "metadata": {},
   "source": [
    "### Presentation of masked versions of maps, requested for africa, ame and country level\n",
    "\n",
    "There are two potential methods to create the masked/greyed out maps. One to use two layers. The other is to use mask with a background tile. Below is a loop to showcase the layered approach. These can be used to assemble the pop out maps for regions or avoid distraction of outside region countries. \n",
    "\n",
    "Please note that I used binary to achieve the greyed outlook, but if you leave the rainbow, you get a sense of other country results but washed out. Change the cmap in the first layer code to 'rainbow' from binary to see the effect. "
   ]
  },
  {
   "cell_type": "code",
   "execution_count": 13,
   "id": "f818fe02",
   "metadata": {},
   "outputs": [
    {
     "name": "stdout",
     "output_type": "stream",
     "text": [
      "Directory /Users/havardhegre1/Dropbox (ViEWS)/ViEWS/DataReleases/MonthlyUpdates/malika_test_Fatalities002_genetic_2022_04_t01/ActualAtEndOfHistory/Masked already exists\n"
     ]
    }
   ],
   "source": [
    "#common parameters\n",
    "dev_id = 'Fatalities002'\n",
    "run_id = dev_id \n",
    "EndOfHistory = 509\n",
    "prod_id = '2022_04_t01'\n",
    "level = 'cm'\n",
    "\n",
    "#specify the primary savefolder of interest, note new one created for ease of review of output\n",
    "#alternatively, can be saved directly in the Actuals folder\n",
    "ActualsMapFolder = folderpath + '/ActualAtEndOfHistory/'\n",
    "ActualsMapFolderMasked = ActualsMapFolder+'Masked'\n",
    "make_a_folder(ActualsMapFolderMasked)\n",
    "\n",
    "#prep data\n",
    "data= actuals.copy()\n",
    "gdf = gdf_ci_master.copy()\n",
    "\n",
    "data = data.join(gdf.set_index(\"country_id\"))\n",
    "gdf = gpd.GeoDataFrame(data, geometry=\"geom\")\n",
    "\n",
    "#this adds options for multiple month graphing, in this case we are only interested in EndOfHistory\n",
    "steps_loop = [EndOfHistory] \n",
    "\n",
    "#specify steps of interest and variables of interest\n",
    "variable_loop = {'ged_best_sb', 'ln1_ged_best_ns', 'ln2_ged_best_os'}\n",
    "\n",
    "\n",
    "#specify regions to map, change to any suggestions\n",
    "geo_coverage_loop = ['africa', 'ame', name_mid2cid('Ukraine', EndOfHistory)]\n",
    "\n",
    "\n",
    "#transparency setting, on a 0-100% value\n",
    "transparency_loop = [0.3, 0.9]\n",
    "\n",
    "#background, there are many options but this is a sample of a couple\n",
    "background_loop = [None, 'StamenTerrainBackground', 'OpenTopoMap']\n",
    "\n",
    "for step in steps_loop:\n",
    "    for variable in variable_loop:\n",
    "        for region_name in geo_coverage_loop:\n",
    "                for transparency in transparency_loop:\n",
    "                    for background in background_loop:\n",
    "                        data_run = gdf.loc[step]\n",
    "                        var_run = variable\n",
    "                        var_name_run = find_the_violence_type(variable)\n",
    "                        var_run_savefile = give_me_violence_string_label_only(variable)\n",
    "                        \n",
    "                        #note that since a slightly more zoomed out version of map was requested for this application\n",
    "                        #use the bbox creator region that makes a slightly larged bbox\n",
    "                        bbox_run = bbox_from_cid_region(region_name)\n",
    "                        \n",
    "                        #please note that this is where dictionary to use with a particular variable is determined                        \n",
    "                        violence_dictionary = find_the_dictionary(variable, dictionary_0 = dictionary_stand, \n",
    "                                                                  dictionary_log1 = dictionary_stand_1p_10k, \n",
    "                                                                 dictionary_log2 = dictionary_stand_2p_10k)\n",
    "                        for dictionary_name, dictionary in violence_dictionary.items():\n",
    "                            dict_run_name = dictionary_name\n",
    "                            dict_run = dictionary\n",
    "                            \n",
    "                        transparency_run = transparency\n",
    "                        background_run = background\n",
    "                        \n",
    "                        \n",
    "                        #this turns on experimental font for cases without a background names and at country level\n",
    "                        #this is where it tends to work the best due to limited number of countries that are well spread\n",
    "                        #modify size to get better results\n",
    "                        if str(region_name) in ('globe', 'ame', 'africa') or str(background) in ('OpenTopoMap', 'OpenStreetMap','StamenLite', 'StamenWatercolor','CartoDBPositron', 'CartoDBVoyager'): \n",
    "                            views_experimental_labels_font_size = None\n",
    "                        else: views_experimental_labels_font_size = 10\n",
    "                            \n",
    "                            \n",
    "                        #the following adjusts the size of the textbox\n",
    "                        if str(region_name) in('globe'):\n",
    "                            textbox_font_size = 10\n",
    "                        elif str(region_name) in ('ame', 'africa'):\n",
    "                            textbox_font_size = 20\n",
    "                        else:textbox_font_size = 15\n",
    "                        \n",
    "                        title_run = f'Actual fatalities in {str(vid2date(step))}, {var_name_run}, background {background_run}'\n",
    "                        textbox = f'Name: {var_run}_{str(step)}, last input: {str(vid2date(EndOfHistory))}'\n",
    "                        savefile = f'{ActualsMapFolderMasked}/ActualsMap_continuous_{level}{var_run_savefile}_{dev_id}_{region_name}_r{EndOfHistory}_rainbow_s0_month{step}_{dict_run_name}_trans{transparency_run}_{background_run}_masked.png'\n",
    "                        \n",
    "                        map_run=Mapper2(\n",
    "                            width=20,\n",
    "                            height=20,\n",
    "                            frame_on=True,\n",
    "                            title=title_run,\n",
    "                            bbox=bbox_run\n",
    "                        ).add_layer(\n",
    "                            gdf=data_run,\n",
    "                            map_dictionary=dict_run,\n",
    "                            cmap='binary',\n",
    "                            edgecolor=\"black\",\n",
    "                            linewidth=0.5,\n",
    "                            column=var_run,\n",
    "                            transparency = transparency_run   \n",
    "                        ).add_mask(\n",
    "                            gdf = data_run,\n",
    "                            map_dictionary = dict_run,\n",
    "                            cmap = 'rainbow',\n",
    "                            transparency = 1,\n",
    "                            masking_location = region_name,\n",
    "                            column=var_run,\n",
    "                            background = background_run,\n",
    "                            views_experimental_labels = views_experimental_labels_font_size,\n",
    "                            edgecolor=\"black\",\n",
    "                            linewidth=1,\n",
    "                        ).add_views_textbox(\n",
    "                            text=textbox,\n",
    "                            textsize=textbox_font_size)\n",
    "                        \n",
    "                        map_run.save(savefile)"
   ]
  },
  {
   "cell_type": "markdown",
   "id": "e8e7e6bb",
   "metadata": {},
   "source": [
    "## Continuous maps, PredictionMaps"
   ]
  },
  {
   "cell_type": "code",
   "execution_count": 14,
   "id": "994c646d",
   "metadata": {},
   "outputs": [
    {
     "data": {
      "text/plain": [
       "['Burkina Faso',\n",
       " 'Iraq',\n",
       " 'Nigeria',\n",
       " 'Ukraine',\n",
       " 'Somalia',\n",
       " 'Yemen',\n",
       " 'Afghanistan',\n",
       " 'Myanmar',\n",
       " 'Congo, DRC',\n",
       " 'Syria']"
      ]
     },
     "metadata": {},
     "output_type": "display_data"
    },
    {
     "data": {
      "text/plain": [
       "[47, 60, 79, 117, 120, 124, 133, 149, 167, 220]"
      ]
     },
     "metadata": {},
     "output_type": "display_data"
    },
    {
     "data": {
      "text/plain": [
       "[47, 60, 79, 117, 120, 124, 133, 149, 167, 220]"
      ]
     },
     "metadata": {},
     "output_type": "display_data"
    },
    {
     "data": {
      "text/plain": [
       "['Burkina Faso',\n",
       " 'Iraq',\n",
       " 'Nigeria',\n",
       " 'Ukraine',\n",
       " 'Somalia',\n",
       " 'Yemen',\n",
       " 'Afghanistan',\n",
       " 'Myanmar',\n",
       " 'Congo, DRC',\n",
       " 'Syria']"
      ]
     },
     "metadata": {},
     "output_type": "display_data"
    }
   ],
   "source": [
    "#display top 10, at step 6 \n",
    "display(give_me_top10_names(predictions_df, (EndOfHistory+6), 'ln1_step_combined_sb'))\n",
    "display(give_me_top10_country_id(predictions_df, (EndOfHistory+6), 'ln1_step_combined_sb'))\n",
    "\n",
    "#alternatively\n",
    "display(give_me_topX_country_id_cumulative(df = predictions_df, time_index = 'step', number_wanted = 10, \n",
    "                                           variable = 'ln1_step_combined_sb', start = 6, end = 6))\n",
    "display(give_me_topX_country_names_cumulative(df = predictions_df, time_index = 'step', number_wanted = 10, \n",
    "                                           variable = 'ln1_step_combined_sb', start = 6, end = 6))"
   ]
  },
  {
   "cell_type": "code",
   "execution_count": 15,
   "id": "47ac44fa",
   "metadata": {},
   "outputs": [],
   "source": [
    "#recursive run for Ensemble, forecast maps\n",
    "\n",
    "#specify the primary savefolder of interest\n",
    "ContinuousEnsembleForecastMapFolder = folderpath + '/Continuous/Ensemble/ForecastMaps/'\n",
    "\n",
    "#common parameters\n",
    "dev_id = 'Fatalities002'\n",
    "run_id = dev_id \n",
    "EndOfHistory = 509\n",
    "prod_id = '2022_04_t01'\n",
    "level = 'cm'\n",
    "\n",
    "#prep data\n",
    "data= predictions_df.copy()\n",
    "gdf = gdf_ci_master.copy()\n",
    "\n",
    "data = data.join(gdf.set_index(\"country_id\"))\n",
    "gdf = gpd.GeoDataFrame(data, geometry=\"geom\")\n",
    "\n",
    "#this adds options for multiple month graphing\n",
    "#note that since we defined index as step, steps are used in this case\n",
    "steps_loop = [1, 6] \n",
    "\n",
    "#specify steps of interest and variables of interest\n",
    "variable_loop = {'ln1_step_combined_sb', 'ln2_step_combined_sb'}\n",
    "\n",
    "\n",
    "#specify regions to map\n",
    "geo_coverage_loop = ['globe', 'ame', name_mid2cid('Iraq', EndOfHistory), name_date2cid('Burkina Faso', '2022-08-01')]\n",
    "\n",
    "\n",
    "#transparency setting, on a 0-100% value\n",
    "transparency_loop = [0.3,1]\n",
    "\n",
    "#background, there are many options but this is a sample of a couple\n",
    "background_loop = [None, 'StamenLite', 'StamenTerrainBackground']\n",
    "\n",
    "for step in steps_loop:\n",
    "    for variable in variable_loop:\n",
    "        for region_name in geo_coverage_loop:\n",
    "                for transparency in transparency_loop:\n",
    "                    for background in background_loop:\n",
    "                        data_run = gdf.loc[step]\n",
    "                        month_id_run = step + EndOfHistory\n",
    "                        var_run = variable\n",
    "                        var_name_run = find_the_violence_type(variable)\n",
    "                        var_run_savefile = give_me_violence_string_label_only(variable)\n",
    "                        bbox_run = bbox_from_cid(region_name)\n",
    "                        \n",
    "                        #please note that this is where dictionary to use with a particular variable is determined\n",
    "                        #requires one string of the variable name and 3 choices of dictionaries, can use custom ones here\n",
    "                        #however they should be listed in the following order, dictionary_0 for standard dictionary\n",
    "                        #dictionary_log1 for log transformed dictionary, and dictionary_log2 for log2 transformed dictionary\n",
    "                        #in this case I am using some preset dictionaries\n",
    "                        \n",
    "                        violence_dictionary = find_the_dictionary(variable, dictionary_0 = dictionary_stand, \n",
    "                                                                  dictionary_log1 = dictionary_stand_1p_10k, \n",
    "                                                                 dictionary_log2 = dictionary_stand_2p_10k)\n",
    "                        for dictionary_name, dictionary in violence_dictionary.items():\n",
    "                            dict_run_name = dictionary_name\n",
    "                            dict_run = dictionary\n",
    "                            \n",
    "                        transparency_run = transparency\n",
    "                        background_run = background\n",
    "                        \n",
    "                        \n",
    "                        #this turns on experimental font for cases without a background names and at country level\n",
    "                        #this is where it tends to work the best due to limited number of countries that are well spread\n",
    "                        #modify size to get better results\n",
    "                        if str(region_name) in ('globe', 'ame', 'africa') or str(background) in ('OpenTopoMap', 'OpenStreetMap','StamenLite', 'StamenWatercolor','CartoDBPositron', 'CartoDBVoyager'): \n",
    "                            views_experimental_labels_font_size = None\n",
    "                        else: views_experimental_labels_font_size = 15\n",
    "                            \n",
    "                            \n",
    "                        #the following adjusts the size of the textbox\n",
    "                        if str(region_name) in('globe'):\n",
    "                            textbox_font_size = 10\n",
    "                        elif str(region_name) in ('ame', 'africa'):\n",
    "                            textbox_font_size = 20\n",
    "                        else:textbox_font_size = 15\n",
    "                        \n",
    "                        title_run = f'Predicted continuous fatalities in {str(vid2date(month_id_run))}, {var_name_run}, background {background_run}'\n",
    "                        textbox = f'Name: {var_run}_s{str(step)}, last input: {str(vid2date(EndOfHistory))}'\n",
    "                        savefile = f'{ContinuousEnsembleForecastMapFolder}PredictionMap_continuous_{level}{var_run_savefile}_{dev_id}_{region_name}_r{EndOfHistory}_rainbow_step{step}_month{month_id_run}_{dict_run_name}_trans{transparency_run}_{background_run}.png'\n",
    "                        \n",
    "                        map_run=Mapper2(\n",
    "                            width=20,\n",
    "                            height=20,\n",
    "                            frame_on=True,\n",
    "                            title=title_run,\n",
    "                            bbox=bbox_run\n",
    "                        ).add_layer(\n",
    "                            gdf=data_run,\n",
    "                            map_dictionary=dict_run,\n",
    "                            cmap='rainbow',\n",
    "                            edgecolor=\"black\",\n",
    "                            linewidth=0.5,\n",
    "                            column=var_run,\n",
    "                            transparency = transparency_run,\n",
    "                            background = background_run,\n",
    "                            views_experimental_labels = views_experimental_labels_font_size\n",
    "                        ).add_views_textbox(\n",
    "                            text=textbox,\n",
    "                            textsize=textbox_font_size)\n",
    "                        \n",
    "                        map_run.save(savefile)"
   ]
  },
  {
   "cell_type": "code",
   "execution_count": 16,
   "id": "78cdc1f9",
   "metadata": {},
   "outputs": [
    {
     "name": "stdout",
     "output_type": "stream",
     "text": [
      "Directory /Users/havardhegre1/Dropbox (ViEWS)/ViEWS/DataReleases/MonthlyUpdates/malika_test_Fatalities002_genetic_2022_04_t01/Continuous/Ensemble/ForecastMaps/Masked already exists\n"
     ]
    }
   ],
   "source": [
    "#prediction maps with masked out locations\n",
    "\n",
    "#specify the primary savefolder of interest, note new one created for ease of review of output\n",
    "ContinuousEnsembleForecastMapFolder = folderpath + '/Continuous/Ensemble/ForecastMaps/'\n",
    "ContinuousEnsembleForecastMapFolderMasked =ContinuousEnsembleForecastMapFolder +'Masked'\n",
    "make_a_folder(ContinuousEnsembleForecastMapFolderMasked)\n",
    "\n",
    "#common parameters\n",
    "dev_id = 'Fatalities002'\n",
    "run_id = dev_id \n",
    "EndOfHistory = 509\n",
    "prod_id = '2022_04_t01'\n",
    "level = 'cm'\n",
    "\n",
    "#prep data\n",
    "data= predictions_df.copy()\n",
    "gdf = gdf_ci_master.copy()\n",
    "\n",
    "data = data.join(gdf.set_index(\"country_id\"))\n",
    "gdf = gpd.GeoDataFrame(data, geometry=\"geom\")\n",
    "\n",
    "#this adds options for multiple month graphing, in this case we are only interested in EndOfHistory\n",
    "steps_loop = [1, 6] \n",
    "\n",
    "#specify steps of interest and variables of interest\n",
    "variable_loop = {'ln1_step_combined_sb', 'ln2_step_combined_sb'}\n",
    "\n",
    "\n",
    "#specify regions to map\n",
    "geo_coverage_loop = ['globe', 'ame', name_mid2cid('Iraq', EndOfHistory), name_date2cid('Burkina Faso', '2022-08-01')]\n",
    "\n",
    "#transparency setting, on a 0-100% value\n",
    "transparency_loop = [0.3, 0.9]\n",
    "\n",
    "#background, there are many options but this is a sample of a couple\n",
    "background_loop = [None, 'StamenTerrainBackground', 'OpenTopoMap']\n",
    "\n",
    "for step in steps_loop:\n",
    "    for variable in variable_loop:\n",
    "        for region_name in geo_coverage_loop:\n",
    "                for transparency in transparency_loop:\n",
    "                    for background in background_loop:\n",
    "                        data_run = gdf.loc[step]\n",
    "                        month_id_run = step + EndOfHistory\n",
    "                        var_run = variable\n",
    "                        var_name_run = find_the_violence_type(variable)\n",
    "                        var_run_savefile = give_me_violence_string_label_only(variable)\n",
    "                        \n",
    "                        #note that since a slightly more zoomed out version of map was requested for this application\n",
    "                        #use the bbox creator region that makes a slightly larged bbox\n",
    "                        bbox_run = bbox_from_cid_region(region_name)\n",
    "                        \n",
    "                        #please note that this is where dictionary to use with a particular variable is determined                        \n",
    "                        violence_dictionary = find_the_dictionary(variable, dictionary_0 = dictionary_stand, \n",
    "                                                                  dictionary_log1 = dictionary_stand_1p_10k, \n",
    "                                                                 dictionary_log2 = dictionary_stand_2p_10k)\n",
    "                        for dictionary_name, dictionary in violence_dictionary.items():\n",
    "                            dict_run_name = dictionary_name\n",
    "                            dict_run = dictionary\n",
    "                            \n",
    "                        transparency_run = transparency\n",
    "                        background_run = background\n",
    "                        \n",
    "                        \n",
    "                        #this turns on experimental font for cases without a background names and at country level\n",
    "                        #this is where it tends to work the best due to limited number of countries that are well spread\n",
    "                        #modify size to get better results\n",
    "                        if str(region_name) in ('globe', 'ame', 'africa') or str(background) in ('OpenTopoMap', 'OpenStreetMap','StamenLite', 'StamenWatercolor','CartoDBPositron', 'CartoDBVoyager'): \n",
    "                            views_experimental_labels_font_size = None\n",
    "                        else: views_experimental_labels_font_size = 10\n",
    "                            \n",
    "                            \n",
    "                        #the following adjusts the size of the textbox\n",
    "                        if str(region_name) in('globe'):\n",
    "                            textbox_font_size = 10\n",
    "                        elif str(region_name) in ('ame', 'africa'):\n",
    "                            textbox_font_size = 20\n",
    "                        else:textbox_font_size = 15\n",
    "                        \n",
    "                        title_run = f'Predicted continuous fatalities in {str(vid2date(month_id_run))}, {var_name_run}, background {background_run}'\n",
    "                        textbox = f'Name: {var_run}_s{str(step)}, last input: {str(vid2date(EndOfHistory))}'\n",
    "                        savefile = f'{ContinuousEnsembleForecastMapFolderMasked}/PredictionMap_continuous_{level}{var_run_savefile}_{dev_id}_{region_name}_r{EndOfHistory}_rainbow_s{step}_month{month_id_run}_{dict_run_name}_trans{transparency_run}_{background_run}_masked.png'\n",
    "                        \n",
    "                        map_run=Mapper2(\n",
    "                            width=20,\n",
    "                            height=20,\n",
    "                            frame_on=True,\n",
    "                            title=title_run,\n",
    "                            bbox=bbox_run\n",
    "                        ).add_layer(\n",
    "                            gdf=data_run,\n",
    "                            map_dictionary=dict_run,\n",
    "                            cmap='binary',\n",
    "                            edgecolor=\"black\",\n",
    "                            linewidth=0.5,\n",
    "                            column=var_run,\n",
    "                            transparency = transparency_run   \n",
    "                        ).add_mask(\n",
    "                            gdf = data_run,\n",
    "                            map_dictionary = dict_run,\n",
    "                            cmap = 'rainbow',\n",
    "                            transparency = 1,\n",
    "                            masking_location = region_name,\n",
    "                            column=var_run,\n",
    "                            background = background_run,\n",
    "                            views_experimental_labels = views_experimental_labels_font_size,\n",
    "                            edgecolor=\"black\",\n",
    "                            linewidth=1,\n",
    "                        ).add_views_textbox(\n",
    "                            text=textbox,\n",
    "                            textsize=textbox_font_size)\n",
    "                        \n",
    "                        map_run.save(savefile)\n"
   ]
  },
  {
   "cell_type": "markdown",
   "id": "18934b64",
   "metadata": {},
   "source": [
    "## Continuos, change maps\n",
    "\n",
    "I am not sure how to obtain the data to make these maps possible, would someone mind adding data grabbing line below"
   ]
  },
  {
   "cell_type": "code",
   "execution_count": 17,
   "id": "bc4d000f",
   "metadata": {},
   "outputs": [],
   "source": [
    "#folder to save output\n",
    "ContinuousChangeMaps = folderpath + '/Continuous/Ensemble/ChangeMaps/'"
   ]
  },
  {
   "cell_type": "code",
   "execution_count": 18,
   "id": "f92636b8",
   "metadata": {},
   "outputs": [],
   "source": [
    "#obtain data"
   ]
  },
  {
   "cell_type": "markdown",
   "id": "f292d5ac",
   "metadata": {},
   "source": [
    "## Continous, ensemble line graphs\n",
    "\n",
    "Per Jim's code, there is a section of the code where the Ensemblelist is used for modelname/data pull. Is there a way to do so without the EnsembleList use/fetch from internal storage? Alternatively, are there different line graphs wanted?\n",
    "\n",
    "Additionally, note that the data starts only at step1 that was fetched from internal storage\n",
    "\n",
    "In the meantime, this is the closest approximation of what I thought I could do for output"
   ]
  },
  {
   "cell_type": "code",
   "execution_count": 19,
   "id": "163b6c11",
   "metadata": {},
   "outputs": [
    {
     "data": {
      "image/png": "[encoded data removed]",
      "text/plain": [
       "<Figure size 432x288 with 1 Axes>"
      ]
     },
     "metadata": {
      "needs_background": "light"
     },
     "output_type": "display_data"
    },
    {
     "data": {
      "image/png": "[encoded data removed]",
      "text/plain": [
       "<Figure size 432x288 with 1 Axes>"
      ]
     },
     "metadata": {
      "needs_background": "light"
     },
     "output_type": "display_data"
    },
    {
     "data": {
      "image/png": "[encoded data removed]",
      "text/plain": [
       "<Figure size 432x288 with 1 Axes>"
      ]
     },
     "metadata": {
      "needs_background": "light"
     },
     "output_type": "display_data"
    }
   ],
   "source": [
    "#potential alternative, linear graph of predicted fatalities from step1 to step36 for top 5 countries\n",
    "\n",
    "#reference to the folder for saving output\n",
    "ContinuousLineGraph = folderpath + '/Continuous/Ensemble/LineGraphs/'\n",
    "\n",
    "#common parameters, borrowed from the top\n",
    "dev_id = 'Fatalities002'\n",
    "run_id = dev_id \n",
    "EndOfHistory = 509\n",
    "prod_id = '2022_04_t01'\n",
    "level = 'cm'\n",
    "\n",
    "#define the data\n",
    "\n",
    "data = predictions_df.copy()\n",
    "\n",
    "#portion for looping and choosing the time wanted, e.g. 6 = want to graph step1-6 for top 5 countries in that same time period\n",
    "steps_end_loop = [6, 12, 36]\n",
    "\n",
    "#specify steps of interest and variables of interest\n",
    "#note the main differences will be in sb or ns\n",
    "variable_loop = {'ln1_step_combined_sb'}\n",
    "\n",
    "\n",
    "for end_step in steps_end_loop:\n",
    "    for variable in variable_loop:\n",
    "        #portion that chooses the countries\n",
    "        country_list_run = give_me_topX_country_id_cumulative(df = data, time_index = 'step', \n",
    "                                                              number_wanted = 5, variable = variable,\n",
    "                                                              start = 1, end = end_step)\n",
    "        \n",
    "        #subset the data\n",
    "        temporary_df = data.iloc[predictions_df.index.get_level_values('step') <= end_step]\n",
    "        data_run = temporary_df[temporary_df.index.get_level_values('country_id').isin(country_list_run)].reset_index().set_index('step')\n",
    "        \n",
    "        #define the tags\n",
    "        var_name_run = find_the_violence_type(variable)\n",
    "        var_run_savefile = give_me_violence_string_label_only(variable)\n",
    "        \n",
    "        #define the scale for y axis\n",
    "        dictionary_for_run = find_the_dictionary(variable, dictionary_0 = dictionary_stand_10k, \n",
    "                                                dictionary_log1 = dictionary_stand_1p_10k,\n",
    "                                                dictionary_log2 = dictionary_stand_2p_10k)\n",
    "        for dictionary_name, dictionary in dictionary_for_run.items():\n",
    "            dict_run_name = dictionary_name\n",
    "            dict_run = dictionary\n",
    "        \n",
    "        y_label = list(dict_run.keys())\n",
    "        y_value = list(dict_run.values())\n",
    "        \n",
    "        #define the scale for x axis, add one before and one after the range of interest\n",
    "        time_line_values=np.array(range(1, end_step+1, 1))\n",
    "        time_line_names=[vid2date(i+EndOfHistory) for i in time_line_values]\n",
    "        \n",
    "    \n",
    "        savefile = f'{ContinuousLineGraph}LineGraph_continuous_{level}{var_run_savefile}_{dev_id}_r{EndOfHistory}_top5_step1to{end_step}_{variable}.png'\n",
    "        \n",
    "        plt.figure()\n",
    "        for i in list(data_run.groupby('country_id').groups.keys()):\n",
    "            cdata= data_run.groupby('country_id').get_group(i)\n",
    "            cdata[variable].plot(label=Country(i).name)\n",
    "        \n",
    "        plt.xticks(time_line_values, time_line_names, size = 7, rotation = 45)  \n",
    "        plt.yticks(y_value, y_label)\n",
    "        plt.legend(title='Country', loc=6, bbox_to_anchor=(1, 0.5))\n",
    "            \n",
    "        plt.title(f'Predicted fatalities per months of top 5 countries for steps 1 through {end_step}, {var_name_run}')\n",
    "        plt.xlabel(\"Month\")\n",
    "        plt.ylabel(f\"Predicted fatalities, {var_name_run}\")\n",
    "        \n",
    "        plt.savefig(savefile, dpi=300)\n",
    "        "
   ]
  },
  {
   "cell_type": "markdown",
   "id": "2ee2db12",
   "metadata": {},
   "source": [
    "## Continous, ensemble bar graphs and pie charts\n",
    "\n",
    "Much like the other code, I am not sure how to get the model specific information without Ensemble. Additionally, would someone mind just jotting down a quick idea on what is wanted for this graph subtype"
   ]
  },
  {
   "cell_type": "code",
   "execution_count": 20,
   "id": "c11b32a2",
   "metadata": {},
   "outputs": [],
   "source": [
    "ContinuousBarCharts = folderpath + '/Continuous/Ensemble/BarCharts/'\n",
    "ContinuousPieCharts = folderpath + '/Continuous/Ensemble/PieCharts/'"
   ]
  },
  {
   "cell_type": "code",
   "execution_count": null,
   "id": "5084b643",
   "metadata": {},
   "outputs": [],
   "source": [
    "#obtain the data\n",
    "\n"
   ]
  },
  {
   "cell_type": "markdown",
   "id": "2f129446",
   "metadata": {},
   "source": [
    "## Dichotomous graphs\n",
    "\n",
    "TBA after review of above\n",
    "\n",
    "Additionally, any notes on differences from the other graphs that are wanted for this subtype of outcome"
   ]
  }
 ],
 "metadata": {
  "kernelspec": {
   "display_name": "Python 3 (ipykernel)",
   "language": "python",
   "name": "python3"
  },
  "language_info": {
   "codemirror_mode": {
    "name": "ipython",
    "version": 3
   },
   "file_extension": ".py",
   "mimetype": "text/x-python",
   "name": "python",
   "nbconvert_exporter": "python",
   "pygments_lexer": "ipython3",
   "version": "3.9.13"
  }
 },
 "nbformat": 4,
 "nbformat_minor": 5
}
