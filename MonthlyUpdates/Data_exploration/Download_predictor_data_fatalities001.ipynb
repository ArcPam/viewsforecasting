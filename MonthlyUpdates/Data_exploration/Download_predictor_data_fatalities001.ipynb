{
 "cells": [
  {
   "cell_type": "markdown",
   "id": "0f3280bd-b1cf-4dde-ad0c-f67dcc6ff512",
   "metadata": {},
   "source": [
    "# Explore and download predictor (input) data used in `fatalities001`\n",
    "\n",
    "This notebook allows you to query and extract a subset of the predictor data that feed into the VIEWS model each month, aggregated to the VIEWS levels of analysis. \n",
    "\n",
    "No other data transforms are applied. \n",
    "\n",
    "The queryset specified here matches the predictor data made available via the VIEWS API, where it is updated each month along with the release of our latest conflict predictions. \n",
    "\n",
    "**NOTE: Requires a certificate/access to the VIEWS database.**"
   ]
  },
  {
   "cell_type": "code",
   "execution_count": null,
   "id": "c2f3d058-a044-41c9-a2d8-b655bc6cd29a",
   "metadata": {
    "tags": []
   },
   "outputs": [],
   "source": [
    "# Basics\n",
    "import numpy as np\n",
    "import pandas as pd\n",
    "import matplotlib.pyplot as plt\n",
    "import matplotlib.cbook as cbook\n",
    "# sklearn\n",
    "from sklearn.ensemble import RandomForestRegressor\n",
    "from sklearn import linear_model\n",
    "# Views 3\n",
    "from viewser.operations import fetch\n",
    "from viewser import Queryset, Column\n",
    "import views_runs\n",
    "from views_partitioning import data_partitioner, legacy\n",
    "from stepshift import views\n",
    "from views_mapper2.label_writer import *"
   ]
  },
  {
   "cell_type": "code",
   "execution_count": null,
   "id": "20a75f1c-f692-40c8-82db-91da48f3f2b1",
   "metadata": {},
   "outputs": [],
   "source": [
    "# !viewser tables list"
   ]
  },
  {
   "cell_type": "code",
   "execution_count": null,
   "id": "fd2c4bc5-3937-4a9a-9ca9-646a33df9022",
   "metadata": {},
   "outputs": [],
   "source": [
    "# !viewser tables show 'imfweo_cm'      "
   ]
  },
  {
   "cell_type": "code",
   "execution_count": null,
   "id": "c3e0e88f-d8c5-442a-90e2-c8097d664ef0",
   "metadata": {},
   "outputs": [],
   "source": [
    "# !viewser queryset list"
   ]
  },
  {
   "cell_type": "markdown",
   "id": "d755daa3-dbee-49f6-b9f3-96985de7171f",
   "metadata": {},
   "source": [
    "# Specify the output folder"
   ]
  },
  {
   "cell_type": "code",
   "execution_count": null,
   "id": "032ca51c-72e7-49b6-8376-7ff94ba74058",
   "metadata": {},
   "outputs": [],
   "source": [
    "import os\n",
    "home = os.path.expanduser(\"~\")"
   ]
  },
  {
   "cell_type": "markdown",
   "id": "895299bf-6735-4cbf-9366-01add142c546",
   "metadata": {},
   "source": [
    "#### Option 1: Save to your desktop"
   ]
  },
  {
   "cell_type": "code",
   "execution_count": null,
   "id": "c3bbd39d-5b9e-4b0f-89b8-96a9a878ef2f",
   "metadata": {},
   "outputs": [],
   "source": [
    "desktop = home+'/Desktop/' "
   ]
  },
  {
   "cell_type": "markdown",
   "id": "d19214f1-3d81-4618-9854-fb8074fd8c4e",
   "metadata": {},
   "source": [
    "#### Option 2: Save to the VIEWS Dropbox"
   ]
  },
  {
   "cell_type": "code",
   "execution_count": null,
   "id": "cbff352d-3c36-45cf-8f7a-fbb26f7d6ba4",
   "metadata": {},
   "outputs": [],
   "source": [
    "# Mydropbox = home + '/Dropbox (ViEWS)/ViEWS/' # (Toggle on to save to Dropbox)\n",
    "# Monthly_updates = Mydropbox + 'DataReleases/MonthlyUpdates/Data/Features/' # (Toggle on to save to Dropbox)"
   ]
  },
  {
   "cell_type": "markdown",
   "id": "0ede1aba-9b8a-4c46-a6dd-1dac948c45c8",
   "metadata": {
    "tags": []
   },
   "source": [
    "# Fetch data \n"
   ]
  },
  {
   "cell_type": "code",
   "execution_count": null,
   "id": "afd78e90-3db3-49b3-b31c-5f531d789de6",
   "metadata": {},
   "outputs": [],
   "source": [
    "StartOfHistory = 121 \n",
    "EndOfHistory = 512 # Update as needed"
   ]
  },
  {
   "cell_type": "markdown",
   "id": "c335146e-fe1f-4284-b63d-2d812f203d61",
   "metadata": {
    "tags": []
   },
   "source": [
    "## Country-month level (*cm*)"
   ]
  },
  {
   "cell_type": "code",
   "execution_count": null,
   "id": "bd6b1ea6-5946-471e-8e75-6ed83f5be9d7",
   "metadata": {},
   "outputs": [],
   "source": [
    "data_cm = (Queryset(\"fatalities001_API_predictors_cm\", \"country_month\")\n",
    "\n",
    "# identifiers\n",
    "             \n",
    ".with_column(Column('year', from_table = 'month', from_column = 'year_id'))\n",
    ".with_column(Column('month', from_table = 'month', from_column = 'month'))\n",
    ".with_column(Column('country_name', from_table = 'country', from_column = 'name'))\n",
    "\n",
    "# GED\n",
    "\n",
    ".with_column(Column(\"ucdp_ged_best_sb\", from_table = \"ged2_cm\", from_column = \"ged_sb_best_sum_nokgi\"))                   \n",
    ".with_column(Column(\"ucdp_ged_best_os\", from_table = \"ged2_cm\", from_column = \"ged_os_best_sum_nokgi\"))   \n",
    ".with_column(Column(\"ucdp_ged_best_ns\", from_table = \"ged2_cm\", from_column = \"ged_ns_best_sum_nokgi\"))          \n",
    "  \n",
    "# ACLED\n",
    "                    \n",
    ".with_column(Column(\"acled_sb_fat\", from_table = \"acled2_cm\", from_column = \"acled_sb_fat\")) \n",
    ".with_column(Column(\"acled_os_fat\", from_table = \"acled2_cm\", from_column = \"acled_os_fat\")) \n",
    ".with_column(Column(\"acled_ns_fat\", from_table = \"acled2_cm\", from_column = \"acled_ns_fat\"))\n",
    "           \n",
    ".with_column(Column(\"acled_prx_fat\", from_table = \"acled2_cm\", from_column = \"acled_prx_fat\"))\n",
    ".with_column(Column(\"acled_bat_gov_fat\", from_table = \"acled2_cm\", from_column = \"acled_bat_gov_fat\"))\n",
    ".with_column(Column(\"acled_bat_reb_fat\", from_table = \"acled2_cm\", from_column = \"acled_bat_reb_fat\"))\n",
    "                     \n",
    ".with_column(Column(\"acled_sb_count\", from_table = \"acled2_cm\", from_column = \"acled_sb_count\")) \n",
    ".with_column(Column(\"acled_os_count\", from_table = \"acled2_cm\", from_column = \"acled_os_count\")) \n",
    ".with_column(Column(\"acled_ns_count\", from_table = \"acled2_cm\", from_column = \"acled_ns_count\"))\n",
    "  \n",
    ".with_column(Column(\"acled_prx_count\", from_table = \"acled2_cm\", from_column = \"acled_prx_count\")) \n",
    ".with_column(Column(\"acled_pr_count\", from_table = \"acled2_cm\", from_column = \"acled_pr_count\")) \n",
    "                    \n",
    "# V-Dem v. 11 \n",
    "                    \n",
    ".with_column(Column(\"vdem_v11_v2x_rule\", from_table = \"vdem_v11_cy\", from_column = \"vdem_v2x_rule\")) \n",
    ".with_column(Column(\"vdem_v11_v2x_gender\", from_table = \"vdem_v11_cy\", from_column = \"vdem_v2x_gender\")) \n",
    ".with_column(Column(\"vdem_v11_v2xcl_acjst\", from_table = \"vdem_v11_cy\", from_column = \"vdem_v2xcl_acjst\")) \n",
    ".with_column(Column(\"vdem_v11_v2xeg_eqdr\", from_table = \"vdem_v11_cy\", from_column = \"vdem_v2xeg_eqdr\")) \n",
    ".with_column(Column(\"vdem_v11_v2x_libdem\", from_table = \"vdem_v11_cy\", from_column = \"vdem_v2x_libdem\")) \n",
    "\n",
    "# WDI\n",
    "                 \n",
    ".with_column(Column(\"wdi_sp_pop_totl\", from_table = \"wdi_cy\", from_column = \"wdi_sp_pop_totl\")) \n",
    "                    \n",
    "# IMF WEO\n",
    "\n",
    "# Please note that I'm still not sure what to use here. I don't know what f_ngdp_rpch and s_ngdp_rpch is – it's not what we're including in the fatalities002 model, but we included f_ngdp_rpch in the API before. Including it along with the rest here for comparison – they do not match at all. What is going on here?\n",
    "                    \n",
    ".with_column(Column(\"imfweo_f_ngdp_rpch\", from_table = \"imfweo_cy\", from_column = \"f_ngdp_rpch\")) \n",
    ".with_column(Column(\"imfweo_s_ngdp_rpch\", from_table = \"imfweo_cy\", from_column = \"s_ngdp_rpch\")) \n",
    "\n",
    ".with_column(Column(\"imfweo_ngdp_rpch_tcurrent\", from_table = \"imfweo_cm\", from_column = \"ngdp_rpch_tcurrent\")) \n",
    ".with_column(Column(\"imfweo_ngdp_rpch_tmin1\", from_table = \"imfweo_cm\", from_column = \"ngdp_rpch_tmin1\")) \n",
    ".with_column(Column(\"imfweo_ngdp_rpch_tplus1\", from_table = \"imfweo_cm\", from_column = \"ngdp_rpch_tplus1\")) \n",
    ".with_column(Column(\"imfweo_ngdp_rpch_tplus2\", from_table = \"imfweo_cm\", from_column = \"ngdp_rpch_tplus2\")) \n",
    "\n",
    "                  \n",
    "# FAOSTAT\n",
    "   \n",
    ".with_column(Column(\"faostat_wheat_price\", from_table = \"faostat_pp_cm\", from_column = \"wheat_price\")) \n",
    ".with_column(Column(\"faostat_sugar_price\", from_table = \"faostat_pp_cm\", from_column = \"sugar_price\")) \n",
    ".with_column(Column(\"faostat_milk_price\", from_table = \"faostat_pp_cm\", from_column = \"milk_price\"))                 \n",
    ".with_column(Column(\"faostat_meat_price\", from_table = \"faostat_pp_cm\", from_column = \"meat_price\")) \n",
    "                    \n",
    ".with_column(Column(\"faostat_pct_pop_basicdrink\", from_table = \"faostat_fsec_cy\", from_column = \"pct_pop_basicdrink\")) \n",
    ".with_column(Column(\"faostat_pct_undernourished\", from_table = \"faostat_fsec_cy\", from_column = \"pct_undernourished\")) \n",
    ".with_column(Column(\"faostat_pcap_fsupply_var\", from_table = \"faostat_fsec_cy\", from_column = \"pcap_fsupply_var\")) \n",
    "        \n",
    "# FAO AQUASTAT\n",
    "                 \n",
    ".with_column(Column(\"fao_aquastat_renewable_pcapt\", from_table = \"fao_aqua_cy\", from_column = \"renewable_pcap\")) \n",
    ".with_column(Column(\"fao_aquastat_fresh_withdrawal_pct\", from_table = \"fao_aqua_cy\", from_column = \"fresh_withdrawal_pct\")) \n",
    ".with_column(Column(\"fao_aquastat_general_efficiency\", from_table = \"fao_aqua_cy\", from_column = \"general_efficiency\"))\n",
    ".with_column(Column(\"fao_aquastat_services_efficiency\", from_table = \"fao_aqua_cy\", from_column = \"services_efficiency\")) \n",
    "\n",
    "              )\n",
    "      \n",
    "data_cm = data_cm.publish().fetch()\n",
    "\n",
    "print(f\"A dataset with {len(data_cm.columns)} columns, with \"\n",
    "      f\"data between t {min(data_cm.index.get_level_values(0))} \"\n",
    "      f\"and {max(data_cm.index.get_level_values(0))}. \"\n",
    "      f\"({len(np.unique(data_cm.index.get_level_values(1)))} units)\"\n",
    "     )"
   ]
  },
  {
   "cell_type": "code",
   "execution_count": null,
   "id": "d129e03b-c859-4326-994e-6bf465949b6f",
   "metadata": {},
   "outputs": [],
   "source": [
    "cm_subset= data_cm.query(f'month_id >= {StartOfHistory} & month_id <= {EndOfHistory}')\n",
    "\n",
    "cm_subset # displays the subset"
   ]
  },
  {
   "cell_type": "markdown",
   "id": "d820f70e-96c4-4d4d-94dd-48490efec440",
   "metadata": {},
   "source": [
    "#### Download as .csv"
   ]
  },
  {
   "cell_type": "code",
   "execution_count": null,
   "id": "137c3666-11ce-437f-85af-978e98888429",
   "metadata": {},
   "outputs": [],
   "source": [
    "cm_subset.to_csv(desktop+f'API_predictors_cm_{StartOfHistory}-{EndOfHistory}_fatalities001.csv') "
   ]
  },
  {
   "cell_type": "markdown",
   "id": "8489dd38-a92d-4393-b7ff-3ca6e4aec8a1",
   "metadata": {},
   "source": [
    "## PRIO-GRID-month (*pgm*) data"
   ]
  },
  {
   "cell_type": "code",
   "execution_count": null,
   "id": "3cf17ac0-8092-44ca-88bc-b72e4af27121",
   "metadata": {},
   "outputs": [],
   "source": [
    "data_pgm = (Queryset(\"fatalities001_API_predictors_pgm\", \"priogrid_month\")\n",
    "\n",
    "# identifiers\n",
    "             \n",
    ".with_column(Column('year', from_table = 'month', from_column = 'year_id'))\n",
    ".with_column(Column('month', from_table = 'month', from_column = 'month'))\n",
    ".with_column(Column('country_name', from_table = 'country', from_column = 'name'))\n",
    "\n",
    "# GED\n",
    "\n",
    ".with_column(Column(\"ucdp_ged_best_sb\", from_table = \"ged2_cm\", from_column = \"ged_sb_best_sum_nokgi\"))                   \n",
    ".with_column(Column(\"ucdp_ged_best_os\", from_table = \"ged2_cm\", from_column = \"ged_os_best_sum_nokgi\"))   \n",
    ".with_column(Column(\"ucdp_ged_best_ns\", from_table = \"ged2_cm\", from_column = \"ged_ns_best_sum_nokgi\"))          \n",
    "  \n",
    "# ACLED\n",
    "                    \n",
    ".with_column(Column(\"acled_sb_fat\", from_table = \"acled2_cm\", from_column = \"acled_sb_fat\")) \n",
    ".with_column(Column(\"acled_os_fat\", from_table = \"acled2_cm\", from_column = \"acled_os_fat\")) \n",
    ".with_column(Column(\"acled_ns_fat\", from_table = \"acled2_cm\", from_column = \"acled_ns_fat\"))\n",
    "           \n",
    ".with_column(Column(\"acled_prx_fat\", from_table = \"acled2_cm\", from_column = \"acled_prx_fat\"))\n",
    ".with_column(Column(\"acled_bat_gov_fat\", from_table = \"acled2_cm\", from_column = \"acled_bat_gov_fat\"))\n",
    ".with_column(Column(\"acled_bat_reb_fat\", from_table = \"acled2_cm\", from_column = \"acled_bat_reb_fat\"))\n",
    "                     \n",
    ".with_column(Column(\"acled_sb_count\", from_table = \"acled2_cm\", from_column = \"acled_sb_count\")) \n",
    ".with_column(Column(\"acled_os_count\", from_table = \"acled2_cm\", from_column = \"acled_os_count\")) \n",
    ".with_column(Column(\"acled_ns_count\", from_table = \"acled2_cm\", from_column = \"acled_ns_count\"))\n",
    "  \n",
    ".with_column(Column(\"acled_prx_count\", from_table = \"acled2_cm\", from_column = \"acled_prx_count\")) \n",
    ".with_column(Column(\"acled_pr_count\", from_table = \"acled2_cm\", from_column = \"acled_pr_count\")) \n",
    "                    \n",
    "       )\n",
    "      \n",
    "data_pgm = data_pgm.publish().fetch()\n",
    "\n",
    "print(f\"A dataset with {len(data_pgm.columns)} columns, with \"\n",
    "      f\"data between t {min(data_pgm.index.get_level_values(0))} \"\n",
    "      f\"and {max(data_pgm.index.get_level_values(0))}. \"\n",
    "      f\"({len(np.unique(data_pgm.index.get_level_values(1)))} units)\"\n",
    "     )"
   ]
  },
  {
   "cell_type": "code",
   "execution_count": null,
   "id": "9c41ed4b-3563-45f1-9243-5bf9ff359d20",
   "metadata": {},
   "outputs": [],
   "source": [
    "# Subset for given month range\n",
    "\n",
    "pgm_subset = data_pgm.query(f'month_id >= {StartOfHistory} & month_id <= {EndOfHistory}')\n",
    "pgm_subset"
   ]
  },
  {
   "cell_type": "markdown",
   "id": "da66a39a-455b-479e-b9d1-78777325c2a2",
   "metadata": {},
   "source": [
    "#### Download as .csv"
   ]
  },
  {
   "cell_type": "code",
   "execution_count": null,
   "id": "3041890b-ee44-4042-ac58-3596ff508fb1",
   "metadata": {},
   "outputs": [],
   "source": [
    "pgm_subset.to_csv(desktop+f'API_predictors_pgm_{StartOfHistory}-{EndOfHistory}_fatalities001.csv') "
   ]
  },
  {
   "cell_type": "code",
   "execution_count": null,
   "id": "740b1bb2-8d20-4b6c-9edd-471319126c48",
   "metadata": {},
   "outputs": [],
   "source": [
    "print(\"All done\")"
   ]
  },
  {
   "cell_type": "code",
   "execution_count": null,
   "id": "12f1ba7f-29f9-4af2-962b-da3b4d73227c",
   "metadata": {},
   "outputs": [],
   "source": []
  }
 ],
 "metadata": {
  "kernelspec": {
   "display_name": "Python 3 (ipykernel)",
   "language": "python",
   "name": "python3"
  },
  "language_info": {
   "codemirror_mode": {
    "name": "ipython",
    "version": 3
   },
   "file_extension": ".py",
   "mimetype": "text/x-python",
   "name": "python",
   "nbconvert_exporter": "python",
   "pygments_lexer": "ipython3",
   "version": "3.9.13"
  }
 },
 "nbformat": 4,
 "nbformat_minor": 5
}
