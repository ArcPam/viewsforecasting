{
 "cells": [
  {
   "cell_type": "markdown",
   "id": "c3efcc40-3245-48dc-9fd8-62ef0738d6ed",
   "metadata": {},
   "source": [
    "# Download subsets of UCDP GED or UCDP Candidate data"
   ]
  },
  {
   "cell_type": "markdown",
   "id": "e1f3de4d-bfad-4d54-b56f-9d7bf9ea648f",
   "metadata": {},
   "source": [
    "**NOTE: Requires a certificate for access to the VIEWS database.**\n",
    "\n",
    "This notebook allows you to extract and download a subset of UCDP GED and UCDP Candidate data from the VIEWS database, aggregated to the levels of analysis used in VIEWS. \n",
    "\n",
    "If you change the data query, please rename it using a descriptive label. \n",
    "\n"
   ]
  },
  {
   "cell_type": "code",
   "execution_count": 1,
   "id": "c2f3d058-a044-41c9-a2d8-b655bc6cd29a",
   "metadata": {},
   "outputs": [],
   "source": [
    "# Basics\n",
    "import numpy as np\n",
    "import pandas as pd\n",
    "import matplotlib.pyplot as plt\n",
    "import matplotlib.cbook as cbook\n",
    "# sklearn\n",
    "from sklearn.ensemble import RandomForestRegressor\n",
    "from sklearn import linear_model\n",
    "# Views 3\n",
    "from viewser.operations import fetch\n",
    "from viewser import Queryset, Column\n",
    "import views_runs\n",
    "from views_partitioning import data_partitioner, legacy\n",
    "from stepshift import views\n",
    "import views_dataviz\n",
    "# Extra functions\n",
    "from views_mapper2.label_writer import *\n",
    "import os\n",
    "home = os.path.expanduser('~')\n",
    "desktop = home+'/Desktop'"
   ]
  },
  {
   "cell_type": "code",
   "execution_count": 6,
   "id": "45d44547-d24d-4932-a623-5729213f27f9",
   "metadata": {},
   "outputs": [],
   "source": [
    "# Functions to easily obtain month_ids and country_ids\n",
    "\n",
    "def name2iso(i):\n",
    "    str(i)\n",
    "    try:\n",
    "        output = pycountry.countries.get(name=i).alpha_3\n",
    "    except AttributeError: \n",
    "        try:\n",
    "            output = 'no match, did you mean'+' ' + str(pycountry.countries.search_fuzzy(i)[0])\n",
    "        except LookupError:\n",
    "            output= 'check_spelling'\n",
    "    return output\n",
    "\n",
    "#use for quick checks in the below, note ingester does a better job of maching country id based on year for countries\n",
    "#that change their ids over time, e.g.Ethiopia\n",
    "def name2id(i):\n",
    "    str(i)\n",
    "    try:\n",
    "        output = Country.from_iso(pycountry.countries.get(name=i).alpha_3).id\n",
    "    except AttributeError: \n",
    "        try:\n",
    "            output = 'no match, did you mean'+' ' + str(pycountry.countries.search_fuzzy(i)[0])\n",
    "        except LookupError:\n",
    "            output= 'check_spelling'\n",
    "    return output\n",
    "\n",
    "def vid2date(i):\n",
    "    year=str(ViewsMonth(i).year)\n",
    "    month=str(ViewsMonth(i).month)\n",
    "    return year+'/'+month"
   ]
  },
  {
   "cell_type": "code",
   "execution_count": 2,
   "id": "20a75f1c-f692-40c8-82db-91da48f3f2b1",
   "metadata": {},
   "outputs": [],
   "source": [
    "# !viewser tables list"
   ]
  },
  {
   "cell_type": "code",
   "execution_count": 3,
   "id": "fd2c4bc5-3937-4a9a-9ca9-646a33df9022",
   "metadata": {},
   "outputs": [],
   "source": [
    "# !viewser tables show 'ged2_cm'      ## Will show all variables in the chosen table\n"
   ]
  },
  {
   "cell_type": "markdown",
   "id": "98620f1d-a15c-4bd7-acbc-66b4e0648d8c",
   "metadata": {},
   "source": [
    "## Find the country_ids and month_ids of interest"
   ]
  },
  {
   "cell_type": "code",
   "execution_count": 8,
   "id": "b6ecce87-418c-4bf6-904f-f4827a97d122",
   "metadata": {},
   "outputs": [
    {
     "name": "stdout",
     "output_type": "stream",
     "text": [
      "237\n"
     ]
    }
   ],
   "source": [
    "# Get country_id for the chosen country\n",
    "\n",
    "print(name2id('Kenya'))"
   ]
  },
  {
   "cell_type": "code",
   "execution_count": 9,
   "id": "9e2bbbb5-16b4-4af7-81a9-1605c970e616",
   "metadata": {},
   "outputs": [
    {
     "name": "stdout",
     "output_type": "stream",
     "text": [
      "ViewsMonth(id=445) #=> year:2017, month:1\n",
      "ViewsMonth(id=511) #=> year:2022, month:7\n"
     ]
    }
   ],
   "source": [
    "# Get month_ids for the chosen period\n",
    "\n",
    "print(ViewsMonth.from_year_month(year=2017, month=1)) \n",
    "print(ViewsMonth.from_year_month(year=2022, month=7)) "
   ]
  },
  {
   "cell_type": "markdown",
   "id": "c0b74708-4d40-49da-978d-7e4ed99748a2",
   "metadata": {},
   "source": [
    "## CM data"
   ]
  },
  {
   "cell_type": "code",
   "execution_count": null,
   "id": "bd6b1ea6-5946-471e-8e75-6ed83f5be9d7",
   "metadata": {},
   "outputs": [],
   "source": [
    "ged_cm_data = (Queryset(\"ALM_ged_cm\", \"country_month\")\n",
    "\n",
    "# Adds columns with translated month_ids and country_ids to the table\n",
    "         \n",
    ".with_column(Column('year', from_table = 'month', from_column = 'year_id'))\n",
    ".with_column(Column('month', from_table = 'month', from_column = 'month'))\n",
    ".with_column(Column('country_name', from_table = 'country', from_column = 'name'))\n",
    "\n",
    "# Adds columns with non-logged and non-transformed sums of GED fatalities at chosen level of analysis\n",
    "         \n",
    ".with_column(Column(\"ged_best_sb\", from_table = \"ged2_cm\", from_column = \"ged_sb_best_sum_nokgi\")\n",
    "             #.transform.missing.fill()\n",
    "            )                   \n",
    ".with_column(Column(\"ged_best_os\", from_table = \"ged2_cm\", from_column = \"ged_os_best_sum_nokgi\")\n",
    "             #.transform.missing.fill()\n",
    "            )   \n",
    ".with_column(Column(\"ged_best_ns\", from_table = \"ged2_cm\", from_column = \"ged_ns_best_sum_nokgi\")\n",
    "             #.transform.missing.fill()\n",
    "            )  \n",
    "              )\n",
    "      \n",
    "data = ged_cm_data.publish().fetch()\n",
    "\n",
    "print(f\"A dataset with {len(data.columns)} columns, with \"\n",
    "      f\"data between t {min(data.index.get_level_values(0))} \"\n",
    "      f\"and {max(data.index.get_level_values(0))}. \"\n",
    "      f\"({len(np.unique(data.index.get_level_values(1)))} units)\"\n",
    "     )"
   ]
  },
  {
   "cell_type": "code",
   "execution_count": null,
   "id": "2798e84d-8564-454b-8eff-baf964ab0150",
   "metadata": {},
   "outputs": [],
   "source": [
    "subset= data.query('month_id >= 451 and month_id <= 511 and country_id == 237') # Change the time period and/or country of interest here\n",
    "subset"
   ]
  },
  {
   "cell_type": "code",
   "execution_count": null,
   "id": "674a12bc-c390-469c-aa3d-f1d5c1242f49",
   "metadata": {},
   "outputs": [],
   "source": [
    "subset.to_csv(desktop+'/Kenya_ged_cm.csv') # Change the name of the csv-file here"
   ]
  },
  {
   "cell_type": "markdown",
   "id": "5d526202-d7b0-4a77-a3ae-d749f562b3e0",
   "metadata": {},
   "source": [
    "## PGM data"
   ]
  },
  {
   "cell_type": "code",
   "execution_count": null,
   "id": "a2cde9d3-b0e3-451d-acf4-c7944d3caf4c",
   "metadata": {},
   "outputs": [],
   "source": [
    "ged_pgm_data = (Queryset(\"ALM_ged_cm\", \"priogrid_month\")\n",
    "\n",
    "# Adds columns with translated month_ids and country_ids to the table\n",
    "         \n",
    ".with_column(Column('year', from_table = 'month', from_column = 'year_id'))\n",
    ".with_column(Column('month', from_table = 'month', from_column = 'month'))\n",
    ".with_column(Column('country_name', from_table = 'country', from_column = 'name'))\n",
    "\n",
    "# Adds columns with non-logged and non-transformed sums of GED fatalities at chosen level of analysis\n",
    "         \n",
    ".with_column(Column(\"ged_best_sb\", from_table = \"ged2_cm\", from_column = \"ged_sb_best_sum_nokgi\")\n",
    "             #.transform.missing.fill()\n",
    "            )                   \n",
    ".with_column(Column(\"ged_best_os\", from_table = \"ged2_cm\", from_column = \"ged_os_best_sum_nokgi\")\n",
    "             #.transform.missing.fill()\n",
    "            )   \n",
    ".with_column(Column(\"ged_best_ns\", from_table = \"ged2_cm\", from_column = \"ged_ns_best_sum_nokgi\")\n",
    "             #.transform.missing.fill()\n",
    "            )  \n",
    "              )\n",
    "      \n",
    "data = ged_pgm_data.publish().fetch()\n",
    "\n",
    "print(f\"A dataset with {len(data.columns)} columns, with \"\n",
    "      f\"data between t {min(data.index.get_level_values(0))} \"\n",
    "      f\"and {max(data.index.get_level_values(0))}. \"\n",
    "      f\"({len(np.unique(data.index.get_level_values(1)))} units)\"\n",
    "     )"
   ]
  },
  {
   "cell_type": "code",
   "execution_count": null,
   "id": "dd150921-3bae-44cb-9e47-13866874e8a6",
   "metadata": {},
   "outputs": [],
   "source": [
    "kenya_pg_step1 = data.query('month_id >= 451 and month_id <= 511') # Change time period here\n",
    "\n",
    "kenya_pg = kenya_pg_step1[kenya_pg_step1['country_name'] == 'Kenya'] # Change country of interest here\n",
    "kenya_pg"
   ]
  },
  {
   "cell_type": "code",
   "execution_count": null,
   "id": "44dec3cc-5687-4470-add2-51df2919d49b",
   "metadata": {},
   "outputs": [],
   "source": [
    "kenya_pg.to_csv(desktop+'/Kenya_ged_pgm.csv') # Change the name of the file here"
   ]
  },
  {
   "cell_type": "code",
   "execution_count": null,
   "id": "a8390179-f923-4f9c-a72f-0199ed221912",
   "metadata": {},
   "outputs": [],
   "source": []
  }
 ],
 "metadata": {
  "kernelspec": {
   "display_name": "Python 3 (ipykernel)",
   "language": "python",
   "name": "python3"
  },
  "language_info": {
   "codemirror_mode": {
    "name": "ipython",
    "version": 3
   },
   "file_extension": ".py",
   "mimetype": "text/x-python",
   "name": "python",
   "nbconvert_exporter": "python",
   "pygments_lexer": "ipython3",
   "version": "3.9.13"
  }
 },
 "nbformat": 4,
 "nbformat_minor": 5
}
