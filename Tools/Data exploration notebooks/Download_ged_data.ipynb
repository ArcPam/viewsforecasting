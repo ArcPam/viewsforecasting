{
 "cells": [
  {
   "cell_type": "markdown",
   "id": "c3efcc40-3245-48dc-9fd8-62ef0738d6ed",
   "metadata": {},
   "source": [
    "# Download subsets of GED data"
   ]
  },
  {
   "cell_type": "markdown",
   "id": "e1f3de4d-bfad-4d54-b56f-9d7bf9ea648f",
   "metadata": {},
   "source": [
    "This notebook allows you to extract and download a subset of UCDP-GED data aggregated to the levels of analysis used in VIEWS. \n",
    "\n",
    "If you change the data query, please rename it using a descriptive label. "
   ]
  },
  {
   "cell_type": "code",
   "execution_count": null,
   "id": "c2f3d058-a044-41c9-a2d8-b655bc6cd29a",
   "metadata": {},
   "outputs": [],
   "source": [
    "# Basics\n",
    "import numpy as np\n",
    "import pandas as pd\n",
    "import matplotlib.pyplot as plt\n",
    "import matplotlib.cbook as cbook\n",
    "# sklearn\n",
    "from sklearn.ensemble import RandomForestRegressor\n",
    "from sklearn import linear_model\n",
    "# Views 3\n",
    "from viewser.operations import fetch\n",
    "from viewser import Queryset, Column\n",
    "import views_runs\n",
    "from views_partitioning import data_partitioner, legacy\n",
    "from stepshift import views\n",
    "import views_dataviz\n",
    "\n",
    "import os\n",
    "home = os.path.expanduser('~')\n",
    "desktop = home+'/Desktop'"
   ]
  },
  {
   "cell_type": "code",
   "execution_count": null,
   "id": "20a75f1c-f692-40c8-82db-91da48f3f2b1",
   "metadata": {},
   "outputs": [],
   "source": [
    "# !viewser tables list"
   ]
  },
  {
   "cell_type": "code",
   "execution_count": null,
   "id": "fd2c4bc5-3937-4a9a-9ca9-646a33df9022",
   "metadata": {},
   "outputs": [],
   "source": [
    "# !viewser tables show 'ged2_cm'      ## will show all variables in that table\n"
   ]
  },
  {
   "cell_type": "code",
   "execution_count": null,
   "id": "c959e6de-d403-4f76-804b-8c1477d32f5d",
   "metadata": {},
   "outputs": [],
   "source": [
    "from views_mapper2.label_writer import *"
   ]
  },
  {
   "cell_type": "code",
   "execution_count": null,
   "id": "74898119-bd8a-4fcf-8979-425827af550b",
   "metadata": {},
   "outputs": [],
   "source": [
    "name_date2cid('Kenya','2017-07-01')   # run to get country_id from country name, for use in the functions below"
   ]
  },
  {
   "cell_type": "markdown",
   "id": "c0b74708-4d40-49da-978d-7e4ed99748a2",
   "metadata": {},
   "source": [
    "# CM data"
   ]
  },
  {
   "cell_type": "code",
   "execution_count": null,
   "id": "bd6b1ea6-5946-471e-8e75-6ed83f5be9d7",
   "metadata": {},
   "outputs": [],
   "source": [
    "ged_data = (Queryset(\"ALM_cm_ged_data_no_transforms\", \"country_month\")\n",
    "\n",
    "# month_id and country_id translations\n",
    "         \n",
    ".with_column(Column('year', from_table = 'month', from_column = 'year_id'))\n",
    ".with_column(Column('month', from_table = 'month', from_column = 'month'))\n",
    ".with_column(Column('country_name', from_table = 'country', from_column = 'name'))\n",
    "\n",
    "# non logged target variable GED fatalities\n",
    "         \n",
    ".with_column(Column(\"ged_best_sb\", from_table = \"ged2_cm\", from_column = \"ged_sb_best_sum_nokgi\")\n",
    "             #.transform.missing.fill()\n",
    "            )                   \n",
    ".with_column(Column(\"ged_best_os\", from_table = \"ged2_cm\", from_column = \"ged_os_best_sum_nokgi\")\n",
    "             #.transform.missing.fill()\n",
    "            )   \n",
    ".with_column(Column(\"ged_best_ns\", from_table = \"ged2_cm\", from_column = \"ged_ns_best_sum_nokgi\")\n",
    "             #.transform.missing.fill()\n",
    "            )  \n",
    "              )\n",
    "      \n",
    "data = ged_data.publish().fetch()\n",
    "\n",
    "print(f\"A dataset with {len(data.columns)} columns, with \"\n",
    "      f\"data between t {min(data.index.get_level_values(0))} \"\n",
    "      f\"and {max(data.index.get_level_values(0))}. \"\n",
    "      f\"({len(np.unique(data.index.get_level_values(1)))} units)\"\n",
    "     )"
   ]
  },
  {
   "cell_type": "code",
   "execution_count": null,
   "id": "2798e84d-8564-454b-8eff-baf964ab0150",
   "metadata": {},
   "outputs": [],
   "source": [
    "subset= data.query('month_id >= 451 and month_id <= 511 and country_id == 237') # Change time period and country of interest here\n",
    "subset"
   ]
  },
  {
   "cell_type": "code",
   "execution_count": null,
   "id": "ec6b0d18-8dd2-42cf-9ec3-a7e3255be4df",
   "metadata": {},
   "outputs": [],
   "source": [
    "desktop"
   ]
  },
  {
   "cell_type": "code",
   "execution_count": null,
   "id": "674a12bc-c390-469c-aa3d-f1d5c1242f49",
   "metadata": {},
   "outputs": [],
   "source": [
    "subset.to_csv(desktop+'/Kenya_ged_cm.csv') # Change the name of the file here"
   ]
  },
  {
   "cell_type": "markdown",
   "id": "5d526202-d7b0-4a77-a3ae-d749f562b3e0",
   "metadata": {},
   "source": [
    "# PGM data"
   ]
  },
  {
   "cell_type": "code",
   "execution_count": null,
   "id": "a2cde9d3-b0e3-451d-acf4-c7944d3caf4c",
   "metadata": {},
   "outputs": [],
   "source": [
    "ged_data = (Queryset(\"ALM_pgm_ged_data_no_transforms\", \"priogrid_month\")\n",
    "\n",
    "# month_id and country_id translations\n",
    "         \n",
    ".with_column(Column('year', from_table = 'month', from_column = 'year_id'))\n",
    ".with_column(Column('month', from_table = 'month', from_column = 'month'))\n",
    ".with_column(Column('country_name', from_table = 'country', from_column = 'name'))\n",
    "\n",
    "# non logged target variable GED fatalities\n",
    "         \n",
    ".with_column(Column(\"ged_best_sb\", from_table = \"ged2_pgm\", from_column = \"ged_sb_best_sum_nokgi\")\n",
    "             #.transform.missing.fill()\n",
    "            )                   \n",
    ".with_column(Column(\"ged_best_os\", from_table = \"ged2_pgm\", from_column = \"ged_os_best_sum_nokgi\")\n",
    "             #.transform.missing.fill()\n",
    "            )   \n",
    ".with_column(Column(\"ged_best_ns\", from_table = \"ged2_pgm\", from_column = \"ged_ns_best_sum_nokgi\")\n",
    "             #.transform.missing.fill()\n",
    "            )  \n",
    "              )\n",
    "      \n",
    "data = ged_data.publish().fetch()\n",
    "\n",
    "print(f\"A dataset with {len(data.columns)} columns, with \"\n",
    "      f\"data between t {min(data.index.get_level_values(0))} \"\n",
    "      f\"and {max(data.index.get_level_values(0))}. \"\n",
    "      f\"({len(np.unique(data.index.get_level_values(1)))} units)\"\n",
    "     )"
   ]
  },
  {
   "cell_type": "code",
   "execution_count": null,
   "id": "dd150921-3bae-44cb-9e47-13866874e8a6",
   "metadata": {},
   "outputs": [],
   "source": [
    "kenya_pg_step1 = data.query('month_id >= 451 and month_id <= 511') # Change time period here\n",
    "\n",
    "kenya_pg = kenya_pg_step1[kenya_pg_step1['country_name'] == 'Kenya'] # Change country of interest here\n",
    "kenya_pg"
   ]
  },
  {
   "cell_type": "code",
   "execution_count": null,
   "id": "44dec3cc-5687-4470-add2-51df2919d49b",
   "metadata": {},
   "outputs": [],
   "source": [
    "kenya_pg.to_csv(desktop+'/Kenya_ged_pgm.csv') # Change the name of the file here"
   ]
  },
  {
   "cell_type": "code",
   "execution_count": null,
   "id": "a8390179-f923-4f9c-a72f-0199ed221912",
   "metadata": {},
   "outputs": [],
   "source": []
  }
 ],
 "metadata": {
  "kernelspec": {
   "display_name": "Python 3 (ipykernel)",
   "language": "python",
   "name": "python3"
  },
  "language_info": {
   "codemirror_mode": {
    "name": "ipython",
    "version": 3
   },
   "file_extension": ".py",
   "mimetype": "text/x-python",
   "name": "python",
   "nbconvert_exporter": "python",
   "pygments_lexer": "ipython3",
   "version": "3.9.13"
  }
 },
 "nbformat": 4,
 "nbformat_minor": 5
}
