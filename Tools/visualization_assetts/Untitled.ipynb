{
 "cells": [
  {
   "cell_type": "code",
   "execution_count": 7,
   "id": "190a5178-fe96-44f2-9b0f-2f9beb43cba9",
   "metadata": {},
   "outputs": [],
   "source": [
    "country = ()"
   ]
  },
  {
   "cell_type": "code",
   "execution_count": 8,
   "id": "618c6cff-ce7d-4444-8da8-c0503ea5efc4",
   "metadata": {},
   "outputs": [],
   "source": [
    "geo_coverage_loop = ['globe', 'ame', 'africa', *country]\n",
    "line_chart_region = ['globe', 'ame', 'africa']\n",
    "bar_chart_region = {'ame', 'africa', country}\n",
    "pie_chart_region = {'globe', 'ame', 'africa', country}"
   ]
  },
  {
   "cell_type": "code",
   "execution_count": 9,
   "id": "a9374ec8-cc39-497f-973f-6d6e209fc297",
   "metadata": {},
   "outputs": [
    {
     "data": {
      "text/plain": [
       "['globe', 'ame', 'africa']"
      ]
     },
     "execution_count": 9,
     "metadata": {},
     "output_type": "execute_result"
    }
   ],
   "source": [
    "geo_coverage_loop"
   ]
  },
  {
   "cell_type": "code",
   "execution_count": 10,
   "id": "a61132ea-df64-4e2e-933f-43a9ded0b237",
   "metadata": {},
   "outputs": [
    {
     "data": {
      "text/plain": [
       "['globe', 'ame', 'africa']"
      ]
     },
     "execution_count": 10,
     "metadata": {},
     "output_type": "execute_result"
    }
   ],
   "source": [
    "line_chart_region"
   ]
  },
  {
   "cell_type": "code",
   "execution_count": 11,
   "id": "c6c93ac9-621a-4c95-bb41-e0919168cdae",
   "metadata": {},
   "outputs": [
    {
     "data": {
      "text/plain": [
       "{(), 'africa', 'ame'}"
      ]
     },
     "execution_count": 11,
     "metadata": {},
     "output_type": "execute_result"
    }
   ],
   "source": [
    "bar_chart_region"
   ]
  }
 ],
 "metadata": {
  "kernelspec": {
   "display_name": "Python 3 (ipykernel)",
   "language": "python",
   "name": "python3"
  },
  "language_info": {
   "codemirror_mode": {
    "name": "ipython",
    "version": 3
   },
   "file_extension": ".py",
   "mimetype": "text/x-python",
   "name": "python",
   "nbconvert_exporter": "python",
   "pygments_lexer": "ipython3",
   "version": "3.9.13"
  }
 },
 "nbformat": 4,
 "nbformat_minor": 5
}
